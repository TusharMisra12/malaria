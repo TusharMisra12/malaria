{
 "cells": [
  {
   "cell_type": "code",
   "execution_count": 1,
   "metadata": {
    "colab": {
     "base_uri": "https://localhost:8080/"
    },
    "collapsed": true,
    "id": "vEH8xELycO_S",
    "outputId": "2e77b39f-8c55-48c0-b2d6-3ac93cb586b1"
   },
   "outputs": [
    {
     "name": "stdout",
     "output_type": "stream",
     "text": [
      "Requirement already satisfied: keras-metrics in c:\\users\\tushar\\.conda\\envs\\project1\\lib\\site-packages (1.1.0)\n",
      "Requirement already satisfied: Keras>=2.1.5 in c:\\users\\tushar\\.conda\\envs\\project1\\lib\\site-packages (from keras-metrics) (2.9.0)\n",
      "Requirement already satisfied: pandas in c:\\users\\tushar\\.conda\\envs\\project1\\lib\\site-packages (1.4.2)\n",
      "Requirement already satisfied: numpy>=1.18.5 in c:\\users\\tushar\\.conda\\envs\\project1\\lib\\site-packages (from pandas) (1.21.2)\n",
      "Requirement already satisfied: pytz>=2020.1 in c:\\users\\tushar\\.conda\\envs\\project1\\lib\\site-packages (from pandas) (2022.1)\n",
      "Requirement already satisfied: python-dateutil>=2.8.1 in c:\\users\\tushar\\.conda\\envs\\project1\\lib\\site-packages (from pandas) (2.8.2)\n",
      "Requirement already satisfied: six>=1.5 in c:\\users\\tushar\\.conda\\envs\\project1\\lib\\site-packages (from python-dateutil>=2.8.1->pandas) (1.16.0)\n"
     ]
    }
   ],
   "source": [
    "!pip install keras-metrics\n",
    "!pip install pandas"
   ]
  },
  {
   "cell_type": "code",
   "execution_count": 2,
   "metadata": {
    "colab": {
     "base_uri": "https://localhost:8080/"
    },
    "id": "X9Y5JK8Iw9bV",
    "outputId": "90848da4-6beb-49e9-ba7e-def5fce5ac09"
   },
   "outputs": [
    {
     "name": "stdout",
     "output_type": "stream",
     "text": [
      "2.9.0\n"
     ]
    }
   ],
   "source": [
    "import tensorflow as tf\n",
    "from tensorflow.keras import Sequential\n",
    "from tensorflow.keras.layers import Flatten , Dense , Conv2D , MaxPool2D ,  Dropout, Activation\n",
    "from tensorflow.keras.preprocessing.image import ImageDataGenerator,img_to_array, load_img\n",
    "from keras.preprocessing import image\n",
    "from tensorflow.keras.models import Model\n",
    "import PIL\n",
    "import PIL.Image\n",
    "from PIL import Image\n",
    "import cv2\n",
    "from numpy import asarray\n",
    "import numpy\n",
    "import pandas as pd\n",
    "\n",
    "import keras_metrics\n",
    "print(tf.__version__)"
   ]
  },
  {
   "cell_type": "code",
   "execution_count": 3,
   "metadata": {
    "id": "D2LYD57hyPh8"
   },
   "outputs": [],
   "source": [
    "import numpy as np\n",
    "import matplotlib.pyplot as plt\n"
   ]
  },
  {
   "cell_type": "code",
   "execution_count": 4,
   "metadata": {
    "id": "ouduim4ezKRa"
   },
   "outputs": [],
   "source": [
    "img_width = 64\n",
    "img_height = 64"
   ]
  },
  {
   "cell_type": "code",
   "execution_count": 5,
   "metadata": {
    "id": "muJZBLi8zXAR"
   },
   "outputs": [],
   "source": [
    "datagen = ImageDataGenerator(rescale=1/255.0, validation_split=0.4)\n",
    "\n"
   ]
  },
  {
   "cell_type": "code",
   "execution_count": 6,
   "metadata": {
    "colab": {
     "base_uri": "https://localhost:8080/"
    },
    "id": "KSUsOE9dzg-6",
    "outputId": "c7481f0c-56da-45c0-9b0d-e5b78c5cab31"
   },
   "outputs": [
    {
     "name": "stdout",
     "output_type": "stream",
     "text": [
      "Found 16536 images belonging to 2 classes.\n"
     ]
    }
   ],
   "source": [
    "train_data_generator = datagen.flow_from_directory(directory='C:/Users/TUSHAR/malaria/cell_images',\n",
    "                          target_size = (img_width, img_height),\n",
    "                                                   class_mode = 'binary',\n",
    "                                                   batch_size = 16,\n",
    "                                                   subset = 'training'\n",
    "                                                   \n",
    "                                                   )            "
   ]
  },
  {
   "cell_type": "code",
   "execution_count": 7,
   "metadata": {
    "colab": {
     "base_uri": "https://localhost:8080/"
    },
    "id": "vgKR8c8t0Zeu",
    "outputId": "3d68a0b9-c49e-46b6-e745-62502fe5343d"
   },
   "outputs": [
    {
     "name": "stdout",
     "output_type": "stream",
     "text": [
      "Found 11022 images belonging to 2 classes.\n"
     ]
    }
   ],
   "source": [
    "validation_data_generator = datagen.flow_from_directory(directory='C:/Users/TUSHAR/malaria/cell_images',\n",
    "                                                   target_size = (img_width, img_height),\n",
    "                                                   class_mode = 'binary',\n",
    "                                                   batch_size = 16,\n",
    "                                                   subset = 'validation'\n",
    "                                                   \n",
    "                                                   )"
   ]
  },
  {
   "cell_type": "code",
   "execution_count": 8,
   "metadata": {
    "colab": {
     "base_uri": "https://localhost:8080/",
     "height": 149
    },
    "id": "JvaAQGK0aQ-3",
    "outputId": "e3a81670-a122-4959-e1fd-24287b8e3127"
   },
   "outputs": [
    {
     "name": "stdout",
     "output_type": "stream",
     "text": [
      "Parasitized Cell :\n"
     ]
    },
    {
     "data": {
      "image/png": "[encoded data removed]",
      "text/plain": [
       "<PIL.PngImagePlugin.PngImageFile image mode=RGB size=121x115 at 0x15CFA36EE50>"
      ]
     },
     "execution_count": 8,
     "metadata": {},
     "output_type": "execute_result"
    }
   ],
   "source": [
    "path1 = \"C:/Users/TUSHAR/malaria/cell_images/Parasitized/C100P61ThinF_IMG_20150918_144823_cell_162.png\"\n",
    "Load_image1 = tf.keras.preprocessing.image.load_img(path1)\n",
    "print(\"Parasitized Cell :\")\n",
    "Load_image1\n",
    "\n"
   ]
  },
  {
   "cell_type": "code",
   "execution_count": 9,
   "metadata": {
    "colab": {
     "base_uri": "https://localhost:8080/",
     "height": 170
    },
    "id": "4zcsnhshex49",
    "outputId": "d82470b3-88fe-423a-8abf-65c167b2b034"
   },
   "outputs": [
    {
     "name": "stdout",
     "output_type": "stream",
     "text": [
      "Uninfected Cell :\n"
     ]
    },
    {
     "data": {
      "image/png": "[encoded data removed]",
      "text/plain": [
       "<PIL.PngImagePlugin.PngImageFile image mode=RGB size=145x136 at 0x15C86CFA820>"
      ]
     },
     "execution_count": 9,
     "metadata": {},
     "output_type": "execute_result"
    }
   ],
   "source": [
    "path2 = \"C:/Users/TUSHAR/malaria/cell_images/Uninfected/C100P61ThinF_IMG_20150918_144104_cell_131.png\"\n",
    "print(\"Uninfected Cell :\")\n",
    "Load_image2 = tf.keras.preprocessing.image.load_img(path2)\n",
    "Load_image2"
   ]
  },
  {
   "cell_type": "code",
   "execution_count": 10,
   "metadata": {
    "colab": {
     "base_uri": "https://localhost:8080/"
    },
    "id": "xM8DXxg-uHAV",
    "outputId": "4920b423-7d01-4970-f9f3-2654301e59c2"
   },
   "outputs": [
    {
     "data": {
      "text/plain": [
       "array([0, 0, 0, ..., 1, 1, 1])"
      ]
     },
     "execution_count": 10,
     "metadata": {},
     "output_type": "execute_result"
    }
   ],
   "source": [
    "train_data_generator.labels"
   ]
  },
  {
   "cell_type": "markdown",
   "metadata": {
    "id": "yDzgtu_J0wCV"
   },
   "source": [
    "# CNN model"
   ]
  },
  {
   "cell_type": "code",
   "execution_count": 11,
   "metadata": {
    "colab": {
     "base_uri": "https://localhost:8080/"
    },
    "id": "_OKNXTUI023E",
    "outputId": "e08e8acb-966e-467b-f4d6-d7f57052cc98",
    "scrolled": false
   },
   "outputs": [
    {
     "name": "stdout",
     "output_type": "stream",
     "text": [
      "Model: \"sequential\"\n",
      "_________________________________________________________________\n",
      " Layer (type)                Output Shape              Param #   \n",
      "=================================================================\n",
      " conv2d (Conv2D)             (None, 62, 62, 32)        896       \n",
      "                                                                 \n",
      " max_pooling2d (MaxPooling2D  (None, 31, 31, 32)       0         \n",
      " )                                                               \n",
      "                                                                 \n",
      " dropout (Dropout)           (None, 31, 31, 32)        0         \n",
      "                                                                 \n",
      " conv2d_1 (Conv2D)           (None, 29, 29, 32)        9248      \n",
      "                                                                 \n",
      " max_pooling2d_1 (MaxPooling  (None, 14, 14, 32)       0         \n",
      " 2D)                                                             \n",
      "                                                                 \n",
      " dropout_1 (Dropout)         (None, 14, 14, 32)        0         \n",
      "                                                                 \n",
      " conv2d_2 (Conv2D)           (None, 12, 12, 32)        9248      \n",
      "                                                                 \n",
      " max_pooling2d_2 (MaxPooling  (None, 6, 6, 32)         0         \n",
      " 2D)                                                             \n",
      "                                                                 \n",
      " dropout_2 (Dropout)         (None, 6, 6, 32)          0         \n",
      "                                                                 \n",
      " flatten (Flatten)           (None, 1152)              0         \n",
      "                                                                 \n",
      " dense (Dense)               (None, 64)                73792     \n",
      "                                                                 \n",
      " dropout_3 (Dropout)         (None, 64)                0         \n",
      "                                                                 \n",
      " dense_1 (Dense)             (None, 1)                 65        \n",
      "                                                                 \n",
      "=================================================================\n",
      "Total params: 93,249\n",
      "Trainable params: 93,249\n",
      "Non-trainable params: 0\n",
      "_________________________________________________________________\n"
     ]
    }
   ],
   "source": [
    "model = Sequential()\n",
    "\n",
    "model.add(Conv2D(32,(3,3), input_shape = (img_width,img_height,3), activation = \"relu\"))\n",
    "model.add(MaxPool2D(2,2))\n",
    "model.add(Dropout(0.2))\n",
    "model.add(Conv2D(32,(3,3), activation = \"relu\"))\n",
    "model.add(MaxPool2D(2,2))\n",
    "model.add(Dropout(0.2))\n",
    "model.add(Conv2D(32,(3,3), activation = \"relu\"))\n",
    "model.add(MaxPool2D(2,2))\n",
    "model.add(Dropout(0.3))\n",
    "model.add(Flatten())\n",
    "model.add(Dense(64, activation = \"relu\"))\n",
    "model.add(Dropout(0.5))\n",
    "\n",
    "model.add(Dense(1, activation = \"sigmoid\"))\n",
    "\n",
    "model.summary()"
   ]
  },
  {
   "cell_type": "code",
   "execution_count": 12,
   "metadata": {
    "id": "zQTc8VRg2RkP"
   },
   "outputs": [],
   "source": [
    "model.compile(optimizer='adam',loss='binary_crossentropy',metrics=[\"accuracy\",tf.keras.metrics.AUC(),\n",
    "          tf.keras.metrics.Precision(),tf.keras.metrics.Recall(), tf.keras.metrics.FalseNegatives(),\n",
    "          tf.keras.metrics.FalsePositives(),tf.keras.metrics.TrueNegatives(),tf.keras.metrics.TruePositives()])\n"
   ]
  },
  {
   "cell_type": "code",
   "execution_count": 13,
   "metadata": {
    "colab": {
     "base_uri": "https://localhost:8080/"
    },
    "id": "9_6L26VC2b5w",
    "outputId": "f78daf83-a6b1-4e64-d8ab-a946d92c6d71",
    "scrolled": false
   },
   "outputs": [
    {
     "name": "stdout",
     "output_type": "stream",
     "text": [
      "Epoch 1/15\n"
     ]
    },
    {
     "name": "stderr",
     "output_type": "stream",
     "text": [
      "C:\\Users\\TUSHAR\\AppData\\Local\\Temp/ipykernel_27300/2835613124.py:1: UserWarning: `Model.fit_generator` is deprecated and will be removed in a future version. Please use `Model.fit`, which supports generators.\n",
      "  history = model.fit_generator(generator=train_data_generator,\n"
     ]
    },
    {
     "name": "stdout",
     "output_type": "stream",
     "text": [
      "1034/1034 [==============================] - 40s 37ms/step - loss: 0.4390 - accuracy: 0.7779 - auc: 0.8760 - precision: 0.7699 - recall: 0.7928 - false_negatives: 1713.0000 - false_positives: 1959.0000 - true_negatives: 6309.0000 - true_positives: 6555.0000 - val_loss: 0.1727 - val_accuracy: 0.9317 - val_auc: 0.9818 - val_precision: 0.9407 - val_recall: 0.9214 - val_false_negatives: 433.0000 - val_false_positives: 320.0000 - val_true_negatives: 5191.0000 - val_true_positives: 5078.0000\n",
      "Epoch 2/15\n",
      "1034/1034 [==============================] - 39s 38ms/step - loss: 0.1974 - accuracy: 0.9399 - auc: 0.9721 - precision: 0.9256 - recall: 0.9568 - false_negatives: 357.0000 - false_positives: 636.0000 - true_negatives: 7632.0000 - true_positives: 7911.0000 - val_loss: 0.1586 - val_accuracy: 0.9517 - val_auc: 0.9844 - val_precision: 0.9368 - val_recall: 0.9688 - val_false_negatives: 172.0000 - val_false_positives: 360.0000 - val_true_negatives: 5151.0000 - val_true_positives: 5339.0000\n",
      "Epoch 3/15\n",
      "1034/1034 [==============================] - 39s 38ms/step - loss: 0.1716 - accuracy: 0.9482 - auc: 0.9779 - precision: 0.9345 - recall: 0.9641 - false_negatives: 297.0000 - false_positives: 559.0000 - true_negatives: 7709.0000 - true_positives: 7971.0000 - val_loss: 0.1434 - val_accuracy: 0.9545 - val_auc: 0.9863 - val_precision: 0.9470 - val_recall: 0.9628 - val_false_negatives: 205.0000 - val_false_positives: 297.0000 - val_true_negatives: 5214.0000 - val_true_positives: 5306.0000\n",
      "Epoch 4/15\n",
      "1034/1034 [==============================] - 37s 35ms/step - loss: 0.1646 - accuracy: 0.9495 - auc: 0.9803 - precision: 0.9362 - recall: 0.9648 - false_negatives: 291.0000 - false_positives: 544.0000 - true_negatives: 7724.0000 - true_positives: 7977.0000 - val_loss: 0.1374 - val_accuracy: 0.9556 - val_auc: 0.9875 - val_precision: 0.9411 - val_recall: 0.9721 - val_false_negatives: 154.0000 - val_false_positives: 335.0000 - val_true_negatives: 5176.0000 - val_true_positives: 5357.0000\n",
      "Epoch 5/15\n",
      "1034/1034 [==============================] - 37s 36ms/step - loss: 0.1539 - accuracy: 0.9522 - auc: 0.9821 - precision: 0.9422 - recall: 0.9636 - false_negatives: 301.0000 - false_positives: 489.0000 - true_negatives: 7779.0000 - true_positives: 7967.0000 - val_loss: 0.1564 - val_accuracy: 0.9516 - val_auc: 0.9778 - val_precision: 0.9296 - val_recall: 0.9771 - val_false_negatives: 126.0000 - val_false_positives: 408.0000 - val_true_negatives: 5103.0000 - val_true_positives: 5385.0000\n",
      "Epoch 6/15\n",
      "1034/1034 [==============================] - 38s 36ms/step - loss: 0.1501 - accuracy: 0.9536 - auc: 0.9826 - precision: 0.9434 - recall: 0.9652 - false_negatives: 288.0000 - false_positives: 479.0000 - true_negatives: 7789.0000 - true_positives: 7980.0000 - val_loss: 0.1335 - val_accuracy: 0.9545 - val_auc: 0.9876 - val_precision: 0.9488 - val_recall: 0.9610 - val_false_negatives: 215.0000 - val_false_positives: 286.0000 - val_true_negatives: 5225.0000 - val_true_positives: 5296.0000\n",
      "Epoch 7/15\n",
      "1034/1034 [==============================] - 38s 37ms/step - loss: 0.1430 - accuracy: 0.9537 - auc: 0.9851 - precision: 0.9428 - recall: 0.9660 - false_negatives: 281.0000 - false_positives: 485.0000 - true_negatives: 7783.0000 - true_positives: 7987.0000 - val_loss: 0.1537 - val_accuracy: 0.9551 - val_auc: 0.9854 - val_precision: 0.9353 - val_recall: 0.9779 - val_false_negatives: 122.0000 - val_false_positives: 373.0000 - val_true_negatives: 5138.0000 - val_true_positives: 5389.0000\n",
      "Epoch 8/15\n",
      "1034/1034 [==============================] - 37s 36ms/step - loss: 0.1415 - accuracy: 0.9554 - auc: 0.9850 - precision: 0.9441 - recall: 0.9682 - false_negatives: 263.0000 - false_positives: 474.0000 - true_negatives: 7794.0000 - true_positives: 8005.0000 - val_loss: 0.1404 - val_accuracy: 0.9557 - val_auc: 0.9872 - val_precision: 0.9381 - val_recall: 0.9759 - val_false_negatives: 133.0000 - val_false_positives: 355.0000 - val_true_negatives: 5156.0000 - val_true_positives: 5378.0000\n",
      "Epoch 9/15\n",
      "1034/1034 [==============================] - 38s 37ms/step - loss: 0.1377 - accuracy: 0.9568 - auc: 0.9857 - precision: 0.9463 - recall: 0.9686 - false_negatives: 260.0000 - false_positives: 454.0000 - true_negatives: 7814.0000 - true_positives: 8008.0000 - val_loss: 0.1381 - val_accuracy: 0.9557 - val_auc: 0.9876 - val_precision: 0.9441 - val_recall: 0.9688 - val_false_negatives: 172.0000 - val_false_positives: 316.0000 - val_true_negatives: 5195.0000 - val_true_positives: 5339.0000\n",
      "Epoch 10/15\n",
      "1034/1034 [==============================] - 38s 36ms/step - loss: 0.1369 - accuracy: 0.9554 - auc: 0.9862 - precision: 0.9455 - recall: 0.9665 - false_negatives: 277.0000 - false_positives: 461.0000 - true_negatives: 7807.0000 - true_positives: 7991.0000 - val_loss: 0.1413 - val_accuracy: 0.9530 - val_auc: 0.9873 - val_precision: 0.9330 - val_recall: 0.9760 - val_false_negatives: 132.0000 - val_false_positives: 386.0000 - val_true_negatives: 5125.0000 - val_true_positives: 5379.0000\n",
      "Epoch 11/15\n",
      "1034/1034 [==============================] - 38s 37ms/step - loss: 0.1336 - accuracy: 0.9574 - auc: 0.9871 - precision: 0.9467 - recall: 0.9693 - false_negatives: 254.0000 - false_positives: 451.0000 - true_negatives: 7817.0000 - true_positives: 8014.0000 - val_loss: 0.1419 - val_accuracy: 0.9521 - val_auc: 0.9861 - val_precision: 0.9467 - val_recall: 0.9581 - val_false_negatives: 231.0000 - val_false_positives: 297.0000 - val_true_negatives: 5214.0000 - val_true_positives: 5280.0000\n",
      "Epoch 12/15\n",
      "1034/1034 [==============================] - 38s 36ms/step - loss: 0.1307 - accuracy: 0.9582 - auc: 0.9870 - precision: 0.9468 - recall: 0.9710 - false_negatives: 240.0000 - false_positives: 451.0000 - true_negatives: 7817.0000 - true_positives: 8028.0000 - val_loss: 0.1369 - val_accuracy: 0.9555 - val_auc: 0.9870 - val_precision: 0.9454 - val_recall: 0.9668 - val_false_negatives: 183.0000 - val_false_positives: 308.0000 - val_true_negatives: 5203.0000 - val_true_positives: 5328.0000\n",
      "Epoch 13/15\n",
      "1034/1034 [==============================] - 38s 37ms/step - loss: 0.1274 - accuracy: 0.9586 - auc: 0.9882 - precision: 0.9491 - recall: 0.9692 - false_negatives: 255.0000 - false_positives: 430.0000 - true_negatives: 7838.0000 - true_positives: 8013.0000 - val_loss: 0.1436 - val_accuracy: 0.9500 - val_auc: 0.9858 - val_precision: 0.9503 - val_recall: 0.9497 - val_false_negatives: 277.0000 - val_false_positives: 274.0000 - val_true_negatives: 5237.0000 - val_true_positives: 5234.0000\n",
      "Epoch 14/15\n",
      "1034/1034 [==============================] - 38s 37ms/step - loss: 0.1300 - accuracy: 0.9586 - auc: 0.9876 - precision: 0.9483 - recall: 0.9700 - false_negatives: 248.0000 - false_positives: 437.0000 - true_negatives: 7831.0000 - true_positives: 8020.0000 - val_loss: 0.1410 - val_accuracy: 0.9546 - val_auc: 0.9865 - val_precision: 0.9396 - val_recall: 0.9717 - val_false_negatives: 156.0000 - val_false_positives: 344.0000 - val_true_negatives: 5167.0000 - val_true_positives: 5355.0000\n",
      "Epoch 15/15\n",
      "1034/1034 [==============================] - 39s 38ms/step - loss: 0.1233 - accuracy: 0.9582 - auc: 0.9887 - precision: 0.9477 - recall: 0.9700 - false_negatives: 248.0000 - false_positives: 443.0000 - true_negatives: 7825.0000 - true_positives: 8020.0000 - val_loss: 0.1397 - val_accuracy: 0.9504 - val_auc: 0.9869 - val_precision: 0.9398 - val_recall: 0.9624 - val_false_negatives: 207.0000 - val_false_positives: 340.0000 - val_true_negatives: 5171.0000 - val_true_positives: 5304.0000\n"
     ]
    }
   ],
   "source": [
    "history = model.fit_generator(generator=train_data_generator,\n",
    "                              steps_per_epoch = len(train_data_generator),\n",
    "                              epochs = 15,\n",
    "                              validation_data = validation_data_generator,\n",
    "                              validation_steps = len(validation_data_generator))"
   ]
  },
  {
   "cell_type": "code",
   "execution_count": 14,
   "metadata": {
    "colab": {
     "base_uri": "https://localhost:8080/"
    },
    "id": "9yW-mrfu5hXI",
    "outputId": "a7e194ac-9fa6-48bc-bbb8-c4cffd5bf2db",
    "scrolled": false
   },
   "outputs": [
    {
     "data": {
      "text/plain": [
       "{'loss': [0.4390175938606262,\n",
       "  0.1974140852689743,\n",
       "  0.17159037292003632,\n",
       "  0.16461020708084106,\n",
       "  0.15394175052642822,\n",
       "  0.15013670921325684,\n",
       "  0.14298740029335022,\n",
       "  0.14152681827545166,\n",
       "  0.1376512348651886,\n",
       "  0.13689208030700684,\n",
       "  0.1335580199956894,\n",
       "  0.130668506026268,\n",
       "  0.12741747498512268,\n",
       "  0.13003821671009064,\n",
       "  0.12327338010072708],\n",
       " 'accuracy': [0.7779390215873718,\n",
       "  0.9399492144584656,\n",
       "  0.9482341408729553,\n",
       "  0.9495041370391846,\n",
       "  0.9522254467010498,\n",
       "  0.9536163806915283,\n",
       "  0.9536768198013306,\n",
       "  0.9554305672645569,\n",
       "  0.9568215012550354,\n",
       "  0.9553701281547546,\n",
       "  0.9573657512664795,\n",
       "  0.9582123756408691,\n",
       "  0.9585752487182617,\n",
       "  0.9585752487182617,\n",
       "  0.9582123756408691],\n",
       " 'auc': [0.8759564161300659,\n",
       "  0.9720737338066101,\n",
       "  0.9779087901115417,\n",
       "  0.9803318381309509,\n",
       "  0.9821068048477173,\n",
       "  0.9826452136039734,\n",
       "  0.9850547909736633,\n",
       "  0.9849936962127686,\n",
       "  0.9856513142585754,\n",
       "  0.9861889481544495,\n",
       "  0.9870500564575195,\n",
       "  0.9869709610939026,\n",
       "  0.9882058501243591,\n",
       "  0.9875665903091431,\n",
       "  0.9886962175369263],\n",
       " 'precision': [0.7699083685874939,\n",
       "  0.9255879521369934,\n",
       "  0.9344666004180908,\n",
       "  0.9361577033996582,\n",
       "  0.9421712160110474,\n",
       "  0.9433739185333252,\n",
       "  0.9427525997161865,\n",
       "  0.9440971612930298,\n",
       "  0.9463483691215515,\n",
       "  0.9454566836357117,\n",
       "  0.9467217922210693,\n",
       "  0.9468097686767578,\n",
       "  0.9490702152252197,\n",
       "  0.948326826095581,\n",
       "  0.9476544857025146],\n",
       " 'recall': [0.7928156852722168,\n",
       "  0.9568215012550354,\n",
       "  0.9640783667564392,\n",
       "  0.9648040533065796,\n",
       "  0.9635945558547974,\n",
       "  0.9651669263839722,\n",
       "  0.9660135507583618,\n",
       "  0.968190610408783,\n",
       "  0.9685534834861755,\n",
       "  0.9664973616600037,\n",
       "  0.9692791700363159,\n",
       "  0.9709724187850952,\n",
       "  0.9691581726074219,\n",
       "  0.9700048565864563,\n",
       "  0.9700048565864563],\n",
       " 'false_negatives': [1713.0,\n",
       "  357.0,\n",
       "  297.0,\n",
       "  291.0,\n",
       "  301.0,\n",
       "  288.0,\n",
       "  281.0,\n",
       "  263.0,\n",
       "  260.0,\n",
       "  277.0,\n",
       "  254.0,\n",
       "  240.0,\n",
       "  255.0,\n",
       "  248.0,\n",
       "  248.0],\n",
       " 'false_positives': [1959.0,\n",
       "  636.0,\n",
       "  559.0,\n",
       "  544.0,\n",
       "  489.0,\n",
       "  479.0,\n",
       "  485.0,\n",
       "  474.0,\n",
       "  454.0,\n",
       "  461.0,\n",
       "  451.0,\n",
       "  451.0,\n",
       "  430.0,\n",
       "  437.0,\n",
       "  443.0],\n",
       " 'true_negatives': [6309.0,\n",
       "  7632.0,\n",
       "  7709.0,\n",
       "  7724.0,\n",
       "  7779.0,\n",
       "  7789.0,\n",
       "  7783.0,\n",
       "  7794.0,\n",
       "  7814.0,\n",
       "  7807.0,\n",
       "  7817.0,\n",
       "  7817.0,\n",
       "  7838.0,\n",
       "  7831.0,\n",
       "  7825.0],\n",
       " 'true_positives': [6555.0,\n",
       "  7911.0,\n",
       "  7971.0,\n",
       "  7977.0,\n",
       "  7967.0,\n",
       "  7980.0,\n",
       "  7987.0,\n",
       "  8005.0,\n",
       "  8008.0,\n",
       "  7991.0,\n",
       "  8014.0,\n",
       "  8028.0,\n",
       "  8013.0,\n",
       "  8020.0,\n",
       "  8020.0],\n",
       " 'val_loss': [0.17273364961147308,\n",
       "  0.15862557291984558,\n",
       "  0.1433989703655243,\n",
       "  0.13736863434314728,\n",
       "  0.15641367435455322,\n",
       "  0.13350939750671387,\n",
       "  0.1537104696035385,\n",
       "  0.14043371379375458,\n",
       "  0.13813823461532593,\n",
       "  0.14127673208713531,\n",
       "  0.14187125861644745,\n",
       "  0.13691511750221252,\n",
       "  0.14359323680400848,\n",
       "  0.14098435640335083,\n",
       "  0.13971154391765594],\n",
       " 'val_accuracy': [0.9316821098327637,\n",
       "  0.951732873916626,\n",
       "  0.9544547200202942,\n",
       "  0.9556341767311096,\n",
       "  0.9515514373779297,\n",
       "  0.9545454382896423,\n",
       "  0.955089807510376,\n",
       "  0.9557248950004578,\n",
       "  0.9557248950004578,\n",
       "  0.9530031085014343,\n",
       "  0.9520958065986633,\n",
       "  0.9554527401924133,\n",
       "  0.9500090479850769,\n",
       "  0.9546361565589905,\n",
       "  0.9503719806671143],\n",
       " 'val_auc': [0.981796383857727,\n",
       "  0.9844419360160828,\n",
       "  0.9863225817680359,\n",
       "  0.9874760508537292,\n",
       "  0.9778081774711609,\n",
       "  0.9876383543014526,\n",
       "  0.9853740334510803,\n",
       "  0.9872386455535889,\n",
       "  0.9876147508621216,\n",
       "  0.9873167276382446,\n",
       "  0.9860520362854004,\n",
       "  0.987045407295227,\n",
       "  0.985771894454956,\n",
       "  0.9864738583564758,\n",
       "  0.9868608713150024],\n",
       " 'val_precision': [0.9407187700271606,\n",
       "  0.936830997467041,\n",
       "  0.9469926953315735,\n",
       "  0.9411454796791077,\n",
       "  0.929570198059082,\n",
       "  0.948763906955719,\n",
       "  0.9352655410766602,\n",
       "  0.9380778074264526,\n",
       "  0.9441202282905579,\n",
       "  0.9330442547798157,\n",
       "  0.9467455744743347,\n",
       "  0.9453513026237488,\n",
       "  0.9502542018890381,\n",
       "  0.9396385550498962,\n",
       "  0.9397590160369873],\n",
       " 'val_recall': [0.9214298725128174,\n",
       "  0.9687896966934204,\n",
       "  0.9628016948699951,\n",
       "  0.9720559120178223,\n",
       "  0.9771366119384766,\n",
       "  0.9609870910644531,\n",
       "  0.9778624773025513,\n",
       "  0.975866436958313,\n",
       "  0.9687896966934204,\n",
       "  0.976047933101654,\n",
       "  0.9580838084220886,\n",
       "  0.9667936563491821,\n",
       "  0.9497368931770325,\n",
       "  0.9716929793357849,\n",
       "  0.9624387621879578],\n",
       " 'val_false_negatives': [433.0,\n",
       "  172.0,\n",
       "  205.0,\n",
       "  154.0,\n",
       "  126.0,\n",
       "  215.0,\n",
       "  122.0,\n",
       "  133.0,\n",
       "  172.0,\n",
       "  132.0,\n",
       "  231.0,\n",
       "  183.0,\n",
       "  277.0,\n",
       "  156.0,\n",
       "  207.0],\n",
       " 'val_false_positives': [320.0,\n",
       "  360.0,\n",
       "  297.0,\n",
       "  335.0,\n",
       "  408.0,\n",
       "  286.0,\n",
       "  373.0,\n",
       "  355.0,\n",
       "  316.0,\n",
       "  386.0,\n",
       "  297.0,\n",
       "  308.0,\n",
       "  274.0,\n",
       "  344.0,\n",
       "  340.0],\n",
       " 'val_true_negatives': [5191.0,\n",
       "  5151.0,\n",
       "  5214.0,\n",
       "  5176.0,\n",
       "  5103.0,\n",
       "  5225.0,\n",
       "  5138.0,\n",
       "  5156.0,\n",
       "  5195.0,\n",
       "  5125.0,\n",
       "  5214.0,\n",
       "  5203.0,\n",
       "  5237.0,\n",
       "  5167.0,\n",
       "  5171.0],\n",
       " 'val_true_positives': [5078.0,\n",
       "  5339.0,\n",
       "  5306.0,\n",
       "  5357.0,\n",
       "  5385.0,\n",
       "  5296.0,\n",
       "  5389.0,\n",
       "  5378.0,\n",
       "  5339.0,\n",
       "  5379.0,\n",
       "  5280.0,\n",
       "  5328.0,\n",
       "  5234.0,\n",
       "  5355.0,\n",
       "  5304.0]}"
      ]
     },
     "execution_count": 14,
     "metadata": {},
     "output_type": "execute_result"
    }
   ],
   "source": [
    "history.history"
   ]
  },
  {
   "cell_type": "markdown",
   "metadata": {
    "id": "b-3-mdNOOdG3"
   },
   "source": [
    "Plotting Graphs and Outputs"
   ]
  },
  {
   "cell_type": "code",
   "execution_count": 15,
   "metadata": {
    "id": "WKEx_Yt05nZa"
   },
   "outputs": [],
   "source": [
    "def plot_learningCurve(history,epoch):\n",
    "  #plot learning and validation accuracy values\n",
    "  epoch_range=range(1,epoch+1)\n",
    "  plt.plot(epoch_range,history.history['accuracy'])\n",
    "  plt.plot(epoch_range,history.history['val_accuracy'])\n",
    "  plt.title(\"Model accuracy\")\n",
    "  plt.ylabel(\"Accuracy\")\n",
    "  plt.xlabel(\"Epoch\")\n",
    "  plt.legend(['Train','Val'], loc = 'upper left')\n",
    "  plt.show()\n",
    "\n",
    "   #plot learning and validation loss values\n",
    "  plt.plot(epoch_range,history.history['loss'])\n",
    "  plt.plot(epoch_range,history.history['val_loss'])\n",
    "  plt.title(\"Model loss\")\n",
    "  plt.ylabel(\"loss\")\n",
    "  plt.xlabel(\"Epoch\")\n",
    "  plt.legend(['Train','Val'], loc = 'upper left')\n",
    "  plt.show()"
   ]
  },
  {
   "cell_type": "code",
   "execution_count": 16,
   "metadata": {
    "colab": {
     "base_uri": "https://localhost:8080/",
     "height": 573
    },
    "id": "9XG7RUHj6wo8",
    "outputId": "b1b3c3d0-686d-4974-a39c-465d7e87fe84"
   },
   "outputs": [
    {
     "data": {
      "image/png": "[encoded data removed]",
      "text/plain": [
       "<Figure size 432x288 with 1 Axes>"
      ]
     },
     "metadata": {
      "needs_background": "light"
     },
     "output_type": "display_data"
    },
    {
     "data": {
      "image/png": "[encoded data removed]",
      "text/plain": [
       "<Figure size 432x288 with 1 Axes>"
      ]
     },
     "metadata": {
      "needs_background": "light"
     },
     "output_type": "display_data"
    }
   ],
   "source": [
    "plot_learningCurve(history,15)"
   ]
  },
  {
   "cell_type": "code",
   "execution_count": 17,
   "metadata": {
    "id": "euxuomiB7eWK"
   },
   "outputs": [],
   "source": [
    "img_path=r\"C:/Users/TUSHAR/malaria/cell_images/Parasitized/C100P61ThinF_IMG_20150918_144104_cell_162.png\"\n",
    "img = tf.keras.preprocessing.image.load_img(img_path, target_size=(64,64))\n",
    "img_tensor = img_to_array(img)\n",
    "img_tensor = np.expand_dims(img_tensor, axis=0)\n",
    "img_tensor /= 255.\n"
   ]
  },
  {
   "cell_type": "code",
   "execution_count": 18,
   "metadata": {
    "colab": {
     "base_uri": "https://localhost:8080/",
     "height": 69
    },
    "id": "mfRoAO5h7MXj",
    "outputId": "a53d37b5-6b3e-4459-c934-16004e92a52b"
   },
   "outputs": [
    {
     "name": "stdout",
     "output_type": "stream",
     "text": [
      "conv2d_2\n",
      "tf.Tensor(\n",
      "[[[[0.         0.         0.         ... 0.         0.\n",
      "    0.        ]\n",
      "   [0.         0.         0.         ... 0.03533979 0.\n",
      "    0.        ]\n",
      "   [0.         0.         0.         ... 0.00194355 0.\n",
      "    0.        ]\n",
      "   ...\n",
      "   [0.         0.         0.00507823 ... 0.         0.\n",
      "    0.        ]\n",
      "   [0.         0.         0.         ... 0.         0.\n",
      "    0.        ]\n",
      "   [0.         0.         0.         ... 0.         0.\n",
      "    0.        ]]\n",
      "\n",
      "  [[0.         0.         0.         ... 0.         0.\n",
      "    0.        ]\n",
      "   [0.         0.         0.03978471 ... 0.         0.\n",
      "    0.        ]\n",
      "   [0.         0.         0.         ... 0.         0.\n",
      "    0.        ]\n",
      "   ...\n",
      "   [0.         0.         0.01453546 ... 0.         0.\n",
      "    0.        ]\n",
      "   [0.         0.         0.         ... 0.         0.\n",
      "    0.        ]\n",
      "   [0.         0.         0.         ... 0.         0.\n",
      "    0.        ]]\n",
      "\n",
      "  [[0.03652655 0.         0.02224152 ... 0.         0.\n",
      "    0.        ]\n",
      "   [0.         0.         0.03690225 ... 0.         0.\n",
      "    0.        ]\n",
      "   [0.         0.00139528 0.03835097 ... 0.         0.\n",
      "    0.        ]\n",
      "   ...\n",
      "   [0.         0.         0.03788851 ... 0.         0.\n",
      "    0.        ]\n",
      "   [0.         0.         0.0377605  ... 0.         0.\n",
      "    0.        ]\n",
      "   [0.         0.         0.         ... 0.         0.\n",
      "    0.        ]]\n",
      "\n",
      "  ...\n",
      "\n",
      "  [[0.         0.         0.11959484 ... 0.         0.\n",
      "    0.08549181]\n",
      "   [0.         0.         0.03900091 ... 0.         0.\n",
      "    0.        ]\n",
      "   [0.         0.         0.05542198 ... 0.         0.\n",
      "    0.        ]\n",
      "   ...\n",
      "   [0.14989269 0.         0.         ... 0.         0.\n",
      "    0.        ]\n",
      "   [0.04314979 0.02134194 0.         ... 0.         0.\n",
      "    0.        ]\n",
      "   [0.         0.         0.         ... 0.         0.\n",
      "    0.        ]]\n",
      "\n",
      "  [[0.         0.         0.12738398 ... 0.         0.\n",
      "    0.4048422 ]\n",
      "   [0.         0.         0.01284567 ... 0.         0.\n",
      "    0.0443303 ]\n",
      "   [0.         0.         0.06204876 ... 0.         0.\n",
      "    0.        ]\n",
      "   ...\n",
      "   [0.21631795 0.0720426  0.         ... 0.         0.\n",
      "    0.        ]\n",
      "   [0.         0.         0.         ... 0.         0.\n",
      "    0.        ]\n",
      "   [0.         0.         0.         ... 0.         0.\n",
      "    0.        ]]\n",
      "\n",
      "  [[0.         0.         0.         ... 0.         0.\n",
      "    0.34076703]\n",
      "   [0.         0.         0.         ... 0.         0.\n",
      "    0.26727962]\n",
      "   [0.         0.         0.04948576 ... 0.         0.\n",
      "    0.        ]\n",
      "   ...\n",
      "   [0.         0.         0.         ... 0.         0.\n",
      "    0.        ]\n",
      "   [0.         0.         0.         ... 0.         0.\n",
      "    0.        ]\n",
      "   [0.         0.         0.         ... 0.         0.\n",
      "    0.        ]]]], shape=(1, 12, 12, 32), dtype=float32)\n"
     ]
    },
    {
     "data": {
      "text/plain": [
       "<Figure size 1440x1440 with 0 Axes>"
      ]
     },
     "metadata": {},
     "output_type": "display_data"
    }
   ],
   "source": [
    "for j in range(0,1):\n",
    "  activation_model = Model(inputs=model.inputs, outputs=model.layers[6].output)\n",
    "  activation = activation_model(img_tensor)\n",
    "  print(model.get_layer(index = 6).name)\n",
    "  plt.figure(figsize=(20,20))\n",
    "  print(activation)"
   ]
  },
  {
   "cell_type": "code",
   "execution_count": 19,
   "metadata": {
    "colab": {
     "base_uri": "https://localhost:8080/",
     "height": 1000
    },
    "id": "jCfqFAChVV1j",
    "outputId": "5fce888d-3933-46f2-812c-e623ab7e4d11",
    "scrolled": false
   },
   "outputs": [
    {
     "name": "stdout",
     "output_type": "stream",
     "text": [
      "conv2d\n"
     ]
    },
    {
     "data": {
      "image/png": "[encoded data removed]",
      "text/plain": [
       "<Figure size 1440x1440 with 4 Axes>"
      ]
     },
     "metadata": {
      "needs_background": "light"
     },
     "output_type": "display_data"
    },
    {
     "name": "stdout",
     "output_type": "stream",
     "text": [
      "max_pooling2d\n"
     ]
    },
    {
     "data": {
      "image/png": "[encoded data removed]",
      "text/plain": [
       "<Figure size 1440x1440 with 4 Axes>"
      ]
     },
     "metadata": {
      "needs_background": "light"
     },
     "output_type": "display_data"
    },
    {
     "name": "stdout",
     "output_type": "stream",
     "text": [
      "dropout\n"
     ]
    },
    {
     "data": {
      "image/png": "[encoded data removed]",
      "text/plain": [
       "<Figure size 1440x1440 with 4 Axes>"
      ]
     },
     "metadata": {
      "needs_background": "light"
     },
     "output_type": "display_data"
    },
    {
     "name": "stdout",
     "output_type": "stream",
     "text": [
      "conv2d_1\n"
     ]
    },
    {
     "data": {
      "image/png": "[encoded data removed]",
      "text/plain": [
       "<Figure size 1440x1440 with 4 Axes>"
      ]
     },
     "metadata": {
      "needs_background": "light"
     },
     "output_type": "display_data"
    },
    {
     "name": "stdout",
     "output_type": "stream",
     "text": [
      "max_pooling2d_1\n"
     ]
    },
    {
     "data": {
      "image/png": "[encoded data removed]",
      "text/plain": [
       "<Figure size 1440x1440 with 4 Axes>"
      ]
     },
     "metadata": {
      "needs_background": "light"
     },
     "output_type": "display_data"
    },
    {
     "name": "stdout",
     "output_type": "stream",
     "text": [
      "dropout_1\n"
     ]
    },
    {
     "data": {
      "image/png": "[encoded data removed]",
      "text/plain": [
       "<Figure size 1440x1440 with 4 Axes>"
      ]
     },
     "metadata": {
      "needs_background": "light"
     },
     "output_type": "display_data"
    },
    {
     "name": "stdout",
     "output_type": "stream",
     "text": [
      "conv2d_2\n"
     ]
    },
    {
     "data": {
      "image/png": "[encoded data removed]",
      "text/plain": [
       "<Figure size 1440x1440 with 4 Axes>"
      ]
     },
     "metadata": {
      "needs_background": "light"
     },
     "output_type": "display_data"
    },
    {
     "name": "stdout",
     "output_type": "stream",
     "text": [
      "max_pooling2d_2\n"
     ]
    },
    {
     "data": {
      "image/png": "[encoded data removed]",
      "text/plain": [
       "<Figure size 1440x1440 with 4 Axes>"
      ]
     },
     "metadata": {
      "needs_background": "light"
     },
     "output_type": "display_data"
    },
    {
     "name": "stdout",
     "output_type": "stream",
     "text": [
      "dropout_2\n"
     ]
    },
    {
     "data": {
      "image/png": "[encoded data removed]",
      "text/plain": [
       "<Figure size 1440x1440 with 4 Axes>"
      ]
     },
     "metadata": {
      "needs_background": "light"
     },
     "output_type": "display_data"
    }
   ],
   "source": [
    "for j in range(0,9):\n",
    "  activation_model = Model(inputs=model.inputs, outputs=model.layers[j].output)\n",
    "  activation = activation_model(img_tensor)\n",
    "  print(model.get_layer(index = j).name)\n",
    "  plt.figure(figsize=(20,20))\n",
    "\n",
    "  for i in range(4):\n",
    "      plt.subplot(4,4,i+1)\n",
    "\n",
    "      plt.imshow(activation[0,:,:,i])\n",
    "  plt.show()"
   ]
  },
  {
   "cell_type": "code",
   "execution_count": 20,
   "metadata": {
    "colab": {
     "base_uri": "https://localhost:8080/",
     "height": 607
    },
    "id": "R3yOBelY7kcb",
    "outputId": "5667565e-c138-4a91-980d-d8e6014eed96",
    "scrolled": false
   },
   "outputs": [
    {
     "name": "stdout",
     "output_type": "stream",
     "text": [
      "flatten\n",
      "tf.Tensor([[0.         0.         0.03978471 ... 0.         0.         0.        ]], shape=(1, 1152), dtype=float32)\n",
      "dense\n",
      "tf.Tensor(\n",
      "[[ 0.          0.          5.723478    7.4362264   5.4243255   0.\n",
      "   0.          0.         10.318248    3.24964     7.630795    0.\n",
      "   0.27007872  6.475677    2.1109786   0.84078467  7.786168    0.\n",
      "   0.          0.          5.6335583   0.          0.          0.\n",
      "   0.          3.5706108   0.          5.0341473   0.         10.021128\n",
      "   0.          6.0859513   0.          1.9583632   3.1251147   0.\n",
      "   0.          3.5569866   0.          4.3318286   0.         11.674558\n",
      "   0.          7.5372205   4.7576637   8.960193    7.6992717  10.223603\n",
      "   1.4506499   7.0359035   0.          8.891384    0.          0.\n",
      "   5.530635    0.          0.          6.406276    0.          0.\n",
      "   0.          3.3528817   0.          0.        ]], shape=(1, 64), dtype=float32)\n",
      "dropout_3\n",
      "tf.Tensor(\n",
      "[[ 0.          0.          5.723478    7.4362264   5.4243255   0.\n",
      "   0.          0.         10.318248    3.24964     7.630795    0.\n",
      "   0.27007872  6.475677    2.1109786   0.84078467  7.786168    0.\n",
      "   0.          0.          5.6335583   0.          0.          0.\n",
      "   0.          3.5706108   0.          5.0341473   0.         10.021128\n",
      "   0.          6.0859513   0.          1.9583632   3.1251147   0.\n",
      "   0.          3.5569866   0.          4.3318286   0.         11.674558\n",
      "   0.          7.5372205   4.7576637   8.960193    7.6992717  10.223603\n",
      "   1.4506499   7.0359035   0.          8.891384    0.          0.\n",
      "   5.530635    0.          0.          6.406276    0.          0.\n",
      "   0.          3.3528817   0.          0.        ]], shape=(1, 64), dtype=float32)\n",
      "dense_1\n",
      "tf.Tensor([[0.00038629]], shape=(1, 1), dtype=float32)\n"
     ]
    },
    {
     "data": {
      "text/plain": [
       "<Figure size 1440x1440 with 0 Axes>"
      ]
     },
     "metadata": {},
     "output_type": "display_data"
    },
    {
     "data": {
      "text/plain": [
       "<Figure size 1440x1440 with 0 Axes>"
      ]
     },
     "metadata": {},
     "output_type": "display_data"
    },
    {
     "data": {
      "text/plain": [
       "<Figure size 1440x1440 with 0 Axes>"
      ]
     },
     "metadata": {},
     "output_type": "display_data"
    },
    {
     "data": {
      "text/plain": [
       "<Figure size 1440x1440 with 0 Axes>"
      ]
     },
     "metadata": {},
     "output_type": "display_data"
    }
   ],
   "source": [
    "for j in range(9,13):\n",
    "  activation_model = Model(inputs=model.inputs, outputs=model.layers[j].output)\n",
    "  activation = activation_model(img_tensor)\n",
    "  print(model.get_layer(index = j).name)\n",
    "  plt.figure(figsize=(20,20))\n",
    "  print(activation)"
   ]
  },
  {
   "cell_type": "code",
   "execution_count": 21,
   "metadata": {
    "colab": {
     "base_uri": "https://localhost:8080/",
     "height": 268
    },
    "id": "wutJ9Ggsjgxv",
    "outputId": "332d2047-91b6-4063-b30f-88715eaeb1f5"
   },
   "outputs": [
    {
     "name": "stdout",
     "output_type": "stream",
     "text": [
      "1/1 [==============================] - 0s 94ms/step\n"
     ]
    },
    {
     "data": {
      "image/png": "[encoded data removed]",
      "text/plain": [
       "<Figure size 432x288 with 1 Axes>"
      ]
     },
     "metadata": {
      "needs_background": "light"
     },
     "output_type": "display_data"
    }
   ],
   "source": [
    "image_path=\"C:/Users/TUSHAR/Desktop/malaria/predict/C33P1thinF_IMG_20150619_121229a_cell_179.png\"\n",
    "img = tf.keras.preprocessing.image.load_img(image_path, target_size=(64, 64))\n",
    "plt.imshow(img)\n",
    "img = np.expand_dims(img, axis=0)\n",
    "predictions = (model.predict(img) > 0.5).astype(\"int32\")\n",
    "plt.show()"
   ]
  },
  {
   "cell_type": "code",
   "execution_count": 22,
   "metadata": {
    "colab": {
     "base_uri": "https://localhost:8080/",
     "height": 1000
    },
    "id": "S36-7UcqOXEF",
    "outputId": "e851a11f-a429-4b51-ee1f-b9c95231172e",
    "scrolled": false
   },
   "outputs": [
    {
     "name": "stdout",
     "output_type": "stream",
     "text": [
      "conv2d\n"
     ]
    },
    {
     "data": {
      "image/png": "[encoded data removed]",
      "text/plain": [
       "<Figure size 1440x1440 with 1 Axes>"
      ]
     },
     "metadata": {
      "needs_background": "light"
     },
     "output_type": "display_data"
    },
    {
     "name": "stdout",
     "output_type": "stream",
     "text": [
      "max_pooling2d\n"
     ]
    },
    {
     "data": {
      "image/png": "[encoded data removed]",
      "text/plain": [
       "<Figure size 1440x1440 with 1 Axes>"
      ]
     },
     "metadata": {
      "needs_background": "light"
     },
     "output_type": "display_data"
    },
    {
     "name": "stdout",
     "output_type": "stream",
     "text": [
      "dropout\n"
     ]
    },
    {
     "data": {
      "image/png": "[encoded data removed]",
      "text/plain": [
       "<Figure size 1440x1440 with 1 Axes>"
      ]
     },
     "metadata": {
      "needs_background": "light"
     },
     "output_type": "display_data"
    },
    {
     "name": "stdout",
     "output_type": "stream",
     "text": [
      "conv2d_1\n"
     ]
    },
    {
     "data": {
      "image/png": "[encoded data removed]",
      "text/plain": [
       "<Figure size 1440x1440 with 1 Axes>"
      ]
     },
     "metadata": {
      "needs_background": "light"
     },
     "output_type": "display_data"
    },
    {
     "name": "stdout",
     "output_type": "stream",
     "text": [
      "max_pooling2d_1\n"
     ]
    },
    {
     "data": {
      "image/png": "[encoded data removed]",
      "text/plain": [
       "<Figure size 1440x1440 with 1 Axes>"
      ]
     },
     "metadata": {
      "needs_background": "light"
     },
     "output_type": "display_data"
    },
    {
     "name": "stdout",
     "output_type": "stream",
     "text": [
      "dropout_1\n"
     ]
    },
    {
     "data": {
      "image/png": "[encoded data removed]",
      "text/plain": [
       "<Figure size 1440x1440 with 1 Axes>"
      ]
     },
     "metadata": {
      "needs_background": "light"
     },
     "output_type": "display_data"
    },
    {
     "name": "stdout",
     "output_type": "stream",
     "text": [
      "conv2d_2\n"
     ]
    },
    {
     "data": {
      "image/png": "[encoded data removed]",
      "text/plain": [
       "<Figure size 1440x1440 with 1 Axes>"
      ]
     },
     "metadata": {
      "needs_background": "light"
     },
     "output_type": "display_data"
    },
    {
     "name": "stdout",
     "output_type": "stream",
     "text": [
      "max_pooling2d_2\n"
     ]
    },
    {
     "data": {
      "image/png": "[encoded data removed]",
      "text/plain": [
       "<Figure size 1440x1440 with 1 Axes>"
      ]
     },
     "metadata": {
      "needs_background": "light"
     },
     "output_type": "display_data"
    },
    {
     "name": "stdout",
     "output_type": "stream",
     "text": [
      "dropout_2\n"
     ]
    },
    {
     "data": {
      "image/png": "[encoded data removed]",
      "text/plain": [
       "<Figure size 1440x1440 with 1 Axes>"
      ]
     },
     "metadata": {
      "needs_background": "light"
     },
     "output_type": "display_data"
    },
    {
     "name": "stdout",
     "output_type": "stream",
     "text": [
      "flatten\n",
      "tf.Tensor([[0.         0.         0.04537423 ... 0.         0.         0.        ]], shape=(1, 1152), dtype=float32)\n",
      "dense\n",
      "tf.Tensor(\n",
      "[[0.0000000e+00 0.0000000e+00 0.0000000e+00 4.6107750e+00 1.3270787e+00\n",
      "  0.0000000e+00 0.0000000e+00 0.0000000e+00 0.0000000e+00 3.4071612e+00\n",
      "  7.7119560e+00 0.0000000e+00 1.5680475e+00 4.4225969e+00 0.0000000e+00\n",
      "  3.5016537e-03 0.0000000e+00 0.0000000e+00 0.0000000e+00 0.0000000e+00\n",
      "  2.2491565e+00 0.0000000e+00 0.0000000e+00 0.0000000e+00 0.0000000e+00\n",
      "  0.0000000e+00 0.0000000e+00 5.8513718e+00 8.5477746e-01 3.9706302e+00\n",
      "  0.0000000e+00 1.0756919e+00 0.0000000e+00 4.8604360e+00 4.4110441e+00\n",
      "  0.0000000e+00 0.0000000e+00 0.0000000e+00 0.0000000e+00 3.1189926e+00\n",
      "  0.0000000e+00 6.0318885e+00 3.5523937e+00 0.0000000e+00 0.0000000e+00\n",
      "  1.4850281e+00 0.0000000e+00 0.0000000e+00 5.8238535e+00 6.1294746e+00\n",
      "  3.9708033e+00 0.0000000e+00 0.0000000e+00 0.0000000e+00 3.1922452e+00\n",
      "  0.0000000e+00 0.0000000e+00 0.0000000e+00 0.0000000e+00 0.0000000e+00\n",
      "  0.0000000e+00 1.8979620e+00 0.0000000e+00 3.7651238e+00]], shape=(1, 64), dtype=float32)\n",
      "dropout_3\n",
      "tf.Tensor(\n",
      "[[0.0000000e+00 0.0000000e+00 0.0000000e+00 4.6107750e+00 1.3270787e+00\n",
      "  0.0000000e+00 0.0000000e+00 0.0000000e+00 0.0000000e+00 3.4071612e+00\n",
      "  7.7119560e+00 0.0000000e+00 1.5680475e+00 4.4225969e+00 0.0000000e+00\n",
      "  3.5016537e-03 0.0000000e+00 0.0000000e+00 0.0000000e+00 0.0000000e+00\n",
      "  2.2491565e+00 0.0000000e+00 0.0000000e+00 0.0000000e+00 0.0000000e+00\n",
      "  0.0000000e+00 0.0000000e+00 5.8513718e+00 8.5477746e-01 3.9706302e+00\n",
      "  0.0000000e+00 1.0756919e+00 0.0000000e+00 4.8604360e+00 4.4110441e+00\n",
      "  0.0000000e+00 0.0000000e+00 0.0000000e+00 0.0000000e+00 3.1189926e+00\n",
      "  0.0000000e+00 6.0318885e+00 3.5523937e+00 0.0000000e+00 0.0000000e+00\n",
      "  1.4850281e+00 0.0000000e+00 0.0000000e+00 5.8238535e+00 6.1294746e+00\n",
      "  3.9708033e+00 0.0000000e+00 0.0000000e+00 0.0000000e+00 3.1922452e+00\n",
      "  0.0000000e+00 0.0000000e+00 0.0000000e+00 0.0000000e+00 0.0000000e+00\n",
      "  0.0000000e+00 1.8979620e+00 0.0000000e+00 3.7651238e+00]], shape=(1, 64), dtype=float32)\n",
      "dense_1\n",
      "tf.Tensor([[0.02269022]], shape=(1, 1), dtype=float32)\n",
      "-------------Parasitized-------------\n"
     ]
    },
    {
     "data": {
      "text/plain": [
       "<Figure size 1440x1440 with 0 Axes>"
      ]
     },
     "metadata": {},
     "output_type": "display_data"
    },
    {
     "data": {
      "text/plain": [
       "<Figure size 1440x1440 with 0 Axes>"
      ]
     },
     "metadata": {},
     "output_type": "display_data"
    },
    {
     "data": {
      "text/plain": [
       "<Figure size 1440x1440 with 0 Axes>"
      ]
     },
     "metadata": {},
     "output_type": "display_data"
    },
    {
     "data": {
      "text/plain": [
       "<Figure size 1440x1440 with 0 Axes>"
      ]
     },
     "metadata": {},
     "output_type": "display_data"
    }
   ],
   "source": [
    "img = tf.keras.preprocessing.image.load_img(image_path, target_size=(64,64))\n",
    "img_tensor = img_to_array(img)\n",
    "img_tensor = np.expand_dims(img_tensor, axis=0)\n",
    "img_tensor /= 255.\n",
    "# for j in range(0,1):\n",
    "#   activation_model = Model(inputs=model.inputs, outputs=model.layers[6].output)\n",
    "#   activation = activation_model(img_tensor)\n",
    "#   print(model.get_layer(index = 6).name)\n",
    "#   plt.figure(figsize=(20,20))\n",
    "#   print(activation)\n",
    "for j in range(0,9):\n",
    "  activation_model = Model(inputs=model.inputs, outputs=model.layers[j].output)\n",
    "  activation = activation_model(img_tensor)\n",
    "  print(model.get_layer(index = j).name)\n",
    "  plt.figure(figsize=(20,20))\n",
    "\n",
    "  for i in range(1):\n",
    "      plt.subplot(4,4,i+1)\n",
    "\n",
    "      plt.imshow(activation[0,:,:,i])\n",
    "  plt.show()\n",
    "for j in range(9,13):\n",
    "  activation_model = Model(inputs=model.inputs, outputs=model.layers[j].output)\n",
    "  activation = activation_model(img_tensor)\n",
    "  print(model.get_layer(index = j).name)\n",
    "  plt.figure(figsize=(20,20))\n",
    "  print(activation)\n",
    "if(predictions[0]==1):\n",
    "  print(\" -------------Uninfected-------------\")\n",
    "else :\n",
    "  print(\"-------------Parasitized-------------\")"
   ]
  }
 ],
 "metadata": {
  "accelerator": "TPU",
  "colab": {
   "collapsed_sections": [],
   "name": "Copy of Untitled",
   "provenance": []
  },
  "kernelspec": {
   "display_name": "Python 3 (ipykernel)",
   "language": "python",
   "name": "python3"
  },
  "language_info": {
   "codemirror_mode": {
    "name": "ipython",
    "version": 3
   },
   "file_extension": ".py",
   "mimetype": "text/x-python",
   "name": "python",
   "nbconvert_exporter": "python",
   "pygments_lexer": "ipython3",
   "version": "3.8.11"
  }
 },
 "nbformat": 4,
 "nbformat_minor": 1
}
