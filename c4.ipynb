{
 "cells": [
  {
   "cell_type": "code",
   "execution_count": 1,
   "metadata": {
    "colab": {
     "base_uri": "https://localhost:8080/"
    },
    "id": "vEH8xELycO_S",
    "outputId": "2e77b39f-8c55-48c0-b2d6-3ac93cb586b1"
   },
   "outputs": [
    {
     "name": "stdout",
     "output_type": "stream",
     "text": [
      "Requirement already satisfied: keras-metrics in c:\\users\\tushar\\.conda\\envs\\project1\\lib\\site-packages (1.1.0)\n",
      "Requirement already satisfied: Keras>=2.1.5 in c:\\users\\tushar\\.conda\\envs\\project1\\lib\\site-packages (from keras-metrics) (2.9.0)\n",
      "Requirement already satisfied: pandas in c:\\users\\tushar\\.conda\\envs\\project1\\lib\\site-packages (1.4.2)\n",
      "Requirement already satisfied: pytz>=2020.1 in c:\\users\\tushar\\.conda\\envs\\project1\\lib\\site-packages (from pandas) (2022.1)\n",
      "Requirement already satisfied: python-dateutil>=2.8.1 in c:\\users\\tushar\\.conda\\envs\\project1\\lib\\site-packages (from pandas) (2.8.2)\n",
      "Requirement already satisfied: numpy>=1.18.5 in c:\\users\\tushar\\.conda\\envs\\project1\\lib\\site-packages (from pandas) (1.21.2)\n",
      "Requirement already satisfied: six>=1.5 in c:\\users\\tushar\\.conda\\envs\\project1\\lib\\site-packages (from python-dateutil>=2.8.1->pandas) (1.16.0)\n"
     ]
    }
   ],
   "source": [
    "!pip install keras-metrics\n",
    "!pip install pandas"
   ]
  },
  {
   "cell_type": "code",
   "execution_count": 2,
   "metadata": {
    "colab": {
     "base_uri": "https://localhost:8080/"
    },
    "id": "X9Y5JK8Iw9bV",
    "outputId": "90848da4-6beb-49e9-ba7e-def5fce5ac09"
   },
   "outputs": [
    {
     "name": "stdout",
     "output_type": "stream",
     "text": [
      "2.9.0\n"
     ]
    }
   ],
   "source": [
    "import tensorflow as tf\n",
    "from tensorflow.keras import Sequential\n",
    "from tensorflow.keras.layers import Flatten , Dense , Conv2D , MaxPool2D ,  Dropout, Activation\n",
    "from tensorflow.keras.preprocessing.image import ImageDataGenerator,img_to_array, load_img\n",
    "from keras.preprocessing import image\n",
    "from tensorflow.keras.models import Model\n",
    "import PIL\n",
    "import PIL.Image\n",
    "from PIL import Image\n",
    "import cv2\n",
    "from numpy import asarray\n",
    "import numpy\n",
    "import pandas as pd\n",
    "\n",
    "import keras_metrics\n",
    "print(tf.__version__)"
   ]
  },
  {
   "cell_type": "code",
   "execution_count": 3,
   "metadata": {
    "id": "D2LYD57hyPh8"
   },
   "outputs": [],
   "source": [
    "import numpy as np\n",
    "import matplotlib.pyplot as plt\n"
   ]
  },
  {
   "cell_type": "code",
   "execution_count": 4,
   "metadata": {
    "id": "ouduim4ezKRa"
   },
   "outputs": [],
   "source": [
    "img_width = 64\n",
    "img_height = 64"
   ]
  },
  {
   "cell_type": "code",
   "execution_count": 5,
   "metadata": {
    "id": "muJZBLi8zXAR"
   },
   "outputs": [],
   "source": [
    "datagen = ImageDataGenerator(rescale=1/255.0, validation_split=0.4)\n",
    "\n"
   ]
  },
  {
   "cell_type": "code",
   "execution_count": 6,
   "metadata": {
    "colab": {
     "base_uri": "https://localhost:8080/"
    },
    "id": "KSUsOE9dzg-6",
    "outputId": "c7481f0c-56da-45c0-9b0d-e5b78c5cab31"
   },
   "outputs": [
    {
     "name": "stdout",
     "output_type": "stream",
     "text": [
      "Found 16536 images belonging to 2 classes.\n"
     ]
    }
   ],
   "source": [
    "train_data_generator = datagen.flow_from_directory(directory='C:/Users/TUSHAR/malaria/cell_images',\n",
    "                          target_size = (img_width, img_height),\n",
    "                                                   class_mode = 'binary',\n",
    "                                                   batch_size = 16,\n",
    "                                                   subset = 'training'\n",
    "                                                   \n",
    "                                                   )            "
   ]
  },
  {
   "cell_type": "code",
   "execution_count": 7,
   "metadata": {
    "colab": {
     "base_uri": "https://localhost:8080/"
    },
    "id": "vgKR8c8t0Zeu",
    "outputId": "3d68a0b9-c49e-46b6-e745-62502fe5343d"
   },
   "outputs": [
    {
     "name": "stdout",
     "output_type": "stream",
     "text": [
      "Found 11022 images belonging to 2 classes.\n"
     ]
    }
   ],
   "source": [
    "validation_data_generator = datagen.flow_from_directory(directory='C:/Users/TUSHAR/malaria/cell_images',\n",
    "                                                   target_size = (img_width, img_height),\n",
    "                                                   class_mode = 'binary',\n",
    "                                                   batch_size = 16,\n",
    "                                                   subset = 'validation'\n",
    "                                                   \n",
    "                                                   )"
   ]
  },
  {
   "cell_type": "code",
   "execution_count": 8,
   "metadata": {
    "colab": {
     "base_uri": "https://localhost:8080/",
     "height": 149
    },
    "id": "JvaAQGK0aQ-3",
    "outputId": "e3a81670-a122-4959-e1fd-24287b8e3127"
   },
   "outputs": [
    {
     "name": "stdout",
     "output_type": "stream",
     "text": [
      "Parasitized Cell :\n"
     ]
    },
    {
     "data": {
      "image/png": "[encoded data removed]",
      "text/plain": [
       "<PIL.PngImagePlugin.PngImageFile image mode=RGB size=121x115 at 0x267A13E9550>"
      ]
     },
     "execution_count": 8,
     "metadata": {},
     "output_type": "execute_result"
    }
   ],
   "source": [
    "path1 = \"C:/Users/TUSHAR/malaria/cell_images/Parasitized/C100P61ThinF_IMG_20150918_144823_cell_162.png\"\n",
    "Load_image1 = tf.keras.preprocessing.image.load_img(path1)\n",
    "print(\"Parasitized Cell :\")\n",
    "Load_image1\n",
    "\n"
   ]
  },
  {
   "cell_type": "code",
   "execution_count": 9,
   "metadata": {
    "colab": {
     "base_uri": "https://localhost:8080/",
     "height": 170
    },
    "id": "4zcsnhshex49",
    "outputId": "d82470b3-88fe-423a-8abf-65c167b2b034"
   },
   "outputs": [
    {
     "name": "stdout",
     "output_type": "stream",
     "text": [
      "Uninfected Cell :\n"
     ]
    },
    {
     "data": {
      "image/png": "[encoded data removed]",
      "text/plain": [
       "<PIL.PngImagePlugin.PngImageFile image mode=RGB size=145x136 at 0x267ADA6C250>"
      ]
     },
     "execution_count": 9,
     "metadata": {},
     "output_type": "execute_result"
    }
   ],
   "source": [
    "path2 = \"C:/Users/TUSHAR/malaria/cell_images/Uninfected/C100P61ThinF_IMG_20150918_144104_cell_131.png\"\n",
    "print(\"Uninfected Cell :\")\n",
    "Load_image2 = tf.keras.preprocessing.image.load_img(path2)\n",
    "Load_image2"
   ]
  },
  {
   "cell_type": "code",
   "execution_count": 10,
   "metadata": {
    "colab": {
     "base_uri": "https://localhost:8080/"
    },
    "id": "xM8DXxg-uHAV",
    "outputId": "4920b423-7d01-4970-f9f3-2654301e59c2"
   },
   "outputs": [
    {
     "data": {
      "text/plain": [
       "array([0, 0, 0, ..., 1, 1, 1])"
      ]
     },
     "execution_count": 10,
     "metadata": {},
     "output_type": "execute_result"
    }
   ],
   "source": [
    "train_data_generator.labels"
   ]
  },
  {
   "cell_type": "markdown",
   "metadata": {
    "id": "yDzgtu_J0wCV"
   },
   "source": [
    "# CNN model"
   ]
  },
  {
   "cell_type": "code",
   "execution_count": 11,
   "metadata": {
    "colab": {
     "base_uri": "https://localhost:8080/"
    },
    "id": "_OKNXTUI023E",
    "outputId": "e08e8acb-966e-467b-f4d6-d7f57052cc98"
   },
   "outputs": [],
   "source": [
    "model = Sequential()\n",
    "\n",
    "model.add(Conv2D(64,(3,3), input_shape = (img_width,img_height,3), activation = \"relu\"))\n",
    "model.add(MaxPool2D(2,2))\n",
    "\n",
    "model.add(Dropout(0.2))\n",
    "model.add(Conv2D(32,(3,3), activation = \"relu\"))\n",
    "\n",
    "model.add(MaxPool2D(2,2))\n",
    "model.add(Dropout(0.3))\n",
    "\n",
    "model.add(Flatten())\n",
    "model.add(Dense(128, activation = \"relu\"))\n",
    "\n",
    "# Dropouts help reduce overfitting by randomly turning neurons off during training.\n",
    "# Here we say randomly turn off 50% of neurons.\n",
    "model.add(Dropout(0.5))\n",
    "\n",
    "# Last layer, remember its binary so we use sigmoid\n",
    "model.add(Dense(1, activation = \"sigmoid\"))"
   ]
  },
  {
   "cell_type": "code",
   "execution_count": 12,
   "metadata": {
    "id": "zQTc8VRg2RkP"
   },
   "outputs": [],
   "source": [
    "model.compile(optimizer='adam',loss='binary_crossentropy',metrics=[\"accuracy\",tf.keras.metrics.AUC(),\n",
    "          tf.keras.metrics.Precision(),tf.keras.metrics.Recall(), tf.keras.metrics.FalseNegatives(),\n",
    "          tf.keras.metrics.FalsePositives(),tf.keras.metrics.TrueNegatives(),tf.keras.metrics.TruePositives()])\n"
   ]
  },
  {
   "cell_type": "code",
   "execution_count": 13,
   "metadata": {
    "colab": {
     "base_uri": "https://localhost:8080/"
    },
    "id": "9_6L26VC2b5w",
    "outputId": "f78daf83-a6b1-4e64-d8ab-a946d92c6d71",
    "scrolled": false
   },
   "outputs": [
    {
     "name": "stdout",
     "output_type": "stream",
     "text": [
      "Epoch 1/15\n"
     ]
    },
    {
     "name": "stderr",
     "output_type": "stream",
     "text": [
      "C:\\Users\\TUSHAR\\AppData\\Local\\Temp/ipykernel_23564/2835613124.py:1: UserWarning: `Model.fit_generator` is deprecated and will be removed in a future version. Please use `Model.fit`, which supports generators.\n",
      "  history = model.fit_generator(generator=train_data_generator,\n"
     ]
    },
    {
     "name": "stdout",
     "output_type": "stream",
     "text": [
      "1034/1034 [==============================] - 57s 54ms/step - loss: 0.4980 - accuracy: 0.7419 - auc: 0.8378 - precision: 0.7350 - recall: 0.7567 - false_negatives: 2012.0000 - false_positives: 2256.0000 - true_negatives: 6012.0000 - true_positives: 6256.0000 - val_loss: 0.2325 - val_accuracy: 0.8949 - val_auc: 0.9741 - val_precision: 0.9463 - val_recall: 0.8374 - val_false_negatives: 896.0000 - val_false_positives: 262.0000 - val_true_negatives: 5249.0000 - val_true_positives: 4615.0000\n",
      "Epoch 2/15\n",
      "1034/1034 [==============================] - 57s 56ms/step - loss: 0.2185 - accuracy: 0.9218 - auc: 0.9703 - precision: 0.9264 - recall: 0.9164 - false_negatives: 691.0000 - false_positives: 602.0000 - true_negatives: 7666.0000 - true_positives: 7577.0000 - val_loss: 0.1817 - val_accuracy: 0.9255 - val_auc: 0.9813 - val_precision: 0.9468 - val_recall: 0.9017 - val_false_negatives: 542.0000 - val_false_positives: 279.0000 - val_true_negatives: 5232.0000 - val_true_positives: 4969.0000\n",
      "Epoch 3/15\n",
      "1034/1034 [==============================] - 54s 52ms/step - loss: 0.1879 - accuracy: 0.9355 - auc: 0.9761 - precision: 0.9356 - recall: 0.9353 - false_negatives: 535.0000 - false_positives: 532.0000 - true_negatives: 7736.0000 - true_positives: 7733.0000 - val_loss: 0.1654 - val_accuracy: 0.9370 - val_auc: 0.9832 - val_precision: 0.9559 - val_recall: 0.9163 - val_false_negatives: 461.0000 - val_false_positives: 233.0000 - val_true_negatives: 5278.0000 - val_true_positives: 5050.0000\n",
      "Epoch 4/15\n",
      "1034/1034 [==============================] - 54s 52ms/step - loss: 0.1665 - accuracy: 0.9456 - auc: 0.9806 - precision: 0.9397 - recall: 0.9522 - false_negatives: 395.0000 - false_positives: 505.0000 - true_negatives: 7763.0000 - true_positives: 7873.0000 - val_loss: 0.1637 - val_accuracy: 0.9420 - val_auc: 0.9829 - val_precision: 0.9437 - val_recall: 0.9401 - val_false_negatives: 330.0000 - val_false_positives: 309.0000 - val_true_negatives: 5202.0000 - val_true_positives: 5181.0000\n",
      "Epoch 5/15\n",
      "1034/1034 [==============================] - 59s 57ms/step - loss: 0.1533 - accuracy: 0.9519 - auc: 0.9823 - precision: 0.9434 - recall: 0.9614 - false_negatives: 319.0000 - false_positives: 477.0000 - true_negatives: 7791.0000 - true_positives: 7949.0000 - val_loss: 0.1650 - val_accuracy: 0.9359 - val_auc: 0.9839 - val_precision: 0.9520 - val_recall: 0.9182 - val_false_negatives: 451.0000 - val_false_positives: 255.0000 - val_true_negatives: 5256.0000 - val_true_positives: 5060.0000\n",
      "Epoch 6/15\n",
      "1034/1034 [==============================] - 61s 59ms/step - loss: 0.1434 - accuracy: 0.9540 - auc: 0.9851 - precision: 0.9416 - recall: 0.9679 - false_negatives: 265.0000 - false_positives: 496.0000 - true_negatives: 7772.0000 - true_positives: 8003.0000 - val_loss: 0.1669 - val_accuracy: 0.9470 - val_auc: 0.9802 - val_precision: 0.9189 - val_recall: 0.9806 - val_false_negatives: 107.0000 - val_false_positives: 477.0000 - val_true_negatives: 5034.0000 - val_true_positives: 5404.0000\n",
      "Epoch 7/15\n",
      "1034/1034 [==============================] - 54s 53ms/step - loss: 0.1343 - accuracy: 0.9577 - auc: 0.9864 - precision: 0.9480 - recall: 0.9684 - false_negatives: 261.0000 - false_positives: 439.0000 - true_negatives: 7829.0000 - true_positives: 8007.0000 - val_loss: 0.1525 - val_accuracy: 0.9464 - val_auc: 0.9845 - val_precision: 0.9420 - val_recall: 0.9514 - val_false_negatives: 268.0000 - val_false_positives: 323.0000 - val_true_negatives: 5188.0000 - val_true_positives: 5243.0000\n",
      "Epoch 8/15\n",
      "1034/1034 [==============================] - 56s 54ms/step - loss: 0.1255 - accuracy: 0.9572 - auc: 0.9883 - precision: 0.9476 - recall: 0.9681 - false_negatives: 264.0000 - false_positives: 443.0000 - true_negatives: 7825.0000 - true_positives: 8004.0000 - val_loss: 0.1559 - val_accuracy: 0.9509 - val_auc: 0.9836 - val_precision: 0.9343 - val_recall: 0.9701 - val_false_negatives: 165.0000 - val_false_positives: 376.0000 - val_true_negatives: 5135.0000 - val_true_positives: 5346.0000\n",
      "Epoch 9/15\n",
      "1034/1034 [==============================] - 55s 53ms/step - loss: 0.1208 - accuracy: 0.9600 - auc: 0.9890 - precision: 0.9491 - recall: 0.9721 - false_negatives: 231.0000 - false_positives: 431.0000 - true_negatives: 7837.0000 - true_positives: 8037.0000 - val_loss: 0.1612 - val_accuracy: 0.9499 - val_auc: 0.9825 - val_precision: 0.9283 - val_recall: 0.9751 - val_false_negatives: 137.0000 - val_false_positives: 415.0000 - val_true_negatives: 5096.0000 - val_true_positives: 5374.0000\n",
      "Epoch 10/15\n",
      "1034/1034 [==============================] - 56s 54ms/step - loss: 0.1142 - accuracy: 0.9617 - auc: 0.9906 - precision: 0.9513 - recall: 0.9731 - false_negatives: 222.0000 - false_positives: 412.0000 - true_negatives: 7856.0000 - true_positives: 8046.0000 - val_loss: 0.1462 - val_accuracy: 0.9522 - val_auc: 0.9851 - val_precision: 0.9423 - val_recall: 0.9633 - val_false_negatives: 202.0000 - val_false_positives: 325.0000 - val_true_negatives: 5186.0000 - val_true_positives: 5309.0000\n",
      "Epoch 11/15\n",
      "1034/1034 [==============================] - 57s 55ms/step - loss: 0.1102 - accuracy: 0.9644 - auc: 0.9903 - precision: 0.9552 - recall: 0.9746 - false_negatives: 210.0000 - false_positives: 378.0000 - true_negatives: 7890.0000 - true_positives: 8058.0000 - val_loss: 0.1547 - val_accuracy: 0.9492 - val_auc: 0.9846 - val_precision: 0.9436 - val_recall: 0.9555 - val_false_negatives: 245.0000 - val_false_positives: 315.0000 - val_true_negatives: 5196.0000 - val_true_positives: 5266.0000\n",
      "Epoch 12/15\n",
      "1034/1034 [==============================] - 56s 54ms/step - loss: 0.1063 - accuracy: 0.9637 - auc: 0.9913 - precision: 0.9538 - recall: 0.9745 - false_negatives: 211.0000 - false_positives: 390.0000 - true_negatives: 7878.0000 - true_positives: 8057.0000 - val_loss: 0.1515 - val_accuracy: 0.9533 - val_auc: 0.9857 - val_precision: 0.9364 - val_recall: 0.9726 - val_false_negatives: 151.0000 - val_false_positives: 364.0000 - val_true_negatives: 5147.0000 - val_true_positives: 5360.0000\n",
      "Epoch 13/15\n",
      "1034/1034 [==============================] - 59s 57ms/step - loss: 0.1046 - accuracy: 0.9635 - auc: 0.9918 - precision: 0.9539 - recall: 0.9741 - false_negatives: 214.0000 - false_positives: 389.0000 - true_negatives: 7879.0000 - true_positives: 8054.0000 - val_loss: 0.1605 - val_accuracy: 0.9501 - val_auc: 0.9843 - val_precision: 0.9467 - val_recall: 0.9539 - val_false_negatives: 254.0000 - val_false_positives: 296.0000 - val_true_negatives: 5215.0000 - val_true_positives: 5257.0000\n",
      "Epoch 14/15\n",
      "1034/1034 [==============================] - 65s 63ms/step - loss: 0.0935 - accuracy: 0.9669 - auc: 0.9936 - precision: 0.9570 - recall: 0.9776 - false_negatives: 185.0000 - false_positives: 363.0000 - true_negatives: 7905.0000 - true_positives: 8083.0000 - val_loss: 0.1717 - val_accuracy: 0.9522 - val_auc: 0.9837 - val_precision: 0.9334 - val_recall: 0.9739 - val_false_negatives: 144.0000 - val_false_positives: 383.0000 - val_true_negatives: 5128.0000 - val_true_positives: 5367.0000\n",
      "Epoch 15/15\n",
      "1034/1034 [==============================] - 73s 71ms/step - loss: 0.0940 - accuracy: 0.9671 - auc: 0.9933 - precision: 0.9577 - recall: 0.9774 - false_negatives: 187.0000 - false_positives: 357.0000 - true_negatives: 7911.0000 - true_positives: 8081.0000 - val_loss: 0.1948 - val_accuracy: 0.9509 - val_auc: 0.9802 - val_precision: 0.9274 - val_recall: 0.9784 - val_false_negatives: 119.0000 - val_false_positives: 422.0000 - val_true_negatives: 5089.0000 - val_true_positives: 5392.0000\n"
     ]
    }
   ],
   "source": [
    "history = model.fit_generator(generator=train_data_generator,\n",
    "                              steps_per_epoch = len(train_data_generator),\n",
    "                              epochs = 15,\n",
    "                              validation_data = validation_data_generator,\n",
    "                              validation_steps = len(validation_data_generator))"
   ]
  },
  {
   "cell_type": "code",
   "execution_count": 14,
   "metadata": {
    "colab": {
     "base_uri": "https://localhost:8080/"
    },
    "id": "9yW-mrfu5hXI",
    "outputId": "a7e194ac-9fa6-48bc-bbb8-c4cffd5bf2db",
    "scrolled": false
   },
   "outputs": [
    {
     "data": {
      "text/plain": [
       "{'loss': [0.49800121784210205,\n",
       "  0.21850092709064484,\n",
       "  0.18793745338916779,\n",
       "  0.16648221015930176,\n",
       "  0.15329644083976746,\n",
       "  0.14336106181144714,\n",
       "  0.1342782825231552,\n",
       "  0.12548507750034332,\n",
       "  0.12080121785402298,\n",
       "  0.1142263114452362,\n",
       "  0.11016442626714706,\n",
       "  0.10631827265024185,\n",
       "  0.10458110272884369,\n",
       "  0.09352631121873856,\n",
       "  0.09399813413619995],\n",
       " 'accuracy': [0.7418964505195618,\n",
       "  0.9218069911003113,\n",
       "  0.9354740977287292,\n",
       "  0.9455732703208923,\n",
       "  0.9518625736236572,\n",
       "  0.9539791941642761,\n",
       "  0.957668125629425,\n",
       "  0.9572448134422302,\n",
       "  0.9599661231040955,\n",
       "  0.9616594314575195,\n",
       "  0.9644412398338318,\n",
       "  0.9636550545692444,\n",
       "  0.9635341167449951,\n",
       "  0.9668601751327515,\n",
       "  0.96710205078125],\n",
       " 'auc': [0.8377666473388672,\n",
       "  0.9702548384666443,\n",
       "  0.9761027097702026,\n",
       "  0.9805819392204285,\n",
       "  0.9823179841041565,\n",
       "  0.9851423501968384,\n",
       "  0.9863815903663635,\n",
       "  0.9882668256759644,\n",
       "  0.9890279173851013,\n",
       "  0.990639865398407,\n",
       "  0.9903284907341003,\n",
       "  0.9913159608840942,\n",
       "  0.9917657971382141,\n",
       "  0.9936371445655823,\n",
       "  0.9933431148529053],\n",
       " 'precision': [0.7349624037742615,\n",
       "  0.9263968467712402,\n",
       "  0.9356321692466736,\n",
       "  0.9397230744361877,\n",
       "  0.9433895349502563,\n",
       "  0.9416401982307434,\n",
       "  0.948022723197937,\n",
       "  0.9475553631782532,\n",
       "  0.949102520942688,\n",
       "  0.9512887001037598,\n",
       "  0.9551920294761658,\n",
       "  0.9538297653198242,\n",
       "  0.9539263248443604,\n",
       "  0.9570210576057434,\n",
       "  0.9576913714408875],\n",
       " 'recall': [0.7566521763801575,\n",
       "  0.9164247512817383,\n",
       "  0.9352927207946777,\n",
       "  0.9522254467010498,\n",
       "  0.9614174962043762,\n",
       "  0.9679487347602844,\n",
       "  0.9684324860572815,\n",
       "  0.9680696725845337,\n",
       "  0.9720609784126282,\n",
       "  0.9731494784355164,\n",
       "  0.9746008515357971,\n",
       "  0.9744799137115479,\n",
       "  0.9741171002388,\n",
       "  0.9776245951652527,\n",
       "  0.9773826599121094],\n",
       " 'false_negatives': [2012.0,\n",
       "  691.0,\n",
       "  535.0,\n",
       "  395.0,\n",
       "  319.0,\n",
       "  265.0,\n",
       "  261.0,\n",
       "  264.0,\n",
       "  231.0,\n",
       "  222.0,\n",
       "  210.0,\n",
       "  211.0,\n",
       "  214.0,\n",
       "  185.0,\n",
       "  187.0],\n",
       " 'false_positives': [2256.0,\n",
       "  602.0,\n",
       "  532.0,\n",
       "  505.0,\n",
       "  477.0,\n",
       "  496.0,\n",
       "  439.0,\n",
       "  443.0,\n",
       "  431.0,\n",
       "  412.0,\n",
       "  378.0,\n",
       "  390.0,\n",
       "  389.0,\n",
       "  363.0,\n",
       "  357.0],\n",
       " 'true_negatives': [6012.0,\n",
       "  7666.0,\n",
       "  7736.0,\n",
       "  7763.0,\n",
       "  7791.0,\n",
       "  7772.0,\n",
       "  7829.0,\n",
       "  7825.0,\n",
       "  7837.0,\n",
       "  7856.0,\n",
       "  7890.0,\n",
       "  7878.0,\n",
       "  7879.0,\n",
       "  7905.0,\n",
       "  7911.0],\n",
       " 'true_positives': [6256.0,\n",
       "  7577.0,\n",
       "  7733.0,\n",
       "  7873.0,\n",
       "  7949.0,\n",
       "  8003.0,\n",
       "  8007.0,\n",
       "  8004.0,\n",
       "  8037.0,\n",
       "  8046.0,\n",
       "  8058.0,\n",
       "  8057.0,\n",
       "  8054.0,\n",
       "  8083.0,\n",
       "  8081.0],\n",
       " 'val_loss': [0.23245856165885925,\n",
       "  0.18168413639068604,\n",
       "  0.16538481414318085,\n",
       "  0.1637011021375656,\n",
       "  0.16495275497436523,\n",
       "  0.16685259342193604,\n",
       "  0.15247441828250885,\n",
       "  0.15590187907218933,\n",
       "  0.16118036210536957,\n",
       "  0.14622056484222412,\n",
       "  0.15465840697288513,\n",
       "  0.15148131549358368,\n",
       "  0.1605304628610611,\n",
       "  0.1716616302728653,\n",
       "  0.19477149844169617],\n",
       " 'val_accuracy': [0.8949373960494995,\n",
       "  0.9255126118659973,\n",
       "  0.9370350241661072,\n",
       "  0.9420250654220581,\n",
       "  0.9359462857246399,\n",
       "  0.9470150470733643,\n",
       "  0.9463799595832825,\n",
       "  0.9509163498878479,\n",
       "  0.9499183297157288,\n",
       "  0.9521865248680115,\n",
       "  0.9491925239562988,\n",
       "  0.9532752633094788,\n",
       "  0.9500998258590698,\n",
       "  0.9521865248680115,\n",
       "  0.9509163498878479],\n",
       " 'val_auc': [0.9741272330284119,\n",
       "  0.9812968373298645,\n",
       "  0.9832115769386292,\n",
       "  0.9829272031784058,\n",
       "  0.9839369058609009,\n",
       "  0.980236291885376,\n",
       "  0.9845014214515686,\n",
       "  0.9835976958274841,\n",
       "  0.9825075268745422,\n",
       "  0.9850867390632629,\n",
       "  0.9846242070198059,\n",
       "  0.9857493042945862,\n",
       "  0.9842798709869385,\n",
       "  0.9837390184402466,\n",
       "  0.980238676071167],\n",
       " 'val_precision': [0.94627845287323,\n",
       "  0.9468368887901306,\n",
       "  0.955896258354187,\n",
       "  0.9437158703804016,\n",
       "  0.9520225524902344,\n",
       "  0.9188913702964783,\n",
       "  0.941969096660614,\n",
       "  0.9342886805534363,\n",
       "  0.9283123016357422,\n",
       "  0.9423145055770874,\n",
       "  0.9435585141181946,\n",
       "  0.9364081025123596,\n",
       "  0.9466955065727234,\n",
       "  0.9333913326263428,\n",
       "  0.9274165630340576],\n",
       " 'val_recall': [0.8374160528182983,\n",
       "  0.9016512632369995,\n",
       "  0.9163491129875183,\n",
       "  0.940119743347168,\n",
       "  0.9181636571884155,\n",
       "  0.9805842638015747,\n",
       "  0.9513700008392334,\n",
       "  0.970059871673584,\n",
       "  0.9751406311988831,\n",
       "  0.9633460640907288,\n",
       "  0.9555434584617615,\n",
       "  0.9726002812385559,\n",
       "  0.9539103507995605,\n",
       "  0.9738704562187195,\n",
       "  0.9784068465232849],\n",
       " 'val_false_negatives': [896.0,\n",
       "  542.0,\n",
       "  461.0,\n",
       "  330.0,\n",
       "  451.0,\n",
       "  107.0,\n",
       "  268.0,\n",
       "  165.0,\n",
       "  137.0,\n",
       "  202.0,\n",
       "  245.0,\n",
       "  151.0,\n",
       "  254.0,\n",
       "  144.0,\n",
       "  119.0],\n",
       " 'val_false_positives': [262.0,\n",
       "  279.0,\n",
       "  233.0,\n",
       "  309.0,\n",
       "  255.0,\n",
       "  477.0,\n",
       "  323.0,\n",
       "  376.0,\n",
       "  415.0,\n",
       "  325.0,\n",
       "  315.0,\n",
       "  364.0,\n",
       "  296.0,\n",
       "  383.0,\n",
       "  422.0],\n",
       " 'val_true_negatives': [5249.0,\n",
       "  5232.0,\n",
       "  5278.0,\n",
       "  5202.0,\n",
       "  5256.0,\n",
       "  5034.0,\n",
       "  5188.0,\n",
       "  5135.0,\n",
       "  5096.0,\n",
       "  5186.0,\n",
       "  5196.0,\n",
       "  5147.0,\n",
       "  5215.0,\n",
       "  5128.0,\n",
       "  5089.0],\n",
       " 'val_true_positives': [4615.0,\n",
       "  4969.0,\n",
       "  5050.0,\n",
       "  5181.0,\n",
       "  5060.0,\n",
       "  5404.0,\n",
       "  5243.0,\n",
       "  5346.0,\n",
       "  5374.0,\n",
       "  5309.0,\n",
       "  5266.0,\n",
       "  5360.0,\n",
       "  5257.0,\n",
       "  5367.0,\n",
       "  5392.0]}"
      ]
     },
     "execution_count": 14,
     "metadata": {},
     "output_type": "execute_result"
    }
   ],
   "source": [
    "history.history"
   ]
  },
  {
   "cell_type": "markdown",
   "metadata": {
    "id": "b-3-mdNOOdG3"
   },
   "source": [
    "Plotting Graphs and Outputs"
   ]
  },
  {
   "cell_type": "code",
   "execution_count": 15,
   "metadata": {
    "id": "WKEx_Yt05nZa"
   },
   "outputs": [],
   "source": [
    "def plot_learningCurve(history,epoch):\n",
    "  #plot learning and validation accuracy values\n",
    "  epoch_range=range(1,epoch+1)\n",
    "  plt.plot(epoch_range,history.history['accuracy'])\n",
    "  plt.plot(epoch_range,history.history['val_accuracy'])\n",
    "  plt.title(\"Model accuracy\")\n",
    "  plt.ylabel(\"Accuracy\")\n",
    "  plt.xlabel(\"Epoch\")\n",
    "  plt.legend(['Train','Val'], loc = 'upper left')\n",
    "  plt.show()\n",
    "\n",
    "   #plot learning and validation loss values\n",
    "  plt.plot(epoch_range,history.history['loss'])\n",
    "  plt.plot(epoch_range,history.history['val_loss'])\n",
    "  plt.title(\"Model loss\")\n",
    "  plt.ylabel(\"loss\")\n",
    "  plt.xlabel(\"Epoch\")\n",
    "  plt.legend(['Train','Val'], loc = 'upper left')\n",
    "  plt.show()"
   ]
  },
  {
   "cell_type": "code",
   "execution_count": 16,
   "metadata": {
    "colab": {
     "base_uri": "https://localhost:8080/",
     "height": 573
    },
    "id": "9XG7RUHj6wo8",
    "outputId": "b1b3c3d0-686d-4974-a39c-465d7e87fe84"
   },
   "outputs": [
    {
     "data": {
      "image/png": "[encoded data removed]",
      "text/plain": [
       "<Figure size 432x288 with 1 Axes>"
      ]
     },
     "metadata": {
      "needs_background": "light"
     },
     "output_type": "display_data"
    },
    {
     "data": {
      "image/png": "[encoded data removed]",
      "text/plain": [
       "<Figure size 432x288 with 1 Axes>"
      ]
     },
     "metadata": {
      "needs_background": "light"
     },
     "output_type": "display_data"
    }
   ],
   "source": [
    "plot_learningCurve(history,15)"
   ]
  },
  {
   "cell_type": "code",
   "execution_count": 17,
   "metadata": {
    "id": "euxuomiB7eWK"
   },
   "outputs": [],
   "source": [
    "img_path=r\"C:/Users/TUSHAR/malaria/cell_images/Parasitized/C100P61ThinF_IMG_20150918_144104_cell_162.png\"\n",
    "img = tf.keras.preprocessing.image.load_img(img_path, target_size=(64,64))\n",
    "img_tensor = img_to_array(img)\n",
    "img_tensor = np.expand_dims(img_tensor, axis=0)\n",
    "img_tensor /= 255.\n"
   ]
  },
  {
   "cell_type": "code",
   "execution_count": 18,
   "metadata": {
    "colab": {
     "base_uri": "https://localhost:8080/",
     "height": 69
    },
    "id": "mfRoAO5h7MXj",
    "outputId": "a53d37b5-6b3e-4459-c934-16004e92a52b"
   },
   "outputs": [
    {
     "name": "stdout",
     "output_type": "stream",
     "text": [
      "flatten\n",
      "tf.Tensor([[0. 0. 0. ... 0. 0. 0.]], shape=(1, 6272), dtype=float32)\n"
     ]
    },
    {
     "data": {
      "text/plain": [
       "<Figure size 1440x1440 with 0 Axes>"
      ]
     },
     "metadata": {},
     "output_type": "display_data"
    }
   ],
   "source": [
    "for j in range(0,1):\n",
    "  activation_model = Model(inputs=model.inputs, outputs=model.layers[6].output)\n",
    "  activation = activation_model(img_tensor)\n",
    "  print(model.get_layer(index = 6).name)\n",
    "  plt.figure(figsize=(20,20))\n",
    "  print(activation)"
   ]
  },
  {
   "cell_type": "code",
   "execution_count": 19,
   "metadata": {
    "colab": {
     "base_uri": "https://localhost:8080/",
     "height": 1000
    },
    "id": "jCfqFAChVV1j",
    "outputId": "5fce888d-3933-46f2-812c-e623ab7e4d11"
   },
   "outputs": [
    {
     "name": "stdout",
     "output_type": "stream",
     "text": [
      "conv2d\n"
     ]
    },
    {
     "data": {
      "image/png": "[encoded data removed]",
      "text/plain": [
       "<Figure size 1440x1440 with 4 Axes>"
      ]
     },
     "metadata": {
      "needs_background": "light"
     },
     "output_type": "display_data"
    },
    {
     "name": "stdout",
     "output_type": "stream",
     "text": [
      "max_pooling2d\n"
     ]
    },
    {
     "data": {
      "image/png": "[encoded data removed]",
      "text/plain": [
       "<Figure size 1440x1440 with 4 Axes>"
      ]
     },
     "metadata": {
      "needs_background": "light"
     },
     "output_type": "display_data"
    },
    {
     "name": "stdout",
     "output_type": "stream",
     "text": [
      "dropout\n"
     ]
    },
    {
     "data": {
      "image/png": "[encoded data removed]",
      "text/plain": [
       "<Figure size 1440x1440 with 4 Axes>"
      ]
     },
     "metadata": {
      "needs_background": "light"
     },
     "output_type": "display_data"
    },
    {
     "name": "stdout",
     "output_type": "stream",
     "text": [
      "conv2d_1\n"
     ]
    },
    {
     "data": {
      "image/png": "[encoded data removed]",
      "text/plain": [
       "<Figure size 1440x1440 with 4 Axes>"
      ]
     },
     "metadata": {
      "needs_background": "light"
     },
     "output_type": "display_data"
    },
    {
     "name": "stdout",
     "output_type": "stream",
     "text": [
      "max_pooling2d_1\n"
     ]
    },
    {
     "data": {
      "image/png": "[encoded data removed]",
      "text/plain": [
       "<Figure size 1440x1440 with 4 Axes>"
      ]
     },
     "metadata": {
      "needs_background": "light"
     },
     "output_type": "display_data"
    },
    {
     "name": "stdout",
     "output_type": "stream",
     "text": [
      "dropout_1\n"
     ]
    },
    {
     "data": {
      "image/png": "[encoded data removed]",
      "text/plain": [
       "<Figure size 1440x1440 with 4 Axes>"
      ]
     },
     "metadata": {
      "needs_background": "light"
     },
     "output_type": "display_data"
    }
   ],
   "source": [
    "for j in range(0,6):\n",
    "  activation_model = Model(inputs=model.inputs, outputs=model.layers[j].output)\n",
    "  activation = activation_model(img_tensor)\n",
    "  print(model.get_layer(index = j).name)\n",
    "  plt.figure(figsize=(20,20))\n",
    "\n",
    "  for i in range(4):\n",
    "      plt.subplot(4,4,i+1)\n",
    "\n",
    "      plt.imshow(activation[0,:,:,i])\n",
    "  plt.show()"
   ]
  },
  {
   "cell_type": "code",
   "execution_count": 20,
   "metadata": {
    "colab": {
     "base_uri": "https://localhost:8080/",
     "height": 607
    },
    "id": "R3yOBelY7kcb",
    "outputId": "5667565e-c138-4a91-980d-d8e6014eed96",
    "scrolled": false
   },
   "outputs": [
    {
     "name": "stdout",
     "output_type": "stream",
     "text": [
      "flatten\n",
      "tf.Tensor([[0. 0. 0. ... 0. 0. 0.]], shape=(1, 6272), dtype=float32)\n",
      "dense\n",
      "tf.Tensor(\n",
      "[[0.         0.         0.         0.6989893  3.7574599  2.4946404\n",
      "  2.599526   3.7245674  0.         0.         0.37161255 2.300953\n",
      "  4.2458425  0.         2.478123   0.         0.         0.\n",
      "  0.3180843  3.7542627  0.         1.6364425  0.65042543 0.\n",
      "  0.         3.4726806  0.         0.         0.         0.\n",
      "  0.         0.         0.         0.         0.26796144 0.\n",
      "  0.         0.         0.         0.         0.         0.\n",
      "  0.         0.         0.5969607  0.         2.5352678  0.\n",
      "  1.5551722  0.         2.5710034  0.         0.42336446 0.\n",
      "  2.484403   0.         0.         0.         0.11857319 0.3197306\n",
      "  0.         2.1517458  4.3773546  1.0045116  0.         1.2669185\n",
      "  2.8662007  0.         0.         3.7819164  0.         0.\n",
      "  3.289616   0.         0.         0.         1.2091012  0.\n",
      "  0.         0.         0.         0.         0.         0.7408356\n",
      "  0.43232477 0.         1.3064929  0.         0.         2.4462552\n",
      "  0.         1.7838198  1.5294482  0.         0.         0.07430513\n",
      "  2.7879949  0.         0.         0.         0.         4.095543\n",
      "  0.3843857  0.10711165 0.         0.19734369 1.2868464  0.7418509\n",
      "  0.         3.2689033  3.745204   0.         0.         0.\n",
      "  1.7076081  0.         0.84663826 2.0628788  0.9746207  0.\n",
      "  1.4111862  0.         0.         0.         0.         0.\n",
      "  0.         0.        ]], shape=(1, 128), dtype=float32)\n",
      "dropout_2\n",
      "tf.Tensor(\n",
      "[[0.         0.         0.         0.6989893  3.7574599  2.4946404\n",
      "  2.599526   3.7245674  0.         0.         0.37161255 2.300953\n",
      "  4.2458425  0.         2.478123   0.         0.         0.\n",
      "  0.3180843  3.7542627  0.         1.6364425  0.65042543 0.\n",
      "  0.         3.4726806  0.         0.         0.         0.\n",
      "  0.         0.         0.         0.         0.26796144 0.\n",
      "  0.         0.         0.         0.         0.         0.\n",
      "  0.         0.         0.5969607  0.         2.5352678  0.\n",
      "  1.5551722  0.         2.5710034  0.         0.42336446 0.\n",
      "  2.484403   0.         0.         0.         0.11857319 0.3197306\n",
      "  0.         2.1517458  4.3773546  1.0045116  0.         1.2669185\n",
      "  2.8662007  0.         0.         3.7819164  0.         0.\n",
      "  3.289616   0.         0.         0.         1.2091012  0.\n",
      "  0.         0.         0.         0.         0.         0.7408356\n",
      "  0.43232477 0.         1.3064929  0.         0.         2.4462552\n",
      "  0.         1.7838198  1.5294482  0.         0.         0.07430513\n",
      "  2.7879949  0.         0.         0.         0.         4.095543\n",
      "  0.3843857  0.10711165 0.         0.19734369 1.2868464  0.7418509\n",
      "  0.         3.2689033  3.745204   0.         0.         0.\n",
      "  1.7076081  0.         0.84663826 2.0628788  0.9746207  0.\n",
      "  1.4111862  0.         0.         0.         0.         0.\n",
      "  0.         0.        ]], shape=(1, 128), dtype=float32)\n",
      "dense_1\n",
      "tf.Tensor([[2.9784387e-05]], shape=(1, 1), dtype=float32)\n"
     ]
    },
    {
     "data": {
      "text/plain": [
       "<Figure size 1440x1440 with 0 Axes>"
      ]
     },
     "metadata": {},
     "output_type": "display_data"
    },
    {
     "data": {
      "text/plain": [
       "<Figure size 1440x1440 with 0 Axes>"
      ]
     },
     "metadata": {},
     "output_type": "display_data"
    },
    {
     "data": {
      "text/plain": [
       "<Figure size 1440x1440 with 0 Axes>"
      ]
     },
     "metadata": {},
     "output_type": "display_data"
    },
    {
     "data": {
      "text/plain": [
       "<Figure size 1440x1440 with 0 Axes>"
      ]
     },
     "metadata": {},
     "output_type": "display_data"
    }
   ],
   "source": [
    "for j in range(6,10):\n",
    "  activation_model = Model(inputs=model.inputs, outputs=model.layers[j].output)\n",
    "  activation = activation_model(img_tensor)\n",
    "  print(model.get_layer(index = j).name)\n",
    "  plt.figure(figsize=(20,20))\n",
    "  print(activation)"
   ]
  },
  {
   "cell_type": "code",
   "execution_count": 21,
   "metadata": {
    "colab": {
     "base_uri": "https://localhost:8080/",
     "height": 268
    },
    "id": "wutJ9Ggsjgxv",
    "outputId": "332d2047-91b6-4063-b30f-88715eaeb1f5",
    "scrolled": false
   },
   "outputs": [
    {
     "name": "stdout",
     "output_type": "stream",
     "text": [
      "1/1 [==============================] - 0s 85ms/step\n"
     ]
    },
    {
     "data": {
      "image/png": "[encoded data removed]",
      "text/plain": [
       "<Figure size 432x288 with 1 Axes>"
      ]
     },
     "metadata": {
      "needs_background": "light"
     },
     "output_type": "display_data"
    }
   ],
   "source": [
    "image_path=\"C:/Users/TUSHAR/Desktop/malaria/predict/C33P1thinF_IMG_20150619_121229a_cell_179.png\"\n",
    "img = tf.keras.preprocessing.image.load_img(image_path, target_size=(64, 64))\n",
    "plt.imshow(img)\n",
    "img = np.expand_dims(img, axis=0)\n",
    "predictions = (model.predict(img) > 0.5).astype(\"int32\")\n",
    "plt.show()"
   ]
  },
  {
   "cell_type": "code",
   "execution_count": 22,
   "metadata": {
    "colab": {
     "base_uri": "https://localhost:8080/",
     "height": 1000
    },
    "id": "S36-7UcqOXEF",
    "outputId": "e851a11f-a429-4b51-ee1f-b9c95231172e",
    "scrolled": false
   },
   "outputs": [
    {
     "name": "stdout",
     "output_type": "stream",
     "text": [
      "conv2d\n"
     ]
    },
    {
     "data": {
      "image/png": "[encoded data removed]",
      "text/plain": [
       "<Figure size 1440x1440 with 1 Axes>"
      ]
     },
     "metadata": {
      "needs_background": "light"
     },
     "output_type": "display_data"
    },
    {
     "name": "stdout",
     "output_type": "stream",
     "text": [
      "max_pooling2d\n"
     ]
    },
    {
     "data": {
      "image/png": "[encoded data removed]",
      "text/plain": [
       "<Figure size 1440x1440 with 1 Axes>"
      ]
     },
     "metadata": {
      "needs_background": "light"
     },
     "output_type": "display_data"
    },
    {
     "name": "stdout",
     "output_type": "stream",
     "text": [
      "dropout\n"
     ]
    },
    {
     "data": {
      "image/png": "[encoded data removed]",
      "text/plain": [
       "<Figure size 1440x1440 with 1 Axes>"
      ]
     },
     "metadata": {
      "needs_background": "light"
     },
     "output_type": "display_data"
    },
    {
     "name": "stdout",
     "output_type": "stream",
     "text": [
      "conv2d_1\n"
     ]
    },
    {
     "data": {
      "image/png": "[encoded data removed]",
      "text/plain": [
       "<Figure size 1440x1440 with 1 Axes>"
      ]
     },
     "metadata": {
      "needs_background": "light"
     },
     "output_type": "display_data"
    },
    {
     "name": "stdout",
     "output_type": "stream",
     "text": [
      "max_pooling2d_1\n"
     ]
    },
    {
     "data": {
      "image/png": "[encoded data removed]",
      "text/plain": [
       "<Figure size 1440x1440 with 1 Axes>"
      ]
     },
     "metadata": {
      "needs_background": "light"
     },
     "output_type": "display_data"
    },
    {
     "name": "stdout",
     "output_type": "stream",
     "text": [
      "dropout_1\n"
     ]
    },
    {
     "data": {
      "image/png": "[encoded data removed]",
      "text/plain": [
       "<Figure size 1440x1440 with 1 Axes>"
      ]
     },
     "metadata": {
      "needs_background": "light"
     },
     "output_type": "display_data"
    },
    {
     "name": "stdout",
     "output_type": "stream",
     "text": [
      "flatten\n",
      "tf.Tensor([[0. 0. 0. ... 0. 0. 0.]], shape=(1, 6272), dtype=float32)\n",
      "dense\n",
      "tf.Tensor(\n",
      "[[1.6443996  0.         0.         0.         1.2934663  0.\n",
      "  0.         2.3498003  0.         0.         0.         0.\n",
      "  0.         0.         1.2479542  0.         0.         1.8805878\n",
      "  0.         4.2225738  0.         0.         3.1180644  0.\n",
      "  0.00604232 0.6309434  0.         0.         0.         0.\n",
      "  0.19713661 0.         0.         2.399567   0.         0.\n",
      "  0.         0.         0.         0.         0.         0.\n",
      "  0.         0.         0.         0.         0.         0.\n",
      "  0.         0.         0.         0.         0.         0.\n",
      "  0.         0.         0.         0.         3.5418851  0.\n",
      "  0.         0.         2.0200012  0.         0.         0.\n",
      "  2.982713   0.         0.         2.5675266  0.         0.\n",
      "  0.         0.         0.         0.         0.         0.\n",
      "  2.9491456  0.         2.026548   0.         0.         4.6895604\n",
      "  0.         0.         0.         1.4225447  0.         0.\n",
      "  0.         0.         0.         0.         0.         0.\n",
      "  0.         0.         0.         2.050062   0.         4.0244837\n",
      "  0.33301085 0.         0.         0.         0.         0.\n",
      "  0.         0.         3.1728938  0.         0.         0.\n",
      "  3.6556385  3.6292605  4.029488   0.         0.         0.\n",
      "  0.         0.         0.         0.         0.         4.4009333\n",
      "  0.         0.        ]], shape=(1, 128), dtype=float32)\n",
      "dropout_2\n",
      "tf.Tensor(\n",
      "[[1.6443996  0.         0.         0.         1.2934663  0.\n",
      "  0.         2.3498003  0.         0.         0.         0.\n",
      "  0.         0.         1.2479542  0.         0.         1.8805878\n",
      "  0.         4.2225738  0.         0.         3.1180644  0.\n",
      "  0.00604232 0.6309434  0.         0.         0.         0.\n",
      "  0.19713661 0.         0.         2.399567   0.         0.\n",
      "  0.         0.         0.         0.         0.         0.\n",
      "  0.         0.         0.         0.         0.         0.\n",
      "  0.         0.         0.         0.         0.         0.\n",
      "  0.         0.         0.         0.         3.5418851  0.\n",
      "  0.         0.         2.0200012  0.         0.         0.\n",
      "  2.982713   0.         0.         2.5675266  0.         0.\n",
      "  0.         0.         0.         0.         0.         0.\n",
      "  2.9491456  0.         2.026548   0.         0.         4.6895604\n",
      "  0.         0.         0.         1.4225447  0.         0.\n",
      "  0.         0.         0.         0.         0.         0.\n",
      "  0.         0.         0.         2.050062   0.         4.0244837\n",
      "  0.33301085 0.         0.         0.         0.         0.\n",
      "  0.         0.         3.1728938  0.         0.         0.\n",
      "  3.6556385  3.6292605  4.029488   0.         0.         0.\n",
      "  0.         0.         0.         0.         0.         4.4009333\n",
      "  0.         0.        ]], shape=(1, 128), dtype=float32)\n",
      "dense_1\n",
      "tf.Tensor([[7.9671874e-05]], shape=(1, 1), dtype=float32)\n",
      "-------------Parasitized-------------\n"
     ]
    },
    {
     "data": {
      "text/plain": [
       "<Figure size 1440x1440 with 0 Axes>"
      ]
     },
     "metadata": {},
     "output_type": "display_data"
    },
    {
     "data": {
      "text/plain": [
       "<Figure size 1440x1440 with 0 Axes>"
      ]
     },
     "metadata": {},
     "output_type": "display_data"
    },
    {
     "data": {
      "text/plain": [
       "<Figure size 1440x1440 with 0 Axes>"
      ]
     },
     "metadata": {},
     "output_type": "display_data"
    },
    {
     "data": {
      "text/plain": [
       "<Figure size 1440x1440 with 0 Axes>"
      ]
     },
     "metadata": {},
     "output_type": "display_data"
    }
   ],
   "source": [
    "img = tf.keras.preprocessing.image.load_img(image_path, target_size=(64,64))\n",
    "img_tensor = img_to_array(img)\n",
    "img_tensor = np.expand_dims(img_tensor, axis=0)\n",
    "img_tensor /= 255.\n",
    "# for j in range(0,1):\n",
    "#   activation_model = Model(inputs=model.inputs, outputs=model.layers[6].output)\n",
    "#   activation = activation_model(img_tensor)\n",
    "#   print(model.get_layer(index = 6).name)\n",
    "#   plt.figure(figsize=(20,20))\n",
    "#   print(activation)\n",
    "for j in range(0,6):\n",
    "  activation_model = Model(inputs=model.inputs, outputs=model.layers[j].output)\n",
    "  activation = activation_model(img_tensor)\n",
    "  print(model.get_layer(index = j).name)\n",
    "  plt.figure(figsize=(20,20))\n",
    "\n",
    "  for i in range(1):\n",
    "      plt.subplot(4,4,i+1)\n",
    "\n",
    "      plt.imshow(activation[0,:,:,i])\n",
    "  plt.show()\n",
    "for j in range(6,10):\n",
    "  activation_model = Model(inputs=model.inputs, outputs=model.layers[j].output)\n",
    "  activation = activation_model(img_tensor)\n",
    "  print(model.get_layer(index = j).name)\n",
    "  plt.figure(figsize=(20,20))\n",
    "  print(activation)\n",
    "if(predictions[0]==1):\n",
    "  print(\" -------------Uninfected-------------\")\n",
    "else :\n",
    "  print(\"-------------Parasitized-------------\")"
   ]
  }
 ],
 "metadata": {
  "accelerator": "TPU",
  "colab": {
   "collapsed_sections": [],
   "name": "Copy of Untitled",
   "provenance": []
  },
  "kernelspec": {
   "display_name": "Python 3 (ipykernel)",
   "language": "python",
   "name": "python3"
  },
  "language_info": {
   "codemirror_mode": {
    "name": "ipython",
    "version": 3
   },
   "file_extension": ".py",
   "mimetype": "text/x-python",
   "name": "python",
   "nbconvert_exporter": "python",
   "pygments_lexer": "ipython3",
   "version": "3.8.11"
  }
 },
 "nbformat": 4,
 "nbformat_minor": 1
}
