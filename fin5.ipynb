{
 "cells": [
  {
   "cell_type": "code",
   "execution_count": 1,
   "metadata": {
    "colab": {
     "base_uri": "https://localhost:8080/"
    },
    "collapsed": true,
    "id": "vEH8xELycO_S",
    "outputId": "2e77b39f-8c55-48c0-b2d6-3ac93cb586b1"
   },
   "outputs": [
    {
     "name": "stdout",
     "output_type": "stream",
     "text": [
      "Requirement already satisfied: keras-metrics in c:\\users\\tushar\\.conda\\envs\\project1\\lib\\site-packages (1.1.0)\n",
      "Requirement already satisfied: Keras>=2.1.5 in c:\\users\\tushar\\.conda\\envs\\project1\\lib\\site-packages (from keras-metrics) (2.9.0)\n",
      "Requirement already satisfied: pandas in c:\\users\\tushar\\.conda\\envs\\project1\\lib\\site-packages (1.4.2)\n",
      "Requirement already satisfied: pytz>=2020.1 in c:\\users\\tushar\\.conda\\envs\\project1\\lib\\site-packages (from pandas) (2022.1)\n",
      "Requirement already satisfied: python-dateutil>=2.8.1 in c:\\users\\tushar\\.conda\\envs\\project1\\lib\\site-packages (from pandas) (2.8.2)\n",
      "Requirement already satisfied: numpy>=1.18.5 in c:\\users\\tushar\\.conda\\envs\\project1\\lib\\site-packages (from pandas) (1.21.2)\n",
      "Requirement already satisfied: six>=1.5 in c:\\users\\tushar\\.conda\\envs\\project1\\lib\\site-packages (from python-dateutil>=2.8.1->pandas) (1.16.0)\n"
     ]
    }
   ],
   "source": [
    "!pip install keras-metrics\n",
    "!pip install pandas"
   ]
  },
  {
   "cell_type": "code",
   "execution_count": 2,
   "metadata": {
    "colab": {
     "base_uri": "https://localhost:8080/"
    },
    "id": "X9Y5JK8Iw9bV",
    "outputId": "90848da4-6beb-49e9-ba7e-def5fce5ac09"
   },
   "outputs": [
    {
     "name": "stdout",
     "output_type": "stream",
     "text": [
      "2.9.0\n"
     ]
    }
   ],
   "source": [
    "import tensorflow as tf\n",
    "from tensorflow.keras import Sequential\n",
    "from tensorflow.keras.layers import Flatten , Dense , Conv2D , MaxPool2D ,  Dropout, Activation\n",
    "from tensorflow.keras.preprocessing.image import ImageDataGenerator,img_to_array, load_img\n",
    "from keras.preprocessing import image\n",
    "from tensorflow.keras.models import Model\n",
    "import PIL\n",
    "import PIL.Image\n",
    "from PIL import Image\n",
    "import cv2\n",
    "from numpy import asarray\n",
    "import numpy\n",
    "import pandas as pd\n",
    "\n",
    "import keras_metrics\n",
    "print(tf.__version__)"
   ]
  },
  {
   "cell_type": "code",
   "execution_count": 3,
   "metadata": {
    "id": "D2LYD57hyPh8"
   },
   "outputs": [],
   "source": [
    "import numpy as np\n",
    "import matplotlib.pyplot as plt\n"
   ]
  },
  {
   "cell_type": "code",
   "execution_count": 4,
   "metadata": {
    "id": "ouduim4ezKRa"
   },
   "outputs": [],
   "source": [
    "img_width = 64\n",
    "img_height = 64"
   ]
  },
  {
   "cell_type": "code",
   "execution_count": 5,
   "metadata": {
    "id": "muJZBLi8zXAR"
   },
   "outputs": [],
   "source": [
    "datagen = ImageDataGenerator(rescale=1/255.0, validation_split=0.4)\n",
    "\n"
   ]
  },
  {
   "cell_type": "code",
   "execution_count": 6,
   "metadata": {
    "colab": {
     "base_uri": "https://localhost:8080/"
    },
    "id": "KSUsOE9dzg-6",
    "outputId": "c7481f0c-56da-45c0-9b0d-e5b78c5cab31"
   },
   "outputs": [
    {
     "name": "stdout",
     "output_type": "stream",
     "text": [
      "Found 16536 images belonging to 2 classes.\n"
     ]
    }
   ],
   "source": [
    "train_data_generator = datagen.flow_from_directory(directory='C:/Users/TUSHAR/malaria/cell_images',\n",
    "                          target_size = (img_width, img_height),\n",
    "                                                   class_mode = 'binary',\n",
    "                                                   batch_size = 16,\n",
    "                                                   subset = 'training'\n",
    "                                                   \n",
    "                                                   )            "
   ]
  },
  {
   "cell_type": "code",
   "execution_count": 7,
   "metadata": {
    "colab": {
     "base_uri": "https://localhost:8080/"
    },
    "id": "vgKR8c8t0Zeu",
    "outputId": "3d68a0b9-c49e-46b6-e745-62502fe5343d"
   },
   "outputs": [
    {
     "name": "stdout",
     "output_type": "stream",
     "text": [
      "Found 11022 images belonging to 2 classes.\n"
     ]
    }
   ],
   "source": [
    "validation_data_generator = datagen.flow_from_directory(directory='C:/Users/TUSHAR/malaria/cell_images',\n",
    "                                                   target_size = (img_width, img_height),\n",
    "                                                   class_mode = 'binary',\n",
    "                                                   batch_size = 16,\n",
    "                                                   subset = 'validation'\n",
    "                                                   \n",
    "                                                   )"
   ]
  },
  {
   "cell_type": "code",
   "execution_count": 8,
   "metadata": {
    "colab": {
     "base_uri": "https://localhost:8080/",
     "height": 149
    },
    "id": "JvaAQGK0aQ-3",
    "outputId": "e3a81670-a122-4959-e1fd-24287b8e3127"
   },
   "outputs": [
    {
     "name": "stdout",
     "output_type": "stream",
     "text": [
      "Parasitized Cell :\n"
     ]
    },
    {
     "data": {
      "image/png": "[encoded data removed]",
      "text/plain": [
       "<PIL.PngImagePlugin.PngImageFile image mode=RGB size=121x115 at 0x27674D941C0>"
      ]
     },
     "execution_count": 8,
     "metadata": {},
     "output_type": "execute_result"
    }
   ],
   "source": [
    "path1 = \"C:/Users/TUSHAR/malaria/cell_images/Parasitized/C100P61ThinF_IMG_20150918_144823_cell_162.png\"\n",
    "Load_image1 = tf.keras.preprocessing.image.load_img(path1)\n",
    "print(\"Parasitized Cell :\")\n",
    "Load_image1\n",
    "\n"
   ]
  },
  {
   "cell_type": "code",
   "execution_count": 9,
   "metadata": {
    "colab": {
     "base_uri": "https://localhost:8080/",
     "height": 170
    },
    "id": "4zcsnhshex49",
    "outputId": "d82470b3-88fe-423a-8abf-65c167b2b034"
   },
   "outputs": [
    {
     "name": "stdout",
     "output_type": "stream",
     "text": [
      "Uninfected Cell :\n"
     ]
    },
    {
     "data": {
      "image/png": "[encoded data removed]",
      "text/plain": [
       "<PIL.PngImagePlugin.PngImageFile image mode=RGB size=145x136 at 0x27674D9CC70>"
      ]
     },
     "execution_count": 9,
     "metadata": {},
     "output_type": "execute_result"
    }
   ],
   "source": [
    "path2 = \"C:/Users/TUSHAR/malaria/cell_images/Uninfected/C100P61ThinF_IMG_20150918_144104_cell_131.png\"\n",
    "print(\"Uninfected Cell :\")\n",
    "Load_image2 = tf.keras.preprocessing.image.load_img(path2)\n",
    "Load_image2"
   ]
  },
  {
   "cell_type": "code",
   "execution_count": 10,
   "metadata": {
    "colab": {
     "base_uri": "https://localhost:8080/"
    },
    "id": "xM8DXxg-uHAV",
    "outputId": "4920b423-7d01-4970-f9f3-2654301e59c2"
   },
   "outputs": [
    {
     "data": {
      "text/plain": [
       "array([0, 0, 0, ..., 1, 1, 1])"
      ]
     },
     "execution_count": 10,
     "metadata": {},
     "output_type": "execute_result"
    }
   ],
   "source": [
    "train_data_generator.labels"
   ]
  },
  {
   "cell_type": "markdown",
   "metadata": {
    "id": "yDzgtu_J0wCV"
   },
   "source": [
    "# CNN model"
   ]
  },
  {
   "cell_type": "code",
   "execution_count": 11,
   "metadata": {
    "colab": {
     "base_uri": "https://localhost:8080/"
    },
    "id": "_OKNXTUI023E",
    "outputId": "e08e8acb-966e-467b-f4d6-d7f57052cc98"
   },
   "outputs": [
    {
     "name": "stdout",
     "output_type": "stream",
     "text": [
      "Model: \"sequential\"\n",
      "_________________________________________________________________\n",
      " Layer (type)                Output Shape              Param #   \n",
      "=================================================================\n",
      " conv2d (Conv2D)             (None, 62, 62, 32)        896       \n",
      "                                                                 \n",
      " max_pooling2d (MaxPooling2D  (None, 31, 31, 32)       0         \n",
      " )                                                               \n",
      "                                                                 \n",
      " dropout (Dropout)           (None, 31, 31, 32)        0         \n",
      "                                                                 \n",
      " conv2d_1 (Conv2D)           (None, 29, 29, 32)        9248      \n",
      "                                                                 \n",
      " max_pooling2d_1 (MaxPooling  (None, 14, 14, 32)       0         \n",
      " 2D)                                                             \n",
      "                                                                 \n",
      " dropout_1 (Dropout)         (None, 14, 14, 32)        0         \n",
      "                                                                 \n",
      " conv2d_2 (Conv2D)           (None, 12, 12, 32)        9248      \n",
      "                                                                 \n",
      " max_pooling2d_2 (MaxPooling  (None, 6, 6, 32)         0         \n",
      " 2D)                                                             \n",
      "                                                                 \n",
      " dropout_2 (Dropout)         (None, 6, 6, 32)          0         \n",
      "                                                                 \n",
      " conv2d_3 (Conv2D)           (None, 4, 4, 16)          4624      \n",
      "                                                                 \n",
      " max_pooling2d_3 (MaxPooling  (None, 2, 2, 16)         0         \n",
      " 2D)                                                             \n",
      "                                                                 \n",
      " dropout_3 (Dropout)         (None, 2, 2, 16)          0         \n",
      "                                                                 \n",
      " flatten (Flatten)           (None, 64)                0         \n",
      "                                                                 \n",
      " dense (Dense)               (None, 64)                4160      \n",
      "                                                                 \n",
      " dropout_4 (Dropout)         (None, 64)                0         \n",
      "                                                                 \n",
      " dense_1 (Dense)             (None, 1)                 65        \n",
      "                                                                 \n",
      "=================================================================\n",
      "Total params: 28,241\n",
      "Trainable params: 28,241\n",
      "Non-trainable params: 0\n",
      "_________________________________________________________________\n"
     ]
    }
   ],
   "source": [
    "model = Sequential()\n",
    "\n",
    "model.add(Conv2D(32,(3,3), input_shape = (img_width,img_height,3), activation = \"relu\"))\n",
    "model.add(MaxPool2D(2,2))\n",
    "model.add(Dropout(0.2))\n",
    "model.add(Conv2D(32,(3,3), activation = \"relu\"))\n",
    "model.add(MaxPool2D(2,2))\n",
    "model.add(Dropout(0.2))\n",
    "model.add(Conv2D(32,(3,3), activation = \"relu\"))\n",
    "model.add(MaxPool2D(2,2))\n",
    "model.add(Dropout(0.2))\n",
    "model.add(Conv2D(16,(3,3), activation = \"relu\"))\n",
    "model.add(MaxPool2D(2,2))\n",
    "model.add(Dropout(0.3))\n",
    "model.add(Flatten())\n",
    "model.add(Dense(64, activation = \"relu\"))\n",
    "model.add(Dropout(0.5))\n",
    "\n",
    "model.add(Dense(1, activation = \"sigmoid\"))\n",
    "\n",
    "model.summary()"
   ]
  },
  {
   "cell_type": "code",
   "execution_count": 12,
   "metadata": {
    "id": "zQTc8VRg2RkP"
   },
   "outputs": [],
   "source": [
    "model.compile(optimizer='adam',loss='binary_crossentropy',metrics=[\"accuracy\",tf.keras.metrics.AUC(),\n",
    "          tf.keras.metrics.Precision(),tf.keras.metrics.Recall(), tf.keras.metrics.FalseNegatives(),\n",
    "          tf.keras.metrics.FalsePositives(),tf.keras.metrics.TrueNegatives(),tf.keras.metrics.TruePositives()])\n"
   ]
  },
  {
   "cell_type": "code",
   "execution_count": 13,
   "metadata": {
    "colab": {
     "base_uri": "https://localhost:8080/"
    },
    "id": "9_6L26VC2b5w",
    "outputId": "f78daf83-a6b1-4e64-d8ab-a946d92c6d71",
    "scrolled": false
   },
   "outputs": [
    {
     "name": "stdout",
     "output_type": "stream",
     "text": [
      "Epoch 1/15\n"
     ]
    },
    {
     "name": "stderr",
     "output_type": "stream",
     "text": [
      "C:\\Users\\TUSHAR\\AppData\\Local\\Temp/ipykernel_26044/2835613124.py:1: UserWarning: `Model.fit_generator` is deprecated and will be removed in a future version. Please use `Model.fit`, which supports generators.\n",
      "  history = model.fit_generator(generator=train_data_generator,\n"
     ]
    },
    {
     "name": "stdout",
     "output_type": "stream",
     "text": [
      "1034/1034 [==============================] - 47s 43ms/step - loss: 0.5925 - accuracy: 0.6375 - auc: 0.7226 - precision: 0.6367 - recall: 0.6407 - false_negatives: 2971.0000 - false_positives: 3023.0000 - true_negatives: 5245.0000 - true_positives: 5297.0000 - val_loss: 0.2110 - val_accuracy: 0.9268 - val_auc: 0.9771 - val_precision: 0.9099 - val_recall: 0.9474 - val_false_negatives: 290.0000 - val_false_positives: 517.0000 - val_true_negatives: 4994.0000 - val_true_positives: 5221.0000\n",
      "Epoch 2/15\n",
      "1034/1034 [==============================] - 115s 111ms/step - loss: 0.2073 - accuracy: 0.9372 - auc: 0.9700 - precision: 0.9266 - recall: 0.9497 - false_negatives: 416.0000 - false_positives: 622.0000 - true_negatives: 7646.0000 - true_positives: 7852.0000 - val_loss: 0.1632 - val_accuracy: 0.9517 - val_auc: 0.9809 - val_precision: 0.9326 - val_recall: 0.9739 - val_false_negatives: 144.0000 - val_false_positives: 388.0000 - val_true_negatives: 5123.0000 - val_true_positives: 5367.0000\n",
      "Epoch 3/15\n",
      "1034/1034 [==============================] - 154s 149ms/step - loss: 0.1830 - accuracy: 0.9450 - auc: 0.9743 - precision: 0.9398 - recall: 0.9509 - false_negatives: 406.0000 - false_positives: 504.0000 - true_negatives: 7764.0000 - true_positives: 7862.0000 - val_loss: 0.1595 - val_accuracy: 0.9489 - val_auc: 0.9853 - val_precision: 0.9390 - val_recall: 0.9603 - val_false_negatives: 219.0000 - val_false_positives: 344.0000 - val_true_negatives: 5167.0000 - val_true_positives: 5292.0000\n",
      "Epoch 4/15\n",
      "1034/1034 [==============================] - 153s 148ms/step - loss: 0.1714 - accuracy: 0.9494 - auc: 0.9776 - precision: 0.9432 - recall: 0.9565 - false_negatives: 360.0000 - false_positives: 476.0000 - true_negatives: 7792.0000 - true_positives: 7908.0000 - val_loss: 0.1493 - val_accuracy: 0.9533 - val_auc: 0.9844 - val_precision: 0.9459 - val_recall: 0.9615 - val_false_negatives: 212.0000 - val_false_positives: 303.0000 - val_true_negatives: 5208.0000 - val_true_positives: 5299.0000\n",
      "Epoch 5/15\n",
      "1034/1034 [==============================] - 154s 149ms/step - loss: 0.1625 - accuracy: 0.9511 - auc: 0.9791 - precision: 0.9446 - recall: 0.9584 - false_negatives: 344.0000 - false_positives: 465.0000 - true_negatives: 7803.0000 - true_positives: 7924.0000 - val_loss: 0.1706 - val_accuracy: 0.9478 - val_auc: 0.9796 - val_precision: 0.9274 - val_recall: 0.9717 - val_false_negatives: 156.0000 - val_false_positives: 419.0000 - val_true_negatives: 5092.0000 - val_true_positives: 5355.0000\n",
      "Epoch 6/15\n",
      "1034/1034 [==============================] - 987s 956ms/step - loss: 0.1563 - accuracy: 0.9537 - auc: 0.9811 - precision: 0.9447 - recall: 0.9637 - false_negatives: 300.0000 - false_positives: 466.0000 - true_negatives: 7802.0000 - true_positives: 7968.0000 - val_loss: 0.1625 - val_accuracy: 0.9479 - val_auc: 0.9808 - val_precision: 0.9344 - val_recall: 0.9635 - val_false_negatives: 201.0000 - val_false_positives: 373.0000 - val_true_negatives: 5138.0000 - val_true_positives: 5310.0000\n",
      "Epoch 7/15\n",
      "1034/1034 [==============================] - 37s 35ms/step - loss: 0.1565 - accuracy: 0.9530 - auc: 0.9806 - precision: 0.9437 - recall: 0.9635 - false_negatives: 302.0000 - false_positives: 475.0000 - true_negatives: 7793.0000 - true_positives: 7966.0000 - val_loss: 0.1570 - val_accuracy: 0.9532 - val_auc: 0.9843 - val_precision: 0.9325 - val_recall: 0.9771 - val_false_negatives: 126.0000 - val_false_positives: 390.0000 - val_true_negatives: 5121.0000 - val_true_positives: 5385.0000\n",
      "Epoch 8/15\n",
      "1034/1034 [==============================] - 37s 36ms/step - loss: 0.1507 - accuracy: 0.9531 - auc: 0.9829 - precision: 0.9442 - recall: 0.9632 - false_negatives: 304.0000 - false_positives: 471.0000 - true_negatives: 7797.0000 - true_positives: 7964.0000 - val_loss: 0.1498 - val_accuracy: 0.9538 - val_auc: 0.9842 - val_precision: 0.9493 - val_recall: 0.9588 - val_false_negatives: 227.0000 - val_false_positives: 282.0000 - val_true_negatives: 5229.0000 - val_true_positives: 5284.0000\n",
      "Epoch 9/15\n",
      "1034/1034 [==============================] - 58s 56ms/step - loss: 0.1496 - accuracy: 0.9543 - auc: 0.9827 - precision: 0.9442 - recall: 0.9657 - false_negatives: 284.0000 - false_positives: 472.0000 - true_negatives: 7796.0000 - true_positives: 7984.0000 - val_loss: 0.1581 - val_accuracy: 0.9460 - val_auc: 0.9840 - val_precision: 0.9464 - val_recall: 0.9456 - val_false_negatives: 300.0000 - val_false_positives: 295.0000 - val_true_negatives: 5216.0000 - val_true_positives: 5211.0000\n",
      "Epoch 10/15\n",
      "1034/1034 [==============================] - 153s 148ms/step - loss: 0.1475 - accuracy: 0.9542 - auc: 0.9835 - precision: 0.9463 - recall: 0.9631 - false_negatives: 305.0000 - false_positives: 452.0000 - true_negatives: 7816.0000 - true_positives: 7963.0000 - val_loss: 0.1402 - val_accuracy: 0.9535 - val_auc: 0.9861 - val_precision: 0.9415 - val_recall: 0.9670 - val_false_negatives: 182.0000 - val_false_positives: 331.0000 - val_true_negatives: 5180.0000 - val_true_positives: 5329.0000\n",
      "Epoch 11/15\n",
      "1034/1034 [==============================] - 40s 39ms/step - loss: 0.1413 - accuracy: 0.9543 - auc: 0.9851 - precision: 0.9466 - recall: 0.9630 - false_negatives: 306.0000 - false_positives: 449.0000 - true_negatives: 7819.0000 - true_positives: 7962.0000 - val_loss: 0.1857 - val_accuracy: 0.9433 - val_auc: 0.9841 - val_precision: 0.9192 - val_recall: 0.9721 - val_false_negatives: 154.0000 - val_false_positives: 471.0000 - val_true_negatives: 5040.0000 - val_true_positives: 5357.0000\n",
      "Epoch 12/15\n",
      "1034/1034 [==============================] - 37s 36ms/step - loss: 0.1398 - accuracy: 0.9543 - auc: 0.9856 - precision: 0.9471 - recall: 0.9624 - false_negatives: 311.0000 - false_positives: 444.0000 - true_negatives: 7824.0000 - true_positives: 7957.0000 - val_loss: 0.1603 - val_accuracy: 0.9537 - val_auc: 0.9853 - val_precision: 0.9359 - val_recall: 0.9742 - val_false_negatives: 142.0000 - val_false_positives: 368.0000 - val_true_negatives: 5143.0000 - val_true_positives: 5369.0000\n",
      "Epoch 13/15\n",
      "1034/1034 [==============================] - 37s 36ms/step - loss: 0.1432 - accuracy: 0.9552 - auc: 0.9852 - precision: 0.9461 - recall: 0.9655 - false_negatives: 285.0000 - false_positives: 455.0000 - true_negatives: 7813.0000 - true_positives: 7983.0000 - val_loss: 0.1390 - val_accuracy: 0.9546 - val_auc: 0.9864 - val_precision: 0.9440 - val_recall: 0.9666 - val_false_negatives: 184.0000 - val_false_positives: 316.0000 - val_true_negatives: 5195.0000 - val_true_positives: 5327.0000\n",
      "Epoch 14/15\n",
      "1034/1034 [==============================] - 38s 36ms/step - loss: 0.1401 - accuracy: 0.9559 - auc: 0.9857 - precision: 0.9489 - recall: 0.9636 - false_negatives: 301.0000 - false_positives: 429.0000 - true_negatives: 7839.0000 - true_positives: 7967.0000 - val_loss: 0.1449 - val_accuracy: 0.9530 - val_auc: 0.9861 - val_precision: 0.9427 - val_recall: 0.9646 - val_false_negatives: 195.0000 - val_false_positives: 323.0000 - val_true_negatives: 5188.0000 - val_true_positives: 5316.0000\n",
      "Epoch 15/15\n",
      "1034/1034 [==============================] - 38s 36ms/step - loss: 0.1372 - accuracy: 0.9565 - auc: 0.9861 - precision: 0.9461 - recall: 0.9681 - false_negatives: 264.0000 - false_positives: 456.0000 - true_negatives: 7812.0000 - true_positives: 8004.0000 - val_loss: 0.1467 - val_accuracy: 0.9534 - val_auc: 0.9869 - val_precision: 0.9358 - val_recall: 0.9735 - val_false_negatives: 146.0000 - val_false_positives: 368.0000 - val_true_negatives: 5143.0000 - val_true_positives: 5365.0000\n"
     ]
    }
   ],
   "source": [
    "history = model.fit_generator(generator=train_data_generator,\n",
    "                              steps_per_epoch = len(train_data_generator),\n",
    "                              epochs = 15,\n",
    "                              validation_data = validation_data_generator,\n",
    "                              validation_steps = len(validation_data_generator))"
   ]
  },
  {
   "cell_type": "code",
   "execution_count": 14,
   "metadata": {
    "colab": {
     "base_uri": "https://localhost:8080/"
    },
    "id": "9yW-mrfu5hXI",
    "outputId": "a7e194ac-9fa6-48bc-bbb8-c4cffd5bf2db",
    "scrolled": false
   },
   "outputs": [
    {
     "data": {
      "text/plain": [
       "{'loss': [0.5925003290176392,\n",
       "  0.2073080986738205,\n",
       "  0.18299727141857147,\n",
       "  0.17136280238628387,\n",
       "  0.16246262192726135,\n",
       "  0.15627652406692505,\n",
       "  0.15653173625469208,\n",
       "  0.1506912261247635,\n",
       "  0.1495995968580246,\n",
       "  0.14747025072574615,\n",
       "  0.14126525819301605,\n",
       "  0.13982252776622772,\n",
       "  0.14324334263801575,\n",
       "  0.14005713164806366,\n",
       "  0.13722239434719086],\n",
       " 'accuracy': [0.6375181674957275,\n",
       "  0.9372278451919556,\n",
       "  0.944968581199646,\n",
       "  0.9494436383247375,\n",
       "  0.9510764479637146,\n",
       "  0.9536768198013306,\n",
       "  0.9530116319656372,\n",
       "  0.9531325697898865,\n",
       "  0.9542815685272217,\n",
       "  0.9542210698127747,\n",
       "  0.9543420672416687,\n",
       "  0.9543420672416687,\n",
       "  0.9552491307258606,\n",
       "  0.9558538794517517,\n",
       "  0.9564586281776428],\n",
       " 'auc': [0.7225903868675232,\n",
       "  0.9699746370315552,\n",
       "  0.9743315577507019,\n",
       "  0.977586030960083,\n",
       "  0.9790657162666321,\n",
       "  0.981111466884613,\n",
       "  0.9805517196655273,\n",
       "  0.9828821420669556,\n",
       "  0.9827377200126648,\n",
       "  0.9835131764411926,\n",
       "  0.985148012638092,\n",
       "  0.9856280088424683,\n",
       "  0.985233724117279,\n",
       "  0.9856865406036377,\n",
       "  0.9860776662826538],\n",
       " 'precision': [0.6366586685180664,\n",
       "  0.9265990257263184,\n",
       "  0.9397561550140381,\n",
       "  0.9432252049446106,\n",
       "  0.9445702433586121,\n",
       "  0.9447474479675293,\n",
       "  0.9437270760536194,\n",
       "  0.9441612362861633,\n",
       "  0.9441816210746765,\n",
       "  0.9462863802909851,\n",
       "  0.9466175436973572,\n",
       "  0.9471491575241089,\n",
       "  0.946077287197113,\n",
       "  0.9489042162895203,\n",
       "  0.9460992813110352],\n",
       " 'recall': [0.6406627893447876,\n",
       "  0.9496855139732361,\n",
       "  0.9508950114250183,\n",
       "  0.9564586281776428,\n",
       "  0.9583938121795654,\n",
       "  0.9637155532836914,\n",
       "  0.9634736180305481,\n",
       "  0.9632317423820496,\n",
       "  0.9656506776809692,\n",
       "  0.9631108045578003,\n",
       "  0.962989866733551,\n",
       "  0.9623851180076599,\n",
       "  0.96552973985672,\n",
       "  0.9635945558547974,\n",
       "  0.9680696725845337],\n",
       " 'false_negatives': [2971.0,\n",
       "  416.0,\n",
       "  406.0,\n",
       "  360.0,\n",
       "  344.0,\n",
       "  300.0,\n",
       "  302.0,\n",
       "  304.0,\n",
       "  284.0,\n",
       "  305.0,\n",
       "  306.0,\n",
       "  311.0,\n",
       "  285.0,\n",
       "  301.0,\n",
       "  264.0],\n",
       " 'false_positives': [3023.0,\n",
       "  622.0,\n",
       "  504.0,\n",
       "  476.0,\n",
       "  465.0,\n",
       "  466.0,\n",
       "  475.0,\n",
       "  471.0,\n",
       "  472.0,\n",
       "  452.0,\n",
       "  449.0,\n",
       "  444.0,\n",
       "  455.0,\n",
       "  429.0,\n",
       "  456.0],\n",
       " 'true_negatives': [5245.0,\n",
       "  7646.0,\n",
       "  7764.0,\n",
       "  7792.0,\n",
       "  7803.0,\n",
       "  7802.0,\n",
       "  7793.0,\n",
       "  7797.0,\n",
       "  7796.0,\n",
       "  7816.0,\n",
       "  7819.0,\n",
       "  7824.0,\n",
       "  7813.0,\n",
       "  7839.0,\n",
       "  7812.0],\n",
       " 'true_positives': [5297.0,\n",
       "  7852.0,\n",
       "  7862.0,\n",
       "  7908.0,\n",
       "  7924.0,\n",
       "  7968.0,\n",
       "  7966.0,\n",
       "  7964.0,\n",
       "  7984.0,\n",
       "  7963.0,\n",
       "  7962.0,\n",
       "  7957.0,\n",
       "  7983.0,\n",
       "  7967.0,\n",
       "  8004.0],\n",
       " 'val_loss': [0.21098165214061737,\n",
       "  0.16319577395915985,\n",
       "  0.15952125191688538,\n",
       "  0.14925430715084076,\n",
       "  0.17061597108840942,\n",
       "  0.16245627403259277,\n",
       "  0.1570000946521759,\n",
       "  0.14977559447288513,\n",
       "  0.1580927073955536,\n",
       "  0.14022107422351837,\n",
       "  0.18574246764183044,\n",
       "  0.16033697128295898,\n",
       "  0.13903620839118958,\n",
       "  0.14487704634666443,\n",
       "  0.14669105410575867],\n",
       " 'val_accuracy': [0.9267827868461609,\n",
       "  0.951732873916626,\n",
       "  0.9489203691482544,\n",
       "  0.9532752633094788,\n",
       "  0.9478316307067871,\n",
       "  0.9479223489761353,\n",
       "  0.9531845450401306,\n",
       "  0.9538196325302124,\n",
       "  0.9460170865058899,\n",
       "  0.953456699848175,\n",
       "  0.9432952404022217,\n",
       "  0.9537289142608643,\n",
       "  0.9546361565589905,\n",
       "  0.9530031085014343,\n",
       "  0.9533659815788269],\n",
       " 'val_auc': [0.9770681858062744,\n",
       "  0.9809232950210571,\n",
       "  0.9852861762046814,\n",
       "  0.9843824505805969,\n",
       "  0.9796409606933594,\n",
       "  0.9808295369148254,\n",
       "  0.984326183795929,\n",
       "  0.9842175245285034,\n",
       "  0.9839803576469421,\n",
       "  0.9860989451408386,\n",
       "  0.9841402173042297,\n",
       "  0.9852768778800964,\n",
       "  0.9863901734352112,\n",
       "  0.986088216304779,\n",
       "  0.9869260191917419],\n",
       " 'val_precision': [0.9098989367485046,\n",
       "  0.9325803518295288,\n",
       "  0.9389638304710388,\n",
       "  0.9459121823310852,\n",
       "  0.9274333119392395,\n",
       "  0.9343656301498413,\n",
       "  0.932467520236969,\n",
       "  0.9493352770805359,\n",
       "  0.9464221000671387,\n",
       "  0.9415194392204285,\n",
       "  0.9191832542419434,\n",
       "  0.935854971408844,\n",
       "  0.9440014362335205,\n",
       "  0.942720353603363,\n",
       "  0.9358102083206177],\n",
       " 'val_recall': [0.9473779797554016,\n",
       "  0.9738704562187195,\n",
       "  0.9602612853050232,\n",
       "  0.9615314602851868,\n",
       "  0.9716929793357849,\n",
       "  0.963527500629425,\n",
       "  0.9771366119384766,\n",
       "  0.9588096737861633,\n",
       "  0.9455634355545044,\n",
       "  0.9669751524925232,\n",
       "  0.9720559120178223,\n",
       "  0.9742333292961121,\n",
       "  0.9666122198104858,\n",
       "  0.9646162390708923,\n",
       "  0.9735075235366821],\n",
       " 'val_false_negatives': [290.0,\n",
       "  144.0,\n",
       "  219.0,\n",
       "  212.0,\n",
       "  156.0,\n",
       "  201.0,\n",
       "  126.0,\n",
       "  227.0,\n",
       "  300.0,\n",
       "  182.0,\n",
       "  154.0,\n",
       "  142.0,\n",
       "  184.0,\n",
       "  195.0,\n",
       "  146.0],\n",
       " 'val_false_positives': [517.0,\n",
       "  388.0,\n",
       "  344.0,\n",
       "  303.0,\n",
       "  419.0,\n",
       "  373.0,\n",
       "  390.0,\n",
       "  282.0,\n",
       "  295.0,\n",
       "  331.0,\n",
       "  471.0,\n",
       "  368.0,\n",
       "  316.0,\n",
       "  323.0,\n",
       "  368.0],\n",
       " 'val_true_negatives': [4994.0,\n",
       "  5123.0,\n",
       "  5167.0,\n",
       "  5208.0,\n",
       "  5092.0,\n",
       "  5138.0,\n",
       "  5121.0,\n",
       "  5229.0,\n",
       "  5216.0,\n",
       "  5180.0,\n",
       "  5040.0,\n",
       "  5143.0,\n",
       "  5195.0,\n",
       "  5188.0,\n",
       "  5143.0],\n",
       " 'val_true_positives': [5221.0,\n",
       "  5367.0,\n",
       "  5292.0,\n",
       "  5299.0,\n",
       "  5355.0,\n",
       "  5310.0,\n",
       "  5385.0,\n",
       "  5284.0,\n",
       "  5211.0,\n",
       "  5329.0,\n",
       "  5357.0,\n",
       "  5369.0,\n",
       "  5327.0,\n",
       "  5316.0,\n",
       "  5365.0]}"
      ]
     },
     "execution_count": 14,
     "metadata": {},
     "output_type": "execute_result"
    }
   ],
   "source": [
    "history.history"
   ]
  },
  {
   "cell_type": "markdown",
   "metadata": {
    "id": "b-3-mdNOOdG3"
   },
   "source": [
    "Plotting Graphs and Outputs"
   ]
  },
  {
   "cell_type": "code",
   "execution_count": 15,
   "metadata": {
    "id": "WKEx_Yt05nZa"
   },
   "outputs": [],
   "source": [
    "def plot_learningCurve(history,epoch):\n",
    "  #plot learning and validation accuracy values\n",
    "  epoch_range=range(1,epoch+1)\n",
    "  plt.plot(epoch_range,history.history['accuracy'])\n",
    "  plt.plot(epoch_range,history.history['val_accuracy'])\n",
    "  plt.title(\"Model accuracy\")\n",
    "  plt.ylabel(\"Accuracy\")\n",
    "  plt.xlabel(\"Epoch\")\n",
    "  plt.legend(['Train','Val'], loc = 'upper left')\n",
    "  plt.show()\n",
    "\n",
    "   #plot learning and validation loss values\n",
    "  plt.plot(epoch_range,history.history['loss'])\n",
    "  plt.plot(epoch_range,history.history['val_loss'])\n",
    "  plt.title(\"Model loss\")\n",
    "  plt.ylabel(\"loss\")\n",
    "  plt.xlabel(\"Epoch\")\n",
    "  plt.legend(['Train','Val'], loc = 'upper left')\n",
    "  plt.show()"
   ]
  },
  {
   "cell_type": "code",
   "execution_count": 16,
   "metadata": {
    "colab": {
     "base_uri": "https://localhost:8080/",
     "height": 573
    },
    "id": "9XG7RUHj6wo8",
    "outputId": "b1b3c3d0-686d-4974-a39c-465d7e87fe84"
   },
   "outputs": [
    {
     "data": {
      "image/png": "[encoded data removed]",
      "text/plain": [
       "<Figure size 432x288 with 1 Axes>"
      ]
     },
     "metadata": {
      "needs_background": "light"
     },
     "output_type": "display_data"
    },
    {
     "data": {
      "image/png": "[encoded data removed]",
      "text/plain": [
       "<Figure size 432x288 with 1 Axes>"
      ]
     },
     "metadata": {
      "needs_background": "light"
     },
     "output_type": "display_data"
    }
   ],
   "source": [
    "plot_learningCurve(history,15)"
   ]
  },
  {
   "cell_type": "code",
   "execution_count": 17,
   "metadata": {
    "id": "euxuomiB7eWK"
   },
   "outputs": [],
   "source": [
    "img_path=r\"C:/Users/TUSHAR/malaria/cell_images/Parasitized/C100P61ThinF_IMG_20150918_144104_cell_162.png\"\n",
    "img = tf.keras.preprocessing.image.load_img(img_path, target_size=(64,64))\n",
    "img_tensor = img_to_array(img)\n",
    "img_tensor = np.expand_dims(img_tensor, axis=0)\n",
    "img_tensor /= 255.\n"
   ]
  },
  {
   "cell_type": "code",
   "execution_count": 18,
   "metadata": {
    "colab": {
     "base_uri": "https://localhost:8080/",
     "height": 69
    },
    "id": "mfRoAO5h7MXj",
    "outputId": "a53d37b5-6b3e-4459-c934-16004e92a52b"
   },
   "outputs": [
    {
     "name": "stdout",
     "output_type": "stream",
     "text": [
      "conv2d_2\n",
      "tf.Tensor(\n",
      "[[[[0.         0.         0.11226954 ... 0.         0.\n",
      "    0.11642211]\n",
      "   [0.         0.         0.         ... 0.         0.\n",
      "    0.        ]\n",
      "   [0.         0.         0.         ... 0.         0.\n",
      "    0.        ]\n",
      "   ...\n",
      "   [0.         0.01536824 0.         ... 0.         0.\n",
      "    0.        ]\n",
      "   [0.         0.         0.         ... 0.         0.01651113\n",
      "    0.        ]\n",
      "   [0.         0.         0.03738251 ... 0.03568444 0.10456599\n",
      "    0.        ]]\n",
      "\n",
      "  [[0.         0.         0.         ... 0.         0.\n",
      "    0.        ]\n",
      "   [0.         0.         0.         ... 0.         0.\n",
      "    0.        ]\n",
      "   [0.         0.         0.         ... 0.         0.\n",
      "    0.        ]\n",
      "   ...\n",
      "   [0.         0.         0.         ... 0.         0.\n",
      "    0.        ]\n",
      "   [0.         0.         0.         ... 0.         0.\n",
      "    0.        ]\n",
      "   [0.         0.         0.06517487 ... 0.         0.\n",
      "    0.        ]]\n",
      "\n",
      "  [[0.         0.         0.         ... 0.         0.\n",
      "    0.        ]\n",
      "   [0.         0.         0.         ... 0.         0.\n",
      "    0.        ]\n",
      "   [0.         0.         0.         ... 0.         0.\n",
      "    0.        ]\n",
      "   ...\n",
      "   [0.         0.         0.         ... 0.         0.\n",
      "    0.        ]\n",
      "   [0.         0.         0.         ... 0.         0.\n",
      "    0.        ]\n",
      "   [0.         0.         0.         ... 0.         0.00230746\n",
      "    0.        ]]\n",
      "\n",
      "  ...\n",
      "\n",
      "  [[0.         0.         0.         ... 0.         0.\n",
      "    0.        ]\n",
      "   [0.         0.         0.         ... 0.         0.\n",
      "    0.        ]\n",
      "   [0.         0.         0.         ... 0.         0.\n",
      "    0.        ]\n",
      "   ...\n",
      "   [0.         0.01575357 0.         ... 0.         0.\n",
      "    0.        ]\n",
      "   [0.         0.         0.         ... 0.         0.\n",
      "    0.        ]\n",
      "   [0.         0.         0.         ... 0.         0.\n",
      "    0.        ]]\n",
      "\n",
      "  [[0.         0.         0.         ... 0.         0.\n",
      "    0.        ]\n",
      "   [0.         0.         0.         ... 0.         0.\n",
      "    0.        ]\n",
      "   [0.         0.         0.         ... 0.         0.\n",
      "    0.        ]\n",
      "   ...\n",
      "   [0.         0.         0.         ... 0.         0.\n",
      "    0.        ]\n",
      "   [0.         0.         0.         ... 0.         0.\n",
      "    0.        ]\n",
      "   [0.         0.         0.         ... 0.         0.\n",
      "    0.        ]]\n",
      "\n",
      "  [[0.02462551 0.         0.         ... 0.         0.\n",
      "    0.        ]\n",
      "   [0.         0.         0.         ... 0.         0.\n",
      "    0.        ]\n",
      "   [0.         0.         0.         ... 0.         0.\n",
      "    0.        ]\n",
      "   ...\n",
      "   [0.         0.         0.         ... 0.         0.\n",
      "    0.        ]\n",
      "   [0.         0.         0.         ... 0.         0.\n",
      "    0.        ]\n",
      "   [0.         0.         0.         ... 0.         0.\n",
      "    0.0165062 ]]]], shape=(1, 12, 12, 32), dtype=float32)\n"
     ]
    },
    {
     "data": {
      "text/plain": [
       "<Figure size 1440x1440 with 0 Axes>"
      ]
     },
     "metadata": {},
     "output_type": "display_data"
    }
   ],
   "source": [
    "for j in range(0,1):\n",
    "  activation_model = Model(inputs=model.inputs, outputs=model.layers[6].output)\n",
    "  activation = activation_model(img_tensor)\n",
    "  print(model.get_layer(index = 6).name)\n",
    "  plt.figure(figsize=(20,20))\n",
    "  print(activation)"
   ]
  },
  {
   "cell_type": "code",
   "execution_count": 19,
   "metadata": {
    "colab": {
     "base_uri": "https://localhost:8080/",
     "height": 1000
    },
    "id": "jCfqFAChVV1j",
    "outputId": "5fce888d-3933-46f2-812c-e623ab7e4d11",
    "scrolled": false
   },
   "outputs": [
    {
     "name": "stdout",
     "output_type": "stream",
     "text": [
      "conv2d\n"
     ]
    },
    {
     "data": {
      "image/png": "[encoded data removed]",
      "text/plain": [
       "<Figure size 1440x1440 with 4 Axes>"
      ]
     },
     "metadata": {
      "needs_background": "light"
     },
     "output_type": "display_data"
    },
    {
     "name": "stdout",
     "output_type": "stream",
     "text": [
      "max_pooling2d\n"
     ]
    },
    {
     "data": {
      "image/png": "[encoded data removed]",
      "text/plain": [
       "<Figure size 1440x1440 with 4 Axes>"
      ]
     },
     "metadata": {
      "needs_background": "light"
     },
     "output_type": "display_data"
    },
    {
     "name": "stdout",
     "output_type": "stream",
     "text": [
      "dropout\n"
     ]
    },
    {
     "data": {
      "image/png": "[encoded data removed]",
      "text/plain": [
       "<Figure size 1440x1440 with 4 Axes>"
      ]
     },
     "metadata": {
      "needs_background": "light"
     },
     "output_type": "display_data"
    },
    {
     "name": "stdout",
     "output_type": "stream",
     "text": [
      "conv2d_1\n"
     ]
    },
    {
     "data": {
      "image/png": "[encoded data removed]",
      "text/plain": [
       "<Figure size 1440x1440 with 4 Axes>"
      ]
     },
     "metadata": {
      "needs_background": "light"
     },
     "output_type": "display_data"
    },
    {
     "name": "stdout",
     "output_type": "stream",
     "text": [
      "max_pooling2d_1\n"
     ]
    },
    {
     "data": {
      "image/png": "[encoded data removed]",
      "text/plain": [
       "<Figure size 1440x1440 with 4 Axes>"
      ]
     },
     "metadata": {
      "needs_background": "light"
     },
     "output_type": "display_data"
    },
    {
     "name": "stdout",
     "output_type": "stream",
     "text": [
      "dropout_1\n"
     ]
    },
    {
     "data": {
      "image/png": "[encoded data removed]",
      "text/plain": [
       "<Figure size 1440x1440 with 4 Axes>"
      ]
     },
     "metadata": {
      "needs_background": "light"
     },
     "output_type": "display_data"
    }
   ],
   "source": [
    "for j in range(0,6):\n",
    "  activation_model = Model(inputs=model.inputs, outputs=model.layers[j].output)\n",
    "  activation = activation_model(img_tensor)\n",
    "  print(model.get_layer(index = j).name)\n",
    "  plt.figure(figsize=(20,20))\n",
    "\n",
    "  for i in range(4):\n",
    "      plt.subplot(4,4,i+1)\n",
    "\n",
    "      plt.imshow(activation[0,:,:,i])\n",
    "  plt.show()"
   ]
  },
  {
   "cell_type": "code",
   "execution_count": 20,
   "metadata": {
    "colab": {
     "base_uri": "https://localhost:8080/",
     "height": 607
    },
    "id": "R3yOBelY7kcb",
    "outputId": "5667565e-c138-4a91-980d-d8e6014eed96",
    "scrolled": false
   },
   "outputs": [
    {
     "name": "stdout",
     "output_type": "stream",
     "text": [
      "conv2d_2\n",
      "tf.Tensor(\n",
      "[[[[0.         0.         0.11226954 ... 0.         0.\n",
      "    0.11642211]\n",
      "   [0.         0.         0.         ... 0.         0.\n",
      "    0.        ]\n",
      "   [0.         0.         0.         ... 0.         0.\n",
      "    0.        ]\n",
      "   ...\n",
      "   [0.         0.01536824 0.         ... 0.         0.\n",
      "    0.        ]\n",
      "   [0.         0.         0.         ... 0.         0.01651113\n",
      "    0.        ]\n",
      "   [0.         0.         0.03738251 ... 0.03568444 0.10456599\n",
      "    0.        ]]\n",
      "\n",
      "  [[0.         0.         0.         ... 0.         0.\n",
      "    0.        ]\n",
      "   [0.         0.         0.         ... 0.         0.\n",
      "    0.        ]\n",
      "   [0.         0.         0.         ... 0.         0.\n",
      "    0.        ]\n",
      "   ...\n",
      "   [0.         0.         0.         ... 0.         0.\n",
      "    0.        ]\n",
      "   [0.         0.         0.         ... 0.         0.\n",
      "    0.        ]\n",
      "   [0.         0.         0.06517487 ... 0.         0.\n",
      "    0.        ]]\n",
      "\n",
      "  [[0.         0.         0.         ... 0.         0.\n",
      "    0.        ]\n",
      "   [0.         0.         0.         ... 0.         0.\n",
      "    0.        ]\n",
      "   [0.         0.         0.         ... 0.         0.\n",
      "    0.        ]\n",
      "   ...\n",
      "   [0.         0.         0.         ... 0.         0.\n",
      "    0.        ]\n",
      "   [0.         0.         0.         ... 0.         0.\n",
      "    0.        ]\n",
      "   [0.         0.         0.         ... 0.         0.00230746\n",
      "    0.        ]]\n",
      "\n",
      "  ...\n",
      "\n",
      "  [[0.         0.         0.         ... 0.         0.\n",
      "    0.        ]\n",
      "   [0.         0.         0.         ... 0.         0.\n",
      "    0.        ]\n",
      "   [0.         0.         0.         ... 0.         0.\n",
      "    0.        ]\n",
      "   ...\n",
      "   [0.         0.01575357 0.         ... 0.         0.\n",
      "    0.        ]\n",
      "   [0.         0.         0.         ... 0.         0.\n",
      "    0.        ]\n",
      "   [0.         0.         0.         ... 0.         0.\n",
      "    0.        ]]\n",
      "\n",
      "  [[0.         0.         0.         ... 0.         0.\n",
      "    0.        ]\n",
      "   [0.         0.         0.         ... 0.         0.\n",
      "    0.        ]\n",
      "   [0.         0.         0.         ... 0.         0.\n",
      "    0.        ]\n",
      "   ...\n",
      "   [0.         0.         0.         ... 0.         0.\n",
      "    0.        ]\n",
      "   [0.         0.         0.         ... 0.         0.\n",
      "    0.        ]\n",
      "   [0.         0.         0.         ... 0.         0.\n",
      "    0.        ]]\n",
      "\n",
      "  [[0.02462551 0.         0.         ... 0.         0.\n",
      "    0.        ]\n",
      "   [0.         0.         0.         ... 0.         0.\n",
      "    0.        ]\n",
      "   [0.         0.         0.         ... 0.         0.\n",
      "    0.        ]\n",
      "   ...\n",
      "   [0.         0.         0.         ... 0.         0.\n",
      "    0.        ]\n",
      "   [0.         0.         0.         ... 0.         0.\n",
      "    0.        ]\n",
      "   [0.         0.         0.         ... 0.         0.\n",
      "    0.0165062 ]]]], shape=(1, 12, 12, 32), dtype=float32)\n",
      "max_pooling2d_2\n",
      "tf.Tensor(\n",
      "[[[[0.0000000e+00 0.0000000e+00 1.1226954e-01 ... 0.0000000e+00\n",
      "    0.0000000e+00 1.1642211e-01]\n",
      "   [0.0000000e+00 0.0000000e+00 0.0000000e+00 ... 0.0000000e+00\n",
      "    0.0000000e+00 0.0000000e+00]\n",
      "   [0.0000000e+00 0.0000000e+00 0.0000000e+00 ... 0.0000000e+00\n",
      "    0.0000000e+00 0.0000000e+00]\n",
      "   [0.0000000e+00 0.0000000e+00 0.0000000e+00 ... 0.0000000e+00\n",
      "    0.0000000e+00 0.0000000e+00]\n",
      "   [0.0000000e+00 1.5368240e-02 0.0000000e+00 ... 0.0000000e+00\n",
      "    0.0000000e+00 0.0000000e+00]\n",
      "   [0.0000000e+00 0.0000000e+00 6.5174870e-02 ... 3.5684444e-02\n",
      "    1.0456599e-01 0.0000000e+00]]\n",
      "\n",
      "  [[0.0000000e+00 0.0000000e+00 0.0000000e+00 ... 0.0000000e+00\n",
      "    0.0000000e+00 0.0000000e+00]\n",
      "   [0.0000000e+00 0.0000000e+00 0.0000000e+00 ... 0.0000000e+00\n",
      "    0.0000000e+00 0.0000000e+00]\n",
      "   [0.0000000e+00 0.0000000e+00 0.0000000e+00 ... 0.0000000e+00\n",
      "    0.0000000e+00 0.0000000e+00]\n",
      "   [0.0000000e+00 0.0000000e+00 0.0000000e+00 ... 0.0000000e+00\n",
      "    0.0000000e+00 0.0000000e+00]\n",
      "   [0.0000000e+00 0.0000000e+00 0.0000000e+00 ... 0.0000000e+00\n",
      "    0.0000000e+00 0.0000000e+00]\n",
      "   [0.0000000e+00 0.0000000e+00 0.0000000e+00 ... 0.0000000e+00\n",
      "    2.3074597e-03 0.0000000e+00]]\n",
      "\n",
      "  [[0.0000000e+00 0.0000000e+00 0.0000000e+00 ... 0.0000000e+00\n",
      "    0.0000000e+00 0.0000000e+00]\n",
      "   [7.6867089e-02 0.0000000e+00 1.4475893e+00 ... 0.0000000e+00\n",
      "    0.0000000e+00 9.9091254e-02]\n",
      "   [0.0000000e+00 0.0000000e+00 1.4448774e-01 ... 0.0000000e+00\n",
      "    0.0000000e+00 0.0000000e+00]\n",
      "   [0.0000000e+00 0.0000000e+00 0.0000000e+00 ... 0.0000000e+00\n",
      "    0.0000000e+00 1.1551892e-01]\n",
      "   [0.0000000e+00 0.0000000e+00 0.0000000e+00 ... 0.0000000e+00\n",
      "    0.0000000e+00 0.0000000e+00]\n",
      "   [0.0000000e+00 0.0000000e+00 0.0000000e+00 ... 0.0000000e+00\n",
      "    0.0000000e+00 0.0000000e+00]]\n",
      "\n",
      "  [[0.0000000e+00 0.0000000e+00 0.0000000e+00 ... 0.0000000e+00\n",
      "    0.0000000e+00 0.0000000e+00]\n",
      "   [2.1596673e-01 0.0000000e+00 1.5218197e+00 ... 0.0000000e+00\n",
      "    0.0000000e+00 0.0000000e+00]\n",
      "   [0.0000000e+00 2.5349224e+00 5.4344046e-01 ... 0.0000000e+00\n",
      "    0.0000000e+00 0.0000000e+00]\n",
      "   [0.0000000e+00 1.0397283e+00 3.4785694e-01 ... 0.0000000e+00\n",
      "    1.6002148e-02 0.0000000e+00]\n",
      "   [0.0000000e+00 8.8300541e-02 0.0000000e+00 ... 0.0000000e+00\n",
      "    0.0000000e+00 0.0000000e+00]\n",
      "   [0.0000000e+00 1.4230279e-02 0.0000000e+00 ... 0.0000000e+00\n",
      "    0.0000000e+00 0.0000000e+00]]\n",
      "\n",
      "  [[0.0000000e+00 0.0000000e+00 0.0000000e+00 ... 0.0000000e+00\n",
      "    0.0000000e+00 0.0000000e+00]\n",
      "   [4.7646308e-01 0.0000000e+00 0.0000000e+00 ... 0.0000000e+00\n",
      "    0.0000000e+00 0.0000000e+00]\n",
      "   [0.0000000e+00 3.5476398e-01 1.3415188e+00 ... 0.0000000e+00\n",
      "    0.0000000e+00 0.0000000e+00]\n",
      "   [0.0000000e+00 0.0000000e+00 2.6018822e-01 ... 0.0000000e+00\n",
      "    0.0000000e+00 0.0000000e+00]\n",
      "   [0.0000000e+00 1.5753565e-02 0.0000000e+00 ... 0.0000000e+00\n",
      "    0.0000000e+00 0.0000000e+00]\n",
      "   [0.0000000e+00 5.4520015e-03 0.0000000e+00 ... 0.0000000e+00\n",
      "    0.0000000e+00 0.0000000e+00]]\n",
      "\n",
      "  [[2.4625510e-02 0.0000000e+00 0.0000000e+00 ... 0.0000000e+00\n",
      "    0.0000000e+00 0.0000000e+00]\n",
      "   [0.0000000e+00 0.0000000e+00 0.0000000e+00 ... 0.0000000e+00\n",
      "    0.0000000e+00 0.0000000e+00]\n",
      "   [0.0000000e+00 0.0000000e+00 0.0000000e+00 ... 0.0000000e+00\n",
      "    0.0000000e+00 0.0000000e+00]\n",
      "   [0.0000000e+00 0.0000000e+00 0.0000000e+00 ... 0.0000000e+00\n",
      "    0.0000000e+00 0.0000000e+00]\n",
      "   [0.0000000e+00 1.0531722e-02 0.0000000e+00 ... 0.0000000e+00\n",
      "    0.0000000e+00 0.0000000e+00]\n",
      "   [0.0000000e+00 0.0000000e+00 0.0000000e+00 ... 0.0000000e+00\n",
      "    0.0000000e+00 1.6506203e-02]]]], shape=(1, 6, 6, 32), dtype=float32)\n",
      "dropout_2\n",
      "tf.Tensor(\n",
      "[[[[0.0000000e+00 0.0000000e+00 1.1226954e-01 ... 0.0000000e+00\n",
      "    0.0000000e+00 1.1642211e-01]\n",
      "   [0.0000000e+00 0.0000000e+00 0.0000000e+00 ... 0.0000000e+00\n",
      "    0.0000000e+00 0.0000000e+00]\n",
      "   [0.0000000e+00 0.0000000e+00 0.0000000e+00 ... 0.0000000e+00\n",
      "    0.0000000e+00 0.0000000e+00]\n",
      "   [0.0000000e+00 0.0000000e+00 0.0000000e+00 ... 0.0000000e+00\n",
      "    0.0000000e+00 0.0000000e+00]\n",
      "   [0.0000000e+00 1.5368240e-02 0.0000000e+00 ... 0.0000000e+00\n",
      "    0.0000000e+00 0.0000000e+00]\n",
      "   [0.0000000e+00 0.0000000e+00 6.5174870e-02 ... 3.5684444e-02\n",
      "    1.0456599e-01 0.0000000e+00]]\n",
      "\n",
      "  [[0.0000000e+00 0.0000000e+00 0.0000000e+00 ... 0.0000000e+00\n",
      "    0.0000000e+00 0.0000000e+00]\n",
      "   [0.0000000e+00 0.0000000e+00 0.0000000e+00 ... 0.0000000e+00\n",
      "    0.0000000e+00 0.0000000e+00]\n",
      "   [0.0000000e+00 0.0000000e+00 0.0000000e+00 ... 0.0000000e+00\n",
      "    0.0000000e+00 0.0000000e+00]\n",
      "   [0.0000000e+00 0.0000000e+00 0.0000000e+00 ... 0.0000000e+00\n",
      "    0.0000000e+00 0.0000000e+00]\n",
      "   [0.0000000e+00 0.0000000e+00 0.0000000e+00 ... 0.0000000e+00\n",
      "    0.0000000e+00 0.0000000e+00]\n",
      "   [0.0000000e+00 0.0000000e+00 0.0000000e+00 ... 0.0000000e+00\n",
      "    2.3074597e-03 0.0000000e+00]]\n",
      "\n",
      "  [[0.0000000e+00 0.0000000e+00 0.0000000e+00 ... 0.0000000e+00\n",
      "    0.0000000e+00 0.0000000e+00]\n",
      "   [7.6867089e-02 0.0000000e+00 1.4475893e+00 ... 0.0000000e+00\n",
      "    0.0000000e+00 9.9091254e-02]\n",
      "   [0.0000000e+00 0.0000000e+00 1.4448774e-01 ... 0.0000000e+00\n",
      "    0.0000000e+00 0.0000000e+00]\n",
      "   [0.0000000e+00 0.0000000e+00 0.0000000e+00 ... 0.0000000e+00\n",
      "    0.0000000e+00 1.1551892e-01]\n",
      "   [0.0000000e+00 0.0000000e+00 0.0000000e+00 ... 0.0000000e+00\n",
      "    0.0000000e+00 0.0000000e+00]\n",
      "   [0.0000000e+00 0.0000000e+00 0.0000000e+00 ... 0.0000000e+00\n",
      "    0.0000000e+00 0.0000000e+00]]\n",
      "\n",
      "  [[0.0000000e+00 0.0000000e+00 0.0000000e+00 ... 0.0000000e+00\n",
      "    0.0000000e+00 0.0000000e+00]\n",
      "   [2.1596673e-01 0.0000000e+00 1.5218197e+00 ... 0.0000000e+00\n",
      "    0.0000000e+00 0.0000000e+00]\n",
      "   [0.0000000e+00 2.5349224e+00 5.4344046e-01 ... 0.0000000e+00\n",
      "    0.0000000e+00 0.0000000e+00]\n",
      "   [0.0000000e+00 1.0397283e+00 3.4785694e-01 ... 0.0000000e+00\n",
      "    1.6002148e-02 0.0000000e+00]\n",
      "   [0.0000000e+00 8.8300541e-02 0.0000000e+00 ... 0.0000000e+00\n",
      "    0.0000000e+00 0.0000000e+00]\n",
      "   [0.0000000e+00 1.4230279e-02 0.0000000e+00 ... 0.0000000e+00\n",
      "    0.0000000e+00 0.0000000e+00]]\n",
      "\n",
      "  [[0.0000000e+00 0.0000000e+00 0.0000000e+00 ... 0.0000000e+00\n",
      "    0.0000000e+00 0.0000000e+00]\n",
      "   [4.7646308e-01 0.0000000e+00 0.0000000e+00 ... 0.0000000e+00\n",
      "    0.0000000e+00 0.0000000e+00]\n",
      "   [0.0000000e+00 3.5476398e-01 1.3415188e+00 ... 0.0000000e+00\n",
      "    0.0000000e+00 0.0000000e+00]\n",
      "   [0.0000000e+00 0.0000000e+00 2.6018822e-01 ... 0.0000000e+00\n",
      "    0.0000000e+00 0.0000000e+00]\n",
      "   [0.0000000e+00 1.5753565e-02 0.0000000e+00 ... 0.0000000e+00\n",
      "    0.0000000e+00 0.0000000e+00]\n",
      "   [0.0000000e+00 5.4520015e-03 0.0000000e+00 ... 0.0000000e+00\n",
      "    0.0000000e+00 0.0000000e+00]]\n",
      "\n",
      "  [[2.4625510e-02 0.0000000e+00 0.0000000e+00 ... 0.0000000e+00\n",
      "    0.0000000e+00 0.0000000e+00]\n",
      "   [0.0000000e+00 0.0000000e+00 0.0000000e+00 ... 0.0000000e+00\n",
      "    0.0000000e+00 0.0000000e+00]\n",
      "   [0.0000000e+00 0.0000000e+00 0.0000000e+00 ... 0.0000000e+00\n",
      "    0.0000000e+00 0.0000000e+00]\n",
      "   [0.0000000e+00 0.0000000e+00 0.0000000e+00 ... 0.0000000e+00\n",
      "    0.0000000e+00 0.0000000e+00]\n",
      "   [0.0000000e+00 1.0531722e-02 0.0000000e+00 ... 0.0000000e+00\n",
      "    0.0000000e+00 0.0000000e+00]\n",
      "   [0.0000000e+00 0.0000000e+00 0.0000000e+00 ... 0.0000000e+00\n",
      "    0.0000000e+00 1.6506203e-02]]]], shape=(1, 6, 6, 32), dtype=float32)\n",
      "conv2d_3\n",
      "tf.Tensor(\n",
      "[[[[2.0387292  2.9316905  1.3953514  0.         2.9060605  1.1125408\n",
      "    0.         3.0369008  1.4280418  1.3466237  0.         0.44995087\n",
      "    0.         0.95898503 1.6105788  0.        ]\n",
      "   [3.3241246  1.0385678  0.5824563  0.05235328 2.492387   0.\n",
      "    2.3879437  2.2041283  2.2937267  0.21028838 0.         0.03398988\n",
      "    1.3503368  2.471869   1.005975   0.8442649 ]\n",
      "   [1.4862852  1.6642659  1.7109807  0.3280984  1.355532   0.\n",
      "    1.2559245  2.545105   1.4297212  0.         0.         0.\n",
      "    1.463929   1.5779945  0.         0.41393435]\n",
      "   [0.         0.60713446 0.35435203 0.         0.08116331 0.\n",
      "    0.         0.8479422  0.16906467 0.         0.         0.\n",
      "    0.02255549 0.07735497 0.         0.        ]]\n",
      "\n",
      "  [[1.7792007  0.47485954 0.         0.         6.481903   3.2459314\n",
      "    0.         1.618415   1.0156473  3.187842   0.         0.\n",
      "    0.         3.0955281  2.4766016  0.        ]\n",
      "   [1.356628   0.         0.04310007 0.05603985 0.3303769  0.\n",
      "    1.0521986  4.61843    3.6226692  0.         0.         0.\n",
      "    0.         2.3654528  0.         1.147369  ]\n",
      "   [5.533413   3.430705   4.077337   0.49560353 1.9703408  0.\n",
      "    2.189264   5.959396   3.9955688  0.         0.         0.\n",
      "    0.8567585  0.         0.         0.08910388]\n",
      "   [0.99745107 1.5817943  0.5966735  0.20359755 0.07426602 0.\n",
      "    0.38015074 1.2375412  0.40173492 0.         0.         0.\n",
      "    0.36341956 0.         0.         0.        ]]\n",
      "\n",
      "  [[3.2722025  0.         0.         0.         2.7528255  0.\n",
      "    0.         0.         0.         0.         0.         0.\n",
      "    2.2578857  5.2031627  0.         0.6762929 ]\n",
      "   [0.         0.         1.1738371  0.         0.         0.\n",
      "    0.         4.1704555  0.         0.         0.         0.\n",
      "    0.         0.         0.         0.        ]\n",
      "   [4.427625   0.         0.36941442 1.4384444  4.7611437  0.\n",
      "    2.2106757  0.46012706 0.         0.         2.5682468  0.\n",
      "    1.7694786  0.         0.         0.        ]\n",
      "   [1.0122955  0.         0.         0.38040587 0.81813604 0.\n",
      "    1.0466765  0.         0.         0.         0.5046416  0.\n",
      "    1.2502972  0.         0.         0.        ]]\n",
      "\n",
      "  [[3.458415   3.7321987  0.         0.         3.6412349  3.6732614\n",
      "    1.1298645  4.243181   0.         0.         0.61742145 3.94052\n",
      "    0.         3.6134782  0.22560969 0.        ]\n",
      "   [0.         0.         0.         3.4327223  1.4388081  2.3861184\n",
      "    0.         0.44874978 0.         0.         2.691786   0.\n",
      "    0.         0.         0.         0.        ]\n",
      "   [3.6064131  0.         0.         2.6865528  6.917938   1.1661433\n",
      "    2.7159152  2.3597775  0.         0.         5.16305    0.\n",
      "    4.6338243  0.         0.         0.04840349]\n",
      "   [0.86456    0.         0.         0.2588294  1.0905601  0.03964017\n",
      "    0.8726233  0.88308114 0.         0.         0.9028756  0.\n",
      "    0.7295801  0.         0.         0.        ]]]], shape=(1, 4, 4, 16), dtype=float32)\n"
     ]
    },
    {
     "data": {
      "text/plain": [
       "<Figure size 1440x1440 with 0 Axes>"
      ]
     },
     "metadata": {},
     "output_type": "display_data"
    },
    {
     "data": {
      "text/plain": [
       "<Figure size 1440x1440 with 0 Axes>"
      ]
     },
     "metadata": {},
     "output_type": "display_data"
    },
    {
     "data": {
      "text/plain": [
       "<Figure size 1440x1440 with 0 Axes>"
      ]
     },
     "metadata": {},
     "output_type": "display_data"
    },
    {
     "data": {
      "text/plain": [
       "<Figure size 1440x1440 with 0 Axes>"
      ]
     },
     "metadata": {},
     "output_type": "display_data"
    }
   ],
   "source": [
    "for j in range(6,10):\n",
    "  activation_model = Model(inputs=model.inputs, outputs=model.layers[j].output)\n",
    "  activation = activation_model(img_tensor)\n",
    "  print(model.get_layer(index = j).name)\n",
    "  plt.figure(figsize=(20,20))\n",
    "  print(activation)"
   ]
  },
  {
   "cell_type": "code",
   "execution_count": 21,
   "metadata": {
    "colab": {
     "base_uri": "https://localhost:8080/",
     "height": 268
    },
    "id": "wutJ9Ggsjgxv",
    "outputId": "332d2047-91b6-4063-b30f-88715eaeb1f5"
   },
   "outputs": [
    {
     "name": "stdout",
     "output_type": "stream",
     "text": [
      "1/1 [==============================] - 0s 98ms/step\n"
     ]
    },
    {
     "data": {
      "image/png": "[encoded data removed]",
      "text/plain": [
       "<Figure size 432x288 with 1 Axes>"
      ]
     },
     "metadata": {
      "needs_background": "light"
     },
     "output_type": "display_data"
    }
   ],
   "source": [
    "image_path=\"C:/Users/TUSHAR/Desktop/malaria/predict/C33P1thinF_IMG_20150619_121229a_cell_179.png\"\n",
    "img = tf.keras.preprocessing.image.load_img(image_path, target_size=(64, 64))\n",
    "plt.imshow(img)\n",
    "img = np.expand_dims(img, axis=0)\n",
    "predictions = (model.predict(img) > 0.5).astype(\"int32\")\n",
    "plt.show()"
   ]
  },
  {
   "cell_type": "code",
   "execution_count": 22,
   "metadata": {
    "colab": {
     "base_uri": "https://localhost:8080/",
     "height": 1000
    },
    "id": "S36-7UcqOXEF",
    "outputId": "e851a11f-a429-4b51-ee1f-b9c95231172e",
    "scrolled": false
   },
   "outputs": [
    {
     "name": "stdout",
     "output_type": "stream",
     "text": [
      "conv2d\n"
     ]
    },
    {
     "data": {
      "image/png": "[encoded data removed]",
      "text/plain": [
       "<Figure size 1440x1440 with 1 Axes>"
      ]
     },
     "metadata": {
      "needs_background": "light"
     },
     "output_type": "display_data"
    },
    {
     "name": "stdout",
     "output_type": "stream",
     "text": [
      "max_pooling2d\n"
     ]
    },
    {
     "data": {
      "image/png": "[encoded data removed]",
      "text/plain": [
       "<Figure size 1440x1440 with 1 Axes>"
      ]
     },
     "metadata": {
      "needs_background": "light"
     },
     "output_type": "display_data"
    },
    {
     "name": "stdout",
     "output_type": "stream",
     "text": [
      "dropout\n"
     ]
    },
    {
     "data": {
      "image/png": "[encoded data removed]",
      "text/plain": [
       "<Figure size 1440x1440 with 1 Axes>"
      ]
     },
     "metadata": {
      "needs_background": "light"
     },
     "output_type": "display_data"
    },
    {
     "name": "stdout",
     "output_type": "stream",
     "text": [
      "conv2d_1\n"
     ]
    },
    {
     "data": {
      "image/png": "[encoded data removed]",
      "text/plain": [
       "<Figure size 1440x1440 with 1 Axes>"
      ]
     },
     "metadata": {
      "needs_background": "light"
     },
     "output_type": "display_data"
    },
    {
     "name": "stdout",
     "output_type": "stream",
     "text": [
      "max_pooling2d_1\n"
     ]
    },
    {
     "data": {
      "image/png": "[encoded data removed]",
      "text/plain": [
       "<Figure size 1440x1440 with 1 Axes>"
      ]
     },
     "metadata": {
      "needs_background": "light"
     },
     "output_type": "display_data"
    },
    {
     "name": "stdout",
     "output_type": "stream",
     "text": [
      "dropout_1\n"
     ]
    },
    {
     "data": {
      "image/png": "[encoded data removed]",
      "text/plain": [
       "<Figure size 1440x1440 with 1 Axes>"
      ]
     },
     "metadata": {
      "needs_background": "light"
     },
     "output_type": "display_data"
    },
    {
     "name": "stdout",
     "output_type": "stream",
     "text": [
      "conv2d_2\n",
      "tf.Tensor(\n",
      "[[[[0.0000000e+00 0.0000000e+00 2.1773311e-01 ... 0.0000000e+00\n",
      "    0.0000000e+00 2.1310753e-01]\n",
      "   [0.0000000e+00 0.0000000e+00 4.4769794e-01 ... 0.0000000e+00\n",
      "    0.0000000e+00 6.2525131e-02]\n",
      "   [6.8225360e-01 0.0000000e+00 9.1507787e-01 ... 0.0000000e+00\n",
      "    0.0000000e+00 4.0837836e-01]\n",
      "   ...\n",
      "   [0.0000000e+00 0.0000000e+00 0.0000000e+00 ... 0.0000000e+00\n",
      "    0.0000000e+00 0.0000000e+00]\n",
      "   [0.0000000e+00 0.0000000e+00 0.0000000e+00 ... 0.0000000e+00\n",
      "    0.0000000e+00 0.0000000e+00]\n",
      "   [0.0000000e+00 0.0000000e+00 0.0000000e+00 ... 1.2609667e-01\n",
      "    7.3962793e-02 0.0000000e+00]]\n",
      "\n",
      "  [[0.0000000e+00 0.0000000e+00 0.0000000e+00 ... 0.0000000e+00\n",
      "    0.0000000e+00 0.0000000e+00]\n",
      "   [0.0000000e+00 0.0000000e+00 2.8763282e-01 ... 0.0000000e+00\n",
      "    0.0000000e+00 0.0000000e+00]\n",
      "   [1.0121019e+00 0.0000000e+00 3.6984167e-01 ... 0.0000000e+00\n",
      "    0.0000000e+00 0.0000000e+00]\n",
      "   ...\n",
      "   [0.0000000e+00 0.0000000e+00 0.0000000e+00 ... 0.0000000e+00\n",
      "    0.0000000e+00 0.0000000e+00]\n",
      "   [0.0000000e+00 0.0000000e+00 0.0000000e+00 ... 0.0000000e+00\n",
      "    0.0000000e+00 0.0000000e+00]\n",
      "   [0.0000000e+00 0.0000000e+00 0.0000000e+00 ... 3.2672398e-02\n",
      "    7.5340271e-04 0.0000000e+00]]\n",
      "\n",
      "  [[0.0000000e+00 0.0000000e+00 0.0000000e+00 ... 0.0000000e+00\n",
      "    0.0000000e+00 0.0000000e+00]\n",
      "   [0.0000000e+00 0.0000000e+00 2.6903844e-01 ... 0.0000000e+00\n",
      "    0.0000000e+00 0.0000000e+00]\n",
      "   [3.7223780e-01 0.0000000e+00 0.0000000e+00 ... 0.0000000e+00\n",
      "    0.0000000e+00 0.0000000e+00]\n",
      "   ...\n",
      "   [0.0000000e+00 0.0000000e+00 0.0000000e+00 ... 0.0000000e+00\n",
      "    0.0000000e+00 0.0000000e+00]\n",
      "   [0.0000000e+00 0.0000000e+00 0.0000000e+00 ... 0.0000000e+00\n",
      "    0.0000000e+00 0.0000000e+00]\n",
      "   [0.0000000e+00 0.0000000e+00 0.0000000e+00 ... 0.0000000e+00\n",
      "    0.0000000e+00 0.0000000e+00]]\n",
      "\n",
      "  ...\n",
      "\n",
      "  [[0.0000000e+00 0.0000000e+00 0.0000000e+00 ... 0.0000000e+00\n",
      "    0.0000000e+00 0.0000000e+00]\n",
      "   [0.0000000e+00 0.0000000e+00 0.0000000e+00 ... 0.0000000e+00\n",
      "    0.0000000e+00 0.0000000e+00]\n",
      "   [0.0000000e+00 0.0000000e+00 0.0000000e+00 ... 0.0000000e+00\n",
      "    0.0000000e+00 0.0000000e+00]\n",
      "   ...\n",
      "   [0.0000000e+00 0.0000000e+00 0.0000000e+00 ... 0.0000000e+00\n",
      "    0.0000000e+00 0.0000000e+00]\n",
      "   [0.0000000e+00 0.0000000e+00 0.0000000e+00 ... 0.0000000e+00\n",
      "    0.0000000e+00 0.0000000e+00]\n",
      "   [0.0000000e+00 0.0000000e+00 0.0000000e+00 ... 0.0000000e+00\n",
      "    0.0000000e+00 0.0000000e+00]]\n",
      "\n",
      "  [[0.0000000e+00 0.0000000e+00 0.0000000e+00 ... 0.0000000e+00\n",
      "    0.0000000e+00 0.0000000e+00]\n",
      "   [0.0000000e+00 0.0000000e+00 0.0000000e+00 ... 0.0000000e+00\n",
      "    0.0000000e+00 0.0000000e+00]\n",
      "   [0.0000000e+00 0.0000000e+00 0.0000000e+00 ... 0.0000000e+00\n",
      "    0.0000000e+00 0.0000000e+00]\n",
      "   ...\n",
      "   [0.0000000e+00 0.0000000e+00 0.0000000e+00 ... 0.0000000e+00\n",
      "    0.0000000e+00 0.0000000e+00]\n",
      "   [0.0000000e+00 0.0000000e+00 0.0000000e+00 ... 0.0000000e+00\n",
      "    0.0000000e+00 0.0000000e+00]\n",
      "   [0.0000000e+00 0.0000000e+00 0.0000000e+00 ... 0.0000000e+00\n",
      "    0.0000000e+00 0.0000000e+00]]\n",
      "\n",
      "  [[6.8942666e-02 0.0000000e+00 0.0000000e+00 ... 0.0000000e+00\n",
      "    0.0000000e+00 0.0000000e+00]\n",
      "   [0.0000000e+00 0.0000000e+00 0.0000000e+00 ... 0.0000000e+00\n",
      "    0.0000000e+00 0.0000000e+00]\n",
      "   [0.0000000e+00 0.0000000e+00 0.0000000e+00 ... 0.0000000e+00\n",
      "    0.0000000e+00 0.0000000e+00]\n",
      "   ...\n",
      "   [0.0000000e+00 0.0000000e+00 0.0000000e+00 ... 0.0000000e+00\n",
      "    0.0000000e+00 0.0000000e+00]\n",
      "   [0.0000000e+00 0.0000000e+00 0.0000000e+00 ... 0.0000000e+00\n",
      "    0.0000000e+00 0.0000000e+00]\n",
      "   [0.0000000e+00 0.0000000e+00 0.0000000e+00 ... 0.0000000e+00\n",
      "    0.0000000e+00 0.0000000e+00]]]], shape=(1, 12, 12, 32), dtype=float32)\n",
      "max_pooling2d_2\n",
      "tf.Tensor(\n",
      "[[[[0.         0.         0.44769794 ... 0.         0.\n",
      "    0.21310753]\n",
      "   [1.1859825  0.         0.91507787 ... 0.         0.\n",
      "    0.40837836]\n",
      "   [0.         1.7745565  0.         ... 0.03794309 0.\n",
      "    0.        ]\n",
      "   [0.         1.8398786  0.         ... 0.04492284 0.0955561\n",
      "    0.        ]\n",
      "   [0.         0.         0.         ... 0.         0.\n",
      "    0.        ]\n",
      "   [0.         0.         0.         ... 0.12609667 0.07396279\n",
      "    0.        ]]\n",
      "\n",
      "  [[0.01768437 0.         0.26903844 ... 0.         0.\n",
      "    0.        ]\n",
      "   [0.3722378  0.         0.         ... 0.         0.\n",
      "    0.        ]\n",
      "   [0.         1.9357611  0.47623074 ... 0.         0.\n",
      "    0.        ]\n",
      "   [0.         1.5693781  0.60678816 ... 0.         0.11838947\n",
      "    0.        ]\n",
      "   [0.         0.         0.         ... 0.         0.\n",
      "    0.        ]\n",
      "   [0.         0.         0.         ... 0.         0.\n",
      "    0.        ]]\n",
      "\n",
      "  [[0.         0.         0.         ... 0.         0.\n",
      "    0.        ]\n",
      "   [0.01313867 0.         0.         ... 0.         0.\n",
      "    0.        ]\n",
      "   [0.         0.16787882 0.7000516  ... 0.         0.\n",
      "    0.        ]\n",
      "   [0.         0.0216049  0.13561536 ... 0.         0.\n",
      "    0.        ]\n",
      "   [0.         0.         0.         ... 0.         0.\n",
      "    0.        ]\n",
      "   [0.         0.         0.         ... 0.         0.\n",
      "    0.        ]]\n",
      "\n",
      "  [[0.         0.         0.         ... 0.         0.\n",
      "    0.        ]\n",
      "   [0.         0.         0.         ... 0.         0.\n",
      "    0.        ]\n",
      "   [0.         0.         0.         ... 0.         0.\n",
      "    0.        ]\n",
      "   [0.         0.         0.         ... 0.         0.\n",
      "    0.        ]\n",
      "   [0.         0.         0.         ... 0.         0.\n",
      "    0.        ]\n",
      "   [0.         0.         0.         ... 0.         0.\n",
      "    0.        ]]\n",
      "\n",
      "  [[0.         0.         0.         ... 0.         0.\n",
      "    0.        ]\n",
      "   [0.         0.         0.         ... 0.         0.\n",
      "    0.        ]\n",
      "   [0.         0.         0.         ... 0.         0.\n",
      "    0.        ]\n",
      "   [0.         0.         0.         ... 0.         0.\n",
      "    0.        ]\n",
      "   [0.         0.         0.         ... 0.         0.\n",
      "    0.        ]\n",
      "   [0.         0.         0.         ... 0.         0.\n",
      "    0.        ]]\n",
      "\n",
      "  [[0.06894267 0.         0.         ... 0.         0.\n",
      "    0.        ]\n",
      "   [0.         0.         0.         ... 0.         0.\n",
      "    0.        ]\n",
      "   [0.         0.         0.         ... 0.         0.\n",
      "    0.        ]\n",
      "   [0.         0.         0.         ... 0.         0.\n",
      "    0.        ]\n",
      "   [0.         0.         0.         ... 0.         0.\n",
      "    0.        ]\n",
      "   [0.         0.         0.         ... 0.         0.\n",
      "    0.        ]]]], shape=(1, 6, 6, 32), dtype=float32)\n",
      "dropout_2\n",
      "tf.Tensor(\n",
      "[[[[0.         0.         0.44769794 ... 0.         0.\n",
      "    0.21310753]\n",
      "   [1.1859825  0.         0.91507787 ... 0.         0.\n",
      "    0.40837836]\n",
      "   [0.         1.7745565  0.         ... 0.03794309 0.\n",
      "    0.        ]\n",
      "   [0.         1.8398786  0.         ... 0.04492284 0.0955561\n",
      "    0.        ]\n",
      "   [0.         0.         0.         ... 0.         0.\n",
      "    0.        ]\n",
      "   [0.         0.         0.         ... 0.12609667 0.07396279\n",
      "    0.        ]]\n",
      "\n",
      "  [[0.01768437 0.         0.26903844 ... 0.         0.\n",
      "    0.        ]\n",
      "   [0.3722378  0.         0.         ... 0.         0.\n",
      "    0.        ]\n",
      "   [0.         1.9357611  0.47623074 ... 0.         0.\n",
      "    0.        ]\n",
      "   [0.         1.5693781  0.60678816 ... 0.         0.11838947\n",
      "    0.        ]\n",
      "   [0.         0.         0.         ... 0.         0.\n",
      "    0.        ]\n",
      "   [0.         0.         0.         ... 0.         0.\n",
      "    0.        ]]\n",
      "\n",
      "  [[0.         0.         0.         ... 0.         0.\n",
      "    0.        ]\n",
      "   [0.01313867 0.         0.         ... 0.         0.\n",
      "    0.        ]\n",
      "   [0.         0.16787882 0.7000516  ... 0.         0.\n",
      "    0.        ]\n",
      "   [0.         0.0216049  0.13561536 ... 0.         0.\n",
      "    0.        ]\n",
      "   [0.         0.         0.         ... 0.         0.\n",
      "    0.        ]\n",
      "   [0.         0.         0.         ... 0.         0.\n",
      "    0.        ]]\n",
      "\n",
      "  [[0.         0.         0.         ... 0.         0.\n",
      "    0.        ]\n",
      "   [0.         0.         0.         ... 0.         0.\n",
      "    0.        ]\n",
      "   [0.         0.         0.         ... 0.         0.\n",
      "    0.        ]\n",
      "   [0.         0.         0.         ... 0.         0.\n",
      "    0.        ]\n",
      "   [0.         0.         0.         ... 0.         0.\n",
      "    0.        ]\n",
      "   [0.         0.         0.         ... 0.         0.\n",
      "    0.        ]]\n",
      "\n",
      "  [[0.         0.         0.         ... 0.         0.\n",
      "    0.        ]\n",
      "   [0.         0.         0.         ... 0.         0.\n",
      "    0.        ]\n",
      "   [0.         0.         0.         ... 0.         0.\n",
      "    0.        ]\n",
      "   [0.         0.         0.         ... 0.         0.\n",
      "    0.        ]\n",
      "   [0.         0.         0.         ... 0.         0.\n",
      "    0.        ]\n",
      "   [0.         0.         0.         ... 0.         0.\n",
      "    0.        ]]\n",
      "\n",
      "  [[0.06894267 0.         0.         ... 0.         0.\n",
      "    0.        ]\n",
      "   [0.         0.         0.         ... 0.         0.\n",
      "    0.        ]\n",
      "   [0.         0.         0.         ... 0.         0.\n",
      "    0.        ]\n",
      "   [0.         0.         0.         ... 0.         0.\n",
      "    0.        ]\n",
      "   [0.         0.         0.         ... 0.         0.\n",
      "    0.        ]\n",
      "   [0.         0.         0.         ... 0.         0.\n",
      "    0.        ]]]], shape=(1, 6, 6, 32), dtype=float32)\n",
      "conv2d_3\n",
      "tf.Tensor(\n",
      "[[[[2.18212414e+00 0.00000000e+00 0.00000000e+00 0.00000000e+00\n",
      "    3.58790278e-01 0.00000000e+00 0.00000000e+00 2.54284048e+00\n",
      "    6.40331060e-02 0.00000000e+00 0.00000000e+00 0.00000000e+00\n",
      "    1.27317977e+00 1.96942186e+00 0.00000000e+00 5.05022645e-01]\n",
      "   [0.00000000e+00 0.00000000e+00 0.00000000e+00 0.00000000e+00\n",
      "    0.00000000e+00 1.25595089e-02 0.00000000e+00 3.80966282e+00\n",
      "    0.00000000e+00 8.11886966e-01 0.00000000e+00 0.00000000e+00\n",
      "    0.00000000e+00 0.00000000e+00 0.00000000e+00 7.14692473e-01]\n",
      "   [1.02984405e+00 0.00000000e+00 0.00000000e+00 7.87526131e-01\n",
      "    2.22022176e+00 0.00000000e+00 3.25368136e-01 5.92317164e-01\n",
      "    0.00000000e+00 2.16042727e-01 2.17636871e+00 0.00000000e+00\n",
      "    1.05989170e+00 0.00000000e+00 0.00000000e+00 2.70203710e-01]\n",
      "   [1.62176037e+00 0.00000000e+00 0.00000000e+00 7.02125609e-01\n",
      "    2.02891374e+00 0.00000000e+00 1.66958380e+00 0.00000000e+00\n",
      "    0.00000000e+00 0.00000000e+00 1.18138349e+00 0.00000000e+00\n",
      "    2.40392303e+00 0.00000000e+00 1.05563767e-01 1.25464529e-01]]\n",
      "\n",
      "  [[1.00232124e+00 1.76657021e+00 0.00000000e+00 0.00000000e+00\n",
      "    9.71552134e-01 1.40930164e+00 4.95137334e-01 1.91183937e+00\n",
      "    0.00000000e+00 0.00000000e+00 0.00000000e+00 2.35483479e+00\n",
      "    0.00000000e+00 7.98050463e-01 0.00000000e+00 0.00000000e+00]\n",
      "   [2.59061217e-01 0.00000000e+00 0.00000000e+00 6.47249281e-01\n",
      "    1.65852398e-01 1.43019652e+00 0.00000000e+00 0.00000000e+00\n",
      "    0.00000000e+00 0.00000000e+00 1.07077742e+00 0.00000000e+00\n",
      "    0.00000000e+00 0.00000000e+00 0.00000000e+00 0.00000000e+00]\n",
      "   [2.99080229e+00 0.00000000e+00 0.00000000e+00 3.17215711e-01\n",
      "    3.25955725e+00 7.41937943e-03 1.08725381e+00 1.46718967e+00\n",
      "    0.00000000e+00 0.00000000e+00 2.49021649e+00 0.00000000e+00\n",
      "    2.70037961e+00 0.00000000e+00 6.55225992e-01 0.00000000e+00]\n",
      "   [1.24867761e+00 0.00000000e+00 0.00000000e+00 8.54157582e-02\n",
      "    1.24709594e+00 1.18353985e-01 1.10872912e+00 1.38951266e+00\n",
      "    8.25699717e-02 0.00000000e+00 1.26886451e+00 0.00000000e+00\n",
      "    1.07736588e+00 0.00000000e+00 0.00000000e+00 0.00000000e+00]]\n",
      "\n",
      "  [[7.54777312e-01 9.06399846e-01 0.00000000e+00 0.00000000e+00\n",
      "    8.75562429e-01 1.45918024e+00 7.35013783e-01 5.94052553e-01\n",
      "    0.00000000e+00 0.00000000e+00 0.00000000e+00 9.24540222e-01\n",
      "    0.00000000e+00 1.25296640e+00 1.93818390e-01 0.00000000e+00]\n",
      "   [1.38957894e+00 0.00000000e+00 0.00000000e+00 9.76588130e-02\n",
      "    6.40723705e-01 4.75045800e-01 4.03920889e-01 1.38192967e-01\n",
      "    0.00000000e+00 0.00000000e+00 8.71327400e-01 0.00000000e+00\n",
      "    1.10279155e+00 5.17491400e-01 9.73680139e-01 0.00000000e+00]\n",
      "   [9.07834470e-01 0.00000000e+00 0.00000000e+00 0.00000000e+00\n",
      "    1.29844582e+00 3.89920294e-01 4.95011777e-01 9.15825486e-01\n",
      "    0.00000000e+00 0.00000000e+00 9.33020473e-01 2.09500015e-01\n",
      "    1.11658478e+00 0.00000000e+00 0.00000000e+00 0.00000000e+00]\n",
      "   [4.89326641e-02 0.00000000e+00 0.00000000e+00 0.00000000e+00\n",
      "    4.74907458e-04 2.76143868e-02 2.48198472e-02 5.73967807e-02\n",
      "    0.00000000e+00 0.00000000e+00 3.32102738e-02 0.00000000e+00\n",
      "    4.35875468e-02 0.00000000e+00 0.00000000e+00 0.00000000e+00]]\n",
      "\n",
      "  [[0.00000000e+00 0.00000000e+00 0.00000000e+00 0.00000000e+00\n",
      "    0.00000000e+00 0.00000000e+00 0.00000000e+00 0.00000000e+00\n",
      "    0.00000000e+00 2.55072042e-02 0.00000000e+00 0.00000000e+00\n",
      "    0.00000000e+00 0.00000000e+00 0.00000000e+00 1.71882771e-02]\n",
      "   [0.00000000e+00 0.00000000e+00 0.00000000e+00 5.20343054e-03\n",
      "    0.00000000e+00 0.00000000e+00 0.00000000e+00 0.00000000e+00\n",
      "    0.00000000e+00 0.00000000e+00 0.00000000e+00 0.00000000e+00\n",
      "    0.00000000e+00 0.00000000e+00 0.00000000e+00 1.90333044e-03]\n",
      "   [0.00000000e+00 0.00000000e+00 0.00000000e+00 1.26513140e-02\n",
      "    0.00000000e+00 0.00000000e+00 0.00000000e+00 0.00000000e+00\n",
      "    0.00000000e+00 0.00000000e+00 0.00000000e+00 0.00000000e+00\n",
      "    0.00000000e+00 0.00000000e+00 0.00000000e+00 0.00000000e+00]\n",
      "   [0.00000000e+00 0.00000000e+00 0.00000000e+00 1.37526467e-02\n",
      "    0.00000000e+00 0.00000000e+00 0.00000000e+00 0.00000000e+00\n",
      "    0.00000000e+00 0.00000000e+00 0.00000000e+00 0.00000000e+00\n",
      "    0.00000000e+00 0.00000000e+00 0.00000000e+00 0.00000000e+00]]]], shape=(1, 4, 4, 16), dtype=float32)\n",
      "-------------Parasitized-------------\n"
     ]
    },
    {
     "data": {
      "text/plain": [
       "<Figure size 1440x1440 with 0 Axes>"
      ]
     },
     "metadata": {},
     "output_type": "display_data"
    },
    {
     "data": {
      "text/plain": [
       "<Figure size 1440x1440 with 0 Axes>"
      ]
     },
     "metadata": {},
     "output_type": "display_data"
    },
    {
     "data": {
      "text/plain": [
       "<Figure size 1440x1440 with 0 Axes>"
      ]
     },
     "metadata": {},
     "output_type": "display_data"
    },
    {
     "data": {
      "text/plain": [
       "<Figure size 1440x1440 with 0 Axes>"
      ]
     },
     "metadata": {},
     "output_type": "display_data"
    }
   ],
   "source": [
    "img = tf.keras.preprocessing.image.load_img(image_path, target_size=(64,64))\n",
    "img_tensor = img_to_array(img)\n",
    "img_tensor = np.expand_dims(img_tensor, axis=0)\n",
    "img_tensor /= 255.\n",
    "# for j in range(0,1):\n",
    "#   activation_model = Model(inputs=model.inputs, outputs=model.layers[6].output)\n",
    "#   activation = activation_model(img_tensor)\n",
    "#   print(model.get_layer(index = 6).name)\n",
    "#   plt.figure(figsize=(20,20))\n",
    "#   print(activation)\n",
    "for j in range(0,6):\n",
    "  activation_model = Model(inputs=model.inputs, outputs=model.layers[j].output)\n",
    "  activation = activation_model(img_tensor)\n",
    "  print(model.get_layer(index = j).name)\n",
    "  plt.figure(figsize=(20,20))\n",
    "\n",
    "  for i in range(1):\n",
    "      plt.subplot(4,4,i+1)\n",
    "\n",
    "      plt.imshow(activation[0,:,:,i])\n",
    "  plt.show()\n",
    "for j in range(6,10):\n",
    "  activation_model = Model(inputs=model.inputs, outputs=model.layers[j].output)\n",
    "  activation = activation_model(img_tensor)\n",
    "  print(model.get_layer(index = j).name)\n",
    "  plt.figure(figsize=(20,20))\n",
    "  print(activation)\n",
    "if(predictions[0]==1):\n",
    "  print(\" -------------Uninfected-------------\")\n",
    "else :\n",
    "  print(\"-------------Parasitized-------------\")"
   ]
  }
 ],
 "metadata": {
  "accelerator": "TPU",
  "colab": {
   "collapsed_sections": [],
   "name": "Copy of Untitled",
   "provenance": []
  },
  "kernelspec": {
   "display_name": "Python 3 (ipykernel)",
   "language": "python",
   "name": "python3"
  },
  "language_info": {
   "codemirror_mode": {
    "name": "ipython",
    "version": 3
   },
   "file_extension": ".py",
   "mimetype": "text/x-python",
   "name": "python",
   "nbconvert_exporter": "python",
   "pygments_lexer": "ipython3",
   "version": "3.8.11"
  }
 },
 "nbformat": 4,
 "nbformat_minor": 1
}
