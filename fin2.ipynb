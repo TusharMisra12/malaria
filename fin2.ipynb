{
 "cells": [
  {
   "cell_type": "code",
   "execution_count": 27,
   "metadata": {
    "colab": {
     "base_uri": "https://localhost:8080/"
    },
    "collapsed": true,
    "id": "vEH8xELycO_S",
    "outputId": "2e77b39f-8c55-48c0-b2d6-3ac93cb586b1"
   },
   "outputs": [
    {
     "name": "stdout",
     "output_type": "stream",
     "text": [
      "Requirement already satisfied: keras-metrics in c:\\users\\tushar\\.conda\\envs\\project1\\lib\\site-packages (1.1.0)\n",
      "Requirement already satisfied: Keras>=2.1.5 in c:\\users\\tushar\\.conda\\envs\\project1\\lib\\site-packages (from keras-metrics) (2.9.0)\n",
      "Requirement already satisfied: pandas in c:\\users\\tushar\\.conda\\envs\\project1\\lib\\site-packages (1.4.2)\n",
      "Requirement already satisfied: numpy>=1.18.5 in c:\\users\\tushar\\.conda\\envs\\project1\\lib\\site-packages (from pandas) (1.21.2)\n",
      "Requirement already satisfied: pytz>=2020.1 in c:\\users\\tushar\\.conda\\envs\\project1\\lib\\site-packages (from pandas) (2022.1)\n",
      "Requirement already satisfied: python-dateutil>=2.8.1 in c:\\users\\tushar\\.conda\\envs\\project1\\lib\\site-packages (from pandas) (2.8.2)\n",
      "Requirement already satisfied: six>=1.5 in c:\\users\\tushar\\.conda\\envs\\project1\\lib\\site-packages (from python-dateutil>=2.8.1->pandas) (1.16.0)\n"
     ]
    }
   ],
   "source": [
    "!pip install keras-metrics\n",
    "!pip install pandas"
   ]
  },
  {
   "cell_type": "code",
   "execution_count": 28,
   "metadata": {
    "colab": {
     "base_uri": "https://localhost:8080/"
    },
    "id": "X9Y5JK8Iw9bV",
    "outputId": "90848da4-6beb-49e9-ba7e-def5fce5ac09"
   },
   "outputs": [
    {
     "name": "stdout",
     "output_type": "stream",
     "text": [
      "2.9.0\n"
     ]
    }
   ],
   "source": [
    "import tensorflow as tf\n",
    "from tensorflow.keras import Sequential\n",
    "from tensorflow.keras.layers import Flatten , Dense , Conv2D , MaxPool2D ,  Dropout, Activation\n",
    "from tensorflow.keras.preprocessing.image import ImageDataGenerator,img_to_array, load_img\n",
    "from keras.preprocessing import image\n",
    "from tensorflow.keras.models import Model\n",
    "import PIL\n",
    "import PIL.Image\n",
    "from PIL import Image\n",
    "import cv2\n",
    "from numpy import asarray\n",
    "import numpy\n",
    "import pandas as pd\n",
    "\n",
    "import keras_metrics\n",
    "print(tf.__version__)"
   ]
  },
  {
   "cell_type": "code",
   "execution_count": 29,
   "metadata": {
    "id": "D2LYD57hyPh8"
   },
   "outputs": [],
   "source": [
    "import numpy as np\n",
    "import matplotlib.pyplot as plt\n"
   ]
  },
  {
   "cell_type": "code",
   "execution_count": 30,
   "metadata": {
    "id": "ouduim4ezKRa"
   },
   "outputs": [],
   "source": [
    "img_width = 64\n",
    "img_height = 64"
   ]
  },
  {
   "cell_type": "code",
   "execution_count": 31,
   "metadata": {
    "id": "muJZBLi8zXAR"
   },
   "outputs": [],
   "source": [
    "datagen = ImageDataGenerator(rescale=1/255.0, validation_split=0.4)\n",
    "\n"
   ]
  },
  {
   "cell_type": "code",
   "execution_count": 32,
   "metadata": {
    "colab": {
     "base_uri": "https://localhost:8080/"
    },
    "id": "KSUsOE9dzg-6",
    "outputId": "c7481f0c-56da-45c0-9b0d-e5b78c5cab31"
   },
   "outputs": [
    {
     "name": "stdout",
     "output_type": "stream",
     "text": [
      "Found 16536 images belonging to 2 classes.\n"
     ]
    }
   ],
   "source": [
    "train_data_generator = datagen.flow_from_directory(directory='C:/Users/TUSHAR/malaria/cell_images',\n",
    "                          target_size = (img_width, img_height),\n",
    "                                                   class_mode = 'binary',\n",
    "                                                   batch_size = 16,\n",
    "                                                   subset = 'training'\n",
    "                                                   \n",
    "                                                   )            "
   ]
  },
  {
   "cell_type": "code",
   "execution_count": 33,
   "metadata": {
    "colab": {
     "base_uri": "https://localhost:8080/"
    },
    "id": "vgKR8c8t0Zeu",
    "outputId": "3d68a0b9-c49e-46b6-e745-62502fe5343d"
   },
   "outputs": [
    {
     "name": "stdout",
     "output_type": "stream",
     "text": [
      "Found 11022 images belonging to 2 classes.\n"
     ]
    }
   ],
   "source": [
    "validation_data_generator = datagen.flow_from_directory(directory='C:/Users/TUSHAR/malaria/cell_images',\n",
    "                                                   target_size = (img_width, img_height),\n",
    "                                                   class_mode = 'binary',\n",
    "                                                   batch_size = 16,\n",
    "                                                   subset = 'validation'\n",
    "                                                   \n",
    "                                                   )"
   ]
  },
  {
   "cell_type": "code",
   "execution_count": 34,
   "metadata": {
    "colab": {
     "base_uri": "https://localhost:8080/",
     "height": 149
    },
    "id": "JvaAQGK0aQ-3",
    "outputId": "e3a81670-a122-4959-e1fd-24287b8e3127"
   },
   "outputs": [
    {
     "name": "stdout",
     "output_type": "stream",
     "text": [
      "Parasitized Cell :\n"
     ]
    },
    {
     "data": {
      "image/png": "[encoded data removed]",
      "text/plain": [
       "<PIL.PngImagePlugin.PngImageFile image mode=RGB size=121x115 at 0x1E30B3E2F70>"
      ]
     },
     "execution_count": 34,
     "metadata": {},
     "output_type": "execute_result"
    }
   ],
   "source": [
    "path1 = \"C:/Users/TUSHAR/malaria/cell_images/Parasitized/C100P61ThinF_IMG_20150918_144823_cell_162.png\"\n",
    "Load_image1 = tf.keras.preprocessing.image.load_img(path1)\n",
    "print(\"Parasitized Cell :\")\n",
    "Load_image1\n",
    "\n"
   ]
  },
  {
   "cell_type": "code",
   "execution_count": 35,
   "metadata": {
    "colab": {
     "base_uri": "https://localhost:8080/",
     "height": 170
    },
    "id": "4zcsnhshex49",
    "outputId": "d82470b3-88fe-423a-8abf-65c167b2b034"
   },
   "outputs": [
    {
     "name": "stdout",
     "output_type": "stream",
     "text": [
      "Uninfected Cell :\n"
     ]
    },
    {
     "data": {
      "image/png": "[encoded data removed]",
      "text/plain": [
       "<PIL.PngImagePlugin.PngImageFile image mode=RGB size=145x136 at 0x1E30B3D5340>"
      ]
     },
     "execution_count": 35,
     "metadata": {},
     "output_type": "execute_result"
    }
   ],
   "source": [
    "path2 = \"C:/Users/TUSHAR/malaria/cell_images/Uninfected/C100P61ThinF_IMG_20150918_144104_cell_131.png\"\n",
    "print(\"Uninfected Cell :\")\n",
    "Load_image2 = tf.keras.preprocessing.image.load_img(path2)\n",
    "Load_image2"
   ]
  },
  {
   "cell_type": "code",
   "execution_count": 36,
   "metadata": {
    "colab": {
     "base_uri": "https://localhost:8080/"
    },
    "id": "xM8DXxg-uHAV",
    "outputId": "4920b423-7d01-4970-f9f3-2654301e59c2"
   },
   "outputs": [
    {
     "data": {
      "text/plain": [
       "array([0, 0, 0, ..., 1, 1, 1])"
      ]
     },
     "execution_count": 36,
     "metadata": {},
     "output_type": "execute_result"
    }
   ],
   "source": [
    "train_data_generator.labels"
   ]
  },
  {
   "cell_type": "markdown",
   "metadata": {
    "id": "yDzgtu_J0wCV"
   },
   "source": [
    "# CNN model"
   ]
  },
  {
   "cell_type": "code",
   "execution_count": 37,
   "metadata": {
    "colab": {
     "base_uri": "https://localhost:8080/"
    },
    "id": "_OKNXTUI023E",
    "outputId": "e08e8acb-966e-467b-f4d6-d7f57052cc98"
   },
   "outputs": [
    {
     "name": "stdout",
     "output_type": "stream",
     "text": [
      "Model: \"sequential_2\"\n",
      "_________________________________________________________________\n",
      " Layer (type)                Output Shape              Param #   \n",
      "=================================================================\n",
      " conv2d_6 (Conv2D)           (None, 57, 57, 64)        12352     \n",
      "                                                                 \n",
      " max_pooling2d_6 (MaxPooling  (None, 28, 28, 64)       0         \n",
      " 2D)                                                             \n",
      "                                                                 \n",
      " conv2d_7 (Conv2D)           (None, 25, 25, 32)        32800     \n",
      "                                                                 \n",
      " max_pooling2d_7 (MaxPooling  (None, 12, 12, 32)       0         \n",
      " 2D)                                                             \n",
      "                                                                 \n",
      " conv2d_8 (Conv2D)           (None, 11, 11, 8)         1032      \n",
      "                                                                 \n",
      " max_pooling2d_8 (MaxPooling  (None, 5, 5, 8)          0         \n",
      " 2D)                                                             \n",
      "                                                                 \n",
      " dropout_4 (Dropout)         (None, 5, 5, 8)           0         \n",
      "                                                                 \n",
      " flatten_2 (Flatten)         (None, 200)               0         \n",
      "                                                                 \n",
      " dense_4 (Dense)             (None, 64)                12864     \n",
      "                                                                 \n",
      " dropout_5 (Dropout)         (None, 64)                0         \n",
      "                                                                 \n",
      " dense_5 (Dense)             (None, 1)                 65        \n",
      "                                                                 \n",
      "=================================================================\n",
      "Total params: 59,113\n",
      "Trainable params: 59,113\n",
      "Non-trainable params: 0\n",
      "_________________________________________________________________\n"
     ]
    }
   ],
   "source": [
    "model = Sequential()\n",
    "\n",
    "model.add(Conv2D(64,(8,8), input_shape = (img_width,img_height,3), activation = \"relu\"))\n",
    "model.add(MaxPool2D(2,2))\n",
    "# model.add(Dropout(0.2))\n",
    "model.add(Conv2D(32,(4,4), activation = \"relu\"))\n",
    "model.add(MaxPool2D(2,2))\n",
    "# model.add(Dropout(0.2))\n",
    "model.add(Conv2D(8,(2,2), activation = \"relu\"))\n",
    "model.add(MaxPool2D(2,2))\n",
    "model.add(Dropout(0.3))\n",
    "model.add(Flatten())\n",
    "model.add(Dense(64, activation = \"relu\"))\n",
    "model.add(Dropout(0.5))\n",
    "\n",
    "model.add(Dense(1, activation = \"sigmoid\"))\n",
    "\n",
    "model.summary()"
   ]
  },
  {
   "cell_type": "code",
   "execution_count": 38,
   "metadata": {
    "id": "zQTc8VRg2RkP"
   },
   "outputs": [],
   "source": [
    "model.compile(optimizer='adam',loss='binary_crossentropy',metrics=[\"accuracy\",tf.keras.metrics.AUC(),\n",
    "          tf.keras.metrics.Precision(),tf.keras.metrics.Recall(), tf.keras.metrics.FalseNegatives(),\n",
    "          tf.keras.metrics.FalsePositives(),tf.keras.metrics.TrueNegatives(),tf.keras.metrics.TruePositives()])\n"
   ]
  },
  {
   "cell_type": "code",
   "execution_count": 39,
   "metadata": {
    "colab": {
     "base_uri": "https://localhost:8080/"
    },
    "id": "9_6L26VC2b5w",
    "outputId": "f78daf83-a6b1-4e64-d8ab-a946d92c6d71",
    "scrolled": false
   },
   "outputs": [
    {
     "name": "stdout",
     "output_type": "stream",
     "text": [
      "Epoch 1/15\n"
     ]
    },
    {
     "name": "stderr",
     "output_type": "stream",
     "text": [
      "C:\\Users\\TUSHAR\\AppData\\Local\\Temp/ipykernel_26844/2835613124.py:1: UserWarning: `Model.fit_generator` is deprecated and will be removed in a future version. Please use `Model.fit`, which supports generators.\n",
      "  history = model.fit_generator(generator=train_data_generator,\n"
     ]
    },
    {
     "name": "stdout",
     "output_type": "stream",
     "text": [
      "1034/1034 [==============================] - 75s 71ms/step - loss: 0.6909 - accuracy: 0.5304 - auc_2: 0.5477 - precision_2: 0.5292 - recall_2: 0.5501 - false_negatives_2: 3720.0000 - false_positives_2: 4046.0000 - true_negatives_2: 4222.0000 - true_positives_2: 4548.0000 - val_loss: 0.6898 - val_accuracy: 0.5341 - val_auc_2: 0.5866 - val_precision_2: 0.5220 - val_recall_2: 0.8084 - val_false_negatives_2: 1056.0000 - val_false_positives_2: 4079.0000 - val_true_negatives_2: 1432.0000 - val_true_positives_2: 4455.0000\n",
      "Epoch 2/15\n",
      "1034/1034 [==============================] - 70s 68ms/step - loss: 0.4478 - accuracy: 0.7978 - auc_2: 0.8769 - precision_2: 0.7671 - recall_2: 0.8553 - false_negatives_2: 1196.0000 - false_positives_2: 2147.0000 - true_negatives_2: 6121.0000 - true_positives_2: 7072.0000 - val_loss: 0.2604 - val_accuracy: 0.9036 - val_auc_2: 0.9614 - val_precision_2: 0.8760 - val_recall_2: 0.9405 - val_false_negatives_2: 328.0000 - val_false_positives_2: 734.0000 - val_true_negatives_2: 4777.0000 - val_true_positives_2: 5183.0000\n",
      "Epoch 3/15\n",
      "1034/1034 [==============================] - 70s 68ms/step - loss: 0.2515 - accuracy: 0.9133 - auc_2: 0.9577 - precision_2: 0.8926 - recall_2: 0.9396 - false_negatives_2: 499.0000 - false_positives_2: 935.0000 - true_negatives_2: 7333.0000 - true_positives_2: 7769.0000 - val_loss: 0.2277 - val_accuracy: 0.9061 - val_auc_2: 0.9715 - val_precision_2: 0.9224 - val_recall_2: 0.8868 - val_false_negatives_2: 624.0000 - val_false_positives_2: 411.0000 - val_true_negatives_2: 5100.0000 - val_true_positives_2: 4887.0000\n",
      "Epoch 4/15\n",
      "1034/1034 [==============================] - 67s 65ms/step - loss: 0.2233 - accuracy: 0.9229 - auc_2: 0.9658 - precision_2: 0.9051 - recall_2: 0.9448 - false_negatives_2: 456.0000 - false_positives_2: 819.0000 - true_negatives_2: 7449.0000 - true_positives_2: 7812.0000 - val_loss: 0.2055 - val_accuracy: 0.9240 - val_auc_2: 0.9770 - val_precision_2: 0.9310 - val_recall_2: 0.9158 - val_false_negatives_2: 464.0000 - val_false_positives_2: 374.0000 - val_true_negatives_2: 5137.0000 - val_true_positives_2: 5047.0000\n",
      "Epoch 5/15\n",
      "1034/1034 [==============================] - 71s 68ms/step - loss: 0.2079 - accuracy: 0.9295 - auc_2: 0.9710 - precision_2: 0.9154 - recall_2: 0.9465 - false_negatives_2: 442.0000 - false_positives_2: 723.0000 - true_negatives_2: 7545.0000 - true_positives_2: 7826.0000 - val_loss: 0.1846 - val_accuracy: 0.9310 - val_auc_2: 0.9793 - val_precision_2: 0.9328 - val_recall_2: 0.9291 - val_false_negatives_2: 391.0000 - val_false_positives_2: 369.0000 - val_true_negatives_2: 5142.0000 - val_true_positives_2: 5120.0000\n",
      "Epoch 6/15\n",
      "1034/1034 [==============================] - 70s 67ms/step - loss: 0.2026 - accuracy: 0.9343 - auc_2: 0.9724 - precision_2: 0.9212 - recall_2: 0.9499 - false_negatives_2: 414.0000 - false_positives_2: 672.0000 - true_negatives_2: 7596.0000 - true_positives_2: 7854.0000 - val_loss: 0.1789 - val_accuracy: 0.9334 - val_auc_2: 0.9801 - val_precision_2: 0.9342 - val_recall_2: 0.9325 - val_false_negatives_2: 372.0000 - val_false_positives_2: 362.0000 - val_true_negatives_2: 5149.0000 - val_true_positives_2: 5139.0000\n",
      "Epoch 7/15\n",
      "1034/1034 [==============================] - 71s 68ms/step - loss: 0.1936 - accuracy: 0.9362 - auc_2: 0.9745 - precision_2: 0.9240 - recall_2: 0.9505 - false_negatives_2: 409.0000 - false_positives_2: 646.0000 - true_negatives_2: 7622.0000 - true_positives_2: 7859.0000 - val_loss: 0.1704 - val_accuracy: 0.9418 - val_auc_2: 0.9804 - val_precision_2: 0.9305 - val_recall_2: 0.9550 - val_false_negatives_2: 248.0000 - val_false_positives_2: 393.0000 - val_true_negatives_2: 5118.0000 - val_true_positives_2: 5263.0000\n",
      "Epoch 8/15\n",
      "1034/1034 [==============================] - 77s 75ms/step - loss: 0.1874 - accuracy: 0.9384 - auc_2: 0.9763 - precision_2: 0.9266 - recall_2: 0.9522 - false_negatives_2: 395.0000 - false_positives_2: 624.0000 - true_negatives_2: 7644.0000 - true_positives_2: 7873.0000 - val_loss: 0.1707 - val_accuracy: 0.9408 - val_auc_2: 0.9812 - val_precision_2: 0.9347 - val_recall_2: 0.9477 - val_false_negatives_2: 288.0000 - val_false_positives_2: 365.0000 - val_true_negatives_2: 5146.0000 - val_true_positives_2: 5223.0000\n",
      "Epoch 9/15\n",
      "1034/1034 [==============================] - 69s 67ms/step - loss: 0.1804 - accuracy: 0.9392 - auc_2: 0.9783 - precision_2: 0.9257 - recall_2: 0.9550 - false_negatives_2: 372.0000 - false_positives_2: 634.0000 - true_negatives_2: 7634.0000 - true_positives_2: 7896.0000 - val_loss: 0.1705 - val_accuracy: 0.9408 - val_auc_2: 0.9814 - val_precision_2: 0.9385 - val_recall_2: 0.9436 - val_false_negatives_2: 311.0000 - val_false_positives_2: 341.0000 - val_true_negatives_2: 5170.0000 - val_true_positives_2: 5200.0000\n",
      "Epoch 10/15\n",
      "1034/1034 [==============================] - 66s 64ms/step - loss: 0.1756 - accuracy: 0.9436 - auc_2: 0.9789 - precision_2: 0.9323 - recall_2: 0.9567 - false_negatives_2: 358.0000 - false_positives_2: 574.0000 - true_negatives_2: 7694.0000 - true_positives_2: 7910.0000 - val_loss: 0.1684 - val_accuracy: 0.9449 - val_auc_2: 0.9810 - val_precision_2: 0.9299 - val_recall_2: 0.9624 - val_false_negatives_2: 207.0000 - val_false_positives_2: 400.0000 - val_true_negatives_2: 5111.0000 - val_true_positives_2: 5304.0000\n",
      "Epoch 11/15\n",
      "1034/1034 [==============================] - 77s 74ms/step - loss: 0.1757 - accuracy: 0.9419 - auc_2: 0.9783 - precision_2: 0.9314 - recall_2: 0.9540 - false_negatives_2: 380.0000 - false_positives_2: 581.0000 - true_negatives_2: 7687.0000 - true_positives_2: 7888.0000 - val_loss: 0.1611 - val_accuracy: 0.9465 - val_auc_2: 0.9825 - val_precision_2: 0.9418 - val_recall_2: 0.9517 - val_false_negatives_2: 266.0000 - val_false_positives_2: 324.0000 - val_true_negatives_2: 5187.0000 - val_true_positives_2: 5245.0000\n",
      "Epoch 12/15\n",
      "1034/1034 [==============================] - 64s 62ms/step - loss: 0.1730 - accuracy: 0.9424 - auc_2: 0.9791 - precision_2: 0.9311 - recall_2: 0.9556 - false_negatives_2: 367.0000 - false_positives_2: 585.0000 - true_negatives_2: 7683.0000 - true_positives_2: 7901.0000 - val_loss: 0.1592 - val_accuracy: 0.9453 - val_auc_2: 0.9835 - val_precision_2: 0.9447 - val_recall_2: 0.9459 - val_false_negatives_2: 298.0000 - val_false_positives_2: 305.0000 - val_true_negatives_2: 5206.0000 - val_true_positives_2: 5213.0000\n",
      "Epoch 13/15\n",
      "1034/1034 [==============================] - 74s 72ms/step - loss: 0.1695 - accuracy: 0.9449 - auc_2: 0.9798 - precision_2: 0.9354 - recall_2: 0.9559 - false_negatives_2: 365.0000 - false_positives_2: 546.0000 - true_negatives_2: 7722.0000 - true_positives_2: 7903.0000 - val_loss: 0.1623 - val_accuracy: 0.9457 - val_auc_2: 0.9819 - val_precision_2: 0.9416 - val_recall_2: 0.9505 - val_false_negatives_2: 273.0000 - val_false_positives_2: 325.0000 - val_true_negatives_2: 5186.0000 - val_true_positives_2: 5238.0000\n",
      "Epoch 14/15\n",
      "1034/1034 [==============================] - 71s 69ms/step - loss: 0.1656 - accuracy: 0.9459 - auc_2: 0.9802 - precision_2: 0.9350 - recall_2: 0.9584 - false_negatives_2: 344.0000 - false_positives_2: 551.0000 - true_negatives_2: 7717.0000 - true_positives_2: 7924.0000 - val_loss: 0.1538 - val_accuracy: 0.9482 - val_auc_2: 0.9846 - val_precision_2: 0.9452 - val_recall_2: 0.9516 - val_false_negatives_2: 267.0000 - val_false_positives_2: 304.0000 - val_true_negatives_2: 5207.0000 - val_true_positives_2: 5244.0000\n",
      "Epoch 15/15\n",
      "1034/1034 [==============================] - 73s 71ms/step - loss: 0.1627 - accuracy: 0.9467 - auc_2: 0.9811 - precision_2: 0.9359 - recall_2: 0.9591 - false_negatives_2: 338.0000 - false_positives_2: 543.0000 - true_negatives_2: 7725.0000 - true_positives_2: 7930.0000 - val_loss: 0.1645 - val_accuracy: 0.9426 - val_auc_2: 0.9821 - val_precision_2: 0.9393 - val_recall_2: 0.9463 - val_false_negatives_2: 296.0000 - val_false_positives_2: 337.0000 - val_true_negatives_2: 5174.0000 - val_true_positives_2: 5215.0000\n"
     ]
    }
   ],
   "source": [
    "history = model.fit_generator(generator=train_data_generator,\n",
    "                              steps_per_epoch = len(train_data_generator),\n",
    "                              epochs = 15,\n",
    "                              validation_data = validation_data_generator,\n",
    "                              validation_steps = len(validation_data_generator))"
   ]
  },
  {
   "cell_type": "code",
   "execution_count": 40,
   "metadata": {
    "colab": {
     "base_uri": "https://localhost:8080/"
    },
    "id": "9yW-mrfu5hXI",
    "outputId": "a7e194ac-9fa6-48bc-bbb8-c4cffd5bf2db",
    "scrolled": false
   },
   "outputs": [
    {
     "data": {
      "text/plain": [
       "{'loss': [0.6909405589103699,\n",
       "  0.4477909803390503,\n",
       "  0.25147441029548645,\n",
       "  0.22327058017253876,\n",
       "  0.20785389840602875,\n",
       "  0.20263883471488953,\n",
       "  0.19363988935947418,\n",
       "  0.1874086707830429,\n",
       "  0.18043053150177002,\n",
       "  0.17564402520656586,\n",
       "  0.17570514976978302,\n",
       "  0.17303292453289032,\n",
       "  0.16945035755634308,\n",
       "  0.16563823819160461,\n",
       "  0.1626676321029663],\n",
       " 'accuracy': [0.5303580164909363,\n",
       "  0.7978350520133972,\n",
       "  0.9132801294326782,\n",
       "  0.9228954911231995,\n",
       "  0.9295476675033569,\n",
       "  0.934325098991394,\n",
       "  0.9361997842788696,\n",
       "  0.9383769035339355,\n",
       "  0.9391630291938782,\n",
       "  0.9436381459236145,\n",
       "  0.9418843984603882,\n",
       "  0.9424286484718323,\n",
       "  0.944908082485199,\n",
       "  0.9458756446838379,\n",
       "  0.9467223286628723],\n",
       " 'auc_2': [0.5477216839790344,\n",
       "  0.8769235610961914,\n",
       "  0.9577429890632629,\n",
       "  0.9657551050186157,\n",
       "  0.9709897041320801,\n",
       "  0.9723843336105347,\n",
       "  0.9744882583618164,\n",
       "  0.9763378500938416,\n",
       "  0.9782754182815552,\n",
       "  0.9788532853126526,\n",
       "  0.9782692193984985,\n",
       "  0.9790949821472168,\n",
       "  0.979829728603363,\n",
       "  0.9802178144454956,\n",
       "  0.9810640811920166],\n",
       " 'precision_2': [0.529206395149231,\n",
       "  0.7671114206314087,\n",
       "  0.892578125,\n",
       "  0.9051094651222229,\n",
       "  0.9154286980628967,\n",
       "  0.9211822748184204,\n",
       "  0.924044668674469,\n",
       "  0.9265623092651367,\n",
       "  0.9256740808486938,\n",
       "  0.9323432445526123,\n",
       "  0.9313968420028687,\n",
       "  0.9310629367828369,\n",
       "  0.9353769421577454,\n",
       "  0.9349852800369263,\n",
       "  0.9359140992164612],\n",
       " 'recall_2': [0.5500725507736206,\n",
       "  0.8553459048271179,\n",
       "  0.93964684009552,\n",
       "  0.944847583770752,\n",
       "  0.946540892124176,\n",
       "  0.9499274492263794,\n",
       "  0.9505321979522705,\n",
       "  0.9522254467010498,\n",
       "  0.9550072550773621,\n",
       "  0.9567005038261414,\n",
       "  0.9540396928787231,\n",
       "  0.9556120038032532,\n",
       "  0.9558538794517517,\n",
       "  0.9583938121795654,\n",
       "  0.9591194987297058],\n",
       " 'false_negatives_2': [3720.0,\n",
       "  1196.0,\n",
       "  499.0,\n",
       "  456.0,\n",
       "  442.0,\n",
       "  414.0,\n",
       "  409.0,\n",
       "  395.0,\n",
       "  372.0,\n",
       "  358.0,\n",
       "  380.0,\n",
       "  367.0,\n",
       "  365.0,\n",
       "  344.0,\n",
       "  338.0],\n",
       " 'false_positives_2': [4046.0,\n",
       "  2147.0,\n",
       "  935.0,\n",
       "  819.0,\n",
       "  723.0,\n",
       "  672.0,\n",
       "  646.0,\n",
       "  624.0,\n",
       "  634.0,\n",
       "  574.0,\n",
       "  581.0,\n",
       "  585.0,\n",
       "  546.0,\n",
       "  551.0,\n",
       "  543.0],\n",
       " 'true_negatives_2': [4222.0,\n",
       "  6121.0,\n",
       "  7333.0,\n",
       "  7449.0,\n",
       "  7545.0,\n",
       "  7596.0,\n",
       "  7622.0,\n",
       "  7644.0,\n",
       "  7634.0,\n",
       "  7694.0,\n",
       "  7687.0,\n",
       "  7683.0,\n",
       "  7722.0,\n",
       "  7717.0,\n",
       "  7725.0],\n",
       " 'true_positives_2': [4548.0,\n",
       "  7072.0,\n",
       "  7769.0,\n",
       "  7812.0,\n",
       "  7826.0,\n",
       "  7854.0,\n",
       "  7859.0,\n",
       "  7873.0,\n",
       "  7896.0,\n",
       "  7910.0,\n",
       "  7888.0,\n",
       "  7901.0,\n",
       "  7903.0,\n",
       "  7924.0,\n",
       "  7930.0],\n",
       " 'val_loss': [0.6897503137588501,\n",
       "  0.260418176651001,\n",
       "  0.22774986922740936,\n",
       "  0.20551727712154388,\n",
       "  0.18455682694911957,\n",
       "  0.17894352972507477,\n",
       "  0.17042985558509827,\n",
       "  0.17069067060947418,\n",
       "  0.17047655582427979,\n",
       "  0.16836172342300415,\n",
       "  0.16107745468616486,\n",
       "  0.15921920537948608,\n",
       "  0.16231225430965424,\n",
       "  0.1538246124982834,\n",
       "  0.16448237001895905],\n",
       " 'val_accuracy': [0.5341135859489441,\n",
       "  0.903647243976593,\n",
       "  0.906096875667572,\n",
       "  0.9239702224731445,\n",
       "  0.9310470223426819,\n",
       "  0.9334059357643127,\n",
       "  0.941843569278717,\n",
       "  0.9407548308372498,\n",
       "  0.9408456087112427,\n",
       "  0.9449283480644226,\n",
       "  0.9464706778526306,\n",
       "  0.9452912211418152,\n",
       "  0.9457448720932007,\n",
       "  0.9481945037841797,\n",
       "  0.9425694346427917],\n",
       " 'val_auc_2': [0.5866336822509766,\n",
       "  0.9614176750183105,\n",
       "  0.971515417098999,\n",
       "  0.9770104885101318,\n",
       "  0.9793145060539246,\n",
       "  0.9801390767097473,\n",
       "  0.9803515672683716,\n",
       "  0.9811778664588928,\n",
       "  0.9813694953918457,\n",
       "  0.9810308814048767,\n",
       "  0.9825279712677002,\n",
       "  0.9835000038146973,\n",
       "  0.9819020628929138,\n",
       "  0.9845790863037109,\n",
       "  0.9820948243141174],\n",
       " 'val_precision_2': [0.5220295190811157,\n",
       "  0.8759506344795227,\n",
       "  0.9224235415458679,\n",
       "  0.93100905418396,\n",
       "  0.9327746629714966,\n",
       "  0.9341937899589539,\n",
       "  0.930516242980957,\n",
       "  0.9346814751625061,\n",
       "  0.9384587407112122,\n",
       "  0.9298737645149231,\n",
       "  0.9418208003044128,\n",
       "  0.9447263479232788,\n",
       "  0.9415782690048218,\n",
       "  0.9452054500579834,\n",
       "  0.9393011331558228],\n",
       " 'val_recall_2': [0.8083832263946533,\n",
       "  0.9404826760292053,\n",
       "  0.8867719173431396,\n",
       "  0.9158047437667847,\n",
       "  0.9290509819984436,\n",
       "  0.9324986338615417,\n",
       "  0.9549990892410278,\n",
       "  0.9477408528327942,\n",
       "  0.9435673952102661,\n",
       "  0.9624387621879578,\n",
       "  0.951732873916626,\n",
       "  0.945926308631897,\n",
       "  0.9504626989364624,\n",
       "  0.9515514373779297,\n",
       "  0.9462892413139343],\n",
       " 'val_false_negatives_2': [1056.0,\n",
       "  328.0,\n",
       "  624.0,\n",
       "  464.0,\n",
       "  391.0,\n",
       "  372.0,\n",
       "  248.0,\n",
       "  288.0,\n",
       "  311.0,\n",
       "  207.0,\n",
       "  266.0,\n",
       "  298.0,\n",
       "  273.0,\n",
       "  267.0,\n",
       "  296.0],\n",
       " 'val_false_positives_2': [4079.0,\n",
       "  734.0,\n",
       "  411.0,\n",
       "  374.0,\n",
       "  369.0,\n",
       "  362.0,\n",
       "  393.0,\n",
       "  365.0,\n",
       "  341.0,\n",
       "  400.0,\n",
       "  324.0,\n",
       "  305.0,\n",
       "  325.0,\n",
       "  304.0,\n",
       "  337.0],\n",
       " 'val_true_negatives_2': [1432.0,\n",
       "  4777.0,\n",
       "  5100.0,\n",
       "  5137.0,\n",
       "  5142.0,\n",
       "  5149.0,\n",
       "  5118.0,\n",
       "  5146.0,\n",
       "  5170.0,\n",
       "  5111.0,\n",
       "  5187.0,\n",
       "  5206.0,\n",
       "  5186.0,\n",
       "  5207.0,\n",
       "  5174.0],\n",
       " 'val_true_positives_2': [4455.0,\n",
       "  5183.0,\n",
       "  4887.0,\n",
       "  5047.0,\n",
       "  5120.0,\n",
       "  5139.0,\n",
       "  5263.0,\n",
       "  5223.0,\n",
       "  5200.0,\n",
       "  5304.0,\n",
       "  5245.0,\n",
       "  5213.0,\n",
       "  5238.0,\n",
       "  5244.0,\n",
       "  5215.0]}"
      ]
     },
     "execution_count": 40,
     "metadata": {},
     "output_type": "execute_result"
    }
   ],
   "source": [
    "history.history"
   ]
  },
  {
   "cell_type": "markdown",
   "metadata": {
    "id": "b-3-mdNOOdG3"
   },
   "source": [
    "Plotting Graphs and Outputs"
   ]
  },
  {
   "cell_type": "code",
   "execution_count": 41,
   "metadata": {
    "id": "WKEx_Yt05nZa"
   },
   "outputs": [],
   "source": [
    "def plot_learningCurve(history,epoch):\n",
    "  #plot learning and validation accuracy values\n",
    "  epoch_range=range(1,epoch+1)\n",
    "  plt.plot(epoch_range,history.history['accuracy'])\n",
    "  plt.plot(epoch_range,history.history['val_accuracy'])\n",
    "  plt.title(\"Model accuracy\")\n",
    "  plt.ylabel(\"Accuracy\")\n",
    "  plt.xlabel(\"Epoch\")\n",
    "  plt.legend(['Train','Val'], loc = 'upper left')\n",
    "  plt.show()\n",
    "\n",
    "   #plot learning and validation loss values\n",
    "  plt.plot(epoch_range,history.history['loss'])\n",
    "  plt.plot(epoch_range,history.history['val_loss'])\n",
    "  plt.title(\"Model loss\")\n",
    "  plt.ylabel(\"loss\")\n",
    "  plt.xlabel(\"Epoch\")\n",
    "  plt.legend(['Train','Val'], loc = 'upper left')\n",
    "  plt.show()"
   ]
  },
  {
   "cell_type": "code",
   "execution_count": 42,
   "metadata": {
    "colab": {
     "base_uri": "https://localhost:8080/",
     "height": 573
    },
    "id": "9XG7RUHj6wo8",
    "outputId": "b1b3c3d0-686d-4974-a39c-465d7e87fe84"
   },
   "outputs": [
    {
     "data": {
      "image/png": "[encoded data removed]",
      "text/plain": [
       "<Figure size 432x288 with 1 Axes>"
      ]
     },
     "metadata": {
      "needs_background": "light"
     },
     "output_type": "display_data"
    },
    {
     "data": {
      "image/png": "[encoded data removed]",
      "text/plain": [
       "<Figure size 432x288 with 1 Axes>"
      ]
     },
     "metadata": {
      "needs_background": "light"
     },
     "output_type": "display_data"
    }
   ],
   "source": [
    "plot_learningCurve(history,15)"
   ]
  },
  {
   "cell_type": "code",
   "execution_count": 43,
   "metadata": {
    "id": "euxuomiB7eWK"
   },
   "outputs": [],
   "source": [
    "img_path=r\"C:/Users/TUSHAR/malaria/cell_images/Parasitized/C100P61ThinF_IMG_20150918_144104_cell_162.png\"\n",
    "img = tf.keras.preprocessing.image.load_img(img_path, target_size=(64,64))\n",
    "img_tensor = img_to_array(img)\n",
    "img_tensor = np.expand_dims(img_tensor, axis=0)\n",
    "img_tensor /= 255.\n"
   ]
  },
  {
   "cell_type": "code",
   "execution_count": 44,
   "metadata": {
    "colab": {
     "base_uri": "https://localhost:8080/",
     "height": 69
    },
    "id": "mfRoAO5h7MXj",
    "outputId": "a53d37b5-6b3e-4459-c934-16004e92a52b",
    "scrolled": false
   },
   "outputs": [
    {
     "name": "stdout",
     "output_type": "stream",
     "text": [
      "dropout_4\n",
      "tf.Tensor(\n",
      "[[[[0.00000000e+00 1.73097938e-01 0.00000000e+00 0.00000000e+00\n",
      "    0.00000000e+00 0.00000000e+00 0.00000000e+00 0.00000000e+00]\n",
      "   [0.00000000e+00 0.00000000e+00 0.00000000e+00 0.00000000e+00\n",
      "    1.42828673e-01 0.00000000e+00 2.42827386e-02 0.00000000e+00]\n",
      "   [0.00000000e+00 0.00000000e+00 0.00000000e+00 0.00000000e+00\n",
      "    0.00000000e+00 0.00000000e+00 8.71535391e-04 8.38693678e-02]\n",
      "   [0.00000000e+00 0.00000000e+00 0.00000000e+00 0.00000000e+00\n",
      "    0.00000000e+00 0.00000000e+00 0.00000000e+00 0.00000000e+00]\n",
      "   [0.00000000e+00 0.00000000e+00 0.00000000e+00 0.00000000e+00\n",
      "    0.00000000e+00 0.00000000e+00 0.00000000e+00 0.00000000e+00]]\n",
      "\n",
      "  [[0.00000000e+00 0.00000000e+00 0.00000000e+00 0.00000000e+00\n",
      "    0.00000000e+00 8.27272311e-02 3.28058600e-02 0.00000000e+00]\n",
      "   [0.00000000e+00 0.00000000e+00 0.00000000e+00 3.74564379e-01\n",
      "    0.00000000e+00 3.89788836e-01 3.24811250e-01 0.00000000e+00]\n",
      "   [0.00000000e+00 0.00000000e+00 7.63673261e-02 3.86379093e-01\n",
      "    0.00000000e+00 4.23981518e-01 4.01746988e-01 0.00000000e+00]\n",
      "   [0.00000000e+00 0.00000000e+00 0.00000000e+00 1.17938079e-01\n",
      "    0.00000000e+00 1.62084728e-01 1.31746054e-01 0.00000000e+00]\n",
      "   [0.00000000e+00 0.00000000e+00 0.00000000e+00 8.79727304e-03\n",
      "    0.00000000e+00 4.66039330e-02 5.19584119e-02 0.00000000e+00]]\n",
      "\n",
      "  [[0.00000000e+00 1.09150314e+00 1.66659579e-02 0.00000000e+00\n",
      "    4.37882334e-01 0.00000000e+00 5.77338696e-01 0.00000000e+00]\n",
      "   [4.25685197e-01 1.56982195e+00 3.30460370e-01 8.07685435e-01\n",
      "    1.86467841e-02 8.59021902e-01 3.63983631e-01 0.00000000e+00]\n",
      "   [7.16250539e-01 4.44101304e-01 1.72784460e+00 1.25927186e+00\n",
      "    0.00000000e+00 7.30916619e-01 8.52207541e-01 1.34153819e+00]\n",
      "   [0.00000000e+00 8.08337703e-03 0.00000000e+00 3.72481823e-01\n",
      "    0.00000000e+00 3.25027853e-01 3.33012283e-01 0.00000000e+00]\n",
      "   [0.00000000e+00 1.21524557e-02 3.35241407e-01 2.72138000e-01\n",
      "    0.00000000e+00 2.28144735e-01 2.33507007e-01 4.13939357e-03]]\n",
      "\n",
      "  [[0.00000000e+00 7.38781810e-01 0.00000000e+00 4.85570997e-01\n",
      "    1.29572868e+00 0.00000000e+00 9.47289348e-01 0.00000000e+00]\n",
      "   [2.20804691e+00 4.60054427e-01 1.63156837e-01 1.65700662e+00\n",
      "    2.49499965e+00 1.16296507e-01 8.02954912e-01 0.00000000e+00]\n",
      "   [1.69804752e+00 0.00000000e+00 1.43482554e+00 0.00000000e+00\n",
      "    8.06086361e-01 1.08421445e+00 2.00521064e+00 2.44991326e+00]\n",
      "   [5.89631438e-01 0.00000000e+00 3.60511750e-01 1.46997720e-03\n",
      "    0.00000000e+00 1.96469724e-01 0.00000000e+00 0.00000000e+00]\n",
      "   [0.00000000e+00 0.00000000e+00 2.17965215e-01 0.00000000e+00\n",
      "    0.00000000e+00 0.00000000e+00 2.90728897e-01 2.42585614e-01]]\n",
      "\n",
      "  [[0.00000000e+00 0.00000000e+00 0.00000000e+00 6.09985739e-03\n",
      "    8.51101950e-02 0.00000000e+00 6.99748769e-02 0.00000000e+00]\n",
      "   [0.00000000e+00 3.71643364e-01 0.00000000e+00 0.00000000e+00\n",
      "    2.88729459e-01 0.00000000e+00 2.73866236e-01 0.00000000e+00]\n",
      "   [0.00000000e+00 1.63303822e-01 3.52322996e-01 2.61449903e-01\n",
      "    2.34931201e-01 0.00000000e+00 5.67428097e-02 4.57022190e-02]\n",
      "   [2.93913394e-01 0.00000000e+00 2.93544412e-01 2.63874501e-01\n",
      "    2.26533264e-01 2.30479896e-01 0.00000000e+00 1.54498219e-02]\n",
      "   [0.00000000e+00 0.00000000e+00 1.15213610e-01 0.00000000e+00\n",
      "    0.00000000e+00 0.00000000e+00 1.44865662e-01 1.24154076e-01]]]], shape=(1, 5, 5, 8), dtype=float32)\n"
     ]
    },
    {
     "data": {
      "text/plain": [
       "<Figure size 1440x1440 with 0 Axes>"
      ]
     },
     "metadata": {},
     "output_type": "display_data"
    }
   ],
   "source": [
    "for j in range(0,1):\n",
    "  activation_model = Model(inputs=model.inputs, outputs=model.layers[6].output)\n",
    "  activation = activation_model(img_tensor)\n",
    "  print(model.get_layer(index = 6).name)\n",
    "  plt.figure(figsize=(20,20))\n",
    "  print(activation)"
   ]
  },
  {
   "cell_type": "code",
   "execution_count": 45,
   "metadata": {
    "colab": {
     "base_uri": "https://localhost:8080/",
     "height": 1000
    },
    "id": "jCfqFAChVV1j",
    "outputId": "5fce888d-3933-46f2-812c-e623ab7e4d11",
    "scrolled": false
   },
   "outputs": [
    {
     "name": "stdout",
     "output_type": "stream",
     "text": [
      "conv2d_6\n"
     ]
    },
    {
     "data": {
      "image/png": "[encoded data removed]",
      "text/plain": [
       "<Figure size 1440x1440 with 4 Axes>"
      ]
     },
     "metadata": {
      "needs_background": "light"
     },
     "output_type": "display_data"
    },
    {
     "name": "stdout",
     "output_type": "stream",
     "text": [
      "max_pooling2d_6\n"
     ]
    },
    {
     "data": {
      "image/png": "[encoded data removed]",
      "text/plain": [
       "<Figure size 1440x1440 with 4 Axes>"
      ]
     },
     "metadata": {
      "needs_background": "light"
     },
     "output_type": "display_data"
    },
    {
     "name": "stdout",
     "output_type": "stream",
     "text": [
      "conv2d_7\n"
     ]
    },
    {
     "data": {
      "image/png": "[encoded data removed]",
      "text/plain": [
       "<Figure size 1440x1440 with 4 Axes>"
      ]
     },
     "metadata": {
      "needs_background": "light"
     },
     "output_type": "display_data"
    },
    {
     "name": "stdout",
     "output_type": "stream",
     "text": [
      "max_pooling2d_7\n"
     ]
    },
    {
     "data": {
      "image/png": "[encoded data removed]",
      "text/plain": [
       "<Figure size 1440x1440 with 4 Axes>"
      ]
     },
     "metadata": {
      "needs_background": "light"
     },
     "output_type": "display_data"
    },
    {
     "name": "stdout",
     "output_type": "stream",
     "text": [
      "conv2d_8\n"
     ]
    },
    {
     "data": {
      "image/png": "[encoded data removed]",
      "text/plain": [
       "<Figure size 1440x1440 with 4 Axes>"
      ]
     },
     "metadata": {
      "needs_background": "light"
     },
     "output_type": "display_data"
    },
    {
     "name": "stdout",
     "output_type": "stream",
     "text": [
      "max_pooling2d_8\n"
     ]
    },
    {
     "data": {
      "image/png": "[encoded data removed]",
      "text/plain": [
       "<Figure size 1440x1440 with 4 Axes>"
      ]
     },
     "metadata": {
      "needs_background": "light"
     },
     "output_type": "display_data"
    },
    {
     "name": "stdout",
     "output_type": "stream",
     "text": [
      "dropout_4\n"
     ]
    },
    {
     "data": {
      "image/png": "[encoded data removed]",
      "text/plain": [
       "<Figure size 1440x1440 with 4 Axes>"
      ]
     },
     "metadata": {
      "needs_background": "light"
     },
     "output_type": "display_data"
    }
   ],
   "source": [
    "for j in range(0,7):\n",
    "  activation_model = Model(inputs=model.inputs, outputs=model.layers[j].output)\n",
    "  activation = activation_model(img_tensor)\n",
    "  print(model.get_layer(index = j).name)\n",
    "  plt.figure(figsize=(20,20))\n",
    "\n",
    "  for i in range(4):\n",
    "      plt.subplot(4,4,i+1)\n",
    "\n",
    "      plt.imshow(activation[0,:,:,i])\n",
    "  plt.show()"
   ]
  },
  {
   "cell_type": "code",
   "execution_count": 46,
   "metadata": {
    "colab": {
     "base_uri": "https://localhost:8080/",
     "height": 607
    },
    "id": "R3yOBelY7kcb",
    "outputId": "5667565e-c138-4a91-980d-d8e6014eed96",
    "scrolled": false
   },
   "outputs": [
    {
     "name": "stdout",
     "output_type": "stream",
     "text": [
      "flatten_2\n",
      "tf.Tensor(\n",
      "[[0.00000000e+00 1.73097938e-01 0.00000000e+00 0.00000000e+00\n",
      "  0.00000000e+00 0.00000000e+00 0.00000000e+00 0.00000000e+00\n",
      "  0.00000000e+00 0.00000000e+00 0.00000000e+00 0.00000000e+00\n",
      "  1.42828673e-01 0.00000000e+00 2.42827386e-02 0.00000000e+00\n",
      "  0.00000000e+00 0.00000000e+00 0.00000000e+00 0.00000000e+00\n",
      "  0.00000000e+00 0.00000000e+00 8.71535391e-04 8.38693678e-02\n",
      "  0.00000000e+00 0.00000000e+00 0.00000000e+00 0.00000000e+00\n",
      "  0.00000000e+00 0.00000000e+00 0.00000000e+00 0.00000000e+00\n",
      "  0.00000000e+00 0.00000000e+00 0.00000000e+00 0.00000000e+00\n",
      "  0.00000000e+00 0.00000000e+00 0.00000000e+00 0.00000000e+00\n",
      "  0.00000000e+00 0.00000000e+00 0.00000000e+00 0.00000000e+00\n",
      "  0.00000000e+00 8.27272311e-02 3.28058600e-02 0.00000000e+00\n",
      "  0.00000000e+00 0.00000000e+00 0.00000000e+00 3.74564379e-01\n",
      "  0.00000000e+00 3.89788836e-01 3.24811250e-01 0.00000000e+00\n",
      "  0.00000000e+00 0.00000000e+00 7.63673261e-02 3.86379093e-01\n",
      "  0.00000000e+00 4.23981518e-01 4.01746988e-01 0.00000000e+00\n",
      "  0.00000000e+00 0.00000000e+00 0.00000000e+00 1.17938079e-01\n",
      "  0.00000000e+00 1.62084728e-01 1.31746054e-01 0.00000000e+00\n",
      "  0.00000000e+00 0.00000000e+00 0.00000000e+00 8.79727304e-03\n",
      "  0.00000000e+00 4.66039330e-02 5.19584119e-02 0.00000000e+00\n",
      "  0.00000000e+00 1.09150314e+00 1.66659579e-02 0.00000000e+00\n",
      "  4.37882334e-01 0.00000000e+00 5.77338696e-01 0.00000000e+00\n",
      "  4.25685197e-01 1.56982195e+00 3.30460370e-01 8.07685435e-01\n",
      "  1.86467841e-02 8.59021902e-01 3.63983631e-01 0.00000000e+00\n",
      "  7.16250539e-01 4.44101304e-01 1.72784460e+00 1.25927186e+00\n",
      "  0.00000000e+00 7.30916619e-01 8.52207541e-01 1.34153819e+00\n",
      "  0.00000000e+00 8.08337703e-03 0.00000000e+00 3.72481823e-01\n",
      "  0.00000000e+00 3.25027853e-01 3.33012283e-01 0.00000000e+00\n",
      "  0.00000000e+00 1.21524557e-02 3.35241407e-01 2.72138000e-01\n",
      "  0.00000000e+00 2.28144735e-01 2.33507007e-01 4.13939357e-03\n",
      "  0.00000000e+00 7.38781810e-01 0.00000000e+00 4.85570997e-01\n",
      "  1.29572868e+00 0.00000000e+00 9.47289348e-01 0.00000000e+00\n",
      "  2.20804691e+00 4.60054427e-01 1.63156837e-01 1.65700662e+00\n",
      "  2.49499965e+00 1.16296507e-01 8.02954912e-01 0.00000000e+00\n",
      "  1.69804752e+00 0.00000000e+00 1.43482554e+00 0.00000000e+00\n",
      "  8.06086361e-01 1.08421445e+00 2.00521064e+00 2.44991326e+00\n",
      "  5.89631438e-01 0.00000000e+00 3.60511750e-01 1.46997720e-03\n",
      "  0.00000000e+00 1.96469724e-01 0.00000000e+00 0.00000000e+00\n",
      "  0.00000000e+00 0.00000000e+00 2.17965215e-01 0.00000000e+00\n",
      "  0.00000000e+00 0.00000000e+00 2.90728897e-01 2.42585614e-01\n",
      "  0.00000000e+00 0.00000000e+00 0.00000000e+00 6.09985739e-03\n",
      "  8.51101950e-02 0.00000000e+00 6.99748769e-02 0.00000000e+00\n",
      "  0.00000000e+00 3.71643364e-01 0.00000000e+00 0.00000000e+00\n",
      "  2.88729459e-01 0.00000000e+00 2.73866236e-01 0.00000000e+00\n",
      "  0.00000000e+00 1.63303822e-01 3.52322996e-01 2.61449903e-01\n",
      "  2.34931201e-01 0.00000000e+00 5.67428097e-02 4.57022190e-02\n",
      "  2.93913394e-01 0.00000000e+00 2.93544412e-01 2.63874501e-01\n",
      "  2.26533264e-01 2.30479896e-01 0.00000000e+00 1.54498219e-02\n",
      "  0.00000000e+00 0.00000000e+00 1.15213610e-01 0.00000000e+00\n",
      "  0.00000000e+00 0.00000000e+00 1.44865662e-01 1.24154076e-01]], shape=(1, 200), dtype=float32)\n",
      "dense_4\n",
      "tf.Tensor(\n",
      "[[0.         0.         4.240605   0.         1.271715   2.9669068\n",
      "  0.         3.0789614  1.0560191  0.6177048  0.         3.9952815\n",
      "  0.         0.         0.99258167 0.         0.         3.790902\n",
      "  0.         2.2915635  2.495592   0.         0.         0.\n",
      "  0.1552438  0.         2.1993597  2.5779498  0.         0.\n",
      "  0.         0.         0.         2.6560938  0.43328106 0.\n",
      "  3.5973363  0.51222765 3.5482578  2.1226442  0.         2.7584193\n",
      "  0.         4.3955398  2.6835303  0.         2.674362   2.6039865\n",
      "  0.         0.         4.7189546  1.7205992  3.0127838  3.557389\n",
      "  3.45296    2.4638035  1.888201   0.         0.         2.9082637\n",
      "  0.         3.1223984  0.         2.1361368 ]], shape=(1, 64), dtype=float32)\n",
      "dropout_5\n",
      "tf.Tensor(\n",
      "[[0.         0.         4.240605   0.         1.271715   2.9669068\n",
      "  0.         3.0789614  1.0560191  0.6177048  0.         3.9952815\n",
      "  0.         0.         0.99258167 0.         0.         3.790902\n",
      "  0.         2.2915635  2.495592   0.         0.         0.\n",
      "  0.1552438  0.         2.1993597  2.5779498  0.         0.\n",
      "  0.         0.         0.         2.6560938  0.43328106 0.\n",
      "  3.5973363  0.51222765 3.5482578  2.1226442  0.         2.7584193\n",
      "  0.         4.3955398  2.6835303  0.         2.674362   2.6039865\n",
      "  0.         0.         4.7189546  1.7205992  3.0127838  3.557389\n",
      "  3.45296    2.4638035  1.888201   0.         0.         2.9082637\n",
      "  0.         3.1223984  0.         2.1361368 ]], shape=(1, 64), dtype=float32)\n",
      "dense_5\n",
      "tf.Tensor([[7.025635e-05]], shape=(1, 1), dtype=float32)\n"
     ]
    },
    {
     "data": {
      "text/plain": [
       "<Figure size 1440x1440 with 0 Axes>"
      ]
     },
     "metadata": {},
     "output_type": "display_data"
    },
    {
     "data": {
      "text/plain": [
       "<Figure size 1440x1440 with 0 Axes>"
      ]
     },
     "metadata": {},
     "output_type": "display_data"
    },
    {
     "data": {
      "text/plain": [
       "<Figure size 1440x1440 with 0 Axes>"
      ]
     },
     "metadata": {},
     "output_type": "display_data"
    },
    {
     "data": {
      "text/plain": [
       "<Figure size 1440x1440 with 0 Axes>"
      ]
     },
     "metadata": {},
     "output_type": "display_data"
    }
   ],
   "source": [
    "for j in range(7,11):\n",
    "  activation_model = Model(inputs=model.inputs, outputs=model.layers[j].output)\n",
    "  activation = activation_model(img_tensor)\n",
    "  print(model.get_layer(index = j).name)\n",
    "  plt.figure(figsize=(20,20))\n",
    "  print(activation)"
   ]
  },
  {
   "cell_type": "code",
   "execution_count": 47,
   "metadata": {
    "colab": {
     "base_uri": "https://localhost:8080/",
     "height": 268
    },
    "id": "wutJ9Ggsjgxv",
    "outputId": "332d2047-91b6-4063-b30f-88715eaeb1f5",
    "scrolled": true
   },
   "outputs": [
    {
     "name": "stdout",
     "output_type": "stream",
     "text": [
      "1/1 [==============================] - 0s 94ms/step\n"
     ]
    },
    {
     "data": {
      "image/png": "[encoded data removed]",
      "text/plain": [
       "<Figure size 432x288 with 1 Axes>"
      ]
     },
     "metadata": {
      "needs_background": "light"
     },
     "output_type": "display_data"
    }
   ],
   "source": [
    "image_path=\"C:/Users/TUSHAR/Desktop/malaria/predict/C33P1thinF_IMG_20150619_121229a_cell_179.png\"\n",
    "img = tf.keras.preprocessing.image.load_img(image_path, target_size=(64, 64))\n",
    "plt.imshow(img)\n",
    "img = np.expand_dims(img, axis=0)\n",
    "predictions = (model.predict(img) > 0.5).astype(\"int32\")\n",
    "plt.show()"
   ]
  },
  {
   "cell_type": "code",
   "execution_count": 48,
   "metadata": {
    "colab": {
     "base_uri": "https://localhost:8080/",
     "height": 1000
    },
    "id": "S36-7UcqOXEF",
    "outputId": "e851a11f-a429-4b51-ee1f-b9c95231172e",
    "scrolled": false
   },
   "outputs": [
    {
     "name": "stdout",
     "output_type": "stream",
     "text": [
      "conv2d_6\n"
     ]
    },
    {
     "data": {
      "image/png": "[encoded data removed]",
      "text/plain": [
       "<Figure size 1440x1440 with 1 Axes>"
      ]
     },
     "metadata": {
      "needs_background": "light"
     },
     "output_type": "display_data"
    },
    {
     "name": "stdout",
     "output_type": "stream",
     "text": [
      "max_pooling2d_6\n"
     ]
    },
    {
     "data": {
      "image/png": "[encoded data removed]",
      "text/plain": [
       "<Figure size 1440x1440 with 1 Axes>"
      ]
     },
     "metadata": {
      "needs_background": "light"
     },
     "output_type": "display_data"
    },
    {
     "name": "stdout",
     "output_type": "stream",
     "text": [
      "conv2d_7\n"
     ]
    },
    {
     "data": {
      "image/png": "[encoded data removed]",
      "text/plain": [
       "<Figure size 1440x1440 with 1 Axes>"
      ]
     },
     "metadata": {
      "needs_background": "light"
     },
     "output_type": "display_data"
    },
    {
     "name": "stdout",
     "output_type": "stream",
     "text": [
      "max_pooling2d_7\n"
     ]
    },
    {
     "data": {
      "image/png": "[encoded data removed]",
      "text/plain": [
       "<Figure size 1440x1440 with 1 Axes>"
      ]
     },
     "metadata": {
      "needs_background": "light"
     },
     "output_type": "display_data"
    },
    {
     "name": "stdout",
     "output_type": "stream",
     "text": [
      "conv2d_8\n"
     ]
    },
    {
     "data": {
      "image/png": "[encoded data removed]",
      "text/plain": [
       "<Figure size 1440x1440 with 1 Axes>"
      ]
     },
     "metadata": {
      "needs_background": "light"
     },
     "output_type": "display_data"
    },
    {
     "name": "stdout",
     "output_type": "stream",
     "text": [
      "max_pooling2d_8\n"
     ]
    },
    {
     "data": {
      "image/png": "[encoded data removed]",
      "text/plain": [
       "<Figure size 1440x1440 with 1 Axes>"
      ]
     },
     "metadata": {
      "needs_background": "light"
     },
     "output_type": "display_data"
    },
    {
     "name": "stdout",
     "output_type": "stream",
     "text": [
      "dropout_4\n"
     ]
    },
    {
     "data": {
      "image/png": "[encoded data removed]",
      "text/plain": [
       "<Figure size 1440x1440 with 1 Axes>"
      ]
     },
     "metadata": {
      "needs_background": "light"
     },
     "output_type": "display_data"
    },
    {
     "name": "stdout",
     "output_type": "stream",
     "text": [
      "flatten_2\n",
      "tf.Tensor(\n",
      "[[0.0000000e+00 9.0227705e-01 0.0000000e+00 0.0000000e+00 6.0526860e-01\n",
      "  0.0000000e+00 4.6969029e-01 0.0000000e+00 1.3559458e+00 3.8040468e-01\n",
      "  7.4341819e-03 0.0000000e+00 0.0000000e+00 0.0000000e+00 0.0000000e+00\n",
      "  0.0000000e+00 9.6592939e-01 0.0000000e+00 1.9751290e+00 0.0000000e+00\n",
      "  0.0000000e+00 0.0000000e+00 1.9864625e+00 2.6046479e+00 0.0000000e+00\n",
      "  0.0000000e+00 3.7294179e-01 0.0000000e+00 0.0000000e+00 0.0000000e+00\n",
      "  6.4349723e-01 7.7231795e-01 0.0000000e+00 0.0000000e+00 0.0000000e+00\n",
      "  0.0000000e+00 0.0000000e+00 0.0000000e+00 0.0000000e+00 0.0000000e+00\n",
      "  5.5298197e-01 1.7900065e-01 0.0000000e+00 1.1781672e+00 2.1677678e+00\n",
      "  0.0000000e+00 9.2229402e-01 0.0000000e+00 1.9107491e+00 0.0000000e+00\n",
      "  0.0000000e+00 2.8925914e-01 1.5274003e+00 3.9391136e-01 6.0354245e-01\n",
      "  6.9705880e-01 5.6158614e-01 0.0000000e+00 0.0000000e+00 0.0000000e+00\n",
      "  1.3158020e-01 2.6073584e-01 1.8329811e+00 2.1710427e+00 0.0000000e+00\n",
      "  0.0000000e+00 0.0000000e+00 0.0000000e+00 0.0000000e+00 0.0000000e+00\n",
      "  2.0714960e-01 2.1769573e-01 0.0000000e+00 0.0000000e+00 0.0000000e+00\n",
      "  0.0000000e+00 0.0000000e+00 0.0000000e+00 0.0000000e+00 0.0000000e+00\n",
      "  6.1749727e-02 0.0000000e+00 0.0000000e+00 0.0000000e+00 6.5305583e-02\n",
      "  0.0000000e+00 2.1860912e-02 0.0000000e+00 9.4335854e-02 0.0000000e+00\n",
      "  0.0000000e+00 0.0000000e+00 3.4668580e-01 2.3581289e-02 4.3942094e-01\n",
      "  5.3115487e-01 0.0000000e+00 0.0000000e+00 0.0000000e+00 0.0000000e+00\n",
      "  8.1344768e-03 0.0000000e+00 1.8050955e-01 3.0952835e-01 0.0000000e+00\n",
      "  0.0000000e+00 0.0000000e+00 0.0000000e+00 0.0000000e+00 0.0000000e+00\n",
      "  0.0000000e+00 0.0000000e+00 0.0000000e+00 0.0000000e+00 0.0000000e+00\n",
      "  0.0000000e+00 0.0000000e+00 0.0000000e+00 0.0000000e+00 0.0000000e+00\n",
      "  0.0000000e+00 0.0000000e+00 0.0000000e+00 0.0000000e+00 0.0000000e+00\n",
      "  2.7858712e-02 1.9551650e-02 0.0000000e+00 0.0000000e+00 7.0385598e-03\n",
      "  6.0317889e-03 2.4937093e-04 0.0000000e+00 0.0000000e+00 1.5549365e-01\n",
      "  0.0000000e+00 0.0000000e+00 1.5124641e-02 0.0000000e+00 0.0000000e+00\n",
      "  8.6562626e-02 0.0000000e+00 7.9690672e-02 0.0000000e+00 0.0000000e+00\n",
      "  0.0000000e+00 0.0000000e+00 0.0000000e+00 0.0000000e+00 0.0000000e+00\n",
      "  0.0000000e+00 0.0000000e+00 0.0000000e+00 0.0000000e+00 0.0000000e+00\n",
      "  0.0000000e+00 0.0000000e+00 0.0000000e+00 0.0000000e+00 0.0000000e+00\n",
      "  0.0000000e+00 0.0000000e+00 0.0000000e+00 0.0000000e+00 0.0000000e+00\n",
      "  1.1327885e-02 0.0000000e+00 0.0000000e+00 0.0000000e+00 1.6666353e-03\n",
      "  0.0000000e+00 1.0326736e-02 0.0000000e+00 0.0000000e+00 1.8990320e-01\n",
      "  0.0000000e+00 0.0000000e+00 2.1339916e-03 0.0000000e+00 6.5221734e-02\n",
      "  0.0000000e+00 5.1297158e-02 1.2173438e-01 0.0000000e+00 0.0000000e+00\n",
      "  0.0000000e+00 0.0000000e+00 0.0000000e+00 0.0000000e+00 0.0000000e+00\n",
      "  0.0000000e+00 0.0000000e+00 0.0000000e+00 0.0000000e+00 0.0000000e+00\n",
      "  0.0000000e+00 0.0000000e+00 5.5429302e-03 0.0000000e+00 0.0000000e+00]], shape=(1, 200), dtype=float32)\n",
      "dense_4\n",
      "tf.Tensor(\n",
      "[[0.         0.4865108  0.         0.         1.1260021  2.9760156\n",
      "  0.         0.7435909  0.         1.1187865  0.         2.447181\n",
      "  0.         0.         0.         0.         0.         0.79007643\n",
      "  0.         4.139328   1.3650798  0.         0.         0.\n",
      "  0.         0.         2.659743   0.         0.         0.\n",
      "  1.0880663  0.         0.         0.         2.6319308  1.8633982\n",
      "  0.         1.645603   1.9433409  2.0057216  0.         0.\n",
      "  0.         0.         1.3915727  0.         2.1799328  0.\n",
      "  2.6511054  0.         2.4453554  0.         1.8962576  0.05707532\n",
      "  1.9048753  0.         1.7589207  0.         0.         1.8657223\n",
      "  0.         2.3592875  0.         0.94970816]], shape=(1, 64), dtype=float32)\n",
      "dropout_5\n",
      "tf.Tensor(\n",
      "[[0.         0.4865108  0.         0.         1.1260021  2.9760156\n",
      "  0.         0.7435909  0.         1.1187865  0.         2.447181\n",
      "  0.         0.         0.         0.         0.         0.79007643\n",
      "  0.         4.139328   1.3650798  0.         0.         0.\n",
      "  0.         0.         2.659743   0.         0.         0.\n",
      "  1.0880663  0.         0.         0.         2.6319308  1.8633982\n",
      "  0.         1.645603   1.9433409  2.0057216  0.         0.\n",
      "  0.         0.         1.3915727  0.         2.1799328  0.\n",
      "  2.6511054  0.         2.4453554  0.         1.8962576  0.05707532\n",
      "  1.9048753  0.         1.7589207  0.         0.         1.8657223\n",
      "  0.         2.3592875  0.         0.94970816]], shape=(1, 64), dtype=float32)\n",
      "dense_5\n",
      "tf.Tensor([[0.00294962]], shape=(1, 1), dtype=float32)\n",
      "-------------Parasitized-------------\n"
     ]
    },
    {
     "data": {
      "text/plain": [
       "<Figure size 1440x1440 with 0 Axes>"
      ]
     },
     "metadata": {},
     "output_type": "display_data"
    },
    {
     "data": {
      "text/plain": [
       "<Figure size 1440x1440 with 0 Axes>"
      ]
     },
     "metadata": {},
     "output_type": "display_data"
    },
    {
     "data": {
      "text/plain": [
       "<Figure size 1440x1440 with 0 Axes>"
      ]
     },
     "metadata": {},
     "output_type": "display_data"
    },
    {
     "data": {
      "text/plain": [
       "<Figure size 1440x1440 with 0 Axes>"
      ]
     },
     "metadata": {},
     "output_type": "display_data"
    }
   ],
   "source": [
    "img = tf.keras.preprocessing.image.load_img(image_path, target_size=(64,64))\n",
    "img_tensor = img_to_array(img)\n",
    "img_tensor = np.expand_dims(img_tensor, axis=0)\n",
    "img_tensor /= 255.\n",
    "# for j in range(0,1):\n",
    "#   activation_model = Model(inputs=model.inputs, outputs=model.layers[6].output)\n",
    "#   activation = activation_model(img_tensor)\n",
    "#   print(model.get_layer(index = 6).name)\n",
    "#   plt.figure(figsize=(20,20))\n",
    "#   print(activation)\n",
    "for j in range(0,7):\n",
    "  activation_model = Model(inputs=model.inputs, outputs=model.layers[j].output)\n",
    "  activation = activation_model(img_tensor)\n",
    "  print(model.get_layer(index = j).name)\n",
    "  plt.figure(figsize=(20,20))\n",
    "\n",
    "  for i in range(1):\n",
    "      plt.subplot(4,4,i+1)\n",
    "\n",
    "      plt.imshow(activation[0,:,:,i])\n",
    "  plt.show()\n",
    "for j in range(7,11):\n",
    "  activation_model = Model(inputs=model.inputs, outputs=model.layers[j].output)\n",
    "  activation = activation_model(img_tensor)\n",
    "  print(model.get_layer(index = j).name)\n",
    "  plt.figure(figsize=(20,20))\n",
    "  print(activation)\n",
    "if(predictions[0]==1):\n",
    "  print(\" -------------Uninfected-------------\")\n",
    "else :\n",
    "  print(\"-------------Parasitized-------------\")"
   ]
  }
 ],
 "metadata": {
  "accelerator": "TPU",
  "colab": {
   "collapsed_sections": [],
   "name": "Copy of Untitled",
   "provenance": []
  },
  "kernelspec": {
   "display_name": "Python 3 (ipykernel)",
   "language": "python",
   "name": "python3"
  },
  "language_info": {
   "codemirror_mode": {
    "name": "ipython",
    "version": 3
   },
   "file_extension": ".py",
   "mimetype": "text/x-python",
   "name": "python",
   "nbconvert_exporter": "python",
   "pygments_lexer": "ipython3",
   "version": "3.8.11"
  }
 },
 "nbformat": 4,
 "nbformat_minor": 1
}
