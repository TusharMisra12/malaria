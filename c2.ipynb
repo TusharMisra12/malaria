{
 "cells": [
  {
   "cell_type": "code",
   "execution_count": 1,
   "metadata": {
    "colab": {
     "base_uri": "https://localhost:8080/"
    },
    "collapsed": true,
    "id": "vEH8xELycO_S",
    "outputId": "2e77b39f-8c55-48c0-b2d6-3ac93cb586b1",
    "scrolled": true
   },
   "outputs": [
    {
     "name": "stdout",
     "output_type": "stream",
     "text": [
      "Requirement already satisfied: keras-metrics in c:\\users\\tushar\\.conda\\envs\\project1\\lib\\site-packages (1.1.0)\n",
      "Requirement already satisfied: Keras>=2.1.5 in c:\\users\\tushar\\.conda\\envs\\project1\\lib\\site-packages (from keras-metrics) (2.9.0)\n",
      "Requirement already satisfied: pandas in c:\\users\\tushar\\.conda\\envs\\project1\\lib\\site-packages (1.4.2)\n",
      "Requirement already satisfied: numpy>=1.18.5 in c:\\users\\tushar\\.conda\\envs\\project1\\lib\\site-packages (from pandas) (1.21.2)\n",
      "Requirement already satisfied: pytz>=2020.1 in c:\\users\\tushar\\.conda\\envs\\project1\\lib\\site-packages (from pandas) (2022.1)\n",
      "Requirement already satisfied: python-dateutil>=2.8.1 in c:\\users\\tushar\\.conda\\envs\\project1\\lib\\site-packages (from pandas) (2.8.2)\n",
      "Requirement already satisfied: six>=1.5 in c:\\users\\tushar\\.conda\\envs\\project1\\lib\\site-packages (from python-dateutil>=2.8.1->pandas) (1.16.0)\n"
     ]
    }
   ],
   "source": [
    "!pip install keras-metrics\n",
    "!pip install pandas"
   ]
  },
  {
   "cell_type": "code",
   "execution_count": 2,
   "metadata": {
    "colab": {
     "base_uri": "https://localhost:8080/"
    },
    "id": "X9Y5JK8Iw9bV",
    "outputId": "90848da4-6beb-49e9-ba7e-def5fce5ac09",
    "scrolled": true
   },
   "outputs": [
    {
     "name": "stdout",
     "output_type": "stream",
     "text": [
      "2.9.0\n"
     ]
    }
   ],
   "source": [
    "import tensorflow as tf\n",
    "from tensorflow.keras import Sequential\n",
    "from tensorflow.keras.layers import Flatten , Dense , Conv2D , MaxPool2D ,  Dropout, Activation\n",
    "from tensorflow.keras.preprocessing.image import ImageDataGenerator,img_to_array, load_img\n",
    "from keras.preprocessing import image\n",
    "from tensorflow.keras.models import Model\n",
    "import PIL\n",
    "import PIL.Image\n",
    "from PIL import Image\n",
    "import cv2\n",
    "from numpy import asarray\n",
    "import numpy\n",
    "import pandas as pd\n",
    "\n",
    "import keras_metrics\n",
    "print(tf.__version__)"
   ]
  },
  {
   "cell_type": "code",
   "execution_count": 3,
   "metadata": {
    "collapsed": true,
    "id": "D2LYD57hyPh8",
    "scrolled": true
   },
   "outputs": [],
   "source": [
    "import numpy as np\n",
    "import matplotlib.pyplot as plt\n"
   ]
  },
  {
   "cell_type": "code",
   "execution_count": 4,
   "metadata": {
    "collapsed": true,
    "id": "ouduim4ezKRa",
    "scrolled": true
   },
   "outputs": [],
   "source": [
    "img_width = 64\n",
    "img_height = 64"
   ]
  },
  {
   "cell_type": "code",
   "execution_count": 5,
   "metadata": {
    "collapsed": true,
    "id": "muJZBLi8zXAR",
    "scrolled": true
   },
   "outputs": [],
   "source": [
    "datagen = ImageDataGenerator(rescale=1/255.0, validation_split=0.4)\n",
    "\n"
   ]
  },
  {
   "cell_type": "code",
   "execution_count": 6,
   "metadata": {
    "colab": {
     "base_uri": "https://localhost:8080/"
    },
    "id": "KSUsOE9dzg-6",
    "outputId": "c7481f0c-56da-45c0-9b0d-e5b78c5cab31",
    "scrolled": true
   },
   "outputs": [
    {
     "name": "stdout",
     "output_type": "stream",
     "text": [
      "Found 16536 images belonging to 2 classes.\n"
     ]
    }
   ],
   "source": [
    "train_data_generator = datagen.flow_from_directory(directory='C:/Users/TUSHAR/malaria/cell_images',\n",
    "                          target_size = (img_width, img_height),\n",
    "                                                   class_mode = 'binary',\n",
    "                                                   batch_size = 16,\n",
    "                                                   subset = 'training'\n",
    "                                                   \n",
    "                                                   )            "
   ]
  },
  {
   "cell_type": "code",
   "execution_count": 7,
   "metadata": {
    "colab": {
     "base_uri": "https://localhost:8080/"
    },
    "id": "vgKR8c8t0Zeu",
    "outputId": "3d68a0b9-c49e-46b6-e745-62502fe5343d",
    "scrolled": true
   },
   "outputs": [
    {
     "name": "stdout",
     "output_type": "stream",
     "text": [
      "Found 11022 images belonging to 2 classes.\n"
     ]
    }
   ],
   "source": [
    "validation_data_generator = datagen.flow_from_directory(directory='C:/Users/TUSHAR/malaria/cell_images',\n",
    "                                                   target_size = (img_width, img_height),\n",
    "                                                   class_mode = 'binary',\n",
    "                                                   batch_size = 16,\n",
    "                                                   subset = 'validation'\n",
    "                                                   \n",
    "                                                   )"
   ]
  },
  {
   "cell_type": "code",
   "execution_count": 8,
   "metadata": {
    "colab": {
     "base_uri": "https://localhost:8080/",
     "height": 149
    },
    "id": "JvaAQGK0aQ-3",
    "outputId": "e3a81670-a122-4959-e1fd-24287b8e3127",
    "scrolled": true
   },
   "outputs": [
    {
     "name": "stdout",
     "output_type": "stream",
     "text": [
      "Parasitized Cell :\n"
     ]
    },
    {
     "data": {
      "image/png": "[encoded data removed]",
      "text/plain": [
       "<PIL.PngImagePlugin.PngImageFile image mode=RGB size=121x115 at 0x219096C0040>"
      ]
     },
     "execution_count": 8,
     "metadata": {},
     "output_type": "execute_result"
    }
   ],
   "source": [
    "path1 = \"C:/Users/TUSHAR/malaria/cell_images/Parasitized/C100P61ThinF_IMG_20150918_144823_cell_162.png\"\n",
    "Load_image1 = tf.keras.preprocessing.image.load_img(path1)\n",
    "print(\"Parasitized Cell :\")\n",
    "Load_image1\n",
    "\n"
   ]
  },
  {
   "cell_type": "code",
   "execution_count": 9,
   "metadata": {
    "colab": {
     "base_uri": "https://localhost:8080/",
     "height": 170
    },
    "id": "4zcsnhshex49",
    "outputId": "d82470b3-88fe-423a-8abf-65c167b2b034",
    "scrolled": true
   },
   "outputs": [
    {
     "name": "stdout",
     "output_type": "stream",
     "text": [
      "Uninfected Cell :\n"
     ]
    },
    {
     "data": {
      "image/png": "[encoded data removed]",
      "text/plain": [
       "<PIL.PngImagePlugin.PngImageFile image mode=RGB size=145x136 at 0x219096E5670>"
      ]
     },
     "execution_count": 9,
     "metadata": {},
     "output_type": "execute_result"
    }
   ],
   "source": [
    "path2 = \"C:/Users/TUSHAR/malaria/cell_images/Uninfected/C100P61ThinF_IMG_20150918_144104_cell_131.png\"\n",
    "print(\"Uninfected Cell :\")\n",
    "Load_image2 = tf.keras.preprocessing.image.load_img(path2)\n",
    "Load_image2"
   ]
  },
  {
   "cell_type": "code",
   "execution_count": 10,
   "metadata": {
    "colab": {
     "base_uri": "https://localhost:8080/"
    },
    "id": "xM8DXxg-uHAV",
    "outputId": "4920b423-7d01-4970-f9f3-2654301e59c2",
    "scrolled": true
   },
   "outputs": [
    {
     "data": {
      "text/plain": [
       "array([0, 0, 0, ..., 1, 1, 1])"
      ]
     },
     "execution_count": 10,
     "metadata": {},
     "output_type": "execute_result"
    }
   ],
   "source": [
    "train_data_generator.labels"
   ]
  },
  {
   "cell_type": "markdown",
   "metadata": {
    "id": "yDzgtu_J0wCV"
   },
   "source": [
    "# CNN model"
   ]
  },
  {
   "cell_type": "code",
   "execution_count": 11,
   "metadata": {
    "colab": {
     "base_uri": "https://localhost:8080/"
    },
    "id": "_OKNXTUI023E",
    "outputId": "e08e8acb-966e-467b-f4d6-d7f57052cc98",
    "scrolled": true
   },
   "outputs": [
    {
     "name": "stdout",
     "output_type": "stream",
     "text": [
      "Model: \"sequential\"\n",
      "_________________________________________________________________\n",
      " Layer (type)                Output Shape              Param #   \n",
      "=================================================================\n",
      " conv2d (Conv2D)             (None, 62, 62, 16)        448       \n",
      "                                                                 \n",
      " max_pooling2d (MaxPooling2D  (None, 31, 31, 16)       0         \n",
      " )                                                               \n",
      "                                                                 \n",
      " dropout (Dropout)           (None, 31, 31, 16)        0         \n",
      "                                                                 \n",
      " conv2d_1 (Conv2D)           (None, 29, 29, 32)        4640      \n",
      "                                                                 \n",
      " max_pooling2d_1 (MaxPooling  (None, 14, 14, 32)       0         \n",
      " 2D)                                                             \n",
      "                                                                 \n",
      " dropout_1 (Dropout)         (None, 14, 14, 32)        0         \n",
      "                                                                 \n",
      " flatten (Flatten)           (None, 6272)              0         \n",
      "                                                                 \n",
      " dense (Dense)               (None, 64)                401472    \n",
      "                                                                 \n",
      " dropout_2 (Dropout)         (None, 64)                0         \n",
      "                                                                 \n",
      " dense_1 (Dense)             (None, 1)                 65        \n",
      "                                                                 \n",
      "=================================================================\n",
      "Total params: 406,625\n",
      "Trainable params: 406,625\n",
      "Non-trainable params: 0\n",
      "_________________________________________________________________\n"
     ]
    }
   ],
   "source": [
    "model = Sequential()\n",
    "\n",
    "model.add(Conv2D(16,(3,3), input_shape = (img_width,img_height,3), activation = \"relu\"))\n",
    "model.add(MaxPool2D(2,2))\n",
    "model.add(Dropout(0.2))\n",
    "model.add(Conv2D(32,(3,3), activation = \"relu\"))\n",
    "model.add(MaxPool2D(2,2))\n",
    "model.add(Dropout(0.3))\n",
    "\n",
    "model.add(Flatten())\n",
    "model.add(Dense(64, activation = \"relu\"))\n",
    "model.add(Dropout(0.5))\n",
    "\n",
    "model.add(Dense(1, activation = \"sigmoid\"))\n",
    "\n",
    "model.summary()"
   ]
  },
  {
   "cell_type": "code",
   "execution_count": 12,
   "metadata": {
    "collapsed": true,
    "id": "zQTc8VRg2RkP",
    "scrolled": true
   },
   "outputs": [],
   "source": [
    "model.compile(optimizer='adam',loss='binary_crossentropy',metrics=[\"accuracy\",tf.keras.metrics.AUC(),\n",
    "          tf.keras.metrics.Precision(),tf.keras.metrics.Recall(), tf.keras.metrics.FalseNegatives(),\n",
    "          tf.keras.metrics.FalsePositives(),tf.keras.metrics.TrueNegatives(),tf.keras.metrics.TruePositives()])\n"
   ]
  },
  {
   "cell_type": "code",
   "execution_count": 13,
   "metadata": {
    "colab": {
     "base_uri": "https://localhost:8080/"
    },
    "id": "9_6L26VC2b5w",
    "outputId": "f78daf83-a6b1-4e64-d8ab-a946d92c6d71",
    "scrolled": true
   },
   "outputs": [
    {
     "name": "stdout",
     "output_type": "stream",
     "text": [
      "Epoch 1/15\n"
     ]
    },
    {
     "name": "stderr",
     "output_type": "stream",
     "text": [
      "C:\\Users\\TUSHAR\\AppData\\Local\\Temp/ipykernel_26432/3182655398.py:1: UserWarning: `Model.fit_generator` is deprecated and will be removed in a future version. Please use `Model.fit`, which supports generators.\n",
      "  history = model.fit_generator(generator=train_data_generator,\n"
     ]
    },
    {
     "name": "stdout",
     "output_type": "stream",
     "text": [
      "1034/1034 [==============================] - 38s 35ms/step - loss: 0.4891 - accuracy: 0.7596 - auc: 0.8494 - precision: 0.7577 - recall: 0.7633 - false_negatives: 1957.0000 - false_positives: 2018.0000 - true_negatives: 6250.0000 - true_positives: 6311.0000 - val_loss: 0.2284 - val_accuracy: 0.9080 - val_auc: 0.9746 - val_precision: 0.9415 - val_recall: 0.8701 - val_false_negatives: 716.0000 - val_false_positives: 298.0000 - val_true_negatives: 5213.0000 - val_true_positives: 4795.0000\n",
      "Epoch 2/15\n",
      "1034/1034 [==============================] - 27s 27ms/step - loss: 0.2329 - accuracy: 0.9216 - auc: 0.9659 - precision: 0.9279 - recall: 0.9141 - false_negatives: 710.0000 - false_positives: 587.0000 - true_negatives: 7681.0000 - true_positives: 7558.0000 - val_loss: 0.1897 - val_accuracy: 0.9193 - val_auc: 0.9793 - val_precision: 0.9535 - val_recall: 0.8817 - val_false_negatives: 652.0000 - val_false_positives: 237.0000 - val_true_negatives: 5274.0000 - val_true_positives: 4859.0000\n",
      "Epoch 3/15\n",
      "1034/1034 [==============================] - 28s 27ms/step - loss: 0.2053 - accuracy: 0.9285 - auc: 0.9728 - precision: 0.9387 - recall: 0.9168 - false_negatives: 688.0000 - false_positives: 495.0000 - true_negatives: 7773.0000 - true_positives: 7580.0000 - val_loss: 0.1974 - val_accuracy: 0.9201 - val_auc: 0.9795 - val_precision: 0.9554 - val_recall: 0.8813 - val_false_negatives: 654.0000 - val_false_positives: 227.0000 - val_true_negatives: 5284.0000 - val_true_positives: 4857.0000\n",
      "Epoch 4/15\n",
      "1034/1034 [==============================] - 88s 85ms/step - loss: 0.1864 - accuracy: 0.9337 - auc: 0.9771 - precision: 0.9382 - recall: 0.9286 - false_negatives: 590.0000 - false_positives: 506.0000 - true_negatives: 7762.0000 - true_positives: 7678.0000 - val_loss: 0.1722 - val_accuracy: 0.9360 - val_auc: 0.9788 - val_precision: 0.9385 - val_recall: 0.9332 - val_false_negatives: 368.0000 - val_false_positives: 337.0000 - val_true_negatives: 5174.0000 - val_true_positives: 5143.0000\n",
      "Epoch 5/15\n",
      "1034/1034 [==============================] - 133s 128ms/step - loss: 0.1786 - accuracy: 0.9431 - auc: 0.9787 - precision: 0.9392 - recall: 0.9475 - false_negatives: 434.0000 - false_positives: 507.0000 - true_negatives: 7761.0000 - true_positives: 7834.0000 - val_loss: 0.1794 - val_accuracy: 0.9321 - val_auc: 0.9818 - val_precision: 0.9568 - val_recall: 0.9051 - val_false_negatives: 523.0000 - val_false_positives: 225.0000 - val_true_negatives: 5286.0000 - val_true_positives: 4988.0000\n",
      "Epoch 6/15\n",
      "1034/1034 [==============================] - 134s 130ms/step - loss: 0.1636 - accuracy: 0.9468 - auc: 0.9815 - precision: 0.9404 - recall: 0.9540 - false_negatives: 380.0000 - false_positives: 500.0000 - true_negatives: 7768.0000 - true_positives: 7888.0000 - val_loss: 0.1742 - val_accuracy: 0.9454 - val_auc: 0.9822 - val_precision: 0.9449 - val_recall: 0.9459 - val_false_negatives: 298.0000 - val_false_positives: 304.0000 - val_true_negatives: 5207.0000 - val_true_positives: 5213.0000\n",
      "Epoch 7/15\n",
      "1034/1034 [==============================] - 65s 63ms/step - loss: 0.1544 - accuracy: 0.9492 - auc: 0.9833 - precision: 0.9412 - recall: 0.9583 - false_negatives: 345.0000 - false_positives: 495.0000 - true_negatives: 7773.0000 - true_positives: 7923.0000 - val_loss: 0.1666 - val_accuracy: 0.9435 - val_auc: 0.9817 - val_precision: 0.9273 - val_recall: 0.9624 - val_false_negatives: 207.0000 - val_false_positives: 416.0000 - val_true_negatives: 5095.0000 - val_true_positives: 5304.0000\n",
      "Epoch 8/15\n",
      "1034/1034 [==============================] - 28s 27ms/step - loss: 0.1476 - accuracy: 0.9514 - auc: 0.9846 - precision: 0.9414 - recall: 0.9626 - false_negatives: 309.0000 - false_positives: 495.0000 - true_negatives: 7773.0000 - true_positives: 7959.0000 - val_loss: 0.1764 - val_accuracy: 0.9289 - val_auc: 0.9819 - val_precision: 0.9481 - val_recall: 0.9075 - val_false_negatives: 510.0000 - val_false_positives: 274.0000 - val_true_negatives: 5237.0000 - val_true_positives: 5001.0000\n",
      "Epoch 9/15\n",
      "1034/1034 [==============================] - 27s 26ms/step - loss: 0.1417 - accuracy: 0.9549 - auc: 0.9862 - precision: 0.9453 - recall: 0.9657 - false_negatives: 284.0000 - false_positives: 462.0000 - true_negatives: 7806.0000 - true_positives: 7984.0000 - val_loss: 0.1582 - val_accuracy: 0.9447 - val_auc: 0.9819 - val_precision: 0.9339 - val_recall: 0.9570 - val_false_negatives: 237.0000 - val_false_positives: 373.0000 - val_true_negatives: 5138.0000 - val_true_positives: 5274.0000\n",
      "Epoch 10/15\n",
      "1034/1034 [==============================] - 27s 26ms/step - loss: 0.1344 - accuracy: 0.9556 - auc: 0.9875 - precision: 0.9461 - recall: 0.9661 - false_negatives: 280.0000 - false_positives: 455.0000 - true_negatives: 7813.0000 - true_positives: 7988.0000 - val_loss: 0.1643 - val_accuracy: 0.9456 - val_auc: 0.9802 - val_precision: 0.9158 - val_recall: 0.9813 - val_false_negatives: 103.0000 - val_false_positives: 497.0000 - val_true_negatives: 5014.0000 - val_true_positives: 5408.0000\n",
      "Epoch 11/15\n",
      "1034/1034 [==============================] - 72s 70ms/step - loss: 0.1280 - accuracy: 0.9570 - auc: 0.9884 - precision: 0.9449 - recall: 0.9706 - false_negatives: 243.0000 - false_positives: 468.0000 - true_negatives: 7800.0000 - true_positives: 8025.0000 - val_loss: 0.1630 - val_accuracy: 0.9457 - val_auc: 0.9811 - val_precision: 0.9191 - val_recall: 0.9775 - val_false_negatives: 124.0000 - val_false_positives: 474.0000 - val_true_negatives: 5037.0000 - val_true_positives: 5387.0000\n",
      "Epoch 12/15\n",
      "1034/1034 [==============================] - 39s 38ms/step - loss: 0.1249 - accuracy: 0.9578 - auc: 0.9891 - precision: 0.9456 - recall: 0.9715 - false_negatives: 236.0000 - false_positives: 462.0000 - true_negatives: 7806.0000 - true_positives: 8032.0000 - val_loss: 0.1616 - val_accuracy: 0.9434 - val_auc: 0.9819 - val_precision: 0.9199 - val_recall: 0.9713 - val_false_negatives: 158.0000 - val_false_positives: 466.0000 - val_true_negatives: 5045.0000 - val_true_positives: 5353.0000\n",
      "Epoch 13/15\n",
      "1034/1034 [==============================] - 38s 37ms/step - loss: 0.1155 - accuracy: 0.9606 - auc: 0.9905 - precision: 0.9485 - recall: 0.9741 - false_negatives: 214.0000 - false_positives: 437.0000 - true_negatives: 7831.0000 - true_positives: 8054.0000 - val_loss: 0.1819 - val_accuracy: 0.9369 - val_auc: 0.9785 - val_precision: 0.9048 - val_recall: 0.9766 - val_false_negatives: 129.0000 - val_false_positives: 566.0000 - val_true_negatives: 4945.0000 - val_true_positives: 5382.0000\n",
      "Epoch 14/15\n",
      "1034/1034 [==============================] - 28s 27ms/step - loss: 0.1142 - accuracy: 0.9604 - auc: 0.9908 - precision: 0.9491 - recall: 0.9729 - false_negatives: 224.0000 - false_positives: 431.0000 - true_negatives: 7837.0000 - true_positives: 8044.0000 - val_loss: 0.2163 - val_accuracy: 0.9324 - val_auc: 0.9747 - val_precision: 0.8969 - val_recall: 0.9771 - val_false_negatives: 126.0000 - val_false_positives: 619.0000 - val_true_negatives: 4892.0000 - val_true_positives: 5385.0000\n",
      "Epoch 15/15\n",
      "1034/1034 [==============================] - 28s 27ms/step - loss: 0.1139 - accuracy: 0.9603 - auc: 0.9907 - precision: 0.9483 - recall: 0.9738 - false_negatives: 217.0000 - false_positives: 439.0000 - true_negatives: 7829.0000 - true_positives: 8051.0000 - val_loss: 0.1811 - val_accuracy: 0.9390 - val_auc: 0.9802 - val_precision: 0.9043 - val_recall: 0.9820 - val_false_negatives: 99.0000 - val_false_positives: 573.0000 - val_true_negatives: 4938.0000 - val_true_positives: 5412.0000\n"
     ]
    }
   ],
   "source": [
    "\n",
    "\n",
    "\n",
    "\n",
    "\n",
    "\n",
    "history = model.fit_generator(generator=train_data_generator,\n",
    "                              steps_per_epoch = len(train_data_generator),\n",
    "                              epochs = 15,\n",
    "                              validation_data = validation_data_generator,\n",
    "                              validation_steps = len(validation_data_generator))"
   ]
  },
  {
   "cell_type": "code",
   "execution_count": 14,
   "metadata": {
    "colab": {
     "base_uri": "https://localhost:8080/"
    },
    "id": "9yW-mrfu5hXI",
    "outputId": "a7e194ac-9fa6-48bc-bbb8-c4cffd5bf2db",
    "scrolled": false
   },
   "outputs": [
    {
     "data": {
      "text/plain": [
       "{'loss': [0.4891176223754883,\n",
       "  0.23287060856819153,\n",
       "  0.20534348487854004,\n",
       "  0.18637996912002563,\n",
       "  0.17860455811023712,\n",
       "  0.16362860798835754,\n",
       "  0.15442320704460144,\n",
       "  0.14755626022815704,\n",
       "  0.14171883463859558,\n",
       "  0.13442161679267883,\n",
       "  0.12797966599464417,\n",
       "  0.12485542893409729,\n",
       "  0.11553995311260223,\n",
       "  0.11419996619224548,\n",
       "  0.11387978494167328],\n",
       " 'accuracy': [0.7596153616905212,\n",
       "  0.921565055847168,\n",
       "  0.928459107875824,\n",
       "  0.9337203502655029,\n",
       "  0.9430938363075256,\n",
       "  0.9467827677726746,\n",
       "  0.949201762676239,\n",
       "  0.9513788223266602,\n",
       "  0.9548863172531128,\n",
       "  0.9555515050888062,\n",
       "  0.9570028781890869,\n",
       "  0.9577890634536743,\n",
       "  0.9606313705444336,\n",
       "  0.9603894352912903,\n",
       "  0.960328996181488],\n",
       " 'auc': [0.849351167678833,\n",
       "  0.9659046530723572,\n",
       "  0.9727871417999268,\n",
       "  0.9770821332931519,\n",
       "  0.9787285923957825,\n",
       "  0.9815082550048828,\n",
       "  0.9833487868309021,\n",
       "  0.9846029281616211,\n",
       "  0.9862270951271057,\n",
       "  0.9874532222747803,\n",
       "  0.9883958101272583,\n",
       "  0.9890956282615662,\n",
       "  0.9905003905296326,\n",
       "  0.9908196330070496,\n",
       "  0.9906750321388245],\n",
       " 'precision': [0.757714033126831,\n",
       "  0.9279312491416931,\n",
       "  0.9386996626853943,\n",
       "  0.9381720423698425,\n",
       "  0.939215898513794,\n",
       "  0.9403910636901855,\n",
       "  0.9411974549293518,\n",
       "  0.9414478540420532,\n",
       "  0.9452995657920837,\n",
       "  0.9461091756820679,\n",
       "  0.9448958039283752,\n",
       "  0.9456086754798889,\n",
       "  0.9485337138175964,\n",
       "  0.9491445422172546,\n",
       "  0.9482921361923218],\n",
       " 'recall': [0.7633042931556702,\n",
       "  0.9141267538070679,\n",
       "  0.9167876243591309,\n",
       "  0.9286405444145203,\n",
       "  0.9475084543228149,\n",
       "  0.9540396928787231,\n",
       "  0.9582728743553162,\n",
       "  0.9626269936561584,\n",
       "  0.9656506776809692,\n",
       "  0.9661344885826111,\n",
       "  0.9706096053123474,\n",
       "  0.9714562296867371,\n",
       "  0.9741171002388,\n",
       "  0.9729076027870178,\n",
       "  0.9737542271614075],\n",
       " 'false_negatives': [1957.0,\n",
       "  710.0,\n",
       "  688.0,\n",
       "  590.0,\n",
       "  434.0,\n",
       "  380.0,\n",
       "  345.0,\n",
       "  309.0,\n",
       "  284.0,\n",
       "  280.0,\n",
       "  243.0,\n",
       "  236.0,\n",
       "  214.0,\n",
       "  224.0,\n",
       "  217.0],\n",
       " 'false_positives': [2018.0,\n",
       "  587.0,\n",
       "  495.0,\n",
       "  506.0,\n",
       "  507.0,\n",
       "  500.0,\n",
       "  495.0,\n",
       "  495.0,\n",
       "  462.0,\n",
       "  455.0,\n",
       "  468.0,\n",
       "  462.0,\n",
       "  437.0,\n",
       "  431.0,\n",
       "  439.0],\n",
       " 'true_negatives': [6250.0,\n",
       "  7681.0,\n",
       "  7773.0,\n",
       "  7762.0,\n",
       "  7761.0,\n",
       "  7768.0,\n",
       "  7773.0,\n",
       "  7773.0,\n",
       "  7806.0,\n",
       "  7813.0,\n",
       "  7800.0,\n",
       "  7806.0,\n",
       "  7831.0,\n",
       "  7837.0,\n",
       "  7829.0],\n",
       " 'true_positives': [6311.0,\n",
       "  7558.0,\n",
       "  7580.0,\n",
       "  7678.0,\n",
       "  7834.0,\n",
       "  7888.0,\n",
       "  7923.0,\n",
       "  7959.0,\n",
       "  7984.0,\n",
       "  7988.0,\n",
       "  8025.0,\n",
       "  8032.0,\n",
       "  8054.0,\n",
       "  8044.0,\n",
       "  8051.0],\n",
       " 'val_loss': [0.2284182906150818,\n",
       "  0.18969666957855225,\n",
       "  0.19738171994686127,\n",
       "  0.17216773331165314,\n",
       "  0.17943601310253143,\n",
       "  0.17416714131832123,\n",
       "  0.16659192740917206,\n",
       "  0.17639140784740448,\n",
       "  0.15820680558681488,\n",
       "  0.16433456540107727,\n",
       "  0.16300873458385468,\n",
       "  0.16158810257911682,\n",
       "  0.18185186386108398,\n",
       "  0.21629537642002106,\n",
       "  0.18108883500099182],\n",
       " 'val_accuracy': [0.9080021977424622,\n",
       "  0.919343113899231,\n",
       "  0.9200689792633057,\n",
       "  0.936037003993988,\n",
       "  0.9321357011795044,\n",
       "  0.9453819394111633,\n",
       "  0.943476676940918,\n",
       "  0.9288695454597473,\n",
       "  0.9446561336517334,\n",
       "  0.9455634355545044,\n",
       "  0.9457448720932007,\n",
       "  0.9433859586715698,\n",
       "  0.936944305896759,\n",
       "  0.9324079155921936,\n",
       "  0.9390310049057007],\n",
       " 'val_auc': [0.974556565284729,\n",
       "  0.9792608022689819,\n",
       "  0.979498028755188,\n",
       "  0.9787736535072327,\n",
       "  0.9818241596221924,\n",
       "  0.9822081327438354,\n",
       "  0.9816774129867554,\n",
       "  0.981887698173523,\n",
       "  0.9819329977035522,\n",
       "  0.9801501035690308,\n",
       "  0.9811016917228699,\n",
       "  0.9819172024726868,\n",
       "  0.9785139560699463,\n",
       "  0.9747105240821838,\n",
       "  0.9801778197288513],\n",
       " 'val_precision': [0.9414883255958557,\n",
       "  0.9534929394721985,\n",
       "  0.9553501009941101,\n",
       "  0.938503623008728,\n",
       "  0.9568386673927307,\n",
       "  0.9448975920677185,\n",
       "  0.9272727370262146,\n",
       "  0.9480568766593933,\n",
       "  0.9339472055435181,\n",
       "  0.9158340096473694,\n",
       "  0.9191264510154724,\n",
       "  0.9199175238609314,\n",
       "  0.904841959476471,\n",
       "  0.8969020843505859,\n",
       "  0.9042606353759766],\n",
       " 'val_recall': [0.8700780272483826,\n",
       "  0.8816911578178406,\n",
       "  0.8813282251358032,\n",
       "  0.9332244396209717,\n",
       "  0.9050989151000977,\n",
       "  0.945926308631897,\n",
       "  0.9624387621879578,\n",
       "  0.9074578285217285,\n",
       "  0.9569951295852661,\n",
       "  0.9813101291656494,\n",
       "  0.9774995446205139,\n",
       "  0.9713300466537476,\n",
       "  0.9765922427177429,\n",
       "  0.9771366119384766,\n",
       "  0.9820359349250793],\n",
       " 'val_false_negatives': [716.0,\n",
       "  652.0,\n",
       "  654.0,\n",
       "  368.0,\n",
       "  523.0,\n",
       "  298.0,\n",
       "  207.0,\n",
       "  510.0,\n",
       "  237.0,\n",
       "  103.0,\n",
       "  124.0,\n",
       "  158.0,\n",
       "  129.0,\n",
       "  126.0,\n",
       "  99.0],\n",
       " 'val_false_positives': [298.0,\n",
       "  237.0,\n",
       "  227.0,\n",
       "  337.0,\n",
       "  225.0,\n",
       "  304.0,\n",
       "  416.0,\n",
       "  274.0,\n",
       "  373.0,\n",
       "  497.0,\n",
       "  474.0,\n",
       "  466.0,\n",
       "  566.0,\n",
       "  619.0,\n",
       "  573.0],\n",
       " 'val_true_negatives': [5213.0,\n",
       "  5274.0,\n",
       "  5284.0,\n",
       "  5174.0,\n",
       "  5286.0,\n",
       "  5207.0,\n",
       "  5095.0,\n",
       "  5237.0,\n",
       "  5138.0,\n",
       "  5014.0,\n",
       "  5037.0,\n",
       "  5045.0,\n",
       "  4945.0,\n",
       "  4892.0,\n",
       "  4938.0],\n",
       " 'val_true_positives': [4795.0,\n",
       "  4859.0,\n",
       "  4857.0,\n",
       "  5143.0,\n",
       "  4988.0,\n",
       "  5213.0,\n",
       "  5304.0,\n",
       "  5001.0,\n",
       "  5274.0,\n",
       "  5408.0,\n",
       "  5387.0,\n",
       "  5353.0,\n",
       "  5382.0,\n",
       "  5385.0,\n",
       "  5412.0]}"
      ]
     },
     "execution_count": 14,
     "metadata": {},
     "output_type": "execute_result"
    }
   ],
   "source": [
    "history.history"
   ]
  },
  {
   "cell_type": "markdown",
   "metadata": {
    "id": "b-3-mdNOOdG3"
   },
   "source": [
    "Plotting Graphs and Outputs"
   ]
  },
  {
   "cell_type": "code",
   "execution_count": 15,
   "metadata": {
    "collapsed": true,
    "id": "WKEx_Yt05nZa",
    "scrolled": true
   },
   "outputs": [],
   "source": [
    "def plot_learningCurve(history,epoch):\n",
    "  #plot learning and validation accuracy values\n",
    "  epoch_range=range(1,epoch+1)\n",
    "  plt.plot(epoch_range,history.history['accuracy'])\n",
    "  plt.plot(epoch_range,history.history['val_accuracy'])\n",
    "  plt.title(\"Model accuracy\")\n",
    "  plt.ylabel(\"Accuracy\")\n",
    "  plt.xlabel(\"Epoch\")\n",
    "  plt.legend(['Train','Val'], loc = 'upper left')\n",
    "  plt.show()\n",
    "\n",
    "   #plot learning and validation loss values\n",
    "  plt.plot(epoch_range,history.history['loss'])\n",
    "  plt.plot(epoch_range,history.history['val_loss'])\n",
    "  plt.title(\"Model loss\")\n",
    "  plt.ylabel(\"loss\")\n",
    "  plt.xlabel(\"Epoch\")\n",
    "  plt.legend(['Train','Val'], loc = 'upper left')\n",
    "  plt.show()"
   ]
  },
  {
   "cell_type": "code",
   "execution_count": 16,
   "metadata": {
    "colab": {
     "base_uri": "https://localhost:8080/",
     "height": 573
    },
    "id": "9XG7RUHj6wo8",
    "outputId": "b1b3c3d0-686d-4974-a39c-465d7e87fe84",
    "scrolled": true
   },
   "outputs": [
    {
     "data": {
      "image/png": "[encoded data removed]",
      "text/plain": [
       "<Figure size 432x288 with 1 Axes>"
      ]
     },
     "metadata": {
      "needs_background": "light"
     },
     "output_type": "display_data"
    },
    {
     "data": {
      "image/png": "[encoded data removed]",
      "text/plain": [
       "<Figure size 432x288 with 1 Axes>"
      ]
     },
     "metadata": {
      "needs_background": "light"
     },
     "output_type": "display_data"
    }
   ],
   "source": [
    "plot_learningCurve(history,15)"
   ]
  },
  {
   "cell_type": "code",
   "execution_count": 20,
   "metadata": {
    "collapsed": true,
    "id": "euxuomiB7eWK",
    "scrolled": true
   },
   "outputs": [],
   "source": [
    "img_path=r\"C:/Users/TUSHAR/malaria/cell_images/Parasitized/C100P61ThinF_IMG_20150918_144104_cell_162.png\"\n",
    "img = tf.keras.preprocessing.image.load_img(img_path, target_size=(64,64))\n",
    "img_tensor = img_to_array(img)\n",
    "img_tensor = np.expand_dims(img_tensor, axis=0)\n",
    "img_tensor /= 255."
   ]
  },
  {
   "cell_type": "code",
   "execution_count": 21,
   "metadata": {
    "colab": {
     "base_uri": "https://localhost:8080/",
     "height": 69
    },
    "id": "mfRoAO5h7MXj",
    "outputId": "a53d37b5-6b3e-4459-c934-16004e92a52b",
    "scrolled": true
   },
   "outputs": [
    {
     "name": "stdout",
     "output_type": "stream",
     "text": [
      "flatten\n",
      "tf.Tensor([[0. 0. 0. ... 0. 0. 0.]], shape=(1, 6272), dtype=float32)\n"
     ]
    },
    {
     "data": {
      "text/plain": [
       "<Figure size 1440x1440 with 0 Axes>"
      ]
     },
     "metadata": {},
     "output_type": "display_data"
    }
   ],
   "source": [
    "for j in range(0,1):\n",
    "  activation_model = Model(inputs=model.inputs, outputs=model.layers[6].output)\n",
    "  activation = activation_model(img_tensor)\n",
    "  print(model.get_layer(index = 6).name)\n",
    "  plt.figure(figsize=(20,20))\n",
    "  print(activation)"
   ]
  },
  {
   "cell_type": "code",
   "execution_count": 23,
   "metadata": {
    "colab": {
     "base_uri": "https://localhost:8080/",
     "height": 1000
    },
    "id": "jCfqFAChVV1j",
    "outputId": "5fce888d-3933-46f2-812c-e623ab7e4d11",
    "scrolled": true
   },
   "outputs": [
    {
     "name": "stdout",
     "output_type": "stream",
     "text": [
      "conv2d\n"
     ]
    },
    {
     "data": {
      "image/png": "[encoded data removed]",
      "text/plain": [
       "<Figure size 1440x1440 with 4 Axes>"
      ]
     },
     "metadata": {
      "needs_background": "light"
     },
     "output_type": "display_data"
    },
    {
     "name": "stdout",
     "output_type": "stream",
     "text": [
      "max_pooling2d\n"
     ]
    },
    {
     "data": {
      "image/png": "[encoded data removed]",
      "text/plain": [
       "<Figure size 1440x1440 with 4 Axes>"
      ]
     },
     "metadata": {
      "needs_background": "light"
     },
     "output_type": "display_data"
    },
    {
     "name": "stdout",
     "output_type": "stream",
     "text": [
      "dropout\n"
     ]
    },
    {
     "data": {
      "image/png": "[encoded data removed]",
      "text/plain": [
       "<Figure size 1440x1440 with 4 Axes>"
      ]
     },
     "metadata": {
      "needs_background": "light"
     },
     "output_type": "display_data"
    },
    {
     "name": "stdout",
     "output_type": "stream",
     "text": [
      "conv2d_1\n"
     ]
    },
    {
     "data": {
      "image/png": "[encoded data removed]",
      "text/plain": [
       "<Figure size 1440x1440 with 4 Axes>"
      ]
     },
     "metadata": {
      "needs_background": "light"
     },
     "output_type": "display_data"
    },
    {
     "name": "stdout",
     "output_type": "stream",
     "text": [
      "max_pooling2d_1\n"
     ]
    },
    {
     "data": {
      "image/png": "[encoded data removed]",
      "text/plain": [
       "<Figure size 1440x1440 with 4 Axes>"
      ]
     },
     "metadata": {
      "needs_background": "light"
     },
     "output_type": "display_data"
    },
    {
     "name": "stdout",
     "output_type": "stream",
     "text": [
      "dropout_1\n"
     ]
    },
    {
     "data": {
      "image/png": "[encoded data removed]",
      "text/plain": [
       "<Figure size 1440x1440 with 4 Axes>"
      ]
     },
     "metadata": {
      "needs_background": "light"
     },
     "output_type": "display_data"
    }
   ],
   "source": [
    "for j in range(0,6):\n",
    "  activation_model = Model(inputs=model.inputs, outputs=model.layers[j].output)\n",
    "  activation = activation_model(img_tensor)\n",
    "  print(model.get_layer(index = j).name)\n",
    "  plt.figure(figsize=(20,20))\n",
    "\n",
    "  for i in range(4):\n",
    "      plt.subplot(4,4,i+1)\n",
    "\n",
    "      plt.imshow(activation[0,:,:,i])\n",
    "  plt.show()"
   ]
  },
  {
   "cell_type": "code",
   "execution_count": 24,
   "metadata": {
    "colab": {
     "base_uri": "https://localhost:8080/",
     "height": 607
    },
    "id": "R3yOBelY7kcb",
    "outputId": "5667565e-c138-4a91-980d-d8e6014eed96",
    "scrolled": true
   },
   "outputs": [
    {
     "name": "stdout",
     "output_type": "stream",
     "text": [
      "flatten\n",
      "tf.Tensor([[0. 0. 0. ... 0. 0. 0.]], shape=(1, 6272), dtype=float32)\n",
      "dense\n",
      "tf.Tensor(\n",
      "[[1.7827734  0.         0.         0.         0.         0.65091276\n",
      "  0.         0.31689414 0.         0.         0.08997719 0.\n",
      "  0.         0.         0.         0.         2.3587646  0.\n",
      "  2.0513835  0.7784588  0.         0.         0.         1.2952101\n",
      "  0.         0.         0.         0.         0.         2.3309782\n",
      "  0.         0.         0.6141647  0.05072037 0.         0.32012343\n",
      "  0.36135703 2.436219   0.         0.         0.7455031  2.137419\n",
      "  0.         0.         0.41708007 3.1558523  0.22190998 1.7593923\n",
      "  0.         0.         0.58125806 0.30287907 1.1468403  1.5682213\n",
      "  2.5572677  0.         0.         1.6327258  1.2289455  1.825373\n",
      "  0.6535346  0.         2.2767785  1.1669159 ]], shape=(1, 64), dtype=float32)\n",
      "dropout_2\n",
      "tf.Tensor(\n",
      "[[1.7827734  0.         0.         0.         0.         0.65091276\n",
      "  0.         0.31689414 0.         0.         0.08997719 0.\n",
      "  0.         0.         0.         0.         2.3587646  0.\n",
      "  2.0513835  0.7784588  0.         0.         0.         1.2952101\n",
      "  0.         0.         0.         0.         0.         2.3309782\n",
      "  0.         0.         0.6141647  0.05072037 0.         0.32012343\n",
      "  0.36135703 2.436219   0.         0.         0.7455031  2.137419\n",
      "  0.         0.         0.41708007 3.1558523  0.22190998 1.7593923\n",
      "  0.         0.         0.58125806 0.30287907 1.1468403  1.5682213\n",
      "  2.5572677  0.         0.         1.6327258  1.2289455  1.825373\n",
      "  0.6535346  0.         2.2767785  1.1669159 ]], shape=(1, 64), dtype=float32)\n",
      "dense_1\n",
      "tf.Tensor([[0.00413439]], shape=(1, 1), dtype=float32)\n"
     ]
    },
    {
     "data": {
      "text/plain": [
       "<Figure size 1440x1440 with 0 Axes>"
      ]
     },
     "metadata": {},
     "output_type": "display_data"
    },
    {
     "data": {
      "text/plain": [
       "<Figure size 1440x1440 with 0 Axes>"
      ]
     },
     "metadata": {},
     "output_type": "display_data"
    },
    {
     "data": {
      "text/plain": [
       "<Figure size 1440x1440 with 0 Axes>"
      ]
     },
     "metadata": {},
     "output_type": "display_data"
    },
    {
     "data": {
      "text/plain": [
       "<Figure size 1440x1440 with 0 Axes>"
      ]
     },
     "metadata": {},
     "output_type": "display_data"
    }
   ],
   "source": [
    "for j in range(6,10):\n",
    "  activation_model = Model(inputs=model.inputs, outputs=model.layers[j].output)\n",
    "  activation = activation_model(img_tensor)\n",
    "  print(model.get_layer(index = j).name)\n",
    "  plt.figure(figsize=(20,20))\n",
    "  print(activation)"
   ]
  },
  {
   "cell_type": "code",
   "execution_count": 26,
   "metadata": {
    "colab": {
     "base_uri": "https://localhost:8080/",
     "height": 268
    },
    "id": "wutJ9Ggsjgxv",
    "outputId": "332d2047-91b6-4063-b30f-88715eaeb1f5",
    "scrolled": false
   },
   "outputs": [
    {
     "name": "stdout",
     "output_type": "stream",
     "text": [
      "1/1 [==============================] - 2s 2s/step\n"
     ]
    },
    {
     "data": {
      "image/png": "[encoded data removed]",
      "text/plain": [
       "<Figure size 432x288 with 1 Axes>"
      ]
     },
     "metadata": {
      "needs_background": "light"
     },
     "output_type": "display_data"
    }
   ],
   "source": [
    "image_path=\"C:/Users/TUSHAR/Desktop/malaria/predict/C33P1thinF_IMG_20150619_121229a_cell_179.png\"\n",
    "img = tf.keras.preprocessing.image.load_img(image_path, target_size=(64, 64))\n",
    "plt.imshow(img)\n",
    "img = np.expand_dims(img, axis=0)\n",
    "predictions = (model.predict(img) > 0.5).astype(\"int32\")\n",
    "plt.show()"
   ]
  },
  {
   "cell_type": "code",
   "execution_count": 28,
   "metadata": {
    "colab": {
     "base_uri": "https://localhost:8080/",
     "height": 1000
    },
    "id": "S36-7UcqOXEF",
    "outputId": "e851a11f-a429-4b51-ee1f-b9c95231172e",
    "scrolled": false
   },
   "outputs": [
    {
     "name": "stdout",
     "output_type": "stream",
     "text": [
      "conv2d\n"
     ]
    },
    {
     "data": {
      "image/png": "[encoded data removed]",
      "text/plain": [
       "<Figure size 1440x1440 with 1 Axes>"
      ]
     },
     "metadata": {
      "needs_background": "light"
     },
     "output_type": "display_data"
    },
    {
     "name": "stdout",
     "output_type": "stream",
     "text": [
      "max_pooling2d\n"
     ]
    },
    {
     "data": {
      "image/png": "[encoded data removed]",
      "text/plain": [
       "<Figure size 1440x1440 with 1 Axes>"
      ]
     },
     "metadata": {
      "needs_background": "light"
     },
     "output_type": "display_data"
    },
    {
     "name": "stdout",
     "output_type": "stream",
     "text": [
      "dropout\n"
     ]
    },
    {
     "data": {
      "image/png": "[encoded data removed]",
      "text/plain": [
       "<Figure size 1440x1440 with 1 Axes>"
      ]
     },
     "metadata": {
      "needs_background": "light"
     },
     "output_type": "display_data"
    },
    {
     "name": "stdout",
     "output_type": "stream",
     "text": [
      "conv2d_1\n"
     ]
    },
    {
     "data": {
      "image/png": "[encoded data removed]",
      "text/plain": [
       "<Figure size 1440x1440 with 1 Axes>"
      ]
     },
     "metadata": {
      "needs_background": "light"
     },
     "output_type": "display_data"
    },
    {
     "name": "stdout",
     "output_type": "stream",
     "text": [
      "max_pooling2d_1\n"
     ]
    },
    {
     "data": {
      "image/png": "[encoded data removed]",
      "text/plain": [
       "<Figure size 1440x1440 with 1 Axes>"
      ]
     },
     "metadata": {
      "needs_background": "light"
     },
     "output_type": "display_data"
    },
    {
     "name": "stdout",
     "output_type": "stream",
     "text": [
      "dropout_1\n"
     ]
    },
    {
     "data": {
      "image/png": "[encoded data removed]",
      "text/plain": [
       "<Figure size 1440x1440 with 1 Axes>"
      ]
     },
     "metadata": {
      "needs_background": "light"
     },
     "output_type": "display_data"
    },
    {
     "name": "stdout",
     "output_type": "stream",
     "text": [
      "flatten\n",
      "tf.Tensor([[0. 0. 0. ... 0. 0. 0.]], shape=(1, 6272), dtype=float32)\n",
      "dense\n",
      "tf.Tensor(\n",
      "[[0.         0.         1.1660795  0.         0.         2.0482366\n",
      "  0.         0.         0.         0.         0.         0.\n",
      "  0.         0.         0.         0.         1.6189947  0.12964332\n",
      "  3.6015286  0.         0.         0.         0.         0.\n",
      "  0.         0.         0.         0.         0.         2.6068964\n",
      "  0.         0.         0.         0.         0.         1.016833\n",
      "  0.         0.         0.         0.         0.         0.\n",
      "  0.         0.         1.4264756  0.         0.         1.3128068\n",
      "  1.7371161  2.6196723  2.374014   0.         3.5983057  0.\n",
      "  0.         0.         0.         3.013696   0.         3.4941013\n",
      "  0.         0.         0.         0.        ]], shape=(1, 64), dtype=float32)\n",
      "dropout_2\n",
      "tf.Tensor(\n",
      "[[0.         0.         1.1660795  0.         0.         2.0482366\n",
      "  0.         0.         0.         0.         0.         0.\n",
      "  0.         0.         0.         0.         1.6189947  0.12964332\n",
      "  3.6015286  0.         0.         0.         0.         0.\n",
      "  0.         0.         0.         0.         0.         2.6068964\n",
      "  0.         0.         0.         0.         0.         1.016833\n",
      "  0.         0.         0.         0.         0.         0.\n",
      "  0.         0.         1.4264756  0.         0.         1.3128068\n",
      "  1.7371161  2.6196723  2.374014   0.         3.5983057  0.\n",
      "  0.         0.         0.         3.013696   0.         3.4941013\n",
      "  0.         0.         0.         0.        ]], shape=(1, 64), dtype=float32)\n",
      "dense_1\n",
      "tf.Tensor([[0.01434519]], shape=(1, 1), dtype=float32)\n",
      "-------------Parasitized-------------\n"
     ]
    },
    {
     "data": {
      "text/plain": [
       "<Figure size 1440x1440 with 0 Axes>"
      ]
     },
     "metadata": {},
     "output_type": "display_data"
    },
    {
     "data": {
      "text/plain": [
       "<Figure size 1440x1440 with 0 Axes>"
      ]
     },
     "metadata": {},
     "output_type": "display_data"
    },
    {
     "data": {
      "text/plain": [
       "<Figure size 1440x1440 with 0 Axes>"
      ]
     },
     "metadata": {},
     "output_type": "display_data"
    },
    {
     "data": {
      "text/plain": [
       "<Figure size 1440x1440 with 0 Axes>"
      ]
     },
     "metadata": {},
     "output_type": "display_data"
    }
   ],
   "source": [
    "img = tf.keras.preprocessing.image.load_img(image_path, target_size=(64,64))\n",
    "img_tensor = img_to_array(img)\n",
    "img_tensor = np.expand_dims(img_tensor, axis=0)\n",
    "img_tensor /= 255.\n",
    "# for j in range(0,1):\n",
    "#   activation_model = Model(inputs=model.inputs, outputs=model.layers[6].output)\n",
    "#   activation = activation_model(img_tensor)\n",
    "#   print(model.get_layer(index = 6).name)\n",
    "#   plt.figure(figsize=(20,20))\n",
    "#   print(activation)\n",
    "for j in range(0,6):\n",
    "  activation_model = Model(inputs=model.inputs, outputs=model.layers[j].output)\n",
    "  activation = activation_model(img_tensor)\n",
    "  print(model.get_layer(index = j).name)\n",
    "  plt.figure(figsize=(20,20))\n",
    "\n",
    "  for i in range(1):\n",
    "      plt.subplot(4,4,i+1)\n",
    "\n",
    "      plt.imshow(activation[0,:,:,i])\n",
    "  plt.show()\n",
    "for j in range(6,10):\n",
    "  activation_model = Model(inputs=model.inputs, outputs=model.layers[j].output)\n",
    "  activation = activation_model(img_tensor)\n",
    "  print(model.get_layer(index = j).name)\n",
    "  plt.figure(figsize=(20,20))\n",
    "  print(activation)\n",
    "if(predictions[0]==1):\n",
    "  print(\" -------------Uninfected-------------\")\n",
    "else :\n",
    "  print(\"-------------Parasitized-------------\")"
   ]
  },
  {
   "cell_type": "code",
   "execution_count": null,
   "metadata": {
    "collapsed": true,
    "scrolled": true
   },
   "outputs": [],
   "source": []
  }
 ],
 "metadata": {
  "accelerator": "TPU",
  "colab": {
   "collapsed_sections": [],
   "name": "Copy of Untitled",
   "provenance": []
  },
  "kernelspec": {
   "display_name": "Python 3 (ipykernel)",
   "language": "python",
   "name": "python3"
  },
  "language_info": {
   "codemirror_mode": {
    "name": "ipython",
    "version": 3
   },
   "file_extension": ".py",
   "mimetype": "text/x-python",
   "name": "python",
   "nbconvert_exporter": "python",
   "pygments_lexer": "ipython3",
   "version": "3.8.11"
  }
 },
 "nbformat": 4,
 "nbformat_minor": 1
}
