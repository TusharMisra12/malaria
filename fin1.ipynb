{
 "cells": [
  {
   "cell_type": "code",
   "execution_count": 1,
   "metadata": {
    "colab": {
     "base_uri": "https://localhost:8080/"
    },
    "collapsed": true,
    "id": "vEH8xELycO_S",
    "outputId": "2e77b39f-8c55-48c0-b2d6-3ac93cb586b1"
   },
   "outputs": [
    {
     "name": "stdout",
     "output_type": "stream",
     "text": [
      "Requirement already satisfied: keras-metrics in c:\\users\\tushar\\.conda\\envs\\project1\\lib\\site-packages (1.1.0)\n",
      "Requirement already satisfied: Keras>=2.1.5 in c:\\users\\tushar\\.conda\\envs\\project1\\lib\\site-packages (from keras-metrics) (2.9.0)\n",
      "Requirement already satisfied: pandas in c:\\users\\tushar\\.conda\\envs\\project1\\lib\\site-packages (1.4.2)\n",
      "Requirement already satisfied: pytz>=2020.1 in c:\\users\\tushar\\.conda\\envs\\project1\\lib\\site-packages (from pandas) (2022.1)\n",
      "Requirement already satisfied: python-dateutil>=2.8.1 in c:\\users\\tushar\\.conda\\envs\\project1\\lib\\site-packages (from pandas) (2.8.2)\n",
      "Requirement already satisfied: numpy>=1.18.5 in c:\\users\\tushar\\.conda\\envs\\project1\\lib\\site-packages (from pandas) (1.21.2)\n",
      "Requirement already satisfied: six>=1.5 in c:\\users\\tushar\\.conda\\envs\\project1\\lib\\site-packages (from python-dateutil>=2.8.1->pandas) (1.16.0)\n"
     ]
    }
   ],
   "source": [
    "!pip install keras-metrics\n",
    "!pip install pandas"
   ]
  },
  {
   "cell_type": "code",
   "execution_count": 2,
   "metadata": {
    "colab": {
     "base_uri": "https://localhost:8080/"
    },
    "id": "X9Y5JK8Iw9bV",
    "outputId": "90848da4-6beb-49e9-ba7e-def5fce5ac09"
   },
   "outputs": [
    {
     "name": "stdout",
     "output_type": "stream",
     "text": [
      "2.9.0\n"
     ]
    }
   ],
   "source": [
    "import tensorflow as tf\n",
    "from tensorflow.keras import Sequential\n",
    "from tensorflow.keras.layers import Flatten , Dense , Conv2D , MaxPool2D ,  Dropout, Activation\n",
    "from tensorflow.keras.preprocessing.image import ImageDataGenerator,img_to_array, load_img\n",
    "from keras.preprocessing import image\n",
    "from tensorflow.keras.models import Model\n",
    "import PIL\n",
    "import PIL.Image\n",
    "from PIL import Image\n",
    "import cv2\n",
    "from numpy import asarray\n",
    "import numpy\n",
    "import pandas as pd\n",
    "\n",
    "import keras_metrics\n",
    "print(tf.__version__)"
   ]
  },
  {
   "cell_type": "code",
   "execution_count": 3,
   "metadata": {
    "id": "D2LYD57hyPh8"
   },
   "outputs": [],
   "source": [
    "import numpy as np\n",
    "import matplotlib.pyplot as plt\n"
   ]
  },
  {
   "cell_type": "code",
   "execution_count": 4,
   "metadata": {
    "id": "ouduim4ezKRa"
   },
   "outputs": [],
   "source": [
    "img_width = 64\n",
    "img_height = 64"
   ]
  },
  {
   "cell_type": "code",
   "execution_count": 5,
   "metadata": {
    "id": "muJZBLi8zXAR"
   },
   "outputs": [],
   "source": [
    "datagen = ImageDataGenerator(rescale=1/255.0, validation_split=0.4)\n",
    "\n"
   ]
  },
  {
   "cell_type": "code",
   "execution_count": 6,
   "metadata": {
    "colab": {
     "base_uri": "https://localhost:8080/"
    },
    "id": "KSUsOE9dzg-6",
    "outputId": "c7481f0c-56da-45c0-9b0d-e5b78c5cab31"
   },
   "outputs": [
    {
     "name": "stdout",
     "output_type": "stream",
     "text": [
      "Found 16536 images belonging to 2 classes.\n"
     ]
    }
   ],
   "source": [
    "train_data_generator = datagen.flow_from_directory(directory='C:/Users/TUSHAR/malaria/cell_images',\n",
    "                          target_size = (img_width, img_height),\n",
    "                                                   class_mode = 'binary',\n",
    "                                                   batch_size = 16,\n",
    "                                                   subset = 'training'\n",
    "                                                   \n",
    "                                                   )            "
   ]
  },
  {
   "cell_type": "code",
   "execution_count": 7,
   "metadata": {
    "colab": {
     "base_uri": "https://localhost:8080/"
    },
    "id": "vgKR8c8t0Zeu",
    "outputId": "3d68a0b9-c49e-46b6-e745-62502fe5343d"
   },
   "outputs": [
    {
     "name": "stdout",
     "output_type": "stream",
     "text": [
      "Found 11022 images belonging to 2 classes.\n"
     ]
    }
   ],
   "source": [
    "validation_data_generator = datagen.flow_from_directory(directory='C:/Users/TUSHAR/malaria/cell_images',\n",
    "                                                   target_size = (img_width, img_height),\n",
    "                                                   class_mode = 'binary',\n",
    "                                                   batch_size = 16,\n",
    "                                                   subset = 'validation'\n",
    "                                                   \n",
    "                                                   )"
   ]
  },
  {
   "cell_type": "code",
   "execution_count": 8,
   "metadata": {
    "colab": {
     "base_uri": "https://localhost:8080/",
     "height": 149
    },
    "id": "JvaAQGK0aQ-3",
    "outputId": "e3a81670-a122-4959-e1fd-24287b8e3127"
   },
   "outputs": [
    {
     "name": "stdout",
     "output_type": "stream",
     "text": [
      "Parasitized Cell :\n"
     ]
    },
    {
     "data": {
      "image/png": "[encoded data removed]",
      "text/plain": [
       "<PIL.PngImagePlugin.PngImageFile image mode=RGB size=121x115 at 0x1EDD39B90A0>"
      ]
     },
     "execution_count": 8,
     "metadata": {},
     "output_type": "execute_result"
    }
   ],
   "source": [
    "path1 = \"C:/Users/TUSHAR/malaria/cell_images/Parasitized/C100P61ThinF_IMG_20150918_144823_cell_162.png\"\n",
    "Load_image1 = tf.keras.preprocessing.image.load_img(path1)\n",
    "print(\"Parasitized Cell :\")\n",
    "Load_image1\n",
    "\n"
   ]
  },
  {
   "cell_type": "code",
   "execution_count": 9,
   "metadata": {
    "colab": {
     "base_uri": "https://localhost:8080/",
     "height": 170
    },
    "id": "4zcsnhshex49",
    "outputId": "d82470b3-88fe-423a-8abf-65c167b2b034"
   },
   "outputs": [
    {
     "name": "stdout",
     "output_type": "stream",
     "text": [
      "Uninfected Cell :\n"
     ]
    },
    {
     "data": {
      "image/png": "[encoded data removed]",
      "text/plain": [
       "<PIL.PngImagePlugin.PngImageFile image mode=RGB size=145x136 at 0x1EDD39B9370>"
      ]
     },
     "execution_count": 9,
     "metadata": {},
     "output_type": "execute_result"
    }
   ],
   "source": [
    "path2 = \"C:/Users/TUSHAR/malaria/cell_images/Uninfected/C100P61ThinF_IMG_20150918_144104_cell_131.png\"\n",
    "print(\"Uninfected Cell :\")\n",
    "Load_image2 = tf.keras.preprocessing.image.load_img(path2)\n",
    "Load_image2"
   ]
  },
  {
   "cell_type": "code",
   "execution_count": 10,
   "metadata": {
    "colab": {
     "base_uri": "https://localhost:8080/"
    },
    "id": "xM8DXxg-uHAV",
    "outputId": "4920b423-7d01-4970-f9f3-2654301e59c2"
   },
   "outputs": [
    {
     "data": {
      "text/plain": [
       "array([0, 0, 0, ..., 1, 1, 1])"
      ]
     },
     "execution_count": 10,
     "metadata": {},
     "output_type": "execute_result"
    }
   ],
   "source": [
    "train_data_generator.labels"
   ]
  },
  {
   "cell_type": "markdown",
   "metadata": {
    "id": "yDzgtu_J0wCV"
   },
   "source": [
    "# CNN model"
   ]
  },
  {
   "cell_type": "code",
   "execution_count": 11,
   "metadata": {
    "colab": {
     "base_uri": "https://localhost:8080/"
    },
    "id": "_OKNXTUI023E",
    "outputId": "e08e8acb-966e-467b-f4d6-d7f57052cc98"
   },
   "outputs": [
    {
     "name": "stdout",
     "output_type": "stream",
     "text": [
      "Model: \"sequential\"\n",
      "_________________________________________________________________\n",
      " Layer (type)                Output Shape              Param #   \n",
      "=================================================================\n",
      " conv2d (Conv2D)             (None, 57, 57, 64)        12352     \n",
      "                                                                 \n",
      " max_pooling2d (MaxPooling2D  (None, 28, 28, 64)       0         \n",
      " )                                                               \n",
      "                                                                 \n",
      " dropout (Dropout)           (None, 28, 28, 64)        0         \n",
      "                                                                 \n",
      " conv2d_1 (Conv2D)           (None, 25, 25, 32)        32800     \n",
      "                                                                 \n",
      " max_pooling2d_1 (MaxPooling  (None, 12, 12, 32)       0         \n",
      " 2D)                                                             \n",
      "                                                                 \n",
      " dropout_1 (Dropout)         (None, 12, 12, 32)        0         \n",
      "                                                                 \n",
      " conv2d_2 (Conv2D)           (None, 11, 11, 8)         1032      \n",
      "                                                                 \n",
      " max_pooling2d_2 (MaxPooling  (None, 5, 5, 8)          0         \n",
      " 2D)                                                             \n",
      "                                                                 \n",
      " dropout_2 (Dropout)         (None, 5, 5, 8)           0         \n",
      "                                                                 \n",
      " flatten (Flatten)           (None, 200)               0         \n",
      "                                                                 \n",
      " dense (Dense)               (None, 64)                12864     \n",
      "                                                                 \n",
      " dropout_3 (Dropout)         (None, 64)                0         \n",
      "                                                                 \n",
      " dense_1 (Dense)             (None, 1)                 65        \n",
      "                                                                 \n",
      "=================================================================\n",
      "Total params: 59,113\n",
      "Trainable params: 59,113\n",
      "Non-trainable params: 0\n",
      "_________________________________________________________________\n"
     ]
    }
   ],
   "source": [
    "model = Sequential()\n",
    "\n",
    "model.add(Conv2D(64,(8,8), input_shape = (img_width,img_height,3), activation = \"relu\"))\n",
    "model.add(MaxPool2D(2,2))\n",
    "model.add(Dropout(0.2))\n",
    "model.add(Conv2D(32,(4,4), activation = \"relu\"))\n",
    "model.add(MaxPool2D(2,2))\n",
    "model.add(Dropout(0.2))\n",
    "model.add(Conv2D(8,(2,2), activation = \"relu\"))\n",
    "model.add(MaxPool2D(2,2))\n",
    "model.add(Dropout(0.3))\n",
    "model.add(Flatten())\n",
    "model.add(Dense(64, activation = \"relu\"))\n",
    "model.add(Dropout(0.5))\n",
    "\n",
    "model.add(Dense(1, activation = \"sigmoid\"))\n",
    "\n",
    "model.summary()"
   ]
  },
  {
   "cell_type": "code",
   "execution_count": 12,
   "metadata": {
    "id": "zQTc8VRg2RkP"
   },
   "outputs": [],
   "source": [
    "model.compile(optimizer='adam',loss='binary_crossentropy',metrics=[\"accuracy\",tf.keras.metrics.AUC(),\n",
    "          tf.keras.metrics.Precision(),tf.keras.metrics.Recall(), tf.keras.metrics.FalseNegatives(),\n",
    "          tf.keras.metrics.FalsePositives(),tf.keras.metrics.TrueNegatives(),tf.keras.metrics.TruePositives()])\n"
   ]
  },
  {
   "cell_type": "code",
   "execution_count": 13,
   "metadata": {
    "colab": {
     "base_uri": "https://localhost:8080/"
    },
    "id": "9_6L26VC2b5w",
    "outputId": "f78daf83-a6b1-4e64-d8ab-a946d92c6d71",
    "scrolled": false
   },
   "outputs": [
    {
     "name": "stdout",
     "output_type": "stream",
     "text": [
      "Epoch 1/15\n"
     ]
    },
    {
     "name": "stderr",
     "output_type": "stream",
     "text": [
      "C:\\Users\\TUSHAR\\AppData\\Local\\Temp/ipykernel_12504/2835613124.py:1: UserWarning: `Model.fit_generator` is deprecated and will be removed in a future version. Please use `Model.fit`, which supports generators.\n",
      "  history = model.fit_generator(generator=train_data_generator,\n"
     ]
    },
    {
     "name": "stdout",
     "output_type": "stream",
     "text": [
      "1034/1034 [==============================] - 106s 101ms/step - loss: 0.6943 - accuracy: 0.5030 - auc: 0.5056 - precision: 0.5030 - recall: 0.4903 - false_negatives: 4214.0000 - false_positives: 4005.0000 - true_negatives: 4263.0000 - true_positives: 4054.0000 - val_loss: 0.6930 - val_accuracy: 0.5044 - val_auc: 0.5050 - val_precision: 0.5024 - val_recall: 0.9410 - val_false_negatives: 325.0000 - val_false_positives: 5137.0000 - val_true_negatives: 374.0000 - val_true_positives: 5186.0000\n",
      "Epoch 2/15\n",
      "1034/1034 [==============================] - 182s 176ms/step - loss: 0.6927 - accuracy: 0.5154 - auc: 0.5182 - precision: 0.5122 - recall: 0.6434 - false_negatives: 2948.0000 - false_positives: 5066.0000 - true_negatives: 3202.0000 - true_positives: 5320.0000 - val_loss: 0.6930 - val_accuracy: 0.5123 - val_auc: 0.5136 - val_precision: 0.5071 - val_recall: 0.8862 - val_false_negatives: 627.0000 - val_false_positives: 4748.0000 - val_true_negatives: 763.0000 - val_true_positives: 4884.0000\n",
      "Epoch 3/15\n",
      "1034/1034 [==============================] - 224s 216ms/step - loss: 0.6911 - accuracy: 0.5262 - auc: 0.5338 - precision: 0.5192 - recall: 0.7078 - false_negatives: 2416.0000 - false_positives: 5419.0000 - true_negatives: 2849.0000 - true_positives: 5852.0000 - val_loss: 0.6917 - val_accuracy: 0.5298 - val_auc: 0.5372 - val_precision: 0.5188 - val_recall: 0.8231 - val_false_negatives: 975.0000 - val_false_positives: 4207.0000 - val_true_negatives: 1304.0000 - val_true_positives: 4536.0000\n",
      "Epoch 4/15\n",
      "1034/1034 [==============================] - 174s 169ms/step - loss: 0.6281 - accuracy: 0.6287 - auc: 0.6905 - precision: 0.6028 - recall: 0.7545 - false_negatives: 2030.0000 - false_positives: 4110.0000 - true_negatives: 4158.0000 - true_positives: 6238.0000 - val_loss: 0.4661 - val_accuracy: 0.7764 - val_auc: 0.8550 - val_precision: 0.7028 - val_recall: 0.9577 - val_false_negatives: 233.0000 - val_false_positives: 2232.0000 - val_true_negatives: 3279.0000 - val_true_positives: 5278.0000\n",
      "Epoch 5/15\n",
      "1034/1034 [==============================] - 158s 153ms/step - loss: 0.3509 - accuracy: 0.8582 - auc: 0.9166 - precision: 0.8197 - recall: 0.9185 - false_negatives: 674.0000 - false_positives: 1670.0000 - true_negatives: 6598.0000 - true_positives: 7594.0000 - val_loss: 0.3197 - val_accuracy: 0.8684 - val_auc: 0.9493 - val_precision: 0.8011 - val_recall: 0.9802 - val_false_negatives: 109.0000 - val_false_positives: 1341.0000 - val_true_negatives: 4170.0000 - val_true_positives: 5402.0000\n",
      "Epoch 6/15\n",
      "1034/1034 [==============================] - 162s 156ms/step - loss: 0.2932 - accuracy: 0.8882 - auc: 0.9433 - precision: 0.8649 - recall: 0.9201 - false_negatives: 661.0000 - false_positives: 1188.0000 - true_negatives: 7080.0000 - true_positives: 7607.0000 - val_loss: 0.2641 - val_accuracy: 0.8961 - val_auc: 0.9626 - val_precision: 0.8516 - val_recall: 0.9594 - val_false_negatives: 224.0000 - val_false_positives: 921.0000 - val_true_negatives: 4590.0000 - val_true_positives: 5287.0000\n",
      "Epoch 7/15\n",
      "1034/1034 [==============================] - 158s 153ms/step - loss: 0.2587 - accuracy: 0.9053 - auc: 0.9550 - precision: 0.8855 - recall: 0.9309 - false_negatives: 571.0000 - false_positives: 995.0000 - true_negatives: 7273.0000 - true_positives: 7697.0000 - val_loss: 0.2280 - val_accuracy: 0.9148 - val_auc: 0.9695 - val_precision: 0.8813 - val_recall: 0.9588 - val_false_negatives: 227.0000 - val_false_positives: 712.0000 - val_true_negatives: 4799.0000 - val_true_positives: 5284.0000\n",
      "Epoch 8/15\n",
      "1034/1034 [==============================] - 152s 147ms/step - loss: 0.2432 - accuracy: 0.9120 - auc: 0.9599 - precision: 0.8886 - recall: 0.9421 - false_negatives: 479.0000 - false_positives: 976.0000 - true_negatives: 7292.0000 - true_positives: 7789.0000 - val_loss: 0.2416 - val_accuracy: 0.9127 - val_auc: 0.9681 - val_precision: 0.8634 - val_recall: 0.9806 - val_false_negatives: 107.0000 - val_false_positives: 855.0000 - val_true_negatives: 4656.0000 - val_true_positives: 5404.0000\n",
      "Epoch 9/15\n",
      "1034/1034 [==============================] - 134s 130ms/step - loss: 0.2376 - accuracy: 0.9161 - auc: 0.9625 - precision: 0.8924 - recall: 0.9462 - false_negatives: 445.0000 - false_positives: 943.0000 - true_negatives: 7325.0000 - true_positives: 7823.0000 - val_loss: 0.2386 - val_accuracy: 0.9133 - val_auc: 0.9699 - val_precision: 0.8700 - val_recall: 0.9717 - val_false_negatives: 156.0000 - val_false_positives: 800.0000 - val_true_negatives: 4711.0000 - val_true_positives: 5355.0000\n",
      "Epoch 10/15\n",
      "1034/1034 [==============================] - 114s 110ms/step - loss: 0.2260 - accuracy: 0.9208 - auc: 0.9659 - precision: 0.9001 - recall: 0.9468 - false_negatives: 440.0000 - false_positives: 869.0000 - true_negatives: 7399.0000 - true_positives: 7828.0000 - val_loss: 0.2208 - val_accuracy: 0.9200 - val_auc: 0.9741 - val_precision: 0.8795 - val_recall: 0.9733 - val_false_negatives: 147.0000 - val_false_positives: 735.0000 - val_true_negatives: 4776.0000 - val_true_positives: 5364.0000\n",
      "Epoch 11/15\n",
      "1034/1034 [==============================] - 133s 129ms/step - loss: 0.2160 - accuracy: 0.9243 - auc: 0.9694 - precision: 0.9056 - recall: 0.9475 - false_negatives: 434.0000 - false_positives: 817.0000 - true_negatives: 7451.0000 - true_positives: 7834.0000 - val_loss: 0.2645 - val_accuracy: 0.9038 - val_auc: 0.9702 - val_precision: 0.8512 - val_recall: 0.9788 - val_false_negatives: 117.0000 - val_false_positives: 943.0000 - val_true_negatives: 4568.0000 - val_true_positives: 5394.0000\n",
      "Epoch 12/15\n",
      "1034/1034 [==============================] - 122s 118ms/step - loss: 0.2112 - accuracy: 0.9271 - auc: 0.9697 - precision: 0.9077 - recall: 0.9510 - false_negatives: 405.0000 - false_positives: 800.0000 - true_negatives: 7468.0000 - true_positives: 7863.0000 - val_loss: 0.2264 - val_accuracy: 0.9142 - val_auc: 0.9727 - val_precision: 0.8723 - val_recall: 0.9704 - val_false_negatives: 163.0000 - val_false_positives: 783.0000 - val_true_negatives: 4728.0000 - val_true_positives: 5348.0000\n",
      "Epoch 13/15\n",
      "1034/1034 [==============================] - 75s 72ms/step - loss: 0.2064 - accuracy: 0.9296 - auc: 0.9715 - precision: 0.9122 - recall: 0.9508 - false_negatives: 407.0000 - false_positives: 757.0000 - true_negatives: 7511.0000 - true_positives: 7861.0000 - val_loss: 0.2503 - val_accuracy: 0.9110 - val_auc: 0.9720 - val_precision: 0.8612 - val_recall: 0.9799 - val_false_negatives: 111.0000 - val_false_positives: 870.0000 - val_true_negatives: 4641.0000 - val_true_positives: 5400.0000\n",
      "Epoch 14/15\n",
      "1034/1034 [==============================] - 70s 68ms/step - loss: 0.2007 - accuracy: 0.9280 - auc: 0.9734 - precision: 0.9125 - recall: 0.9469 - false_negatives: 439.0000 - false_positives: 751.0000 - true_negatives: 7517.0000 - true_positives: 7829.0000 - val_loss: 0.2709 - val_accuracy: 0.9019 - val_auc: 0.9706 - val_precision: 0.8437 - val_recall: 0.9866 - val_false_negatives: 74.0000 - val_false_positives: 1007.0000 - val_true_negatives: 4504.0000 - val_true_positives: 5437.0000\n",
      "Epoch 15/15\n",
      "1034/1034 [==============================] - 73s 71ms/step - loss: 0.2020 - accuracy: 0.9278 - auc: 0.9724 - precision: 0.9097 - recall: 0.9499 - false_negatives: 414.0000 - false_positives: 780.0000 - true_negatives: 7488.0000 - true_positives: 7854.0000 - val_loss: 0.2500 - val_accuracy: 0.9075 - val_auc: 0.9711 - val_precision: 0.8551 - val_recall: 0.9811 - val_false_negatives: 104.0000 - val_false_positives: 916.0000 - val_true_negatives: 4595.0000 - val_true_positives: 5407.0000\n"
     ]
    }
   ],
   "source": [
    "history = model.fit_generator(generator=train_data_generator,\n",
    "                              steps_per_epoch = len(train_data_generator),\n",
    "                              epochs = 15,\n",
    "                              validation_data = validation_data_generator,\n",
    "                              validation_steps = len(validation_data_generator))"
   ]
  },
  {
   "cell_type": "code",
   "execution_count": 14,
   "metadata": {
    "colab": {
     "base_uri": "https://localhost:8080/"
    },
    "id": "9yW-mrfu5hXI",
    "outputId": "a7e194ac-9fa6-48bc-bbb8-c4cffd5bf2db",
    "scrolled": false
   },
   "outputs": [
    {
     "data": {
      "text/plain": [
       "{'loss': [0.6942765116691589,\n",
       "  0.6927246451377869,\n",
       "  0.6910547018051147,\n",
       "  0.6281161308288574,\n",
       "  0.35087504982948303,\n",
       "  0.29321590065956116,\n",
       "  0.2586996257305145,\n",
       "  0.2432292252779007,\n",
       "  0.2376289814710617,\n",
       "  0.22601349651813507,\n",
       "  0.2159830778837204,\n",
       "  0.21121098101139069,\n",
       "  0.20637470483779907,\n",
       "  0.20068566501140594,\n",
       "  0.20196625590324402],\n",
       " 'accuracy': [0.5029632449150085,\n",
       "  0.515360414981842,\n",
       "  0.5261852741241455,\n",
       "  0.6286889314651489,\n",
       "  0.8582486510276794,\n",
       "  0.8881833553314209,\n",
       "  0.9052975177764893,\n",
       "  0.912010133266449,\n",
       "  0.9160619378089905,\n",
       "  0.9208393692970276,\n",
       "  0.9243468642234802,\n",
       "  0.9271286725997925,\n",
       "  0.9296081066131592,\n",
       "  0.9280357956886292,\n",
       "  0.9277939200401306],\n",
       " 'auc': [0.5055896043777466,\n",
       "  0.518173336982727,\n",
       "  0.533833384513855,\n",
       "  0.6905467510223389,\n",
       "  0.9165812730789185,\n",
       "  0.9433275461196899,\n",
       "  0.9550151228904724,\n",
       "  0.9599312543869019,\n",
       "  0.9625375866889954,\n",
       "  0.9658806324005127,\n",
       "  0.9693875312805176,\n",
       "  0.9696822762489319,\n",
       "  0.9715175628662109,\n",
       "  0.9734277725219727,\n",
       "  0.9724432229995728],\n",
       " 'precision': [0.503040075302124,\n",
       "  0.5122280120849609,\n",
       "  0.5192086100578308,\n",
       "  0.6028218269348145,\n",
       "  0.8197323083877563,\n",
       "  0.8649232387542725,\n",
       "  0.8855268955230713,\n",
       "  0.8886480331420898,\n",
       "  0.8924252986907959,\n",
       "  0.9000805020332336,\n",
       "  0.9055600762367249,\n",
       "  0.9076532125473022,\n",
       "  0.9121605753898621,\n",
       "  0.9124708771705627,\n",
       "  0.9096595048904419],\n",
       " 'recall': [0.49032413959503174,\n",
       "  0.6434445977210999,\n",
       "  0.7077890634536743,\n",
       "  0.7544750571250916,\n",
       "  0.9184808731079102,\n",
       "  0.920053243637085,\n",
       "  0.9309385418891907,\n",
       "  0.9420657753944397,\n",
       "  0.9461780190467834,\n",
       "  0.9467827677726746,\n",
       "  0.9475084543228149,\n",
       "  0.9510159492492676,\n",
       "  0.950774073600769,\n",
       "  0.9469037055969238,\n",
       "  0.9499274492263794],\n",
       " 'false_negatives': [4214.0,\n",
       "  2948.0,\n",
       "  2416.0,\n",
       "  2030.0,\n",
       "  674.0,\n",
       "  661.0,\n",
       "  571.0,\n",
       "  479.0,\n",
       "  445.0,\n",
       "  440.0,\n",
       "  434.0,\n",
       "  405.0,\n",
       "  407.0,\n",
       "  439.0,\n",
       "  414.0],\n",
       " 'false_positives': [4005.0,\n",
       "  5066.0,\n",
       "  5419.0,\n",
       "  4110.0,\n",
       "  1670.0,\n",
       "  1188.0,\n",
       "  995.0,\n",
       "  976.0,\n",
       "  943.0,\n",
       "  869.0,\n",
       "  817.0,\n",
       "  800.0,\n",
       "  757.0,\n",
       "  751.0,\n",
       "  780.0],\n",
       " 'true_negatives': [4263.0,\n",
       "  3202.0,\n",
       "  2849.0,\n",
       "  4158.0,\n",
       "  6598.0,\n",
       "  7080.0,\n",
       "  7273.0,\n",
       "  7292.0,\n",
       "  7325.0,\n",
       "  7399.0,\n",
       "  7451.0,\n",
       "  7468.0,\n",
       "  7511.0,\n",
       "  7517.0,\n",
       "  7488.0],\n",
       " 'true_positives': [4054.0,\n",
       "  5320.0,\n",
       "  5852.0,\n",
       "  6238.0,\n",
       "  7594.0,\n",
       "  7607.0,\n",
       "  7697.0,\n",
       "  7789.0,\n",
       "  7823.0,\n",
       "  7828.0,\n",
       "  7834.0,\n",
       "  7863.0,\n",
       "  7861.0,\n",
       "  7829.0,\n",
       "  7854.0],\n",
       " 'val_loss': [0.693041205406189,\n",
       "  0.6929648518562317,\n",
       "  0.69171541929245,\n",
       "  0.4660794734954834,\n",
       "  0.31967025995254517,\n",
       "  0.26412639021873474,\n",
       "  0.22798237204551697,\n",
       "  0.24163363873958588,\n",
       "  0.23861031234264374,\n",
       "  0.2208130955696106,\n",
       "  0.2644933760166168,\n",
       "  0.22642742097377777,\n",
       "  0.2502891421318054,\n",
       "  0.27087464928627014,\n",
       "  0.2500137388706207],\n",
       " 'val_accuracy': [0.5044456720352173,\n",
       "  0.5123389363288879,\n",
       "  0.5298494100570679,\n",
       "  0.7763563990592957,\n",
       "  0.8684449195861816,\n",
       "  0.8961168527603149,\n",
       "  0.9148067235946655,\n",
       "  0.9127200245857239,\n",
       "  0.9132643938064575,\n",
       "  0.9199782013893127,\n",
       "  0.9038286805152893,\n",
       "  0.9141716361045837,\n",
       "  0.9109961986541748,\n",
       "  0.901923418045044,\n",
       "  0.9074578285217285],\n",
       " 'val_auc': [0.5049837231636047,\n",
       "  0.5135709047317505,\n",
       "  0.537246584892273,\n",
       "  0.8549643158912659,\n",
       "  0.9493183493614197,\n",
       "  0.9625744223594666,\n",
       "  0.9694938659667969,\n",
       "  0.9681119918823242,\n",
       "  0.969895601272583,\n",
       "  0.9741318225860596,\n",
       "  0.9701917171478271,\n",
       "  0.9726593494415283,\n",
       "  0.9720174670219421,\n",
       "  0.9706247448921204,\n",
       "  0.9711270332336426],\n",
       " 'val_precision': [0.5023733377456665,\n",
       "  0.5070598125457764,\n",
       "  0.5188150405883789,\n",
       "  0.7027962803840637,\n",
       "  0.8011270761489868,\n",
       "  0.8516430258750916,\n",
       "  0.8812541961669922,\n",
       "  0.8633967041969299,\n",
       "  0.8700243830680847,\n",
       "  0.879488468170166,\n",
       "  0.8511914014816284,\n",
       "  0.8722883462905884,\n",
       "  0.8612440228462219,\n",
       "  0.843730628490448,\n",
       "  0.8551320433616638],\n",
       " 'val_recall': [0.941027045249939,\n",
       "  0.886227548122406,\n",
       "  0.8230811357498169,\n",
       "  0.957720935344696,\n",
       "  0.9802213907241821,\n",
       "  0.959354043006897,\n",
       "  0.9588096737861633,\n",
       "  0.9805842638015747,\n",
       "  0.9716929793357849,\n",
       "  0.9733260869979858,\n",
       "  0.9787697196006775,\n",
       "  0.9704228043556213,\n",
       "  0.9798584580421448,\n",
       "  0.9865723252296448,\n",
       "  0.9811286330223083],\n",
       " 'val_false_negatives': [325.0,\n",
       "  627.0,\n",
       "  975.0,\n",
       "  233.0,\n",
       "  109.0,\n",
       "  224.0,\n",
       "  227.0,\n",
       "  107.0,\n",
       "  156.0,\n",
       "  147.0,\n",
       "  117.0,\n",
       "  163.0,\n",
       "  111.0,\n",
       "  74.0,\n",
       "  104.0],\n",
       " 'val_false_positives': [5137.0,\n",
       "  4748.0,\n",
       "  4207.0,\n",
       "  2232.0,\n",
       "  1341.0,\n",
       "  921.0,\n",
       "  712.0,\n",
       "  855.0,\n",
       "  800.0,\n",
       "  735.0,\n",
       "  943.0,\n",
       "  783.0,\n",
       "  870.0,\n",
       "  1007.0,\n",
       "  916.0],\n",
       " 'val_true_negatives': [374.0,\n",
       "  763.0,\n",
       "  1304.0,\n",
       "  3279.0,\n",
       "  4170.0,\n",
       "  4590.0,\n",
       "  4799.0,\n",
       "  4656.0,\n",
       "  4711.0,\n",
       "  4776.0,\n",
       "  4568.0,\n",
       "  4728.0,\n",
       "  4641.0,\n",
       "  4504.0,\n",
       "  4595.0],\n",
       " 'val_true_positives': [5186.0,\n",
       "  4884.0,\n",
       "  4536.0,\n",
       "  5278.0,\n",
       "  5402.0,\n",
       "  5287.0,\n",
       "  5284.0,\n",
       "  5404.0,\n",
       "  5355.0,\n",
       "  5364.0,\n",
       "  5394.0,\n",
       "  5348.0,\n",
       "  5400.0,\n",
       "  5437.0,\n",
       "  5407.0]}"
      ]
     },
     "execution_count": 14,
     "metadata": {},
     "output_type": "execute_result"
    }
   ],
   "source": [
    "history.history"
   ]
  },
  {
   "cell_type": "markdown",
   "metadata": {
    "id": "b-3-mdNOOdG3"
   },
   "source": [
    "Plotting Graphs and Outputs"
   ]
  },
  {
   "cell_type": "code",
   "execution_count": 15,
   "metadata": {
    "id": "WKEx_Yt05nZa"
   },
   "outputs": [],
   "source": [
    "def plot_learningCurve(history,epoch):\n",
    "  #plot learning and validation accuracy values\n",
    "  epoch_range=range(1,epoch+1)\n",
    "  plt.plot(epoch_range,history.history['accuracy'])\n",
    "  plt.plot(epoch_range,history.history['val_accuracy'])\n",
    "  plt.title(\"Model accuracy\")\n",
    "  plt.ylabel(\"Accuracy\")\n",
    "  plt.xlabel(\"Epoch\")\n",
    "  plt.legend(['Train','Val'], loc = 'upper left')\n",
    "  plt.show()\n",
    "\n",
    "   #plot learning and validation loss values\n",
    "  plt.plot(epoch_range,history.history['loss'])\n",
    "  plt.plot(epoch_range,history.history['val_loss'])\n",
    "  plt.title(\"Model loss\")\n",
    "  plt.ylabel(\"loss\")\n",
    "  plt.xlabel(\"Epoch\")\n",
    "  plt.legend(['Train','Val'], loc = 'upper left')\n",
    "  plt.show()"
   ]
  },
  {
   "cell_type": "code",
   "execution_count": 16,
   "metadata": {
    "colab": {
     "base_uri": "https://localhost:8080/",
     "height": 573
    },
    "id": "9XG7RUHj6wo8",
    "outputId": "b1b3c3d0-686d-4974-a39c-465d7e87fe84"
   },
   "outputs": [
    {
     "data": {
      "image/png": "[encoded data removed]",
      "text/plain": [
       "<Figure size 432x288 with 1 Axes>"
      ]
     },
     "metadata": {
      "needs_background": "light"
     },
     "output_type": "display_data"
    },
    {
     "data": {
      "image/png": "[encoded data removed]",
      "text/plain": [
       "<Figure size 432x288 with 1 Axes>"
      ]
     },
     "metadata": {
      "needs_background": "light"
     },
     "output_type": "display_data"
    }
   ],
   "source": [
    "plot_learningCurve(history,15)"
   ]
  },
  {
   "cell_type": "code",
   "execution_count": 18,
   "metadata": {
    "id": "euxuomiB7eWK"
   },
   "outputs": [],
   "source": [
    "img_path=r\"C:/Users/TUSHAR/malaria/cell_images/Parasitized/C100P61ThinF_IMG_20150918_144104_cell_162.png\"\n",
    "img = tf.keras.preprocessing.image.load_img(img_path, target_size=(64,64))\n",
    "img_tensor = img_to_array(img)\n",
    "img_tensor = np.expand_dims(img_tensor, axis=0)\n",
    "img_tensor /= 255.\n"
   ]
  },
  {
   "cell_type": "code",
   "execution_count": 19,
   "metadata": {
    "colab": {
     "base_uri": "https://localhost:8080/",
     "height": 69
    },
    "id": "mfRoAO5h7MXj",
    "outputId": "a53d37b5-6b3e-4459-c934-16004e92a52b",
    "scrolled": false
   },
   "outputs": [
    {
     "name": "stdout",
     "output_type": "stream",
     "text": [
      "conv2d_2\n",
      "tf.Tensor(\n",
      "[[[[0.00000000e+00 0.00000000e+00 0.00000000e+00 0.00000000e+00\n",
      "    0.00000000e+00 0.00000000e+00 0.00000000e+00 1.93174988e-01]\n",
      "   [0.00000000e+00 0.00000000e+00 0.00000000e+00 0.00000000e+00\n",
      "    0.00000000e+00 0.00000000e+00 0.00000000e+00 0.00000000e+00]\n",
      "   [0.00000000e+00 0.00000000e+00 0.00000000e+00 1.90477408e-02\n",
      "    0.00000000e+00 0.00000000e+00 0.00000000e+00 0.00000000e+00]\n",
      "   [0.00000000e+00 0.00000000e+00 0.00000000e+00 1.93400495e-02\n",
      "    0.00000000e+00 0.00000000e+00 0.00000000e+00 2.66203396e-02]\n",
      "   [0.00000000e+00 0.00000000e+00 0.00000000e+00 0.00000000e+00\n",
      "    0.00000000e+00 0.00000000e+00 0.00000000e+00 0.00000000e+00]\n",
      "   [0.00000000e+00 0.00000000e+00 0.00000000e+00 0.00000000e+00\n",
      "    0.00000000e+00 0.00000000e+00 0.00000000e+00 0.00000000e+00]\n",
      "   [0.00000000e+00 0.00000000e+00 0.00000000e+00 0.00000000e+00\n",
      "    0.00000000e+00 0.00000000e+00 0.00000000e+00 0.00000000e+00]\n",
      "   [0.00000000e+00 0.00000000e+00 0.00000000e+00 0.00000000e+00\n",
      "    0.00000000e+00 0.00000000e+00 0.00000000e+00 0.00000000e+00]\n",
      "   [0.00000000e+00 0.00000000e+00 0.00000000e+00 2.72490084e-02\n",
      "    0.00000000e+00 0.00000000e+00 0.00000000e+00 3.41853611e-02]\n",
      "   [0.00000000e+00 0.00000000e+00 0.00000000e+00 0.00000000e+00\n",
      "    0.00000000e+00 0.00000000e+00 0.00000000e+00 1.27434164e-01]\n",
      "   [0.00000000e+00 0.00000000e+00 0.00000000e+00 0.00000000e+00\n",
      "    0.00000000e+00 0.00000000e+00 0.00000000e+00 6.89361542e-02]]\n",
      "\n",
      "  [[0.00000000e+00 0.00000000e+00 0.00000000e+00 0.00000000e+00\n",
      "    0.00000000e+00 0.00000000e+00 0.00000000e+00 0.00000000e+00]\n",
      "   [0.00000000e+00 0.00000000e+00 0.00000000e+00 0.00000000e+00\n",
      "    0.00000000e+00 0.00000000e+00 0.00000000e+00 0.00000000e+00]\n",
      "   [0.00000000e+00 0.00000000e+00 0.00000000e+00 0.00000000e+00\n",
      "    0.00000000e+00 0.00000000e+00 0.00000000e+00 0.00000000e+00]\n",
      "   [0.00000000e+00 0.00000000e+00 0.00000000e+00 0.00000000e+00\n",
      "    0.00000000e+00 0.00000000e+00 0.00000000e+00 0.00000000e+00]\n",
      "   [0.00000000e+00 0.00000000e+00 0.00000000e+00 0.00000000e+00\n",
      "    0.00000000e+00 0.00000000e+00 0.00000000e+00 0.00000000e+00]\n",
      "   [0.00000000e+00 0.00000000e+00 0.00000000e+00 0.00000000e+00\n",
      "    0.00000000e+00 0.00000000e+00 0.00000000e+00 0.00000000e+00]\n",
      "   [0.00000000e+00 0.00000000e+00 0.00000000e+00 0.00000000e+00\n",
      "    0.00000000e+00 0.00000000e+00 0.00000000e+00 0.00000000e+00]\n",
      "   [0.00000000e+00 0.00000000e+00 0.00000000e+00 0.00000000e+00\n",
      "    0.00000000e+00 0.00000000e+00 0.00000000e+00 0.00000000e+00]\n",
      "   [0.00000000e+00 0.00000000e+00 0.00000000e+00 0.00000000e+00\n",
      "    0.00000000e+00 0.00000000e+00 0.00000000e+00 0.00000000e+00]\n",
      "   [0.00000000e+00 0.00000000e+00 0.00000000e+00 0.00000000e+00\n",
      "    0.00000000e+00 0.00000000e+00 0.00000000e+00 0.00000000e+00]\n",
      "   [0.00000000e+00 0.00000000e+00 0.00000000e+00 0.00000000e+00\n",
      "    0.00000000e+00 0.00000000e+00 0.00000000e+00 1.12005368e-01]]\n",
      "\n",
      "  [[0.00000000e+00 0.00000000e+00 0.00000000e+00 0.00000000e+00\n",
      "    0.00000000e+00 0.00000000e+00 0.00000000e+00 0.00000000e+00]\n",
      "   [0.00000000e+00 0.00000000e+00 0.00000000e+00 0.00000000e+00\n",
      "    0.00000000e+00 0.00000000e+00 0.00000000e+00 0.00000000e+00]\n",
      "   [0.00000000e+00 0.00000000e+00 0.00000000e+00 0.00000000e+00\n",
      "    0.00000000e+00 0.00000000e+00 0.00000000e+00 0.00000000e+00]\n",
      "   [0.00000000e+00 0.00000000e+00 0.00000000e+00 0.00000000e+00\n",
      "    0.00000000e+00 0.00000000e+00 0.00000000e+00 0.00000000e+00]\n",
      "   [0.00000000e+00 0.00000000e+00 0.00000000e+00 0.00000000e+00\n",
      "    0.00000000e+00 0.00000000e+00 0.00000000e+00 0.00000000e+00]\n",
      "   [0.00000000e+00 0.00000000e+00 0.00000000e+00 0.00000000e+00\n",
      "    0.00000000e+00 0.00000000e+00 0.00000000e+00 0.00000000e+00]\n",
      "   [0.00000000e+00 0.00000000e+00 0.00000000e+00 0.00000000e+00\n",
      "    0.00000000e+00 0.00000000e+00 0.00000000e+00 0.00000000e+00]\n",
      "   [0.00000000e+00 0.00000000e+00 0.00000000e+00 0.00000000e+00\n",
      "    0.00000000e+00 0.00000000e+00 0.00000000e+00 0.00000000e+00]\n",
      "   [0.00000000e+00 0.00000000e+00 0.00000000e+00 0.00000000e+00\n",
      "    0.00000000e+00 0.00000000e+00 0.00000000e+00 0.00000000e+00]\n",
      "   [0.00000000e+00 0.00000000e+00 0.00000000e+00 0.00000000e+00\n",
      "    0.00000000e+00 0.00000000e+00 0.00000000e+00 0.00000000e+00]\n",
      "   [0.00000000e+00 0.00000000e+00 0.00000000e+00 0.00000000e+00\n",
      "    0.00000000e+00 0.00000000e+00 0.00000000e+00 0.00000000e+00]]\n",
      "\n",
      "  [[0.00000000e+00 0.00000000e+00 0.00000000e+00 0.00000000e+00\n",
      "    0.00000000e+00 0.00000000e+00 0.00000000e+00 0.00000000e+00]\n",
      "   [0.00000000e+00 0.00000000e+00 0.00000000e+00 0.00000000e+00\n",
      "    0.00000000e+00 0.00000000e+00 0.00000000e+00 0.00000000e+00]\n",
      "   [0.00000000e+00 7.47437701e-02 0.00000000e+00 2.01393962e-01\n",
      "    6.95372149e-02 0.00000000e+00 0.00000000e+00 2.81477459e-02]\n",
      "   [6.96551874e-02 3.92692834e-02 0.00000000e+00 2.59589702e-01\n",
      "    1.75106838e-01 9.89006758e-02 0.00000000e+00 3.13818268e-02]\n",
      "   [2.02828780e-01 0.00000000e+00 0.00000000e+00 1.01842947e-01\n",
      "    1.45091996e-01 1.77797094e-01 0.00000000e+00 7.78708234e-03]\n",
      "   [2.19226945e-02 0.00000000e+00 0.00000000e+00 8.92798975e-03\n",
      "    1.85249820e-02 0.00000000e+00 0.00000000e+00 0.00000000e+00]\n",
      "   [0.00000000e+00 0.00000000e+00 0.00000000e+00 0.00000000e+00\n",
      "    0.00000000e+00 0.00000000e+00 0.00000000e+00 0.00000000e+00]\n",
      "   [0.00000000e+00 0.00000000e+00 0.00000000e+00 0.00000000e+00\n",
      "    0.00000000e+00 0.00000000e+00 0.00000000e+00 0.00000000e+00]\n",
      "   [0.00000000e+00 0.00000000e+00 0.00000000e+00 0.00000000e+00\n",
      "    0.00000000e+00 0.00000000e+00 0.00000000e+00 0.00000000e+00]\n",
      "   [0.00000000e+00 0.00000000e+00 0.00000000e+00 0.00000000e+00\n",
      "    0.00000000e+00 0.00000000e+00 0.00000000e+00 0.00000000e+00]\n",
      "   [0.00000000e+00 0.00000000e+00 0.00000000e+00 0.00000000e+00\n",
      "    0.00000000e+00 0.00000000e+00 0.00000000e+00 2.03705728e-02]]\n",
      "\n",
      "  [[0.00000000e+00 0.00000000e+00 0.00000000e+00 0.00000000e+00\n",
      "    0.00000000e+00 0.00000000e+00 0.00000000e+00 0.00000000e+00]\n",
      "   [0.00000000e+00 1.76879451e-01 0.00000000e+00 3.42711449e-01\n",
      "    9.88550633e-02 0.00000000e+00 0.00000000e+00 1.57031313e-01]\n",
      "   [0.00000000e+00 5.86567461e-01 0.00000000e+00 1.55794835e+00\n",
      "    5.03823817e-01 0.00000000e+00 0.00000000e+00 4.81161624e-01]\n",
      "   [1.70586184e-01 0.00000000e+00 0.00000000e+00 1.29020691e+00\n",
      "    6.36453271e-01 3.31403911e-01 0.00000000e+00 2.95510471e-01]\n",
      "   [1.53835928e+00 0.00000000e+00 0.00000000e+00 1.09657776e+00\n",
      "    8.39296818e-01 6.21461928e-01 0.00000000e+00 2.39969745e-01]\n",
      "   [6.82218432e-01 7.05019534e-01 4.32428956e-01 1.45793748e+00\n",
      "    1.29347861e+00 0.00000000e+00 0.00000000e+00 0.00000000e+00]\n",
      "   [7.94177800e-02 2.33605038e-02 0.00000000e+00 2.98258334e-01\n",
      "    1.78192258e-01 1.29351661e-01 0.00000000e+00 7.42876083e-02]\n",
      "   [1.97221816e-01 0.00000000e+00 0.00000000e+00 8.69441256e-02\n",
      "    1.14123136e-01 1.25069439e-01 0.00000000e+00 1.32826567e-02]\n",
      "   [5.67995757e-02 0.00000000e+00 0.00000000e+00 2.06062756e-02\n",
      "    1.69854648e-02 0.00000000e+00 0.00000000e+00 0.00000000e+00]\n",
      "   [0.00000000e+00 0.00000000e+00 0.00000000e+00 0.00000000e+00\n",
      "    0.00000000e+00 0.00000000e+00 0.00000000e+00 0.00000000e+00]\n",
      "   [0.00000000e+00 0.00000000e+00 0.00000000e+00 0.00000000e+00\n",
      "    0.00000000e+00 0.00000000e+00 0.00000000e+00 0.00000000e+00]]\n",
      "\n",
      "  [[0.00000000e+00 0.00000000e+00 0.00000000e+00 9.28846747e-03\n",
      "    0.00000000e+00 0.00000000e+00 0.00000000e+00 0.00000000e+00]\n",
      "   [0.00000000e+00 4.22054529e-01 0.00000000e+00 8.46040547e-01\n",
      "    3.59844625e-01 0.00000000e+00 0.00000000e+00 9.54418182e-02]\n",
      "   [0.00000000e+00 4.61513638e-01 0.00000000e+00 1.89151609e+00\n",
      "    2.31511667e-01 0.00000000e+00 0.00000000e+00 1.16540417e-01]\n",
      "   [0.00000000e+00 0.00000000e+00 0.00000000e+00 0.00000000e+00\n",
      "    0.00000000e+00 0.00000000e+00 0.00000000e+00 0.00000000e+00]\n",
      "   [1.44698727e+00 0.00000000e+00 0.00000000e+00 5.48417926e-01\n",
      "    0.00000000e+00 0.00000000e+00 0.00000000e+00 8.92105639e-01]\n",
      "   [7.44096577e-01 0.00000000e+00 0.00000000e+00 2.55262518e+00\n",
      "    2.02044940e+00 7.81796873e-02 0.00000000e+00 0.00000000e+00]\n",
      "   [0.00000000e+00 0.00000000e+00 0.00000000e+00 1.29768759e-01\n",
      "    0.00000000e+00 0.00000000e+00 0.00000000e+00 0.00000000e+00]\n",
      "   [3.74766663e-02 0.00000000e+00 0.00000000e+00 0.00000000e+00\n",
      "    0.00000000e+00 0.00000000e+00 0.00000000e+00 5.79894148e-02]\n",
      "   [2.22138856e-02 0.00000000e+00 0.00000000e+00 5.69742471e-02\n",
      "    0.00000000e+00 0.00000000e+00 0.00000000e+00 0.00000000e+00]\n",
      "   [0.00000000e+00 0.00000000e+00 0.00000000e+00 0.00000000e+00\n",
      "    0.00000000e+00 0.00000000e+00 0.00000000e+00 0.00000000e+00]\n",
      "   [0.00000000e+00 0.00000000e+00 0.00000000e+00 0.00000000e+00\n",
      "    0.00000000e+00 0.00000000e+00 0.00000000e+00 0.00000000e+00]]\n",
      "\n",
      "  [[0.00000000e+00 6.78451546e-03 0.00000000e+00 2.82450467e-02\n",
      "    0.00000000e+00 0.00000000e+00 0.00000000e+00 0.00000000e+00]\n",
      "   [0.00000000e+00 6.48590207e-01 0.00000000e+00 8.65890563e-01\n",
      "    3.43155682e-01 2.62328535e-02 0.00000000e+00 0.00000000e+00]\n",
      "   [0.00000000e+00 6.81154549e-01 0.00000000e+00 1.05407500e+00\n",
      "    8.69687945e-02 0.00000000e+00 0.00000000e+00 0.00000000e+00]\n",
      "   [4.59686667e-01 0.00000000e+00 0.00000000e+00 0.00000000e+00\n",
      "    0.00000000e+00 0.00000000e+00 0.00000000e+00 5.16699627e-03]\n",
      "   [2.72239971e+00 0.00000000e+00 0.00000000e+00 4.03991729e-01\n",
      "    1.33240783e+00 0.00000000e+00 0.00000000e+00 1.06896484e+00]\n",
      "   [7.65596509e-01 0.00000000e+00 0.00000000e+00 2.42295265e+00\n",
      "    1.78247619e+00 9.78936553e-01 0.00000000e+00 0.00000000e+00]\n",
      "   [0.00000000e+00 0.00000000e+00 0.00000000e+00 0.00000000e+00\n",
      "    0.00000000e+00 0.00000000e+00 0.00000000e+00 0.00000000e+00]\n",
      "   [0.00000000e+00 0.00000000e+00 0.00000000e+00 0.00000000e+00\n",
      "    0.00000000e+00 0.00000000e+00 0.00000000e+00 4.56344448e-02]\n",
      "   [0.00000000e+00 0.00000000e+00 0.00000000e+00 0.00000000e+00\n",
      "    0.00000000e+00 0.00000000e+00 0.00000000e+00 0.00000000e+00]\n",
      "   [0.00000000e+00 0.00000000e+00 0.00000000e+00 0.00000000e+00\n",
      "    0.00000000e+00 0.00000000e+00 0.00000000e+00 0.00000000e+00]\n",
      "   [0.00000000e+00 0.00000000e+00 0.00000000e+00 0.00000000e+00\n",
      "    0.00000000e+00 0.00000000e+00 0.00000000e+00 0.00000000e+00]]\n",
      "\n",
      "  [[0.00000000e+00 0.00000000e+00 0.00000000e+00 0.00000000e+00\n",
      "    0.00000000e+00 0.00000000e+00 0.00000000e+00 0.00000000e+00]\n",
      "   [2.41418883e-01 5.63421309e-01 2.21118674e-01 2.15248108e-01\n",
      "    6.19935468e-02 2.88798511e-01 0.00000000e+00 0.00000000e+00]\n",
      "   [7.56541133e-01 1.13199723e+00 5.09549558e-01 0.00000000e+00\n",
      "    2.39853904e-01 6.43827736e-01 0.00000000e+00 0.00000000e+00]\n",
      "   [1.68550134e+00 7.37597644e-01 0.00000000e+00 0.00000000e+00\n",
      "    1.38777983e+00 1.08579695e-01 0.00000000e+00 0.00000000e+00]\n",
      "   [2.75721407e+00 1.07983994e+00 0.00000000e+00 6.37412965e-01\n",
      "    2.97093916e+00 1.12668538e+00 0.00000000e+00 0.00000000e+00]\n",
      "   [1.16737890e+00 1.56524420e-01 0.00000000e+00 1.57902646e+00\n",
      "    1.67205143e+00 1.30807662e+00 0.00000000e+00 0.00000000e+00]\n",
      "   [0.00000000e+00 0.00000000e+00 0.00000000e+00 0.00000000e+00\n",
      "    0.00000000e+00 0.00000000e+00 0.00000000e+00 0.00000000e+00]\n",
      "   [0.00000000e+00 0.00000000e+00 0.00000000e+00 0.00000000e+00\n",
      "    0.00000000e+00 0.00000000e+00 0.00000000e+00 0.00000000e+00]\n",
      "   [0.00000000e+00 0.00000000e+00 0.00000000e+00 0.00000000e+00\n",
      "    0.00000000e+00 0.00000000e+00 0.00000000e+00 0.00000000e+00]\n",
      "   [1.69035047e-05 0.00000000e+00 0.00000000e+00 0.00000000e+00\n",
      "    0.00000000e+00 0.00000000e+00 0.00000000e+00 0.00000000e+00]\n",
      "   [0.00000000e+00 0.00000000e+00 0.00000000e+00 0.00000000e+00\n",
      "    0.00000000e+00 0.00000000e+00 0.00000000e+00 0.00000000e+00]]\n",
      "\n",
      "  [[0.00000000e+00 0.00000000e+00 0.00000000e+00 0.00000000e+00\n",
      "    0.00000000e+00 0.00000000e+00 0.00000000e+00 0.00000000e+00]\n",
      "   [2.05993708e-02 6.78375959e-02 0.00000000e+00 0.00000000e+00\n",
      "    0.00000000e+00 1.55907646e-02 0.00000000e+00 0.00000000e+00]\n",
      "   [0.00000000e+00 1.28803536e-01 0.00000000e+00 0.00000000e+00\n",
      "    4.48253006e-02 0.00000000e+00 0.00000000e+00 0.00000000e+00]\n",
      "   [1.37204826e-01 4.74298626e-01 0.00000000e+00 0.00000000e+00\n",
      "    5.37741303e-01 0.00000000e+00 0.00000000e+00 3.41241546e-02]\n",
      "   [4.64547694e-01 1.12582527e-01 0.00000000e+00 3.35677952e-01\n",
      "    8.46343279e-01 4.57878709e-01 0.00000000e+00 5.31952828e-03]\n",
      "   [4.23157513e-01 0.00000000e+00 0.00000000e+00 1.57085389e-01\n",
      "    2.46240869e-01 4.62094128e-01 0.00000000e+00 0.00000000e+00]\n",
      "   [5.37029579e-02 0.00000000e+00 0.00000000e+00 0.00000000e+00\n",
      "    8.47190246e-03 0.00000000e+00 0.00000000e+00 0.00000000e+00]\n",
      "   [0.00000000e+00 0.00000000e+00 0.00000000e+00 0.00000000e+00\n",
      "    0.00000000e+00 0.00000000e+00 0.00000000e+00 0.00000000e+00]\n",
      "   [0.00000000e+00 0.00000000e+00 0.00000000e+00 0.00000000e+00\n",
      "    0.00000000e+00 0.00000000e+00 0.00000000e+00 0.00000000e+00]\n",
      "   [0.00000000e+00 0.00000000e+00 0.00000000e+00 0.00000000e+00\n",
      "    0.00000000e+00 0.00000000e+00 0.00000000e+00 0.00000000e+00]\n",
      "   [0.00000000e+00 0.00000000e+00 0.00000000e+00 0.00000000e+00\n",
      "    0.00000000e+00 0.00000000e+00 0.00000000e+00 2.32804008e-02]]\n",
      "\n",
      "  [[0.00000000e+00 0.00000000e+00 0.00000000e+00 0.00000000e+00\n",
      "    0.00000000e+00 0.00000000e+00 0.00000000e+00 0.00000000e+00]\n",
      "   [0.00000000e+00 0.00000000e+00 0.00000000e+00 0.00000000e+00\n",
      "    0.00000000e+00 0.00000000e+00 0.00000000e+00 0.00000000e+00]\n",
      "   [0.00000000e+00 7.44679943e-02 0.00000000e+00 1.18524455e-01\n",
      "    2.62713358e-02 0.00000000e+00 0.00000000e+00 0.00000000e+00]\n",
      "   [0.00000000e+00 0.00000000e+00 0.00000000e+00 1.39813155e-01\n",
      "    0.00000000e+00 0.00000000e+00 0.00000000e+00 0.00000000e+00]\n",
      "   [0.00000000e+00 0.00000000e+00 0.00000000e+00 0.00000000e+00\n",
      "    0.00000000e+00 0.00000000e+00 0.00000000e+00 0.00000000e+00]\n",
      "   [0.00000000e+00 0.00000000e+00 0.00000000e+00 0.00000000e+00\n",
      "    0.00000000e+00 0.00000000e+00 0.00000000e+00 0.00000000e+00]\n",
      "   [0.00000000e+00 0.00000000e+00 0.00000000e+00 0.00000000e+00\n",
      "    0.00000000e+00 0.00000000e+00 0.00000000e+00 0.00000000e+00]\n",
      "   [0.00000000e+00 0.00000000e+00 0.00000000e+00 0.00000000e+00\n",
      "    0.00000000e+00 0.00000000e+00 0.00000000e+00 0.00000000e+00]\n",
      "   [0.00000000e+00 0.00000000e+00 0.00000000e+00 0.00000000e+00\n",
      "    0.00000000e+00 0.00000000e+00 0.00000000e+00 0.00000000e+00]\n",
      "   [0.00000000e+00 0.00000000e+00 0.00000000e+00 0.00000000e+00\n",
      "    0.00000000e+00 0.00000000e+00 0.00000000e+00 4.14179742e-01]\n",
      "   [0.00000000e+00 0.00000000e+00 0.00000000e+00 0.00000000e+00\n",
      "    0.00000000e+00 0.00000000e+00 0.00000000e+00 0.00000000e+00]]\n",
      "\n",
      "  [[0.00000000e+00 0.00000000e+00 0.00000000e+00 0.00000000e+00\n",
      "    0.00000000e+00 0.00000000e+00 0.00000000e+00 0.00000000e+00]\n",
      "   [2.23691445e-02 1.67732313e-03 0.00000000e+00 2.34524943e-02\n",
      "    0.00000000e+00 0.00000000e+00 0.00000000e+00 0.00000000e+00]\n",
      "   [1.99854281e-02 1.49418414e-01 0.00000000e+00 6.61636591e-02\n",
      "    1.02619901e-02 5.51434606e-02 0.00000000e+00 0.00000000e+00]\n",
      "   [0.00000000e+00 1.15263171e-01 0.00000000e+00 0.00000000e+00\n",
      "    0.00000000e+00 1.98023841e-02 0.00000000e+00 0.00000000e+00]\n",
      "   [0.00000000e+00 0.00000000e+00 0.00000000e+00 0.00000000e+00\n",
      "    0.00000000e+00 0.00000000e+00 0.00000000e+00 0.00000000e+00]\n",
      "   [0.00000000e+00 0.00000000e+00 0.00000000e+00 0.00000000e+00\n",
      "    0.00000000e+00 0.00000000e+00 0.00000000e+00 0.00000000e+00]\n",
      "   [0.00000000e+00 0.00000000e+00 0.00000000e+00 0.00000000e+00\n",
      "    0.00000000e+00 0.00000000e+00 0.00000000e+00 0.00000000e+00]\n",
      "   [0.00000000e+00 0.00000000e+00 0.00000000e+00 4.65756506e-02\n",
      "    0.00000000e+00 0.00000000e+00 0.00000000e+00 0.00000000e+00]\n",
      "   [0.00000000e+00 0.00000000e+00 0.00000000e+00 0.00000000e+00\n",
      "    0.00000000e+00 0.00000000e+00 0.00000000e+00 4.57814157e-01]\n",
      "   [0.00000000e+00 0.00000000e+00 0.00000000e+00 0.00000000e+00\n",
      "    0.00000000e+00 0.00000000e+00 0.00000000e+00 0.00000000e+00]\n",
      "   [0.00000000e+00 0.00000000e+00 0.00000000e+00 0.00000000e+00\n",
      "    0.00000000e+00 0.00000000e+00 0.00000000e+00 0.00000000e+00]]]], shape=(1, 11, 11, 8), dtype=float32)\n"
     ]
    },
    {
     "data": {
      "text/plain": [
       "<Figure size 1440x1440 with 0 Axes>"
      ]
     },
     "metadata": {},
     "output_type": "display_data"
    }
   ],
   "source": [
    "for j in range(0,1):\n",
    "  activation_model = Model(inputs=model.inputs, outputs=model.layers[6].output)\n",
    "  activation = activation_model(img_tensor)\n",
    "  print(model.get_layer(index = 6).name)\n",
    "  plt.figure(figsize=(20,20))\n",
    "  print(activation)"
   ]
  },
  {
   "cell_type": "code",
   "execution_count": 20,
   "metadata": {
    "colab": {
     "base_uri": "https://localhost:8080/",
     "height": 1000
    },
    "id": "jCfqFAChVV1j",
    "outputId": "5fce888d-3933-46f2-812c-e623ab7e4d11",
    "scrolled": false
   },
   "outputs": [
    {
     "name": "stdout",
     "output_type": "stream",
     "text": [
      "conv2d\n"
     ]
    },
    {
     "data": {
      "image/png": "[encoded data removed]",
      "text/plain": [
       "<Figure size 1440x1440 with 4 Axes>"
      ]
     },
     "metadata": {
      "needs_background": "light"
     },
     "output_type": "display_data"
    },
    {
     "name": "stdout",
     "output_type": "stream",
     "text": [
      "max_pooling2d\n"
     ]
    },
    {
     "data": {
      "image/png": "[encoded data removed]",
      "text/plain": [
       "<Figure size 1440x1440 with 4 Axes>"
      ]
     },
     "metadata": {
      "needs_background": "light"
     },
     "output_type": "display_data"
    },
    {
     "name": "stdout",
     "output_type": "stream",
     "text": [
      "dropout\n"
     ]
    },
    {
     "data": {
      "image/png": "[encoded data removed]",
      "text/plain": [
       "<Figure size 1440x1440 with 4 Axes>"
      ]
     },
     "metadata": {
      "needs_background": "light"
     },
     "output_type": "display_data"
    },
    {
     "name": "stdout",
     "output_type": "stream",
     "text": [
      "conv2d_1\n"
     ]
    },
    {
     "data": {
      "image/png": "[encoded data removed]",
      "text/plain": [
       "<Figure size 1440x1440 with 4 Axes>"
      ]
     },
     "metadata": {
      "needs_background": "light"
     },
     "output_type": "display_data"
    },
    {
     "name": "stdout",
     "output_type": "stream",
     "text": [
      "max_pooling2d_1\n"
     ]
    },
    {
     "data": {
      "image/png": "[encoded data removed]",
      "text/plain": [
       "<Figure size 1440x1440 with 4 Axes>"
      ]
     },
     "metadata": {
      "needs_background": "light"
     },
     "output_type": "display_data"
    },
    {
     "name": "stdout",
     "output_type": "stream",
     "text": [
      "dropout_1\n"
     ]
    },
    {
     "data": {
      "image/png": "[encoded data removed]",
      "text/plain": [
       "<Figure size 1440x1440 with 4 Axes>"
      ]
     },
     "metadata": {
      "needs_background": "light"
     },
     "output_type": "display_data"
    },
    {
     "name": "stdout",
     "output_type": "stream",
     "text": [
      "conv2d_2\n"
     ]
    },
    {
     "data": {
      "image/png": "[encoded data removed]",
      "text/plain": [
       "<Figure size 1440x1440 with 4 Axes>"
      ]
     },
     "metadata": {
      "needs_background": "light"
     },
     "output_type": "display_data"
    },
    {
     "name": "stdout",
     "output_type": "stream",
     "text": [
      "max_pooling2d_2\n"
     ]
    },
    {
     "data": {
      "image/png": "[encoded data removed]",
      "text/plain": [
       "<Figure size 1440x1440 with 4 Axes>"
      ]
     },
     "metadata": {
      "needs_background": "light"
     },
     "output_type": "display_data"
    },
    {
     "name": "stdout",
     "output_type": "stream",
     "text": [
      "dropout_2\n"
     ]
    },
    {
     "data": {
      "image/png": "[encoded data removed]",
      "text/plain": [
       "<Figure size 1440x1440 with 4 Axes>"
      ]
     },
     "metadata": {
      "needs_background": "light"
     },
     "output_type": "display_data"
    }
   ],
   "source": [
    "for j in range(0,9):\n",
    "  activation_model = Model(inputs=model.inputs, outputs=model.layers[j].output)\n",
    "  activation = activation_model(img_tensor)\n",
    "  print(model.get_layer(index = j).name)\n",
    "  plt.figure(figsize=(20,20))\n",
    "\n",
    "  for i in range(4):\n",
    "      plt.subplot(4,4,i+1)\n",
    "\n",
    "      plt.imshow(activation[0,:,:,i])\n",
    "  plt.show()"
   ]
  },
  {
   "cell_type": "code",
   "execution_count": 21,
   "metadata": {
    "colab": {
     "base_uri": "https://localhost:8080/",
     "height": 607
    },
    "id": "R3yOBelY7kcb",
    "outputId": "5667565e-c138-4a91-980d-d8e6014eed96",
    "scrolled": false
   },
   "outputs": [
    {
     "name": "stdout",
     "output_type": "stream",
     "text": [
      "flatten\n",
      "tf.Tensor(\n",
      "[[0.0000000e+00 0.0000000e+00 0.0000000e+00 0.0000000e+00 0.0000000e+00\n",
      "  0.0000000e+00 0.0000000e+00 1.9317499e-01 0.0000000e+00 0.0000000e+00\n",
      "  0.0000000e+00 1.9340049e-02 0.0000000e+00 0.0000000e+00 0.0000000e+00\n",
      "  2.6620340e-02 0.0000000e+00 0.0000000e+00 0.0000000e+00 0.0000000e+00\n",
      "  0.0000000e+00 0.0000000e+00 0.0000000e+00 0.0000000e+00 0.0000000e+00\n",
      "  0.0000000e+00 0.0000000e+00 0.0000000e+00 0.0000000e+00 0.0000000e+00\n",
      "  0.0000000e+00 0.0000000e+00 0.0000000e+00 0.0000000e+00 0.0000000e+00\n",
      "  2.7249008e-02 0.0000000e+00 0.0000000e+00 0.0000000e+00 1.2743416e-01\n",
      "  0.0000000e+00 0.0000000e+00 0.0000000e+00 0.0000000e+00 0.0000000e+00\n",
      "  0.0000000e+00 0.0000000e+00 0.0000000e+00 6.9655187e-02 7.4743770e-02\n",
      "  0.0000000e+00 2.5958970e-01 1.7510684e-01 9.8900676e-02 0.0000000e+00\n",
      "  3.1381827e-02 2.0282878e-01 0.0000000e+00 0.0000000e+00 1.0184295e-01\n",
      "  1.4509200e-01 1.7779709e-01 0.0000000e+00 7.7870823e-03 0.0000000e+00\n",
      "  0.0000000e+00 0.0000000e+00 0.0000000e+00 0.0000000e+00 0.0000000e+00\n",
      "  0.0000000e+00 0.0000000e+00 0.0000000e+00 0.0000000e+00 0.0000000e+00\n",
      "  0.0000000e+00 0.0000000e+00 0.0000000e+00 0.0000000e+00 0.0000000e+00\n",
      "  0.0000000e+00 4.2205453e-01 0.0000000e+00 8.4604055e-01 3.5984462e-01\n",
      "  0.0000000e+00 0.0000000e+00 1.5703131e-01 1.7058618e-01 5.8656746e-01\n",
      "  0.0000000e+00 1.8915161e+00 6.3645327e-01 3.3140391e-01 0.0000000e+00\n",
      "  4.8116162e-01 1.5383593e+00 7.0501953e-01 4.3242896e-01 2.5526252e+00\n",
      "  2.0204494e+00 6.2146193e-01 0.0000000e+00 8.9210564e-01 1.9722182e-01\n",
      "  2.3360504e-02 0.0000000e+00 2.9825833e-01 1.7819226e-01 1.2935166e-01\n",
      "  0.0000000e+00 7.4287608e-02 5.6799576e-02 0.0000000e+00 0.0000000e+00\n",
      "  5.6974247e-02 1.6985465e-02 0.0000000e+00 0.0000000e+00 0.0000000e+00\n",
      "  2.4141888e-01 6.4859021e-01 2.2111867e-01 8.6589056e-01 3.4315568e-01\n",
      "  2.8879851e-01 0.0000000e+00 0.0000000e+00 1.6855013e+00 1.1319972e+00\n",
      "  5.0954956e-01 1.0540750e+00 1.3877798e+00 6.4382774e-01 0.0000000e+00\n",
      "  5.1669963e-03 2.7572141e+00 1.0798399e+00 0.0000000e+00 2.4229527e+00\n",
      "  2.9709392e+00 1.3080766e+00 0.0000000e+00 1.0689648e+00 0.0000000e+00\n",
      "  0.0000000e+00 0.0000000e+00 0.0000000e+00 0.0000000e+00 0.0000000e+00\n",
      "  0.0000000e+00 4.5634445e-02 1.6903505e-05 0.0000000e+00 0.0000000e+00\n",
      "  0.0000000e+00 0.0000000e+00 0.0000000e+00 0.0000000e+00 0.0000000e+00\n",
      "  2.0599371e-02 6.7837596e-02 0.0000000e+00 0.0000000e+00 0.0000000e+00\n",
      "  1.5590765e-02 0.0000000e+00 0.0000000e+00 1.3720483e-01 4.7429863e-01\n",
      "  0.0000000e+00 1.3981315e-01 5.3774130e-01 0.0000000e+00 0.0000000e+00\n",
      "  3.4124155e-02 4.6454769e-01 1.1258253e-01 0.0000000e+00 3.3567795e-01\n",
      "  8.4634328e-01 4.6209413e-01 0.0000000e+00 5.3195283e-03 5.3702958e-02\n",
      "  0.0000000e+00 0.0000000e+00 0.0000000e+00 8.4719025e-03 0.0000000e+00\n",
      "  0.0000000e+00 0.0000000e+00 0.0000000e+00 0.0000000e+00 0.0000000e+00\n",
      "  0.0000000e+00 0.0000000e+00 0.0000000e+00 0.0000000e+00 4.1417974e-01]], shape=(1, 200), dtype=float32)\n",
      "dense\n",
      "tf.Tensor(\n",
      "[[0.         5.5579505  0.         0.         0.         0.\n",
      "  4.1465592  0.         1.6848481  1.5797479  0.         2.4461465\n",
      "  0.         3.0081644  0.         1.8281062  1.0017554  0.\n",
      "  0.         0.         0.         2.4438143  3.83352    1.5314994\n",
      "  0.         2.1390972  0.         0.         3.8167205  0.\n",
      "  0.         0.         0.         0.         1.2318308  0.\n",
      "  2.4770362  0.         0.13671266 0.         1.8130021  0.\n",
      "  0.         0.         0.01023941 0.         0.         0.\n",
      "  0.         0.95166594 0.         3.6903868  0.         0.\n",
      "  3.484165   0.         0.         0.         1.1128283  0.\n",
      "  0.         1.9165308  0.         2.827706  ]], shape=(1, 64), dtype=float32)\n",
      "dropout_3\n",
      "tf.Tensor(\n",
      "[[0.         5.5579505  0.         0.         0.         0.\n",
      "  4.1465592  0.         1.6848481  1.5797479  0.         2.4461465\n",
      "  0.         3.0081644  0.         1.8281062  1.0017554  0.\n",
      "  0.         0.         0.         2.4438143  3.83352    1.5314994\n",
      "  0.         2.1390972  0.         0.         3.8167205  0.\n",
      "  0.         0.         0.         0.         1.2318308  0.\n",
      "  2.4770362  0.         0.13671266 0.         1.8130021  0.\n",
      "  0.         0.         0.01023941 0.         0.         0.\n",
      "  0.         0.95166594 0.         3.6903868  0.         0.\n",
      "  3.484165   0.         0.         0.         1.1128283  0.\n",
      "  0.         1.9165308  0.         2.827706  ]], shape=(1, 64), dtype=float32)\n",
      "dense_1\n",
      "tf.Tensor([[0.00863822]], shape=(1, 1), dtype=float32)\n"
     ]
    },
    {
     "data": {
      "text/plain": [
       "<Figure size 1440x1440 with 0 Axes>"
      ]
     },
     "metadata": {},
     "output_type": "display_data"
    },
    {
     "data": {
      "text/plain": [
       "<Figure size 1440x1440 with 0 Axes>"
      ]
     },
     "metadata": {},
     "output_type": "display_data"
    },
    {
     "data": {
      "text/plain": [
       "<Figure size 1440x1440 with 0 Axes>"
      ]
     },
     "metadata": {},
     "output_type": "display_data"
    },
    {
     "data": {
      "text/plain": [
       "<Figure size 1440x1440 with 0 Axes>"
      ]
     },
     "metadata": {},
     "output_type": "display_data"
    }
   ],
   "source": [
    "for j in range(9,13):\n",
    "  activation_model = Model(inputs=model.inputs, outputs=model.layers[j].output)\n",
    "  activation = activation_model(img_tensor)\n",
    "  print(model.get_layer(index = j).name)\n",
    "  plt.figure(figsize=(20,20))\n",
    "  print(activation)"
   ]
  },
  {
   "cell_type": "code",
   "execution_count": 23,
   "metadata": {
    "colab": {
     "base_uri": "https://localhost:8080/",
     "height": 268
    },
    "id": "wutJ9Ggsjgxv",
    "outputId": "332d2047-91b6-4063-b30f-88715eaeb1f5",
    "scrolled": true
   },
   "outputs": [
    {
     "name": "stdout",
     "output_type": "stream",
     "text": [
      "1/1 [==============================] - 0s 89ms/step\n"
     ]
    },
    {
     "data": {
      "image/png": "[encoded data removed]",
      "text/plain": [
       "<Figure size 432x288 with 1 Axes>"
      ]
     },
     "metadata": {
      "needs_background": "light"
     },
     "output_type": "display_data"
    }
   ],
   "source": [
    "image_path=\"C:/Users/TUSHAR/Desktop/malaria/predict/C33P1thinF_IMG_20150619_121229a_cell_179.png\"\n",
    "img = tf.keras.preprocessing.image.load_img(image_path, target_size=(64, 64))\n",
    "plt.imshow(img)\n",
    "img = np.expand_dims(img, axis=0)\n",
    "predictions = (model.predict(img) > 0.5).astype(\"int32\")\n",
    "plt.show()"
   ]
  },
  {
   "cell_type": "code",
   "execution_count": 25,
   "metadata": {
    "colab": {
     "base_uri": "https://localhost:8080/",
     "height": 1000
    },
    "id": "S36-7UcqOXEF",
    "outputId": "e851a11f-a429-4b51-ee1f-b9c95231172e"
   },
   "outputs": [
    {
     "name": "stdout",
     "output_type": "stream",
     "text": [
      "conv2d\n"
     ]
    },
    {
     "data": {
      "image/png": "[encoded data removed]",
      "text/plain": [
       "<Figure size 1440x1440 with 1 Axes>"
      ]
     },
     "metadata": {
      "needs_background": "light"
     },
     "output_type": "display_data"
    },
    {
     "name": "stdout",
     "output_type": "stream",
     "text": [
      "max_pooling2d\n"
     ]
    },
    {
     "data": {
      "image/png": "[encoded data removed]",
      "text/plain": [
       "<Figure size 1440x1440 with 1 Axes>"
      ]
     },
     "metadata": {
      "needs_background": "light"
     },
     "output_type": "display_data"
    },
    {
     "name": "stdout",
     "output_type": "stream",
     "text": [
      "dropout\n"
     ]
    },
    {
     "data": {
      "image/png": "[encoded data removed]",
      "text/plain": [
       "<Figure size 1440x1440 with 1 Axes>"
      ]
     },
     "metadata": {
      "needs_background": "light"
     },
     "output_type": "display_data"
    },
    {
     "name": "stdout",
     "output_type": "stream",
     "text": [
      "conv2d_1\n"
     ]
    },
    {
     "data": {
      "image/png": "[encoded data removed]",
      "text/plain": [
       "<Figure size 1440x1440 with 1 Axes>"
      ]
     },
     "metadata": {
      "needs_background": "light"
     },
     "output_type": "display_data"
    },
    {
     "name": "stdout",
     "output_type": "stream",
     "text": [
      "max_pooling2d_1\n"
     ]
    },
    {
     "data": {
      "image/png": "[encoded data removed]",
      "text/plain": [
       "<Figure size 1440x1440 with 1 Axes>"
      ]
     },
     "metadata": {
      "needs_background": "light"
     },
     "output_type": "display_data"
    },
    {
     "name": "stdout",
     "output_type": "stream",
     "text": [
      "dropout_1\n"
     ]
    },
    {
     "data": {
      "image/png": "[encoded data removed]",
      "text/plain": [
       "<Figure size 1440x1440 with 1 Axes>"
      ]
     },
     "metadata": {
      "needs_background": "light"
     },
     "output_type": "display_data"
    },
    {
     "name": "stdout",
     "output_type": "stream",
     "text": [
      "conv2d_2\n"
     ]
    },
    {
     "data": {
      "image/png": "[encoded data removed]",
      "text/plain": [
       "<Figure size 1440x1440 with 1 Axes>"
      ]
     },
     "metadata": {
      "needs_background": "light"
     },
     "output_type": "display_data"
    },
    {
     "name": "stdout",
     "output_type": "stream",
     "text": [
      "max_pooling2d_2\n"
     ]
    },
    {
     "data": {
      "image/png": "[encoded data removed]",
      "text/plain": [
       "<Figure size 1440x1440 with 1 Axes>"
      ]
     },
     "metadata": {
      "needs_background": "light"
     },
     "output_type": "display_data"
    },
    {
     "name": "stdout",
     "output_type": "stream",
     "text": [
      "dropout_2\n"
     ]
    },
    {
     "data": {
      "image/png": "[encoded data removed]",
      "text/plain": [
       "<Figure size 1440x1440 with 1 Axes>"
      ]
     },
     "metadata": {
      "needs_background": "light"
     },
     "output_type": "display_data"
    },
    {
     "name": "stdout",
     "output_type": "stream",
     "text": [
      "flatten\n",
      "tf.Tensor(\n",
      "[[0.         0.33438984 0.         0.65047306 0.24083038 0.\n",
      "  0.         0.22872485 0.36628452 0.         0.         0.\n",
      "  0.0702602  0.         0.         0.4979575  1.8772695  0.\n",
      "  0.         1.2348187  1.3515635  0.9212686  0.         0.8203399\n",
      "  0.02339862 0.         0.         0.         0.         0.\n",
      "  0.         0.         0.         0.         0.         0.\n",
      "  0.         0.         0.         0.02599109 0.56368136 0.75835645\n",
      "  0.33820564 0.6253857  0.2999065  0.43825966 0.         0.\n",
      "  2.011661   0.7088133  0.         0.15987074 1.9267396  0.70890516\n",
      "  0.         0.45482618 2.2351353  0.18875031 0.         0.9892933\n",
      "  2.0724456  0.9766934  0.         0.00357488 0.         0.\n",
      "  0.         0.         0.         0.         0.         0.\n",
      "  0.         0.         0.         0.         0.         0.\n",
      "  0.         0.         0.         0.         0.         0.\n",
      "  0.         0.         0.         0.         0.5904033  0.24086407\n",
      "  0.         0.03618486 0.73557574 0.44274104 0.         0.\n",
      "  0.2748809  0.03162468 0.         0.23534608 0.31863415 0.33248198\n",
      "  0.         0.04560253 0.         0.         0.         0.\n",
      "  0.         0.         0.         0.         0.         0.\n",
      "  0.         0.         0.         0.         0.         0.\n",
      "  0.         0.         0.         0.         0.         0.\n",
      "  0.         0.         0.         0.         0.         0.\n",
      "  0.         0.         0.         0.         0.         0.04253701\n",
      "  0.         0.02658805 0.         0.         0.         0.\n",
      "  0.         0.         0.         0.         0.         0.\n",
      "  0.         0.         0.         0.         0.         0.\n",
      "  0.         0.         0.         0.         0.         0.\n",
      "  0.         0.         0.         0.         0.         0.\n",
      "  0.         0.         0.         0.         0.         0.\n",
      "  0.         0.         0.         0.0142621  0.         0.0041809\n",
      "  0.         0.         0.         0.         0.         0.\n",
      "  0.         0.         0.         0.         0.         0.\n",
      "  0.         0.         0.         0.         0.         0.\n",
      "  0.         0.        ]], shape=(1, 200), dtype=float32)\n",
      "dense\n",
      "tf.Tensor(\n",
      "[[0.         1.1426084  0.         0.38239405 0.         0.\n",
      "  2.4745781  0.         0.22265922 0.         0.         1.4305584\n",
      "  0.         0.63577783 0.         1.4795426  0.869088   0.\n",
      "  1.6202286  0.         0.         0.         2.3632174  0.6877418\n",
      "  0.         0.         0.         0.         1.9640045  0.\n",
      "  0.         0.         0.         0.         0.         0.\n",
      "  0.30021775 0.         0.         0.         0.         0.\n",
      "  0.         0.         1.0053742  3.082551   0.         0.\n",
      "  0.         2.3440855  0.         1.6483724  0.         1.6425543\n",
      "  1.435806   0.37305853 1.4818048  1.1094054  0.8773707  0.\n",
      "  0.         0.2024786  0.         1.3079015 ]], shape=(1, 64), dtype=float32)\n",
      "dropout_3\n",
      "tf.Tensor(\n",
      "[[0.         1.1426084  0.         0.38239405 0.         0.\n",
      "  2.4745781  0.         0.22265922 0.         0.         1.4305584\n",
      "  0.         0.63577783 0.         1.4795426  0.869088   0.\n",
      "  1.6202286  0.         0.         0.         2.3632174  0.6877418\n",
      "  0.         0.         0.         0.         1.9640045  0.\n",
      "  0.         0.         0.         0.         0.         0.\n",
      "  0.30021775 0.         0.         0.         0.         0.\n",
      "  0.         0.         1.0053742  3.082551   0.         0.\n",
      "  0.         2.3440855  0.         1.6483724  0.         1.6425543\n",
      "  1.435806   0.37305853 1.4818048  1.1094054  0.8773707  0.\n",
      "  0.         0.2024786  0.         1.3079015 ]], shape=(1, 64), dtype=float32)\n",
      "dense_1\n",
      "tf.Tensor([[0.0635381]], shape=(1, 1), dtype=float32)\n",
      "-------------Parasitized-------------\n"
     ]
    },
    {
     "data": {
      "text/plain": [
       "<Figure size 1440x1440 with 0 Axes>"
      ]
     },
     "metadata": {},
     "output_type": "display_data"
    },
    {
     "data": {
      "text/plain": [
       "<Figure size 1440x1440 with 0 Axes>"
      ]
     },
     "metadata": {},
     "output_type": "display_data"
    },
    {
     "data": {
      "text/plain": [
       "<Figure size 1440x1440 with 0 Axes>"
      ]
     },
     "metadata": {},
     "output_type": "display_data"
    },
    {
     "data": {
      "text/plain": [
       "<Figure size 1440x1440 with 0 Axes>"
      ]
     },
     "metadata": {},
     "output_type": "display_data"
    }
   ],
   "source": [
    "img = tf.keras.preprocessing.image.load_img(image_path, target_size=(64,64))\n",
    "img_tensor = img_to_array(img)\n",
    "img_tensor = np.expand_dims(img_tensor, axis=0)\n",
    "img_tensor /= 255.\n",
    "# for j in range(0,1):\n",
    "#   activation_model = Model(inputs=model.inputs, outputs=model.layers[6].output)\n",
    "#   activation = activation_model(img_tensor)\n",
    "#   print(model.get_layer(index = 6).name)\n",
    "#   plt.figure(figsize=(20,20))\n",
    "#   print(activation)\n",
    "for j in range(0,9):\n",
    "  activation_model = Model(inputs=model.inputs, outputs=model.layers[j].output)\n",
    "  activation = activation_model(img_tensor)\n",
    "  print(model.get_layer(index = j).name)\n",
    "  plt.figure(figsize=(20,20))\n",
    "\n",
    "  for i in range(1):\n",
    "      plt.subplot(4,4,i+1)\n",
    "\n",
    "      plt.imshow(activation[0,:,:,i])\n",
    "  plt.show()\n",
    "for j in range(9,13):\n",
    "  activation_model = Model(inputs=model.inputs, outputs=model.layers[j].output)\n",
    "  activation = activation_model(img_tensor)\n",
    "  print(model.get_layer(index = j).name)\n",
    "  plt.figure(figsize=(20,20))\n",
    "  print(activation)\n",
    "if(predictions[0]==1):\n",
    "  print(\" -------------Uninfected-------------\")\n",
    "else :\n",
    "  print(\"-------------Parasitized-------------\")"
   ]
  }
 ],
 "metadata": {
  "accelerator": "TPU",
  "colab": {
   "collapsed_sections": [],
   "name": "Copy of Untitled",
   "provenance": []
  },
  "kernelspec": {
   "display_name": "Python 3 (ipykernel)",
   "language": "python",
   "name": "python3"
  },
  "language_info": {
   "codemirror_mode": {
    "name": "ipython",
    "version": 3
   },
   "file_extension": ".py",
   "mimetype": "text/x-python",
   "name": "python",
   "nbconvert_exporter": "python",
   "pygments_lexer": "ipython3",
   "version": "3.8.11"
  }
 },
 "nbformat": 4,
 "nbformat_minor": 1
}
